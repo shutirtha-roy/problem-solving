{
  "nbformat": 4,
  "nbformat_minor": 0,
  "metadata": {
    "colab": {
      "name": "Solve CSE111 Lab Assignment 3 (OOP basic).ipynb",
      "provenance": [],
      "collapsed_sections": []
    },
    "kernelspec": {
      "name": "python3",
      "display_name": "Python 3"
    },
    "language_info": {
      "name": "python"
    }
  },
  "cells": [
    {
      "cell_type": "markdown",
      "metadata": {
        "id": "V4nsn27JwBwT"
      },
      "source": [
        "# CSE111 Lab Assignment 3"
      ]
    },
    {
      "cell_type": "markdown",
      "metadata": {
        "id": "sIK0tkc2wFyO"
      },
      "source": [
        "### Question 1\n",
        "\n",
        "Write a class that for running the following codes:<br>\n",
        "[You are not allowed to change the code below]\n",
        "\n",
        "#Write your class code here\n",
        "data_type1 = DataType(‘Integer’, 1234)<br>\n",
        "print(data_type1.name)<br>\n",
        "print(data_type1.value)<br>\n",
        "print('=====================')<br>\n",
        "data_type2 = DataType(‘String’, ‘Hello’)<br>\n",
        "print(data_type2.name)<br>\n",
        "print(data_type2.value)<br> \n",
        "print('=====================')<br>\n",
        "data_type3 = DataType(‘Float’, 4.0)<br>\n",
        "print(data_type3.name)<br>\n",
        "print(data_type3.value)<br>\n",
        "<br>\n",
        "Output:<br>\n",
        "Integer<br>\n",
        "1234 <br>\n",
        "===================== <br>\n",
        "String<br>\n",
        "Hello <br>\n",
        "=====================<br>\n",
        "Float<br>\n",
        "4.0<br>\n",
        "<br>\n",
        "Subtasks:\n",
        "1. Create a class named DataType with the required constructor.\n",
        "2. Assign name and values in constructor according to the output."
      ]
    },
    {
      "cell_type": "code",
      "metadata": {
        "colab": {
          "base_uri": "https://localhost:8080/"
        },
        "id": "sw64LX2NxF7w",
        "outputId": "334f7c69-cb7e-4168-be4b-c3b2b230401c"
      },
      "source": [
        "class DataType:\n",
        "\n",
        "  def __init__(self, name, value):\n",
        "    self.name = name\n",
        "    self.value = value\n",
        "\n",
        "  \n",
        "\n",
        "data_type1 = DataType('Integer', 1234)\n",
        "print(data_type1.name)\n",
        "print(data_type1.value) \n",
        "print('=====================')\n",
        "data_type2 = DataType('String', 'Hello')\n",
        "print(data_type2.name)\n",
        "print(data_type2.value) \n",
        "print('=====================')\n",
        "data_type3 = DataType('Float', 4.0)\n",
        "print(data_type3.name)\n",
        "print(data_type3.value)"
      ],
      "execution_count": null,
      "outputs": [
        {
          "output_type": "stream",
          "name": "stdout",
          "text": [
            "Integer\n",
            "1234\n",
            "=====================\n",
            "String\n",
            "Hello\n",
            "=====================\n",
            "Float\n",
            "4.0\n"
          ]
        }
      ]
    },
    {
      "cell_type": "markdown",
      "metadata": {
        "id": "0UUwAWUSx-ri"
      },
      "source": [
        "### Question 2\n",
        "\n",
        "Design a class called Flower with the instance variables so that after executing the following line of code the desired result shown in the output box will be printed.\n",
        "[You are not allowed to change the code below]\n",
        "\n",
        "#Write your class code here\n",
        "flower1 = Flower() <br>\n",
        "flower1.name=\"Rose\" <br>\n",
        "flower1.color=\"Red\" <br>\n",
        "flower1.num_of_petal=6 <br>\n",
        "print(\"Name of this flower:\", flower1.name) <br>\n",
        "print(\"Color of this flower:\",flower1.color) <br>\n",
        "print(\"Number of petal:\",flower1.num_of_petal) <br>\n",
        "print(“=====================”) <br>\n",
        "flower2 = Flower() <br>\n",
        "flower2.name=\"Orchid\" <br>\n",
        "flower2.color=\"Purple\" <br>\n",
        "flower2.num_of_petal=4 <br>\n",
        "print(\"Name of this flower:\",flower2.name) <br>\n",
        "print(\"Color of this flower:\",flower2.color) <br>\n",
        "print (\"Number of petal:\",flower2. num_of_petal)<br>\n",
        "*Write the code for subtask 2 and 3 here <br><br>\n",
        "Output:<br>\n",
        "Name of this flower: Rose <br>\n",
        "Color of this flower: Red <br>\n",
        "Number of petal: 6 <br>\n",
        "===================== <br>\n",
        "Name of this flower: Orchid <br>\n",
        "Color of this flower: Purple <br>\n",
        "Number of petal: 4<br>\n",
        "\n",
        "\n",
        "<br>\n",
        "Subtask: <br>\n",
        "1. Design the class Flower with default constructor to get the above output. <br>\n",
        "2. At the end of the given code, also print the address of flower1 and flower2 objects. <br>\n",
        "3. Do they point to the same address? Print (‘they are same’ or ‘they are different’) at the very end to answer this question. <br>"
      ]
    },
    {
      "cell_type": "code",
      "metadata": {
        "colab": {
          "base_uri": "https://localhost:8080/"
        },
        "id": "Q_j5wvGZym2p",
        "outputId": "78868482-186e-4752-862c-01ea4b257756"
      },
      "source": [
        "class Flower():\n",
        "\n",
        "  def __init__(self):\n",
        "    self.name = \"\"\n",
        "    self.color = \"\"\n",
        "    self.num_of_petal = 0\n",
        "\n",
        " \n",
        "flower1 = Flower() \n",
        "flower1.name=\"Rose\" \n",
        "flower1.color=\"Red\" \n",
        "flower1.num_of_petal=6 \n",
        "print(\"Name of this flower:\", flower1.name) \n",
        "print(\"Color of this flower:\",flower1.color) \n",
        "print(\"Number of petal:\",flower1.num_of_petal) \n",
        "print('=====================') \n",
        "flower2 = Flower() \n",
        "flower2.name=\"Orchid\" \n",
        "flower2.color=\"Purple\" \n",
        "flower2.num_of_petal=4 \n",
        "print(\"Name of this flower:\",flower2.name) \n",
        "print(\"Color of this flower:\",flower2.color) \n",
        "print (\"Number of petal:\",flower2. num_of_petal)\n",
        "print(flower1)\n",
        "print(flower2)\n",
        "\n",
        "if flower1 == flower2:\n",
        "  print('they are same')\n",
        "else:\n",
        "  print('they are different')"
      ],
      "execution_count": null,
      "outputs": [
        {
          "output_type": "stream",
          "name": "stdout",
          "text": [
            "Name of this flower: Rose\n",
            "Color of this flower: Red\n",
            "Number of petal: 6\n",
            "=====================\n",
            "Name of this flower: Orchid\n",
            "Color of this flower: Purple\n",
            "Number of petal: 4\n",
            "<__main__.Flower object at 0x7efea877e410>\n",
            "<__main__.Flower object at 0x7efea877ec10>\n",
            "they are different\n"
          ]
        }
      ]
    },
    {
      "cell_type": "markdown",
      "metadata": {
        "id": "_I6oLXy6zhtX"
      },
      "source": [
        "### Question 3\n",
        "\n",
        "A class has been designed for this question. Solve the questions to get the desired result as shown in the output box.\n",
        "[You are not allowed to change the code below]\n",
        "\n",
        "    class Wadiya(): \n",
        "      def __init__(self): \n",
        "        self.name = 'Aladeen' \n",
        "        self.designation = 'President Prime Minister Admiral General' \n",
        "        self.num_of_wife = 100 \n",
        "        self.dictator = True\n",
        "\n",
        "*Write your code for subtask 1, 2, 3 and 4 here <br>\n",
        "<br>\n",
        "Output:<br>\n",
        "Part 1:<br>\n",
        "Name of President: Aladeen<br>\n",
        "Designation: President Prime Minister Admiral General<br>\n",
        "Number of wife: 100<br>\n",
        "Is he/she a dictator: True<br>\n",
        "Part 2:<br>\n",
        "Name of President: Donald Trump<br>\n",
        "Designation: President<br>\n",
        "Number of wife: 1<br>\n",
        "Is he/she a dictator: False<br><br>\n",
        "Subtask:<br>\n",
        "1) Create an object named wadiya.<br>\n",
        "2) Use the object to print the values as shown in part 1 (Also print the sentence Part 1)<br>\n",
        "3) Use the same object to change and print the values in part 2 (Also print the sentence Part 2)<br>\n",
        "4) Did changing the instance variable values using the same object, affect the previous values of Part 1? (Print ‘previous information lost’ or ‘No, changing had no effect on previous value’) <br>"
      ]
    },
    {
      "cell_type": "code",
      "metadata": {
        "colab": {
          "base_uri": "https://localhost:8080/"
        },
        "id": "vinSXRNE1_e3",
        "outputId": "50775cdb-ec55-443a-be2f-619756b161e4"
      },
      "source": [
        "class Wadiya(): \n",
        "  def __init__(self): \n",
        "    self.name = 'Aladeen' \n",
        "    self.designation = 'President Prime Minister Admiral General' \n",
        "    self.num_of_wife = 100 \n",
        "    self.dictator = True\n",
        "\n",
        "wadiya = Wadiya()\n",
        "print(wadiya.name)\n",
        "print(wadiya.designation)\n",
        "print(wadiya.num_of_wife)\n",
        "print(wadiya.dictator)\n",
        "print('=====================')\n",
        "wadiya.name = \"Samin\"\n",
        "wadiya.designation = \"Prime Minister\"\n",
        "wadiya.num_of_wife = 1\n",
        "wadiya.dictator = False\n",
        "print(wadiya.name)\n",
        "print(wadiya.designation)\n",
        "print(wadiya.num_of_wife)\n",
        "print(wadiya.dictator)\n",
        "print('=====================')\n",
        "print('previous information lost')"
      ],
      "execution_count": null,
      "outputs": [
        {
          "output_type": "stream",
          "name": "stdout",
          "text": [
            "Aladeen\n",
            "President Prime Minister Admiral General\n",
            "100\n",
            "True\n",
            "=====================\n",
            "Samin\n",
            "Prime Minister\n",
            "1\n",
            "False\n",
            "=====================\n",
            "previous information lost\n"
          ]
        }
      ]
    },
    {
      "cell_type": "markdown",
      "metadata": {
        "id": "CpIN5j_N3UOA"
      },
      "source": [
        "### Question 4\n",
        "\n",
        "Design a class Joker with parameterized constructor so that the following line of code prints the result shown in the output box. <br>\n",
        "[You are not allowed to change the code below]\n",
        "\n",
        "    #Write your class code here \n",
        "    j1 = Joker('Heath Ledger', 'Mind Game', False) \n",
        "    print(j1.name) print(j1.power) \n",
        "    print(j1.is_he_psycho) \n",
        "    print(“=====================”) \n",
        "    j2 = Joker('Joaquin Phoenix', 'Laughing out Loud', True) \n",
        "    print(j2.name) \n",
        "    print(j2.power) \n",
        "    print(j2.is_he_psycho) \n",
        "    print(“=====================”) \n",
        "    if j1 == j2: \n",
        "      print('same') \n",
        "    else: \n",
        "      print('different') \n",
        "    j2.name = 'Heath Ledger' \n",
        "    if j1.name == j2.name: \n",
        "      print('same') \n",
        "    else: \n",
        "      print('different')\n",
        "    #Write your code for 2,3 here\n",
        "<br>\n",
        "Output:<br>\n",
        "Heath Ledger<br>\n",
        "Mind Game<br>\n",
        "False <br>\n",
        "=====================<br>\n",
        "Joaquin Phoenix<br>\n",
        "Laughing out Loud<br>\n",
        "True <br>\n",
        "=====================<br>\n",
        "different<br>\n",
        "same<br>\n",
        "\n",
        "    Subtask:\n",
        "    1. Design the class using a parameterized constructor.\n",
        "    2. The first if/else block prints the output as ‘different’, but why? Explain your answer and print your explanation at the very end.\n",
        "    3. The second if/else block prints the output as ‘same’, but why? Explain your answer and print your explanation at the very end."
      ]
    },
    {
      "cell_type": "code",
      "metadata": {
        "colab": {
          "base_uri": "https://localhost:8080/"
        },
        "id": "PAED_bO6BW1e",
        "outputId": "334963f2-72af-47c0-eb2b-f5be09176d97"
      },
      "source": [
        "class Joker:\n",
        "\n",
        "  def __init__(self, name, power, is_he_psycho):\n",
        "    self.name = name\n",
        "    self.power = power\n",
        "    self.is_he_psycho = is_he_psycho\n",
        "\n",
        "\n",
        "\n",
        "\n",
        "j1 = Joker('Heath Ledger', 'Mind Game', False) \n",
        "print(j1.name) \n",
        "print(j1.power) \n",
        "print(j1.is_he_psycho) \n",
        "print('=====================') \n",
        "j2 = Joker('Joaquin Phoenix', 'Laughing out Loud', True) \n",
        "print(j2.name) \n",
        "print(j2.power) \n",
        "print(j2.is_he_psycho) \n",
        "print('=====================') \n",
        "if j1 == j2: \n",
        "  print('same') \n",
        "else: \n",
        "  print('different') \n",
        "print('It is different since they are 2 different object with different reference value')\n",
        "\n",
        "j2.name = 'Heath Ledger' \n",
        "if j1.name == j2.name: \n",
        "  print('same') \n",
        "else: \n",
        "  print('different')\n",
        "print('It is same since the string names are equal')"
      ],
      "execution_count": null,
      "outputs": [
        {
          "output_type": "stream",
          "name": "stdout",
          "text": [
            "Heath Ledger\n",
            "Mind Game\n",
            "False\n",
            "=====================\n",
            "Joaquin Phoenix\n",
            "Laughing out Loud\n",
            "True\n",
            "=====================\n",
            "different\n",
            "It is different since they are 2 different object with different reference value\n",
            "same\n",
            "It is same since the string names are equal\n"
          ]
        }
      ]
    },
    {
      "cell_type": "markdown",
      "metadata": {
        "id": "RFs-31dUHlvX"
      },
      "source": [
        "### Question 5\n",
        "\n",
        "Design a class called Pokemon using a parameterized constructor so that after executing the following line of code the desired result shown in the output box will be printed.<br> First object along with print has been done for you, you also need to create other objects and print accordingly to get the output correctly.<br>\n",
        "[You are not allowed to change the code below]\n",
        "\n",
        "    #Write your code for class here\n",
        "    team_pika = Pokemon('pikachu', 'charmander', 90, 60, 10) \n",
        "    print('=======Team 1=======') \n",
        "    print('Pokemon 1:',team_pika.pokemon1_name, team_pika.pokemon1_power) \n",
        "    print('Pokemon 2:',team_pika.pokemon2_name, team_pika.pokemon2_power)\n",
        "    pika_combined_power = (team_pika.pokemon1_power + team_pika.pokemon2_power) * team_pika.damage_rate \n",
        "    print('Combined Power:', pika_combined_power)\n",
        "    #Write your code for subtask 2,3,4 here\n",
        "\n",
        "\n",
        "<br>\n",
        "Output:<br>\n",
        "=======Team 1=======<br>\n",
        "Pokemon 1: pikachu 90<br>\n",
        "Pokemon 2: charmander 60<br>\n",
        "Combined Power: 1500<br>\n",
        "=======Team 2=======<br>\n",
        "Pokemon 1: bulbasaur 80<br>\n",
        "Pokemon 2: squirtle 70<br>\n",
        "Combined Power: 1350<br>\n",
        "<br>\n",
        "    Subtask: <br>\n",
        "    1. Design the Pokemon class using a parameterized constructor. The 5 values that are being passed through the constructor are pokemon 1 name, pokemon 2 name, pokemon 1 power, pokemon 2 power, damage rate respectively. <br>\n",
        "    After designing the class, if you run the above code the details in Team 1 will be printed. <br>\n",
        "    2. Create an object named team_bulb and pass the value ‘bulbasaur’, ‘squirtle’, 80, 70, 9 respectively. <br>\n",
        "    3. Use print statements accordingly to print the desired result of Team 2. <br>\n",
        "    Note: Power is always being calculated using the instance variables.<br> Example:\n",
        "    (team_pika.pokemon1_power + team_pika.pokemon2_power) * team_pika.damage_rate"
      ]
    },
    {
      "cell_type": "code",
      "metadata": {
        "colab": {
          "base_uri": "https://localhost:8080/"
        },
        "id": "nz5uDuIlJVnU",
        "outputId": "2521bb5b-9fdf-4075-abec-e0272dfc1528"
      },
      "source": [
        "class Pokemon:\n",
        "\n",
        "  def __init__(self, pokemon1_name, pokemon2_name, pokemon1_power, pokemon2_power, damage_rate):\n",
        "    self.pokemon1_name = pokemon1_name\n",
        "    self.pokemon2_name = pokemon2_name\n",
        "    self.pokemon1_power = pokemon1_power\n",
        "    self.pokemon2_power = pokemon2_power\n",
        "    self.damage_rate = damage_rate\n",
        "\n",
        "\n",
        "\n",
        "team_pika = Pokemon('pikachu', 'charmander', 90, 60, 10) \n",
        "print('=======Team 1=======') \n",
        "print('Pokemon 1:',team_pika.pokemon1_name, team_pika.pokemon1_power) \n",
        "print('Pokemon 2:',team_pika.pokemon2_name, team_pika.pokemon2_power)\n",
        "pika_combined_power = (team_pika.pokemon1_power + team_pika.pokemon2_power) * team_pika.damage_rate \n",
        "print('Combined Power:', pika_combined_power)\n",
        "\n",
        "team_bulb = Pokemon('bulbasaur', 'squirtle', 80, 70, 9)\n",
        "print('=======Team 2=======') \n",
        "print('Pokemon 1:',team_bulb.pokemon1_name, team_bulb.pokemon1_power) \n",
        "print('Pokemon 2:',team_bulb.pokemon2_name, team_bulb.pokemon2_power)\n",
        "bulb_combined_power = (team_bulb.pokemon1_power + team_bulb.pokemon2_power) * team_bulb.damage_rate \n",
        "print('Combined Power:', bulb_combined_power)"
      ],
      "execution_count": null,
      "outputs": [
        {
          "output_type": "stream",
          "name": "stdout",
          "text": [
            "=======Team 1=======\n",
            "Pokemon 1: pikachu 90\n",
            "Pokemon 2: charmander 60\n",
            "Combined Power: 1500\n",
            "=======Team 2=======\n",
            "Pokemon 1: bulbasaur 80\n",
            "Pokemon 2: squirtle 70\n",
            "Combined Power: 1350\n"
          ]
        }
      ]
    },
    {
      "cell_type": "markdown",
      "metadata": {
        "id": "eGLZKThdLiqw"
      },
      "source": [
        "### Question 6\n",
        "\n",
        "Design the Player class so that the code gives the expected output.<br>\n",
        "[You are not allowed to change the code below]\n",
        "\n",
        "    # Write Your Class Code Here\n",
        "    player1 = Player()\n",
        "    player1.name = \"Ronaldo\"\n",
        "    player1.jersy_number = 9\n",
        "    player1.position = \"Striker\"\n",
        "    print(\"Name of the Player:\", player1.name)\n",
        "    print(\"Jersey Number of player:\", player1.jersy_number)\n",
        "    print(\"Position of player:\", player1.position)\n",
        "    print(“===========================”)\n",
        "    player2 = Player()\n",
        "    player2.name = \"Neuer\"\n",
        "    player2.jersy_number = 1\n",
        "    player2.position = \"Goal Keeper\"\n",
        "    print(\"Name of the player:\", player2.name)\n",
        "    print(\"Jersey Number of player:\", player2.jersy_number)\n",
        "    print(\"Position of player:\", player2.position)\n",
        "\n",
        "\n",
        "  <br>\n",
        "  Output:<br>\n",
        "  Name of the Player: Ronaldo<br>\n",
        "  Jersy Number of player: 9<br>\n",
        "  Position of player: Striker<br>\n",
        "  ===========================<br>\n",
        "  Name of the player: Neuer<br>\n",
        "  Jersy Number of player: 1<br>\n",
        "  Position of player: Goal Keeper<br>\n",
        "  <br>"
      ]
    },
    {
      "cell_type": "code",
      "metadata": {
        "colab": {
          "base_uri": "https://localhost:8080/"
        },
        "id": "1_NOhZ5oMehV",
        "outputId": "298407bf-49f6-49d7-cb6b-a761fd5ee2d0"
      },
      "source": [
        "class Player:\n",
        "\n",
        "  def __init__(self):\n",
        "    self.name = \"\"\n",
        "    self.jersey_number = 0\n",
        "    self.position = \"\"\n",
        "\n",
        "player1 = Player()\n",
        "player1.name = \"Ronaldo\"\n",
        "player1.jersy_number = 9\n",
        "player1.position = \"Striker\"\n",
        "print(\"Name of the Player:\", player1.name)\n",
        "print(\"Jersey Number of player:\", player1.jersy_number)\n",
        "print(\"Position of player:\", player1.position)\n",
        "print('===========================')\n",
        "player2 = Player()\n",
        "player2.name = \"Neuer\"\n",
        "player2.jersy_number = 1\n",
        "player2.position = \"Goal Keeper\"\n",
        "print(\"Name of the player:\", player2.name)\n",
        "print(\"Jersey Number of player:\", player2.jersy_number)\n",
        "print(\"Position of player:\", player2.position)"
      ],
      "execution_count": null,
      "outputs": [
        {
          "output_type": "stream",
          "name": "stdout",
          "text": [
            "Name of the Player: Ronaldo\n",
            "Jersey Number of player: 9\n",
            "Position of player: Striker\n",
            "===========================\n",
            "Name of the player: Neuer\n",
            "Jersey Number of player: 1\n",
            "Position of player: Goal Keeper\n"
          ]
        }
      ]
    },
    {
      "cell_type": "markdown",
      "metadata": {
        "id": "9ErpOvdgMu-F"
      },
      "source": [
        "### Question 7\n",
        "\n",
        "Design the Country class so that the code gives the expected output.<br>\n",
        "[You are not allowed to change the code below]\n",
        "\n",
        "    # Write your Class Code here\n",
        "    country = Country()\n",
        "    print('Name:',country.name)\n",
        "    print('Continent:',country.continent)\n",
        "    print('Capital:',country.capital)\n",
        "    print('Fifa Ranking:',country.fifa_ranking)\n",
        "    print('===================')\n",
        "    country.name = “Belgium”\n",
        "    country.continent = “Europe”\n",
        "    country.capital = “Brussels”\n",
        "    country.fifa_ranking = 1\n",
        "    print('Name:',country.name)\n",
        "    print('Continent:',country.continent)\n",
        "    print('Capital:',country.capital)\n",
        "    print('Fifa Ranking:',country.fifa_ranking)\n",
        "\n",
        "\n",
        "  Output:<br>\n",
        "  Name: Bangladesh<br>\n",
        "  Continent: Asia<br>\n",
        "  Capital: Dhaka<br>\n",
        "  Fifa Ranking: 187<br>\n",
        "  ===================<br>\n",
        "  Name: Belgium<br>\n",
        "  Continent: Europe<br>\n",
        "  Capital: Brussels<br>\n",
        "  Fifa Ranking: 1<br>\n",
        "  <br>"
      ]
    },
    {
      "cell_type": "code",
      "metadata": {
        "colab": {
          "base_uri": "https://localhost:8080/"
        },
        "id": "QHvmPj3VNMtV",
        "outputId": "5a9a8b9a-6caa-4165-8add-225adb93e8a8"
      },
      "source": [
        "class Country:\n",
        "\n",
        "  def __init__(self):\n",
        "    self.name = 'Bangladesh'\n",
        "    self.continent = 'Asia'\n",
        "    self.capital = 'Dhaka'\n",
        "    self.fifa_ranking = 187\n",
        "\n",
        "\n",
        "country = Country()\n",
        "print('Name:',country.name)\n",
        "print('Continent:',country.continent)\n",
        "print('Capital:',country.capital)\n",
        "print('Fifa Ranking:',country.fifa_ranking)\n",
        "print('===================')\n",
        "country.name = 'Belgium'\n",
        "country.continent = 'Europe'\n",
        "country.capital = 'Brussels'\n",
        "country.fifa_ranking = 1\n",
        "print('Name:',country.name)\n",
        "print('Continent:',country.continent)\n",
        "print('Capital:',country.capital)\n",
        "print('Fifa Ranking:',country.fifa_ranking)"
      ],
      "execution_count": null,
      "outputs": [
        {
          "output_type": "stream",
          "name": "stdout",
          "text": [
            "Name: Bangladesh\n",
            "Continent: Asia\n",
            "Capital: Dhaka\n",
            "Fifa Ranking: 187\n",
            "===================\n",
            "Name: Belgium\n",
            "Continent: Europe\n",
            "Capital: Brussels\n",
            "Fifa Ranking: 1\n"
          ]
        }
      ]
    },
    {
      "cell_type": "markdown",
      "metadata": {
        "id": "u_TRCWdqNc5s"
      },
      "source": [
        "### Question 8\n",
        "\n",
        "Write the DemonSlayer class so that the code gives the expected output.<br>\n",
        "[You are not allowed to change the code below]\n",
        "\n",
        "    # Write your Class Code here\n",
        "    tanjiro = DemonSlayer(\"Tanjiro\", \"Water Breathing\", 10, 10)\n",
        "    print('Name:',tanjiro.name)\n",
        "    print('Fighting Style:',tanjiro.style)\n",
        "    print(f'Knows {tanjiro.number_of_technique} technique(s) and has killed {tanjiro.kill} demon(s)')\n",
        "    print('===================')\n",
        "    zenitsu = DemonSlayer(\"Zenitsu\", \"Thunder Breathing\", 1, 4)\n",
        "    print('Name:',zenitsu.name)\n",
        "    print('Fighting Style:',zenitsu.style)\n",
        "    print(f'Knows {zenitsu.number_of_technique} technique(s) and has killed {zenitsu.kill} demon(s)')\n",
        "    print('===================')\n",
        "    inosuke = DemonSlayer(\"Inosuke\", \"Beast Breathing\", 5, 7)\n",
        "    print('Name:',inosuke.name)\n",
        "    print('Fighting Style:',inosuke.style)\n",
        "    print(f'Knows {inosuke.number_of_technique} technique(s) and has killed {inosuke.kill} demon(s)')\n",
        "    print('===================')\n",
        "    print(f'{tanjiro.name}, {zenitsu.name}, {inosuke.name} knows total {tanjiro.number_of_technique + zenitsu.number_of_technique + inosuke.number_of_technique} techniques')\n",
        "    print(f'They have killed total {tanjiro.kill + zenitsu.kill + inosuke.kill} demons')\n",
        "\n",
        "\n",
        "  Output:<br>\n",
        "  Name: Tanjiro<br>\n",
        "  Fighting Style: Water Breathing<br>\n",
        "  Knows 10 technique(s) and has killed 10 demon(s)<br>\n",
        "  ===================<br>\n",
        "  Name: Zenitsu<br>\n",
        "  Fighting Style: Thunder Breathing<br>\n",
        "  Knows 1 technique(s) and has killed 4 demon(s)<br>\n",
        "  ===================<br>\n",
        "  Name: Inosuke<br>\n",
        "  Fighting Style: Beast Breathing<br>\n",
        "  Knows 5 technique(s) and has killed 7 demon(s)<br>\n",
        "  ===================<br>\n",
        "  Tanjiro, Zenitsu, Inosuke knows total 16 techniques<br>\n",
        "  They have killed total 21 demons<br>\n",
        "  <br>"
      ]
    },
    {
      "cell_type": "code",
      "metadata": {
        "colab": {
          "base_uri": "https://localhost:8080/"
        },
        "id": "JtD5tJdJOMb0",
        "outputId": "01bfed8b-43cd-4d46-bc4d-5f894a07f29f"
      },
      "source": [
        "class DemonSlayer:\n",
        "\n",
        "  def __init__(self, name, style, number_of_technique, kill):\n",
        "    self.name = name\n",
        "    self.style = style\n",
        "    self.number_of_technique = number_of_technique\n",
        "    self.kill = kill\n",
        "\n",
        "\n",
        "\n",
        "tanjiro = DemonSlayer(\"Tanjiro\", \"Water Breathing\", 10, 10)\n",
        "print('Name:',tanjiro.name)\n",
        "print('Fighting Style:',tanjiro.style)\n",
        "print(f'Knows {tanjiro.number_of_technique} technique(s) and has killed {tanjiro.kill} demon(s)')\n",
        "print('===================')\n",
        "zenitsu = DemonSlayer(\"Zenitsu\", \"Thunder Breathing\", 1, 4)\n",
        "print('Name:',zenitsu.name)\n",
        "print('Fighting Style:',zenitsu.style)\n",
        "print(f'Knows {zenitsu.number_of_technique} technique(s) and has killed {zenitsu.kill} demon(s)')\n",
        "print('===================')\n",
        "inosuke = DemonSlayer(\"Inosuke\", \"Beast Breathing\", 5, 7)\n",
        "print('Name:',inosuke.name)\n",
        "print('Fighting Style:',inosuke.style)\n",
        "print(f'Knows {inosuke.number_of_technique} technique(s) and has killed {inosuke.kill} demon(s)')\n",
        "print('===================')\n",
        "print(f'{tanjiro.name}, {zenitsu.name}, {inosuke.name} knows total {tanjiro.number_of_technique + zenitsu.number_of_technique + inosuke.number_of_technique} techniques')\n",
        "print(f'They have killed total {tanjiro.kill + zenitsu.kill + inosuke.kill} demons')"
      ],
      "execution_count": null,
      "outputs": [
        {
          "output_type": "stream",
          "name": "stdout",
          "text": [
            "Name: Tanjiro\n",
            "Fighting Style: Water Breathing\n",
            "Knows 10 technique(s) and has killed 10 demon(s)\n",
            "===================\n",
            "Name: Zenitsu\n",
            "Fighting Style: Thunder Breathing\n",
            "Knows 1 technique(s) and has killed 4 demon(s)\n",
            "===================\n",
            "Name: Inosuke\n",
            "Fighting Style: Beast Breathing\n",
            "Knows 5 technique(s) and has killed 7 demon(s)\n",
            "===================\n",
            "Tanjiro, Zenitsu, Inosuke knows total 16 techniques\n",
            "They have killed total 21 demons\n"
          ]
        }
      ]
    },
    {
      "cell_type": "markdown",
      "metadata": {
        "id": "0YVyr_whOh7t"
      },
      "source": [
        "### Question 9\n",
        "\n",
        "Write the box class so that the code gives the expected output.<br>\n",
        "[You are not allowed to change the code below]\n",
        "\n",
        "    #Write your class code here\n",
        "    print(\"Box 1\") \n",
        "    b1 = box([10,10,10]) \n",
        "    print(\"=========================\") \n",
        "    print(\"Height:\", b1.height) \n",
        "    print(\"Width:\", b1.width) \n",
        "    print(\"Breadth:\", b1.breadth) \n",
        "    print(\"-------------------------\") \n",
        "    print(\"Box 2\") \n",
        "    b2 = box((30,10,10)) \n",
        "    print(\"=========================\") \n",
        "    print(\"Height:\", b2.height) \n",
        "    print(\"Width:\", b2.width) \n",
        "    print(\"Breadth:\", b2.breadth) \n",
        "    b2.height = 300 \n",
        "    print(\"Updating Box 2!\") \n",
        "    print(\"Height:\", b2.height) \n",
        "    print(\"Width:\", b2.width) \n",
        "    print(\"Breadth:\", b2.breadth) \n",
        "    print(\"-------------------------\") \n",
        "    print(\"Box 3\") \n",
        "    b3 = b2 \n",
        "    print(\"Height:\", b3.height) \n",
        "    print(\"Width:\", b3.width) \n",
        "    print(\"Breadth:\", b3.breadth)\n",
        "\n",
        "\n",
        "  Output:<br>\n",
        "  Output: Box 1 <br>\n",
        "  Creating a Box! <br>\n",
        "  Volume of the box is 1000 cubic units. <br>\n",
        "  ========================= <br>\n",
        "  Height: 10 <br>\n",
        "  Width: 10 <br>\n",
        "  Breadth: 10 <br>\n",
        "  --------------------------------------------- <br>\n",
        "  Box 2 <br>\n",
        "  Creating a Box! <br>\n",
        "  Volume of the box is 3000 cubic units. <br>\n",
        "  ========================= <br>\n",
        "  Height: 30 <br>\n",
        "  Width: 10 <br>\n",
        "  Breadth: 10 <br>\n",
        "  Updating Box 2! <br>\n",
        "  Height: 300 <br>\n",
        "  Width: 10 <br>\n",
        "  Breadth: 10 <br>\n",
        "  --------------------------------------------- <br>\n",
        "  Box 3 <br>\n",
        "  Height: 300 <br>\n",
        "  Width: 10 <br>\n",
        "  Breadth: 10 <br>"
      ]
    },
    {
      "cell_type": "code",
      "metadata": {
        "colab": {
          "base_uri": "https://localhost:8080/"
        },
        "id": "a9XnyEyLQsT0",
        "outputId": "c4e52a35-de4d-497b-8c96-469130c48adf"
      },
      "source": [
        "class box:\n",
        "\n",
        "  def __init__(self, values):\n",
        "    print('Creating a Box!')\n",
        "    print(f'Volume of the box is {values[0] * values[1] * values[2]} cubic units.')\n",
        "    self.height = values[0]\n",
        "    self.width = values[1]\n",
        "    self.breadth = values[2]\n",
        "\n",
        "\n",
        "print(\"Box 1\") \n",
        "b1 = box([10,10,10]) \n",
        "print(\"=========================\") \n",
        "print(\"Height:\", b1.height) \n",
        "print(\"Width:\", b1.width) \n",
        "print(\"Breadth:\", b1.breadth) \n",
        "print(\"-------------------------\") \n",
        "print(\"Box 2\") \n",
        "b2 = box((30,10,10)) \n",
        "print(\"=========================\") \n",
        "print(\"Height:\", b2.height) \n",
        "print(\"Width:\", b2.width) \n",
        "print(\"Breadth:\", b2.breadth) \n",
        "b2.height = 300 \n",
        "print(\"Updating Box 2!\") \n",
        "print(\"Height:\", b2.height) \n",
        "print(\"Width:\", b2.width) \n",
        "print(\"Breadth:\", b2.breadth) \n",
        "print(\"-------------------------\") \n",
        "print(\"Box 3\") \n",
        "b3 = b2 \n",
        "print(\"Height:\", b3.height) \n",
        "print(\"Width:\", b3.width) \n",
        "print(\"Breadth:\", b3.breadth)"
      ],
      "execution_count": null,
      "outputs": [
        {
          "output_type": "stream",
          "name": "stdout",
          "text": [
            "Box 1\n",
            "Creating a Box!\n",
            "Volume of the box is 1000 cubic units.\n",
            "=========================\n",
            "Height: 10\n",
            "Width: 10\n",
            "Breadth: 10\n",
            "-------------------------\n",
            "Box 2\n",
            "Creating a Box!\n",
            "Volume of the box is 3000 cubic units.\n",
            "=========================\n",
            "Height: 30\n",
            "Width: 10\n",
            "Breadth: 10\n",
            "Updating Box 2!\n",
            "Height: 300\n",
            "Width: 10\n",
            "Breadth: 10\n",
            "-------------------------\n",
            "Box 3\n",
            "Height: 300\n",
            "Width: 10\n",
            "Breadth: 10\n"
          ]
        }
      ]
    },
    {
      "cell_type": "markdown",
      "metadata": {
        "id": "0HieEQD3Rr2z"
      },
      "source": [
        "### Question 10\n",
        "\n",
        "Design the required class from the given code and the outputs.<br>\n",
        "[You are not allowed to change the code below]\n",
        "Hint: Number of the border characters for the top and the bottom<br> = 1<br> + Number of spaces between the left side border and the first character of the button name <br>+ Length of the button name + Number of spaces between the right side border and the last character of the button name <br>+ 1<br>\n",
        "NOTE: Don’t count the space or any character from the button representation to solve this problem.\n",
        "    #Write your class code here\n",
        "    word = \"CANCEL\"\n",
        "    spaces = 10\n",
        "    border = 'x'\n",
        "    b1 = buttons(word, spaces, border) \n",
        "    print(\"=======================================================\")\n",
        "    b2 = buttons(\"Notify\",3, '!') \n",
        "    print(\"=======================================================\")\n",
        "    b3 = buttons('SAVE PROGRESS', 5, '$')\n",
        "\n",
        "\n",
        "Output:<br>\n",
        "CANCEL Button Specifications: <br>\n",
        "Button name: CANCEL <br>\n",
        "Number of the border characters for the top and the bottom: 28 <br>\n",
        "Number of spaces between the left side border and the first character of the button name: 10 <br>\n",
        "Number of spaces between the right side border and the last character of the button name: 10 <br>\n",
        "Characters representing the borders: x<br>\n",
        "xxxxxxxxxxxxxxxxxxxxxxxxxxxx <br>\n",
        "x&nbsp;&nbsp;&nbsp;&nbsp;&nbsp;&nbsp;&nbsp;&nbsp;&nbsp;&nbsp;&nbsp;&nbsp;&nbsp;&nbsp;&nbsp;&nbsp;&nbsp;&nbsp;CANCEL&nbsp;&nbsp;&nbsp;&nbsp;&nbsp;&nbsp;&nbsp;&nbsp;&nbsp;&nbsp;&nbsp;&nbsp;&nbsp;&nbsp;&nbsp;&nbsp;&nbsp;&nbsp;x <br>\n",
        "xxxxxxxxxxxxxxxxxxxxxxxxxxxx <br>\n",
        "========================================================= <br>\n",
        "Notify Button Specifications: <br>\n",
        "Button name: Notify <br>\n",
        "Number of the border characters for the top and the bottom: 14 <br>\n",
        "Number of spaces between the left side border and the first character of the button name: 3 <br>\n",
        "Number of spaces between the right side border and the last character of the button name: 3 <br>\n",
        "Characters representing the borders: !<br>\n",
        "!!!!!!!!!!!!!! <br>\n",
        "!&nbsp;Notify&nbsp;! <br>\n",
        "!!!!!!!!!!!!!! <br>\n",
        "========================================================= <br>\n",
        "SAVE PROGRESS Button Specifications: <br>\n",
        "Button name: SAVE PROGRESS <br>\n",
        "Number of the border characters for the top and the bottom: 25 <br>\n",
        "Number of spaces between the left side border and the first character of the button name: 5 <br>\n",
        "Number of spaces between the right side border and the last character of the button name: 5 <br>\n",
        "Characters representing the borders: $<br>\n",
        "    $$$$$$$$$$$$$$$$$$$$$$$$$<br>\n",
        "    $&nbsp;&nbsp;&nbsp;&nbsp;&nbsp;&nbsp;&nbsp;&nbsp;&nbsp;&nbsp;&nbsp;SAVE PROGRESS&nbsp;&nbsp;&nbsp;&nbsp;&nbsp;&nbsp;&nbsp;&nbsp;&nbsp;&nbsp;&nbsp;$<br>\n",
        "    $$$$$$$$$$$$$$$$$$$$$$$$$<br>\n"
      ]
    },
    {
      "cell_type": "code",
      "metadata": {
        "colab": {
          "base_uri": "https://localhost:8080/"
        },
        "id": "ZOTz9AUvgecD",
        "outputId": "a7ed8c49-edb1-4089-bfd7-6156a76c692b"
      },
      "source": [
        "class buttons:\n",
        "\n",
        "  def __init__(self, word, spaces, border):\n",
        "    self.word = word\n",
        "    self.spaces = spaces\n",
        "    self.border = border\n",
        "    self.print_details()\n",
        "    self.get_diagram()\n",
        "\n",
        "  def print_details(self):\n",
        "    print(f'Number of the border characters for the top and the bottom: {self.calculate_border_character()}')\n",
        "    print(f'Number of spaces between the left side border and the first character of the button name: {self.spaces}')\n",
        "    print(f'Number of spaces between the right side border and the last character of the button name: {self.spaces}')\n",
        "    print(f'Characters representing the borders: {self.border}')\n",
        "    \n",
        "\n",
        "  def calculate_border_character(self):\n",
        "    return 1 + self.spaces + len(self.word) + self.spaces + 1\n",
        "\n",
        "  def get_diagram(self):\n",
        "    print(f'{self.border * self.calculate_border_character()}')\n",
        "    print(f'{self.border}{self.get_space()}{self.word}{self.get_space()}{self.border}')\n",
        "    print(f'{self.border * self.calculate_border_character()}')\n",
        "\n",
        "  def get_space(self):\n",
        "    new_str = ''\n",
        "    for i in range(self.spaces):\n",
        "      new_str += ' '\n",
        "    return new_str\n",
        "\n",
        "\n",
        "\n",
        "word = \"CANCEL\"\n",
        "spaces = 10\n",
        "border = 'x'\n",
        "b1 = buttons(word, spaces, border) \n",
        "print(\"=======================================================\")\n",
        "b2 = buttons(\"Notify\",3, '!') \n",
        "print(\"=======================================================\")\n",
        "b3 = buttons('SAVE PROGRESS', 5, '$') #but shown as ! in output"
      ],
      "execution_count": null,
      "outputs": [
        {
          "output_type": "stream",
          "name": "stdout",
          "text": [
            "Number of the border characters for the top and the bottom: 28\n",
            "Number of spaces between the left side border and the first character of the button name: 10\n",
            "Number of spaces between the right side border and the last character of the button name: 10\n",
            "Characters representing the borders: x\n",
            "xxxxxxxxxxxxxxxxxxxxxxxxxxxx\n",
            "x          CANCEL          x\n",
            "xxxxxxxxxxxxxxxxxxxxxxxxxxxx\n",
            "=======================================================\n",
            "Number of the border characters for the top and the bottom: 14\n",
            "Number of spaces between the left side border and the first character of the button name: 3\n",
            "Number of spaces between the right side border and the last character of the button name: 3\n",
            "Characters representing the borders: !\n",
            "!!!!!!!!!!!!!!\n",
            "!   Notify   !\n",
            "!!!!!!!!!!!!!!\n",
            "=======================================================\n",
            "Number of the border characters for the top and the bottom: 25\n",
            "Number of spaces between the left side border and the first character of the button name: 5\n",
            "Number of spaces between the right side border and the last character of the button name: 5\n",
            "Characters representing the borders: $\n",
            "$$$$$$$$$$$$$$$$$$$$$$$$$\n",
            "$     SAVE PROGRESS     $\n",
            "$$$$$$$$$$$$$$$$$$$$$$$$$\n"
          ]
        }
      ]
    },
    {
      "cell_type": "code",
      "metadata": {
        "id": "eE1eOZ57zxr7"
      },
      "source": [
        ""
      ],
      "execution_count": null,
      "outputs": []
    }
  ]
}