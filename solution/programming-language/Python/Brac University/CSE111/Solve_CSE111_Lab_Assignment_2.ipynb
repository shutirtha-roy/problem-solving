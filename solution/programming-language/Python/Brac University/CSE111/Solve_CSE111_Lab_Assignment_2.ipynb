{
  "nbformat": 4,
  "nbformat_minor": 0,
  "metadata": {
    "colab": {
      "name": "Solve CSE111 Lab Assignment 2.ipynb",
      "provenance": [],
      "collapsed_sections": []
    },
    "kernelspec": {
      "name": "python3",
      "display_name": "Python 3"
    },
    "language_info": {
      "name": "python"
    }
  },
  "cells": [
    {
      "cell_type": "markdown",
      "metadata": {
        "id": "0Fg2CjfeIDfT"
      },
      "source": [
        "#Functions\n",
        "\n",
        "##1. Write a function which will return the fraction part after dividing a number by another. The range should be within 0 and 1. Exception: Since dividing anything by 0 results in error so if the denominator is 0, the function will return 0 instead of attempting the division.\n",
        "\n",
        "#Sample Input\n",
        "###(5, 2)\n",
        "###(5, 0)\n",
        "###(0, 5)\n",
        "#Sample Output\n",
        "###0.5\n",
        "###0\n",
        "###0\n",
        "\n",
        "\n"
      ]
    },
    {
      "cell_type": "code",
      "metadata": {
        "colab": {
          "base_uri": "https://localhost:8080/"
        },
        "id": "CxqpDeoCI19S",
        "outputId": "fc81241b-d156-43c7-c97b-4e558e2c7ff2"
      },
      "source": [
        "def fractional_division(*nums):\n",
        "  if nums[0] == 0 or nums[1] == 0:\n",
        "    return 0\n",
        "  else:\n",
        "    if nums[0] >= nums[1]:\n",
        "      return nums[0] / nums[1] - int(nums[0] / nums[1])\n",
        "    else:\n",
        "      return nums[1] / nums[0] - int(nums[1] / nums[0])\n",
        "\n",
        "print(fractional_division(5, 2))\n",
        "print(fractional_division(5, 0))\n",
        "print(fractional_division(0, 5))"
      ],
      "execution_count": null,
      "outputs": [
        {
          "output_type": "stream",
          "name": "stdout",
          "text": [
            "0.5\n",
            "0\n",
            "0\n"
          ]
        }
      ]
    },
    {
      "cell_type": "markdown",
      "metadata": {
        "id": "jNRmrcFxTcgy"
      },
      "source": [
        "##2. You are one of the gym instructors at AmiKenoMota. You decide to provide a customized diet and exercise plans based on the BMI of an individual. You measure the weight in kilograms and height in meters and calculate the BMI before a plan can be decided. Write a BMI function that takes in two values, weight in kg and height in cm and print the score along with the condition. (Make sure to convert cm into m before calculation) BMI(height, weight)\n",
        "## BMI(height, weight)\n",
        "## &nbsp; 𝐵𝑀𝐼=𝑘𝑔/𝑚<sup>2</sup>\n",
        "#Based on the BMI score return the following output.\n",
        "###● < 18.5- Underweight\n",
        "###● 18.5 - 24.9 - Normal\n",
        "###● 25 -30 - Overweight\n",
        "###● > 30 – Obese\n",
        "\n",
        "\n",
        "#Sample Input\n",
        "###(175, 96)\n",
        "###(152, 48)\n",
        "#Sample Output\n",
        "###Score is 31.3. You are Obese\n",
        "###Score is 20.8. You are Normal"
      ]
    },
    {
      "cell_type": "code",
      "metadata": {
        "colab": {
          "base_uri": "https://localhost:8080/"
        },
        "id": "gYL-gEtpUMVv",
        "outputId": "837aa19d-079b-4768-f871-353b64f1117c"
      },
      "source": [
        "def BMI(height, weight):\n",
        "  height = height / 100\n",
        "  bmi_value = weight / height ** 2\n",
        "  bmi_state = \"\"\n",
        "\n",
        "  if bmi_value < 18.5:\n",
        "    bmi_state = 'Underweight'\n",
        "  elif 18.5 <= bmi_value <= 24.9:\n",
        "    bmi_state = 'Normal'\n",
        "  elif 25 <= bmi_value <= 30:\n",
        "    bmi_state = 'Overweight'\n",
        "  elif bmi_value > 30:\n",
        "    bmi_state = 'Obese'\n",
        "\n",
        "  print(f'Score is {round(bmi_value, 1)}. You are {bmi_state}')\n",
        "\n",
        "BMI(175, 96)\n",
        "BMI(152, 48)"
      ],
      "execution_count": null,
      "outputs": [
        {
          "output_type": "stream",
          "name": "stdout",
          "text": [
            "Score is 31.3. You are Obese\n",
            "Score is 20.8. You are Normal\n"
          ]
        }
      ]
    },
    {
      "cell_type": "markdown",
      "metadata": {
        "id": "hlCAtKV9U4z4"
      },
      "source": [
        "##3. Write a function which will take 3 arguments minimum, maximum and divisor. You have to find all the numbers that are divisible by the divisor where minimum value is inclusive and maximum value is exclusive. Add all the numbers and return the value.\n",
        "\n",
        "#Sample Input\n",
        "###(0, 10, 2)\n",
        "###(3, 16, 3)\n",
        "#Sample Output\n",
        "###20\n",
        "###45"
      ]
    },
    {
      "cell_type": "code",
      "metadata": {
        "colab": {
          "base_uri": "https://localhost:8080/"
        },
        "id": "ePYSNC6hXZmO",
        "outputId": "b8b7e2d4-1f27-4b35-a640-e7104cc05dc6"
      },
      "source": [
        "def addition_divisor(min, max, divisor):\n",
        "  sum = 0\n",
        "  for i in range(min, max):\n",
        "    if i % divisor == 0:\n",
        "      sum += i\n",
        "  return sum\n",
        "\n",
        "print(addition_divisor(0, 10, 2))\n",
        "print(addition_divisor(3, 16, 3))"
      ],
      "execution_count": null,
      "outputs": [
        {
          "output_type": "stream",
          "name": "stdout",
          "text": [
            "20\n",
            "45\n"
          ]
        }
      ]
    },
    {
      "cell_type": "markdown",
      "metadata": {
        "id": "sz6PI-juaCxI"
      },
      "source": [
        "##4. You want to order Burger from Chillox through the FoodPanda App. You have to calculate the total price. Write a function which will take the name of the burger and place(Mohakhali/Outside of Mohakhali) as input. Use default argument technique for taking place input.\n",
        "\n",
        "##Menu &nbsp;&nbsp;&nbsp;&nbsp;&nbsp;&nbsp;&nbsp;&nbsp;&nbsp;&nbsp;&nbsp;&nbsp;&nbsp;&nbsp;&nbsp;&nbsp;&nbsp;&nbsp;&nbsp;&nbsp;&nbsp;&nbsp;&nbsp;&nbsp;&nbsp;&nbsp;&nbsp;&nbsp;&nbsp;&nbsp;&nbsp;&nbsp;&nbsp;&nbsp;&nbsp;&nbsp;&nbsp;&nbsp;&nbsp;&nbsp;&nbsp;&nbsp;&nbsp;&nbsp; Price(Tk)\n",
        "##BBQ Chicken Cheese Burger &nbsp;&nbsp;&nbsp;&nbsp;&nbsp;&nbsp;250\n",
        "##Beef Burger &nbsp;&nbsp;&nbsp;&nbsp;&nbsp;&nbsp;&nbsp;&nbsp;&nbsp;&nbsp;&nbsp;&nbsp;&nbsp;&nbsp;&nbsp;&nbsp;&nbsp;&nbsp;&nbsp;&nbsp;&nbsp;&nbsp;&nbsp;&nbsp;&nbsp;&nbsp;&nbsp;&nbsp;&nbsp;&nbsp;&nbsp;&nbsp;&nbsp;&nbsp;&nbsp;170\n",
        "##Naga Drums &nbsp;&nbsp;&nbsp;&nbsp;&nbsp;&nbsp;&nbsp;&nbsp;&nbsp;&nbsp;&nbsp;&nbsp;&nbsp;&nbsp;&nbsp;&nbsp;&nbsp;&nbsp;&nbsp;&nbsp;&nbsp;&nbsp;&nbsp;&nbsp;&nbsp;&nbsp;&nbsp;&nbsp;&nbsp; &nbsp;&nbsp;&nbsp; 200\n",
        "\n",
        "##Hint: Total Price = meal_cost + delivery_charge + tax\n",
        "##Note that:\n",
        "##● If your home is in Mohakhali area then your delivery charge is 40 taka else 60 taka\n",
        "##● Your tax rate is 8% of your meal.\n",
        "\n",
        "#Sample Input\n",
        "###(‘Beef Burger’, ‘Dhanmondi’)\n",
        "###(‘Beef Burger’)\n",
        "#Sample Output\n",
        "###243.6\n",
        "###223.6"
      ]
    },
    {
      "cell_type": "code",
      "metadata": {
        "colab": {
          "base_uri": "https://localhost:8080/"
        },
        "id": "tLVGtK2AbSN_",
        "outputId": "8f3ec868-6ef8-48f4-cbdf-67ba1a205832"
      },
      "source": [
        "def price(*items):\n",
        "  meal_cost = 0\n",
        "  if items[0] == 'BBQ Chicken Cheese Burger':\n",
        "    meal_cost = 250\n",
        "  elif items[0] == 'Beef Burger':\n",
        "    meal_cost = 170\n",
        "  elif items[0] == 'Naga Drums ':\n",
        "    meal_cost = 200\n",
        "  \n",
        "  if len(items) == 1:\n",
        "    total_price = meal_cost + 40 + meal_cost * 0.08\n",
        "  elif items[1] != 'Mohakhali':\n",
        "    total_price = meal_cost + 60 + meal_cost * 0.08\n",
        "  \n",
        "  return total_price\n",
        "\n",
        "\n",
        "print(price('Beef Burger', 'Dhanmondi'))\n",
        "print(price('Beef Burger'))\n"
      ],
      "execution_count": null,
      "outputs": [
        {
          "output_type": "stream",
          "name": "stdout",
          "text": [
            "243.6\n",
            "223.6\n"
          ]
        }
      ]
    },
    {
      "cell_type": "markdown",
      "metadata": {
        "id": "Mjnt5R9_fC--"
      },
      "source": [
        "##5. A company named Sheba.xyz has recently moved from their old domain to a new domain. However, a lot of the company email addresses are still using the old one. Write a function in python that replaces this old domain with the new one in any outdated email addresses. Keep same if the email address contains the new domain. (Do not use builtin replace function)\n",
        "##Firstly, define a “replace_domain” function which accepts three parameters\n",
        "##*The email address to be checked\n",
        "##*The new domain\n",
        "##* The old domain (Use Default argument technique to handle this)\n",
        "\n",
        "#Sample Input\n",
        "###(‘alice@kaaj.com’, ‘sheba.xyz’, ‘kaaj.com’)\n",
        "###(‘bob@sheba.xyz’, ‘sheba.xyz’)\n",
        "#Sample Output\n",
        "###Changed: alice@sheba.xyz\n",
        "###Unchanged: bob@sheba.xyz"
      ]
    },
    {
      "cell_type": "code",
      "metadata": {
        "id": "M1iEkDexup-V",
        "colab": {
          "base_uri": "https://localhost:8080/"
        },
        "outputId": "37fe5e20-5384-4a39-9230-da02e40c9333"
      },
      "source": [
        "def replace_domain(email, new_domain, old_domain = ''):\n",
        "  domain_splitter = email.split('@')[1]\n",
        "  if domain_splitter == new_domain:\n",
        "    print(f'Unchanged: {email}')\n",
        "  elif domain_splitter != new_domain:\n",
        "    email = email.split('@')\n",
        "    email[1] = new_domain\n",
        "    print(f'Changed: {\"@\".join(email)}')\n",
        "\n",
        "replace_domain('alice@kaaj.com', 'sheba.xyz', 'kaaj.com')\n",
        "replace_domain('bob@sheba.xyz', 'sheba.xyz')"
      ],
      "execution_count": null,
      "outputs": [
        {
          "output_type": "stream",
          "name": "stdout",
          "text": [
            "Changed: alice@sheba.xyz\n",
            "Unchanged: bob@sheba.xyz\n"
          ]
        }
      ]
    },
    {
      "cell_type": "markdown",
      "metadata": {
        "id": "d_up3JHsxz1n"
      },
      "source": [
        "##6. Write a function which takes only your full name as input and finds the total number of vowels in that input. Output every vowel and at the end output the total number of vowels found. If your name does not contain any vowel then your function should print “No vowels in the name!”.\n",
        "\n",
        "#Sample Input\n",
        "###(Steve Jobs)\n",
        "###(XYZ)\n",
        "#Sample Output\n",
        "###Vowels: e, e, o. Total number of vowels: 3\n",
        "###No vowels in the name"
      ]
    },
    {
      "cell_type": "code",
      "metadata": {
        "colab": {
          "base_uri": "https://localhost:8080/"
        },
        "id": "2CoMAZ5ss75g",
        "outputId": "eebe0ce4-368c-4697-a629-d16077c1d5cc"
      },
      "source": [
        "def vowel_detector(name):\n",
        "  vowel_count = 0\n",
        "  vowel = []\n",
        "\n",
        "  for alphabet in name:\n",
        "    if alphabet in ['a', 'e', 'i', 'o', 'u']:\n",
        "      vowel_count += 1\n",
        "      vowel.append(alphabet)\n",
        "  \n",
        "  if vowel_count == 0:\n",
        "    print('No vowels in the name')\n",
        "  else:\n",
        "    print(f'Vowels: {\",\".join(vowel)} Total number of vowels: {vowel_count}')\n",
        "\n",
        "vowel_detector('Steve Jobs')\n",
        "vowel_detector('XYZ')"
      ],
      "execution_count": null,
      "outputs": [
        {
          "output_type": "stream",
          "name": "stdout",
          "text": [
            "Vowels: e,e,o Total number of vowels: 3\n",
            "No vowels in the name\n"
          ]
        }
      ]
    },
    {
      "cell_type": "markdown",
      "metadata": {
        "id": "JrJ9y7z5twaf"
      },
      "source": [
        "##7. Write a program which checks whether a given string is a palindrome or not. Note: A palindrome is a word, phrase, or sequence that reads the same backward as forward. For palindrome, any spaces in middle are not considered and should be trimmed.\n",
        "\n",
        "#Sample Input\n",
        "###‘madam’\n",
        "###‘hello’\n",
        "###‘nurses run’\n",
        "#Sample Output\n",
        "###Palindrome\n",
        "###Not a palindrome\n",
        "###Palindrome"
      ]
    },
    {
      "cell_type": "code",
      "metadata": {
        "colab": {
          "base_uri": "https://localhost:8080/"
        },
        "id": "lecMbaYUubJP",
        "outputId": "1a628f52-d91e-442c-d598-e6c7c7e033c3"
      },
      "source": [
        "input_string = input()\n",
        "palindrome_count = 0\n",
        "reverse_index = len(input_string) - 1\n",
        "\n",
        "for i in range(0, len(input_string)):\n",
        "  if input_string[i] == ' ':\n",
        "    continue\n",
        "  if input_string[reverse_index] == ' ':\n",
        "    reverse_index -= 1\n",
        "  if input_string[i] == input_string[reverse_index]:\n",
        "    palindrome_count += 1\n",
        "  reverse_index -= 1\n",
        "\n",
        "input_string = \"\".join(input_string.split())\n",
        "\n",
        "if palindrome_count == len(input_string):\n",
        "  print('Palindrome')\n",
        "else:\n",
        "  print('Not a palindrome')"
      ],
      "execution_count": null,
      "outputs": [
        {
          "output_type": "stream",
          "name": "stdout",
          "text": [
            "nurses run\n",
            "Palindrome\n"
          ]
        }
      ]
    },
    {
      "cell_type": "markdown",
      "metadata": {
        "id": "8zeCzCg8yTQX"
      },
      "source": [
        "##8. Write a function which takes a number of days as input and prints total number of years, number of months and remaining number of days as output.\n",
        "\n",
        "#Sample Input\n",
        "###(4320)\n",
        "###(4000)\n",
        "#Sample Output\n",
        "###11 years, 10 months and 5 days\n",
        "###10 years, 11 months and 20 days"
      ]
    },
    {
      "cell_type": "code",
      "metadata": {
        "colab": {
          "base_uri": "https://localhost:8080/"
        },
        "id": "BGX_2tki2IXL",
        "outputId": "449c2896-6f89-474e-bfdf-ea721cc62c20"
      },
      "source": [
        "def time(days):\n",
        "  years = days // 365\n",
        "  days = days % 365\n",
        "\n",
        "  months = days // 30\n",
        "  days = days % 30\n",
        "\n",
        "  print(\"{0} years, {1} months and {2} days\".format(years, months, days))\n",
        "\n",
        "time(4320)\n",
        "time(4000)"
      ],
      "execution_count": null,
      "outputs": [
        {
          "output_type": "stream",
          "name": "stdout",
          "text": [
            "11 years, 10 months and 5 days\n",
            "10 years, 11 months and 20 days\n"
          ]
        }
      ]
    },
    {
      "cell_type": "markdown",
      "metadata": {
        "id": "TcJe77AS2uDe"
      },
      "source": [
        "##9. You are a class teacher at a kindergarten school. As a task, you asked your students to write a paragraph. Unfortunately, you notice that most of the students did not use capital letters correctly. Your task is to write a function which takes a string as its only parameter and returns a new copy of the string that has been correctly capitalized. Your function should:\n",
        "##● Capitalize the first letter in the string\n",
        "##● Capitalize the first letter after a full-stop, exclamation mark or question mark\n",
        "##● Capitalize the word “i” if it is in lowercase.\n",
        "##Summary: You have to write a function that reads a string from the user and capitalizes. The string is then returned and displayed.\n",
        "\n",
        "#Sample Input\n",
        "###('my favourite animal is a dog. a dog has sharp teeth so that it can eat flesh very easily. do you know my pet dog’s name? i love my pet very much.')\n",
        "#Sample Output\n",
        "###My favourite animal is a dog. A dog has sharp teeth so that it can eat flesh very easily. Do you know my pet dog’s name? I love my pet very much."
      ]
    },
    {
      "cell_type": "code",
      "metadata": {
        "id": "rVhpzqzY3nvl",
        "colab": {
          "base_uri": "https://localhost:8080/"
        },
        "outputId": "8d57f299-db7e-460f-a49c-e9296175154f"
      },
      "source": [
        "def paragraph(sentence):\n",
        "  bool_symbol = False\n",
        "  new_sentences = \"\"\n",
        "  pos = 0\n",
        "\n",
        "  for alphabet in sentence:\n",
        "    if pos == 0:\n",
        "      new_sentences += alphabet.upper()\n",
        "      pos += 1\n",
        "      continue\n",
        "    if alphabet in ['.', '!', '?']:\n",
        "      bool_symbol = True\n",
        "    if bool_symbol and alphabet.isalpha():\n",
        "      new_sentences += alphabet.upper()\n",
        "      bool_symbol = False\n",
        "    else:\n",
        "      new_sentences += alphabet\n",
        "    pos += 1\n",
        "  return new_sentences\n",
        "\n",
        "print(paragraph('my favourite animal is a dog. a dog has sharp teeth so that it can eat flesh very easily. do you know my pet dog’s name? i love my pet very much.'))"
      ],
      "execution_count": 13,
      "outputs": [
        {
          "output_type": "stream",
          "name": "stdout",
          "text": [
            "My favourite animal is a dog. A dog has sharp teeth so that it can eat flesh very easily. Do you know my pet dog’s name? I love my pet very much.\n"
          ]
        }
      ]
    }
  ]
}