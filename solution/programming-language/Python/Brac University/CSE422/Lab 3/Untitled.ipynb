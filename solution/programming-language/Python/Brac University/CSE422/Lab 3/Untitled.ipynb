{
 "cells": [
  {
   "cell_type": "code",
   "execution_count": 4,
   "metadata": {},
   "outputs": [],
   "source": [
    "import numpy as np"
   ]
  },
  {
   "cell_type": "code",
   "execution_count": null,
   "metadata": {},
   "outputs": [],
   "source": []
  },
  {
   "cell_type": "code",
   "execution_count": 2,
   "metadata": {},
   "outputs": [],
   "source": [
    "turns = 1\n",
    "no_of_players = 2\n",
    "nodes_per_branch = 3\n",
    "min_val = 1\n",
    "max_val = 20"
   ]
  },
  {
   "cell_type": "code",
   "execution_count": 3,
   "metadata": {},
   "outputs": [
    {
     "data": {
      "text/plain": [
       "array([17,  8, 10,  6, 10,  5, 18, 12, 10])"
      ]
     },
     "execution_count": 3,
     "metadata": {},
     "output_type": "execute_result"
    }
   ],
   "source": [
    "np.random.randint(min_val, max_val, (9, ))"
   ]
  },
  {
   "cell_type": "code",
   "execution_count": 4,
   "metadata": {},
   "outputs": [
    {
     "name": "stdout",
     "output_type": "stream",
     "text": [
      "Depth: 2\n",
      "Branch: 3\n",
      "Terminal States (Leaf Nodes): 9\n"
     ]
    }
   ],
   "source": [
    "depth = turns * no_of_players\n",
    "print(\"Depth:\", depth)\n",
    "print(\"Branch:\", nodes_per_branch)\n",
    "terminal_state = nodes_per_branch ** depth\n",
    "print(\"Terminal States (Leaf Nodes):\", terminal_state)"
   ]
  },
  {
   "cell_type": "code",
   "execution_count": 5,
   "metadata": {},
   "outputs": [],
   "source": [
    "graph = [[],\n",
    "         [],\n",
    "         [],\n",
    "         [],\n",
    "         ]"
   ]
  },
  {
   "cell_type": "code",
   "execution_count": 6,
   "metadata": {},
   "outputs": [
    {
     "data": {
      "text/plain": [
       "' THE GRAPH Structure\\n---------------------0----------------------\\n---------1-----------2-------------3--------\\n------4--5--6----7---8---9----10--11---12---\\n'"
      ]
     },
     "execution_count": 6,
     "metadata": {},
     "output_type": "execute_result"
    }
   ],
   "source": [
    "''' THE GRAPH Structure\n",
    "---------------------0----------------------\n",
    "---------1-----------2-------------3--------\n",
    "------4--5--6----7---8---9----10--11---12---\n",
    "\n",
    "\n",
    "\n",
    "\n",
    "\n",
    "'''"
   ]
  },
  {
   "cell_type": "code",
   "execution_count": 5,
   "metadata": {},
   "outputs": [],
   "source": [
    "graph = np.array([[0, 1, 1, 1, 0, 0, 0, 0, 0, 0, 0, 0, 0], \n",
    "                  [1, 0, 0, 0, 1, 1, 1, 0, 0, 0, 0, 0, 0],\n",
    "                  [1, 0, 0, 0, 0, 0, 0, 1, 1, 1, 0, 0, 0],\n",
    "                  [1, 0, 0, 0, 0, 0, 0, 0, 0, 0, 1, 1, 1],\n",
    "                  [0, 1, 0, 0, 0, 0, 0, 0, 0, 0, 0, 0, 0],\n",
    "                  [0, 1, 0, 0, 0, 0, 0, 0, 0, 0, 0, 0, 0], \n",
    "                  [0, 1, 0, 0, 0, 0, 0, 0, 0, 0, 0, 0, 0],\n",
    "                  [0, 0, 1, 0, 0, 0, 0, 0, 0, 0, 0, 0, 0],\n",
    "                  [0, 0, 1, 0, 0, 0, 0, 0, 0, 0, 0, 0, 0],\n",
    "                  [0, 0, 1, 0, 0, 0, 0, 0, 0, 0, 0, 0, 0],\n",
    "                  [0, 0, 0, 1, 0, 0, 0, 0, 0, 0, 0, 0, 0], \n",
    "                  [0, 0, 0, 1, 0, 0, 0, 0, 0, 0, 0, 0, 0],\n",
    "                  [0, 0, 0, 1, 0, 0, 0, 0, 0, 0, 0, 0, 0]], np.int32)\n"
   ]
  },
  {
   "cell_type": "code",
   "execution_count": 6,
   "metadata": {},
   "outputs": [
    {
     "data": {
      "text/plain": [
       "array([[0, 1, 1, 1, 0, 0, 0, 0, 0, 0, 0, 0, 0],\n",
       "       [1, 0, 0, 0, 1, 1, 1, 0, 0, 0, 0, 0, 0],\n",
       "       [1, 0, 0, 0, 0, 0, 0, 1, 1, 1, 0, 0, 0],\n",
       "       [1, 0, 0, 0, 0, 0, 0, 0, 0, 0, 1, 1, 1],\n",
       "       [0, 1, 0, 0, 0, 0, 0, 0, 0, 0, 0, 0, 0],\n",
       "       [0, 1, 0, 0, 0, 0, 0, 0, 0, 0, 0, 0, 0],\n",
       "       [0, 1, 0, 0, 0, 0, 0, 0, 0, 0, 0, 0, 0],\n",
       "       [0, 0, 1, 0, 0, 0, 0, 0, 0, 0, 0, 0, 0],\n",
       "       [0, 0, 1, 0, 0, 0, 0, 0, 0, 0, 0, 0, 0],\n",
       "       [0, 0, 1, 0, 0, 0, 0, 0, 0, 0, 0, 0, 0],\n",
       "       [0, 0, 0, 1, 0, 0, 0, 0, 0, 0, 0, 0, 0],\n",
       "       [0, 0, 0, 1, 0, 0, 0, 0, 0, 0, 0, 0, 0],\n",
       "       [0, 0, 0, 1, 0, 0, 0, 0, 0, 0, 0, 0, 0]])"
      ]
     },
     "execution_count": 6,
     "metadata": {},
     "output_type": "execute_result"
    }
   ],
   "source": [
    "graph"
   ]
  },
  {
   "cell_type": "code",
   "execution_count": 7,
   "metadata": {},
   "outputs": [
    {
     "data": {
      "text/plain": [
       "array([0., 0., 0., 0., 0., 0., 0., 0., 0., 0., 0., 0., 0.])"
      ]
     },
     "execution_count": 7,
     "metadata": {},
     "output_type": "execute_result"
    }
   ],
   "source": [
    "visited = np.zeros(13)\n",
    "visited"
   ]
  },
  {
   "cell_type": "code",
   "execution_count": 74,
   "metadata": {},
   "outputs": [],
   "source": [
    "graph = np.array([[0, 1, 1, 1, 0, 0, 0, 0, 0, 0, 0, 0, 0], \n",
    "                  [1, 0, 0, 0, 1, 1, 1, 0, 0, 0, 0, 0, 0],\n",
    "                  [1, 0, 0, 0, 0, 0, 0, 1, 1, 1, 0, 0, 0],\n",
    "                  [1, 0, 0, 0, 0, 0, 0, 0, 0, 0, 1, 1, 1],\n",
    "                  [0, 1, 0, 0, 0, 0, 0, 0, 0, 0, 0, 0, 0],\n",
    "                  [0, 1, 0, 0, 0, 0, 0, 0, 0, 0, 0, 0, 0], \n",
    "                  [0, 1, 0, 0, 0, 0, 0, 0, 0, 0, 0, 0, 0],\n",
    "                  [0, 0, 1, 0, 0, 0, 0, 0, 0, 0, 0, 0, 0],\n",
    "                  [0, 0, 1, 0, 0, 0, 0, 0, 0, 0, 0, 0, 0],\n",
    "                  [0, 0, 1, 0, 0, 0, 0, 0, 0, 0, 0, 0, 0],\n",
    "                  [0, 0, 0, 1, 0, 0, 0, 0, 0, 0, 0, 0, 0], \n",
    "                  [0, 0, 0, 1, 0, 0, 0, 0, 0, 0, 0, 0, 0],\n",
    "                  [0, 0, 0, 1, 0, 0, 0, 0, 0, 0, 0, 0, 0]], np.int32)\n",
    "\n",
    "\n",
    "import math\n",
    "\n",
    "maxEval = -math.inf\n",
    "minEval = math.inf\n",
    "evall = 0\n",
    "maxEval = 0\n",
    "minEval = 0\n",
    "num = 0\n",
    "\n",
    "visited = np.zeros(13)\n",
    "ans = []\n",
    "stack = []\n",
    "\n",
    "\n",
    "def stack_display():\n",
    "    for val in stack:\n",
    "        print(val, end=\"|\")\n",
    "    print()\n",
    "\n",
    "def dfs(n, depth, maximizing_player):\n",
    "    global maxEval\n",
    "    global minEval\n",
    "    global evall\n",
    "    global num\n",
    "\n",
    "    if visited[n] != 0:\n",
    "        pass\n",
    "    else:\n",
    "        if(depth == 0):\n",
    "            print(values[n])\n",
    "            return values[n]\n",
    "        \n",
    "        if(maximizing_player == True):\n",
    "            visited[n] = 1\n",
    "            stack.append(n)\n",
    "            stack_display()\n",
    "            num = 0\n",
    "            for relation in graph[n]:\n",
    "                if relation != 0:\n",
    "                    evall = dfs(num, depth - 1, False)\n",
    "                    maxEval = max(evall, maxEval)\n",
    "                num = num + 1\n",
    "            return maxEval\n",
    "        else:\n",
    "            visited[n] = 1\n",
    "            stack.append(n)\n",
    "            stack_display()\n",
    "            num = 0\n",
    "            for relation in graph[n]:\n",
    "                if relation != 0:\n",
    "                    evall = dfs(num, depth - 1, True)\n",
    "                    minEval = min(evall, minEval)\n",
    "                num = num + 1\n",
    "            return minEval\n",
    "\n",
    "src_node = int(0)\n"
   ]
  },
  {
   "cell_type": "code",
   "execution_count": 75,
   "metadata": {},
   "outputs": [
    {
     "name": "stdout",
     "output_type": "stream",
     "text": [
      "0|\n",
      "0|1|\n"
     ]
    },
    {
     "ename": "TypeError",
     "evalue": "'<' not supported between instances of 'int' and 'NoneType'",
     "output_type": "error",
     "traceback": [
      "\u001b[1;31m---------------------------------------------------------------------------\u001b[0m",
      "\u001b[1;31mTypeError\u001b[0m                                 Traceback (most recent call last)",
      "\u001b[1;32m<ipython-input-75-75d448939698>\u001b[0m in \u001b[0;36m<module>\u001b[1;34m\u001b[0m\n\u001b[1;32m----> 1\u001b[1;33m \u001b[0mdfs\u001b[0m\u001b[1;33m(\u001b[0m\u001b[1;36m0\u001b[0m\u001b[1;33m,\u001b[0m \u001b[1;36m2\u001b[0m\u001b[1;33m,\u001b[0m  \u001b[1;32mTrue\u001b[0m\u001b[1;33m)\u001b[0m\u001b[1;33m\u001b[0m\u001b[1;33m\u001b[0m\u001b[0m\n\u001b[0m",
      "\u001b[1;32m<ipython-input-74-0be708bd722e>\u001b[0m in \u001b[0;36mdfs\u001b[1;34m(n, depth, maximizing_player)\u001b[0m\n\u001b[0;32m     53\u001b[0m             \u001b[1;32mfor\u001b[0m \u001b[0mrelation\u001b[0m \u001b[1;32min\u001b[0m \u001b[0mgraph\u001b[0m\u001b[1;33m[\u001b[0m\u001b[0mn\u001b[0m\u001b[1;33m]\u001b[0m\u001b[1;33m:\u001b[0m\u001b[1;33m\u001b[0m\u001b[1;33m\u001b[0m\u001b[0m\n\u001b[0;32m     54\u001b[0m                 \u001b[1;32mif\u001b[0m \u001b[0mrelation\u001b[0m \u001b[1;33m!=\u001b[0m \u001b[1;36m0\u001b[0m\u001b[1;33m:\u001b[0m\u001b[1;33m\u001b[0m\u001b[1;33m\u001b[0m\u001b[0m\n\u001b[1;32m---> 55\u001b[1;33m                     \u001b[0mevall\u001b[0m \u001b[1;33m=\u001b[0m \u001b[0mdfs\u001b[0m\u001b[1;33m(\u001b[0m\u001b[0mnum\u001b[0m\u001b[1;33m,\u001b[0m \u001b[0mdepth\u001b[0m \u001b[1;33m-\u001b[0m \u001b[1;36m1\u001b[0m\u001b[1;33m,\u001b[0m \u001b[1;32mFalse\u001b[0m\u001b[1;33m)\u001b[0m\u001b[1;33m\u001b[0m\u001b[1;33m\u001b[0m\u001b[0m\n\u001b[0m\u001b[0;32m     56\u001b[0m                     \u001b[0mmaxEval\u001b[0m \u001b[1;33m=\u001b[0m \u001b[0mmax\u001b[0m\u001b[1;33m(\u001b[0m\u001b[0mevall\u001b[0m\u001b[1;33m,\u001b[0m \u001b[0mmaxEval\u001b[0m\u001b[1;33m)\u001b[0m\u001b[1;33m\u001b[0m\u001b[1;33m\u001b[0m\u001b[0m\n\u001b[0;32m     57\u001b[0m                 \u001b[0mnum\u001b[0m \u001b[1;33m=\u001b[0m \u001b[0mnum\u001b[0m \u001b[1;33m+\u001b[0m \u001b[1;36m1\u001b[0m\u001b[1;33m\u001b[0m\u001b[1;33m\u001b[0m\u001b[0m\n",
      "\u001b[1;32m<ipython-input-74-0be708bd722e>\u001b[0m in \u001b[0;36mdfs\u001b[1;34m(n, depth, maximizing_player)\u001b[0m\n\u001b[0;32m     65\u001b[0m                 \u001b[1;32mif\u001b[0m \u001b[0mrelation\u001b[0m \u001b[1;33m!=\u001b[0m \u001b[1;36m0\u001b[0m\u001b[1;33m:\u001b[0m\u001b[1;33m\u001b[0m\u001b[1;33m\u001b[0m\u001b[0m\n\u001b[0;32m     66\u001b[0m                     \u001b[0mevall\u001b[0m \u001b[1;33m=\u001b[0m \u001b[0mdfs\u001b[0m\u001b[1;33m(\u001b[0m\u001b[0mnum\u001b[0m\u001b[1;33m,\u001b[0m \u001b[0mdepth\u001b[0m \u001b[1;33m-\u001b[0m \u001b[1;36m1\u001b[0m\u001b[1;33m,\u001b[0m \u001b[1;32mTrue\u001b[0m\u001b[1;33m)\u001b[0m\u001b[1;33m\u001b[0m\u001b[1;33m\u001b[0m\u001b[0m\n\u001b[1;32m---> 67\u001b[1;33m                     \u001b[0mminEval\u001b[0m \u001b[1;33m=\u001b[0m \u001b[0mmin\u001b[0m\u001b[1;33m(\u001b[0m\u001b[0mevall\u001b[0m\u001b[1;33m,\u001b[0m \u001b[0mminEval\u001b[0m\u001b[1;33m)\u001b[0m\u001b[1;33m\u001b[0m\u001b[1;33m\u001b[0m\u001b[0m\n\u001b[0m\u001b[0;32m     68\u001b[0m                 \u001b[0mnum\u001b[0m \u001b[1;33m=\u001b[0m \u001b[0mnum\u001b[0m \u001b[1;33m+\u001b[0m \u001b[1;36m1\u001b[0m\u001b[1;33m\u001b[0m\u001b[1;33m\u001b[0m\u001b[0m\n\u001b[0;32m     69\u001b[0m             \u001b[1;32mreturn\u001b[0m \u001b[0mminEval\u001b[0m\u001b[1;33m\u001b[0m\u001b[1;33m\u001b[0m\u001b[0m\n",
      "\u001b[1;31mTypeError\u001b[0m: '<' not supported between instances of 'int' and 'NoneType'"
     ]
    }
   ],
   "source": [
    "dfs(0, 2,  True)"
   ]
  },
  {
   "cell_type": "code",
   "execution_count": 10,
   "metadata": {},
   "outputs": [
    {
     "data": {
      "text/plain": [
       "8"
      ]
     },
     "execution_count": 10,
     "metadata": {},
     "output_type": "execute_result"
    }
   ],
   "source": [
    "values = {0: 0, 1: 0, 2: 0, 3: 0, 4: 3,\n",
    "          5: 12, 6: 8, 7: 2, 8: 4, 9: 6,\n",
    "          10: 14, 11: 5, 12: 2}\n",
    "values[6]"
   ]
  },
  {
   "cell_type": "code",
   "execution_count": 18,
   "metadata": {},
   "outputs": [
    {
     "data": {
      "text/plain": [
       "array([1., 1., 1., 1., 1., 1., 1., 1., 1., 1., 1., 1., 1.])"
      ]
     },
     "execution_count": 18,
     "metadata": {},
     "output_type": "execute_result"
    }
   ],
   "source": [
    "visited"
   ]
  },
  {
   "cell_type": "code",
   "execution_count": 15,
   "metadata": {},
   "outputs": [],
   "source": [
    "visited = np.zeros(13)\n",
    "ans = []\n",
    "stack = []\n",
    "\n",
    "def stack_display():\n",
    "    for val in stack:\n",
    "        print(val, end=\"|\")\n",
    "    print()\n",
    "\n",
    "\n",
    "\n",
    "\n",
    "\n",
    "\n",
    "\n",
    "\n",
    "def dfs(n):\n",
    "    if visited[n] != 0:\n",
    "        return\n",
    "    else:\n",
    "        visited[n] = 1\n",
    "        stack.append(n)\n",
    "        stack_display()\n",
    "        num = 0\n",
    "        for relation in graph[n]:\n",
    "            if relation != 0:\n",
    "                dfs(num)\n",
    "            num = num + 1\n",
    "        #print(n)\n",
    "        ans.append(n)\n",
    "        stack.pop()\n",
    "        stack_display()\n",
    "\n",
    "src_node = int(0)"
   ]
  },
  {
   "cell_type": "code",
   "execution_count": 17,
   "metadata": {},
   "outputs": [
    {
     "name": "stdout",
     "output_type": "stream",
     "text": [
      "0|\n",
      "0|1|\n",
      "0|1|4|\n",
      "0|1|\n",
      "0|1|5|\n",
      "0|1|\n",
      "0|1|6|\n",
      "0|1|\n",
      "0|\n",
      "0|2|\n",
      "0|2|7|\n",
      "0|2|\n",
      "0|2|8|\n",
      "0|2|\n",
      "0|2|9|\n",
      "0|2|\n",
      "0|\n",
      "0|3|\n",
      "0|3|10|\n",
      "0|3|\n",
      "0|3|11|\n",
      "0|3|\n",
      "0|3|12|\n",
      "0|3|\n",
      "0|\n",
      "\n"
     ]
    }
   ],
   "source": [
    "dfs(0)"
   ]
  },
  {
   "cell_type": "code",
   "execution_count": 13,
   "metadata": {},
   "outputs": [],
   "source": [
    "graph = np.array([[0, 1, 1, 1, 0, 0, 0, 0, 0, 0, 0, 0, 0], \n",
    "                  [1, 0, 0, 0, 1, 1, 1, 0, 0, 0, 0, 0, 0],\n",
    "                  [1, 0, 0, 0, 0, 0, 0, 1, 1, 1, 0, 0, 0],\n",
    "                  [1, 0, 0, 0, 0, 0, 0, 0, 0, 0, 1, 1, 1],\n",
    "                  [0, 1, 0, 0, 0, 0, 0, 0, 0, 0, 0, 0, 0],\n",
    "                  [0, 1, 0, 0, 0, 0, 0, 0, 0, 0, 0, 0, 0], \n",
    "                  [0, 1, 0, 0, 0, 0, 0, 0, 0, 0, 0, 0, 0],\n",
    "                  [0, 0, 1, 0, 0, 0, 0, 0, 0, 0, 0, 0, 0],\n",
    "                  [0, 0, 1, 0, 0, 0, 0, 0, 0, 0, 0, 0, 0],\n",
    "                  [0, 0, 1, 0, 0, 0, 0, 0, 0, 0, 0, 0, 0],\n",
    "                  [0, 0, 0, 1, 0, 0, 0, 0, 0, 0, 0, 0, 0], \n",
    "                  [0, 0, 0, 1, 0, 0, 0, 0, 0, 0, 0, 0, 0],\n",
    "                  [0, 0, 0, 1, 0, 0, 0, 0, 0, 0, 0, 0, 0]], np.int32)\n",
    "\n",
    "\n",
    "\n",
    "\n",
    "\n",
    "\n",
    "import math\n",
    "\n",
    "maxEval = math.inf\n",
    "minEval = -math.inf\n",
    "\n",
    "\n",
    "visited = np.zeros(13)\n",
    "ans = []\n",
    "stack = []\n",
    "\n",
    "\n",
    "def stack_display():\n",
    "    for val in stack:\n",
    "        print(val, end=\"|\")\n",
    "    print()\n",
    "\n",
    "def dfs(n, maximizing_player):\n",
    "    if visited[n] != 0:\n",
    "        return\n",
    "    else:\n",
    "        if(maximizing_player == True):\n",
    "            visited[n] = 1\n",
    "            stack.append(n)\n",
    "            stack_display()\n",
    "            num = 0\n",
    "            for relation in graph[n]:\n",
    "                if relation != 0:\n",
    "                    dfs(num, False)\n",
    "                num = num + 1\n",
    "        else:\n",
    "            visited[n] = 1\n",
    "            stack.append(n)\n",
    "            stack_display()\n",
    "            num = 0\n",
    "            for relation in graph[n]:\n",
    "                if relation != 0:\n",
    "                    dfs(num, True)\n",
    "                num = num + 1            \n",
    "        #print(n)\n",
    "        ans.append(n)\n",
    "        stack.pop()\n",
    "        stack_display()\n",
    "\n",
    "src_node = int(0)\n"
   ]
  },
  {
   "cell_type": "code",
   "execution_count": 14,
   "metadata": {},
   "outputs": [
    {
     "name": "stdout",
     "output_type": "stream",
     "text": [
      "2|\n",
      "2|0|\n",
      "2|0|1|\n",
      "2|0|1|4|\n",
      "2|0|1|\n",
      "2|0|1|5|\n",
      "2|0|1|\n",
      "2|0|1|6|\n",
      "2|0|1|\n",
      "2|0|\n",
      "2|0|3|\n",
      "2|0|3|10|\n",
      "2|0|3|\n",
      "2|0|3|11|\n",
      "2|0|3|\n",
      "2|0|3|12|\n",
      "2|0|3|\n",
      "2|0|\n",
      "2|\n",
      "2|7|\n",
      "2|\n",
      "2|8|\n",
      "2|\n",
      "2|9|\n",
      "2|\n",
      "\n"
     ]
    }
   ],
   "source": [
    "dfs(2, True)"
   ]
  },
  {
   "cell_type": "code",
   "execution_count": 7,
   "metadata": {},
   "outputs": [],
   "source": [
    "graph = np.array([[0, 1, 1, 1, 0, 0, 0, 0, 0, 0, 0, 0, 0], \n",
    "                  [1, 0, 0, 0, 1, 1, 1, 0, 0, 0, 0, 0, 0],\n",
    "                  [1, 0, 0, 0, 0, 0, 0, 1, 1, 1, 0, 0, 0],\n",
    "                  [1, 0, 0, 0, 0, 0, 0, 0, 0, 0, 1, 1, 1],\n",
    "                  [0, 1, 0, 0, 0, 0, 0, 0, 0, 0, 0, 0, 0],\n",
    "                  [0, 1, 0, 0, 0, 0, 0, 0, 0, 0, 0, 0, 0], \n",
    "                  [0, 1, 0, 0, 0, 0, 0, 0, 0, 0, 0, 0, 0],\n",
    "                  [0, 0, 1, 0, 0, 0, 0, 0, 0, 0, 0, 0, 0],\n",
    "                  [0, 0, 1, 0, 0, 0, 0, 0, 0, 0, 0, 0, 0],\n",
    "                  [0, 0, 1, 0, 0, 0, 0, 0, 0, 0, 0, 0, 0],\n",
    "                  [0, 0, 0, 1, 0, 0, 0, 0, 0, 0, 0, 0, 0], \n",
    "                  [0, 0, 0, 1, 0, 0, 0, 0, 0, 0, 0, 0, 0],\n",
    "                  [0, 0, 0, 1, 0, 0, 0, 0, 0, 0, 0, 0, 0]], np.int32)\n",
    "\n",
    "\n",
    "\n",
    "\n",
    "\n",
    "\n",
    "import math\n",
    "\n",
    "maxEval = math.inf\n",
    "minEval = -math.inf\n",
    "\n",
    "\n",
    "visited = np.zeros(13)\n",
    "\n",
    "\n",
    "\n",
    "\n",
    "def dfs(n, maximizing_player):\n",
    "    print(num)\n",
    "    \n",
    "    \n",
    "    if visited[n] != 0:\n",
    "        return\n",
    "    else:\n",
    "        if(maximizing_player == True):\n",
    "            visited[n] = 1\n",
    "            num = 0\n",
    "            for relation in graph[n]:\n",
    "                if relation != 0:\n",
    "                    dfs(num, False)\n",
    "                num = num + 1\n",
    "        else:\n",
    "            visited[n] = 1\n",
    "            num = 0\n",
    "            for relation in graph[n]:\n",
    "                if relation != 0:\n",
    "                    dfs(num, True)\n",
    "                num = num + 1            "
   ]
  },
  {
   "cell_type": "code",
   "execution_count": 8,
   "metadata": {},
   "outputs": [
    {
     "name": "stdout",
     "output_type": "stream",
     "text": [
      "0\n",
      "1\n",
      "0\n",
      "4\n",
      "1\n",
      "5\n",
      "1\n",
      "6\n",
      "1\n",
      "2\n",
      "0\n",
      "7\n",
      "2\n",
      "8\n",
      "2\n",
      "9\n",
      "2\n",
      "3\n",
      "0\n",
      "10\n",
      "3\n",
      "11\n",
      "3\n",
      "12\n",
      "3\n"
     ]
    }
   ],
   "source": [
    "dfs(0, True)"
   ]
  },
  {
   "cell_type": "code",
   "execution_count": 1,
   "metadata": {
    "scrolled": true
   },
   "outputs": [
    {
     "data": {
      "text/plain": [
       "['__add__',\n",
       " '__class__',\n",
       " '__contains__',\n",
       " '__delattr__',\n",
       " '__delitem__',\n",
       " '__dir__',\n",
       " '__doc__',\n",
       " '__eq__',\n",
       " '__format__',\n",
       " '__ge__',\n",
       " '__getattribute__',\n",
       " '__getitem__',\n",
       " '__gt__',\n",
       " '__hash__',\n",
       " '__iadd__',\n",
       " '__imul__',\n",
       " '__init__',\n",
       " '__init_subclass__',\n",
       " '__iter__',\n",
       " '__le__',\n",
       " '__len__',\n",
       " '__lt__',\n",
       " '__mul__',\n",
       " '__ne__',\n",
       " '__new__',\n",
       " '__reduce__',\n",
       " '__reduce_ex__',\n",
       " '__repr__',\n",
       " '__reversed__',\n",
       " '__rmul__',\n",
       " '__setattr__',\n",
       " '__setitem__',\n",
       " '__sizeof__',\n",
       " '__str__',\n",
       " '__subclasshook__',\n",
       " 'append',\n",
       " 'clear',\n",
       " 'copy',\n",
       " 'count',\n",
       " 'extend',\n",
       " 'index',\n",
       " 'insert',\n",
       " 'pop',\n",
       " 'remove',\n",
       " 'reverse',\n",
       " 'sort']"
      ]
     },
     "execution_count": 1,
     "metadata": {},
     "output_type": "execute_result"
    }
   ],
   "source": [
    "dir(list())"
   ]
  },
  {
   "cell_type": "code",
   "execution_count": 7,
   "metadata": {},
   "outputs": [],
   "source": [
    "x = []\n",
    "x.append(1)\n",
    "x.append(2)\n",
    "x.append(3)\n",
    "x.append(4)"
   ]
  },
  {
   "cell_type": "code",
   "execution_count": 8,
   "metadata": {},
   "outputs": [
    {
     "data": {
      "text/plain": [
       "1"
      ]
     },
     "execution_count": 8,
     "metadata": {},
     "output_type": "execute_result"
    }
   ],
   "source": [
    "x.pop(0)"
   ]
  },
  {
   "cell_type": "code",
   "execution_count": 9,
   "metadata": {},
   "outputs": [
    {
     "data": {
      "text/plain": [
       "[2, 3, 4]"
      ]
     },
     "execution_count": 9,
     "metadata": {},
     "output_type": "execute_result"
    }
   ],
   "source": [
    "x"
   ]
  },
  {
   "cell_type": "code",
   "execution_count": 12,
   "metadata": {},
   "outputs": [
    {
     "name": "stdout",
     "output_type": "stream",
     "text": [
      " THE GRAPH Structure\n",
      "---------------------0----------------------\n",
      "\n",
      "---------1-----------2-------------3--------\n",
      "\n",
      "------4--5--6----7---8---9----10--11---12---\n",
      "\n"
     ]
    }
   ],
   "source": [
    "print(''' THE GRAPH Structure\n",
    "---------------------0----------------------\\n\n",
    "---------1-----------2-------------3--------\\n\n",
    "------4--5--6----7---8---9----10--11---12---\n",
    "''')"
   ]
  },
  {
   "cell_type": "code",
   "execution_count": 15,
   "metadata": {},
   "outputs": [],
   "source": [
    "one = [4, 5, 6]\n",
    "two = [7, 8, 9]\n",
    "three = [10, 11, 12]\n",
    "zero = [one, two, three]"
   ]
  },
  {
   "cell_type": "code",
   "execution_count": 16,
   "metadata": {},
   "outputs": [
    {
     "name": "stdout",
     "output_type": "stream",
     "text": [
      "1  ->  2  edge weight:  1\n",
      "1  ->  3  edge weight:  1\n",
      "2  ->  3  edge weight:  3\n",
      "3  ->  4  edge weight:  4\n",
      "4  ->  1  edge weight:  5\n",
      "Internal representation:  {1: [[2, 1], [3, 1]], 2: [[3, 3]], 3: [[4, 4]], 4: [[1, 5]]}\n"
     ]
    }
   ],
   "source": [
    "# Add a vertex to the dictionary\n",
    "def add_vertex(v):\n",
    "  global graph\n",
    "  global vertices_no\n",
    "  if v in graph:\n",
    "    print(\"Vertex \", v, \" already exists.\")\n",
    "  else:\n",
    "    vertices_no = vertices_no + 1\n",
    "    graph[v] = []\n",
    "\n",
    "# Add an edge between vertex v1 and v2 with edge weight e\n",
    "def add_edge(v1, v2, e):\n",
    "  global graph\n",
    "  # Check if vertex v1 is a valid vertex\n",
    "  if v1 not in graph:\n",
    "    print(\"Vertex \", v1, \" does not exist.\")\n",
    "  # Check if vertex v2 is a valid vertex\n",
    "  elif v2 not in graph:\n",
    "    print(\"Vertex \", v2, \" does not exist.\")\n",
    "  else:\n",
    "    # Since this code is not restricted to a directed or \n",
    "    # an undirected graph, an edge between v1 v2 does not\n",
    "    # imply that an edge exists between v2 and v1\n",
    "    temp = [v2, e]\n",
    "    graph[v1].append(temp)\n",
    "\n",
    "# Print the graph\n",
    "def print_graph():\n",
    "  global graph\n",
    "  for vertex in graph:\n",
    "    for edges in graph[vertex]:\n",
    "      print(vertex, \" -> \", edges[0], \" edge weight: \", edges[1])\n",
    "\n",
    "# driver code\n",
    "graph = {}\n",
    "# stores the number of vertices in the graph\n",
    "vertices_no = 0\n",
    "add_vertex(1)\n",
    "add_vertex(2)\n",
    "add_vertex(3)\n",
    "add_vertex(4)\n",
    "# Add the edges between the vertices by specifying\n",
    "# the from and to vertex along with the edge weights.\n",
    "add_edge(1, 2, 1)\n",
    "add_edge(1, 3, 1)\n",
    "add_edge(2, 3, 3)\n",
    "add_edge(3, 4, 4)\n",
    "add_edge(4, 1, 5)\n",
    "print_graph()\n",
    "# Reminder: the second element of each list inside the dictionary\n",
    "# denotes the edge weight.\n",
    "print (\"Internal representation: \", graph)\n",
    "\n",
    "print(graph[])"
   ]
  },
  {
   "cell_type": "code",
   "execution_count": 18,
   "metadata": {},
   "outputs": [
    {
     "data": {
      "text/plain": [
       "[[2, 1], [3, 1]]"
      ]
     },
     "execution_count": 18,
     "metadata": {},
     "output_type": "execute_result"
    }
   ],
   "source": [
    "graph[1]"
   ]
  },
  {
   "cell_type": "code",
   "execution_count": null,
   "metadata": {},
   "outputs": [],
   "source": []
  }
 ],
 "metadata": {
  "kernelspec": {
   "display_name": "Python 3",
   "language": "python",
   "name": "python3"
  },
  "language_info": {
   "codemirror_mode": {
    "name": "ipython",
    "version": 3
   },
   "file_extension": ".py",
   "mimetype": "text/x-python",
   "name": "python",
   "nbconvert_exporter": "python",
   "pygments_lexer": "ipython3",
   "version": "3.8.3"
  }
 },
 "nbformat": 4,
 "nbformat_minor": 4
}
