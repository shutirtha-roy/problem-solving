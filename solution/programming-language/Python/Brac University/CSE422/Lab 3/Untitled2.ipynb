{
 "cells": [
  {
   "cell_type": "code",
   "execution_count": 3,
   "metadata": {},
   "outputs": [
    {
     "name": "stdout",
     "output_type": "stream",
     "text": [
      "Depth 2\n",
      "Branch 3\n",
      "Terminal States(Leaf Nodes) 1\n",
      "Maximum amount for minmax 7\n",
      "Comparison 9\n",
      "Minimum Amount for alpha beta prune 7\n",
      "Comparision 8\n"
     ]
    }
   ],
   "source": [
    "import numpy as np\n",
    "import random\n",
    "np.random.seed(123)\n",
    "two_D_array = np.zeros((13, 13))\n",
    "two_D_array[0][1:4] = 1\n",
    "two_D_array[1][4:7] = 1\n",
    "two_D_array[2][7:10] = 1\n",
    "two_D_array[3][10:13] = 1\n",
    "\n",
    "\n",
    "turns = 1\n",
    "branch = 3\n",
    "miin = 1\n",
    "maxx = 20 + 1\n",
    "\n",
    "\n",
    "values = {4: np.random.randint(miin, maxx), 5: np.random.randint(miin, maxx), 6: np.random.randint(miin, maxx), 7: np.random.randint(miin, maxx),8: np.random.randint(miin, maxx), 9: np.random.randint(miin, maxx), 10: np.random.randint(miin, maxx), 11: np.random.randint(miin, maxx),12: np.random.randint(miin, maxx)}\n",
    "\n",
    "\n",
    "print(\"Depth\", 2 * turns)\n",
    "print(\"Branch\", branch)\n",
    "print(\"Terminal States(Leaf Nodes)\", turns ** branch)\n",
    "\n",
    "random.seed(123)\n",
    "i = 0\n",
    "def minimax(n, depth, maximizing):\n",
    "      global i\n",
    "      if depth == 0:\n",
    "        i +=1\n",
    "        return values[n]\n",
    "\n",
    "      if maximizing == True:\n",
    "        maxEval = -1000000\n",
    "        loc = 0\n",
    "        for child in two_D_array[n]:\n",
    "          if(child == 1):\n",
    "              eval = minimax(loc, depth - 1, False)\n",
    "              maxEval = max(maxEval, eval)\n",
    "          loc += 1\n",
    "        return maxEval\n",
    "      else:\n",
    "        minEval = 1000000\n",
    "        loc = 0\n",
    "        for child in two_D_array[n]:\n",
    "            if(child == 1):\n",
    "              eval = minimax(loc, depth - 1, True)\n",
    "              minEval = min(minEval, eval)\n",
    "            loc += 1\n",
    "        return minEval\n",
    "\n",
    "print(\"Maximum amount for minmax\", minimax(0, 2, True))\n",
    "print(\"Comparison\", i)\n",
    "\n",
    "\n",
    "random.seed(123)\n",
    "i = 0\n",
    "def minimax(n, depth, alpha, beta, maximizing):\n",
    "      global i\n",
    "      if depth == 0:\n",
    "        i +=1\n",
    "        return values[n]\n",
    "\n",
    "      if maximizing:\n",
    "        maxEval = -1000000\n",
    "        p = 0\n",
    "        for child in two_D_array[n]:\n",
    "          if(child == 1):\n",
    "              eval = minimax(p, depth - 1,  alpha, beta, False)\n",
    "              maxEval = max(maxEval, eval)\n",
    "              alpha = max(alpha, eval)\n",
    "              if beta <= alpha:\n",
    "                break\n",
    "          p += 1\n",
    "        return maxEval\n",
    "      else:\n",
    "        minEval = 1000000\n",
    "        p = 0\n",
    "        for child in two_D_array[n]:\n",
    "            if(child == 1):\n",
    "              eval = minimax(p, depth - 1,  alpha, beta, True)\n",
    "              minEval = min(minEval, eval)\n",
    "              beta = min(beta, eval)\n",
    "              if beta <= alpha:\n",
    "                break  \n",
    "            p += 1\n",
    "        return minEval\n",
    "print(\"Minimum Amount for alpha beta prune\", minimax(0, 2,-1000000, 1000000, True))\n",
    "print(\"Comparision\", i)"
   ]
  },
  {
   "cell_type": "code",
   "execution_count": null,
   "metadata": {},
   "outputs": [],
   "source": []
  },
  {
   "cell_type": "code",
   "execution_count": null,
   "metadata": {},
   "outputs": [],
   "source": [
    "import math\n",
    "import numpy as np\n",
    "def minimax(position,d,values,maximizingPlayer,count):\n",
    "  if d==depth:\n",
    "    return values[position],count+1\n",
    "  if maximizingPlayer:\n",
    "    maxEval=-math.inf\n",
    "    for i in range(0,branches):\n",
    "      eval,count=minimax(position*2+i,d+1,values,False,count)\n",
    "      maxEval=max(maxEval,eval)\n",
    "    return maxEval,count\n",
    "  else:\n",
    "    minEval=math.inf\n",
    "    for i in range(0,branches):\n",
    "      eval,count=minimax(position*2+i,d+1,values,True,count)\n",
    "      minEval=min(minEval,eval)\n",
    "    return minEval,count\n",
    "\n",
    "def minimaxwithab(position,d,values,alpha,beta,maximizingPlayer,count):\n",
    "  if d==depth:\n",
    "    return values[position],count+1\n",
    "  if maximizingPlayer:\n",
    "    maxEval=-math.inf\n",
    "    for i in range(0,branches):\n",
    "      eval,count=minimaxwithab(position*2+i,d+1,values,alpha,beta,False,count)\n",
    "      maxEval=max(maxEval,eval)\n",
    "      alpha=max(alpha,maxEval)\n",
    "      if beta<=alpha:\n",
    "        count-1;\n",
    "        break\n",
    "    return maxEval,count\n",
    "  else:\n",
    "    minEval=math.inf\n",
    "    for i in range(0,branches):\n",
    "      eval,count=minimaxwithab(position*2+i,d+1,values,alpha,beta,True,count)\n",
    "      minEval=min(minEval,eval)\n",
    "      beta=min(beta,minEval)\n",
    "      if beta<=alpha:\n",
    "        count-1\n",
    "        break\n",
    "    return minEval,count\n",
    "\n",
    "\n",
    "\n",
    "turns=int(input(\"Number of turns for Riyad:\"));\n",
    "depth=turns*2;\n",
    "branches=int(input(\"Number of notes from which the choice has to be made at certain time :\"))\n",
    "a,b = input(\"Minimum and Maximum value for the range of notes \").split()\n",
    "values=np.random.randint(low=a,high=b,size=branches**depth)\n",
    "amount,abcount=minimaxwithab(0,0,values,-math.inf,math.inf,True,0)\n",
    "amount1,mncount=minimax(0,0,values,True,0)\n",
    "print(\"Depth:\",depth )\n",
    "print(\"Branch: \",branches)\n",
    "print(\"Terminal States:\" , branches**depth)\n",
    "print(\"Maximun amount: \", amount)\n",
    "print(\"Comparisons before alpha beta pruning: \", mncount)\n",
    "print(\"Comparisons after alpha beta pruning: \", abcount)"
   ]
  },
  {
   "cell_type": "code",
   "execution_count": 6,
   "metadata": {},
   "outputs": [
    {
     "name": "stdout",
     "output_type": "stream",
     "text": [
      "[18  7 13 19  7  2 14 11 15]\n"
     ]
    }
   ],
   "source": [
    "import numpy as np\n",
    "a = 1\n",
    "b = 20\n",
    "depth = 2\n",
    "branches = 3\n",
    "values=np.random.randint(low=a,high=b,size=branches**depth)\n",
    "print(values)"
   ]
  },
  {
   "cell_type": "code",
   "execution_count": 8,
   "metadata": {},
   "outputs": [
    {
     "data": {
      "text/plain": [
       "7"
      ]
     },
     "execution_count": 8,
     "metadata": {},
     "output_type": "execute_result"
    }
   ],
   "source": [
    "np.random.randint(1, 21)"
   ]
  },
  {
   "cell_type": "code",
   "execution_count": null,
   "metadata": {},
   "outputs": [],
   "source": []
  }
 ],
 "metadata": {
  "kernelspec": {
   "display_name": "Python 3",
   "language": "python",
   "name": "python3"
  },
  "language_info": {
   "codemirror_mode": {
    "name": "ipython",
    "version": 3
   },
   "file_extension": ".py",
   "mimetype": "text/x-python",
   "name": "python",
   "nbconvert_exporter": "python",
   "pygments_lexer": "ipython3",
   "version": "3.8.3"
  }
 },
 "nbformat": 4,
 "nbformat_minor": 4
}
