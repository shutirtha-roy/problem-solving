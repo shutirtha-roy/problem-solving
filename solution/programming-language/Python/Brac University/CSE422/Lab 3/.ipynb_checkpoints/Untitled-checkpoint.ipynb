{
 "cells": [
  {
   "cell_type": "code",
   "execution_count": 1,
   "metadata": {},
   "outputs": [],
   "source": [
    "import numpy as np"
   ]
  },
  {
   "cell_type": "code",
   "execution_count": null,
   "metadata": {},
   "outputs": [],
   "source": []
  },
  {
   "cell_type": "code",
   "execution_count": 2,
   "metadata": {},
   "outputs": [],
   "source": [
    "turns = 1\n",
    "no_of_players = 2\n",
    "nodes_per_branch = 3\n",
    "min_val = 1\n",
    "max_val = 20"
   ]
  },
  {
   "cell_type": "code",
   "execution_count": 3,
   "metadata": {},
   "outputs": [
    {
     "data": {
      "text/plain": [
       "array([17,  8, 10,  6, 10,  5, 18, 12, 10])"
      ]
     },
     "execution_count": 3,
     "metadata": {},
     "output_type": "execute_result"
    }
   ],
   "source": [
    "np.random.randint(min_val, max_val, (9, ))"
   ]
  },
  {
   "cell_type": "code",
   "execution_count": 4,
   "metadata": {},
   "outputs": [
    {
     "name": "stdout",
     "output_type": "stream",
     "text": [
      "Depth: 2\n",
      "Branch: 3\n",
      "Terminal States (Leaf Nodes): 9\n"
     ]
    }
   ],
   "source": [
    "depth = turns * no_of_players\n",
    "print(\"Depth:\", depth)\n",
    "print(\"Branch:\", nodes_per_branch)\n",
    "terminal_state = nodes_per_branch ** depth\n",
    "print(\"Terminal States (Leaf Nodes):\", terminal_state)"
   ]
  },
  {
   "cell_type": "code",
   "execution_count": 5,
   "metadata": {},
   "outputs": [],
   "source": [
    "graph = [[],\n",
    "         [],\n",
    "         [],\n",
    "         [],\n",
    "         ]"
   ]
  },
  {
   "cell_type": "code",
   "execution_count": 6,
   "metadata": {},
   "outputs": [
    {
     "data": {
      "text/plain": [
       "' THE GRAPH Structure\\n---------------------0----------------------\\n---------1-----------2-------------3--------\\n------4--5--6----7---8---9----10--11---12---\\n'"
      ]
     },
     "execution_count": 6,
     "metadata": {},
     "output_type": "execute_result"
    }
   ],
   "source": [
    "''' THE GRAPH Structure\n",
    "---------------------0----------------------\n",
    "---------1-----------2-------------3--------\n",
    "------4--5--6----7---8---9----10--11---12---\n",
    "'''"
   ]
  },
  {
   "cell_type": "code",
   "execution_count": 5,
   "metadata": {},
   "outputs": [],
   "source": [
    "graph = np.array([[0, 1, 1, 1, 0, 0, 0, 0, 0, 0, 0, 0, 0], \n",
    "                  [1, 0, 0, 0, 1, 1, 1, 0, 0, 0, 0, 0, 0],\n",
    "                  [1, 0, 0, 0, 0, 0, 0, 1, 1, 1, 0, 0, 0],\n",
    "                  [1, 0, 0, 0, 0, 0, 0, 0, 0, 0, 1, 1, 1],\n",
    "                  [0, 1, 0, 0, 0, 0, 0, 0, 0, 0, 0, 0, 0],\n",
    "                  [0, 1, 0, 0, 0, 0, 0, 0, 0, 0, 0, 0, 0], \n",
    "                  [0, 1, 0, 0, 0, 0, 0, 0, 0, 0, 0, 0, 0],\n",
    "                  [0, 0, 1, 0, 0, 0, 0, 0, 0, 0, 0, 0, 0],\n",
    "                  [0, 0, 1, 0, 0, 0, 0, 0, 0, 0, 0, 0, 0],\n",
    "                  [0, 0, 1, 0, 0, 0, 0, 0, 0, 0, 0, 0, 0],\n",
    "                  [0, 0, 0, 1, 0, 0, 0, 0, 0, 0, 0, 0, 0], \n",
    "                  [0, 0, 0, 1, 0, 0, 0, 0, 0, 0, 0, 0, 0],\n",
    "                  [0, 0, 0, 1, 0, 0, 0, 0, 0, 0, 0, 0, 0]], np.int32)\n"
   ]
  },
  {
   "cell_type": "code",
   "execution_count": 6,
   "metadata": {},
   "outputs": [
    {
     "data": {
      "text/plain": [
       "array([[0, 1, 1, 1, 0, 0, 0, 0, 0, 0, 0, 0, 0],\n",
       "       [1, 0, 0, 0, 1, 1, 1, 0, 0, 0, 0, 0, 0],\n",
       "       [1, 0, 0, 0, 0, 0, 0, 1, 1, 1, 0, 0, 0],\n",
       "       [1, 0, 0, 0, 0, 0, 0, 0, 0, 0, 1, 1, 1],\n",
       "       [0, 1, 0, 0, 0, 0, 0, 0, 0, 0, 0, 0, 0],\n",
       "       [0, 1, 0, 0, 0, 0, 0, 0, 0, 0, 0, 0, 0],\n",
       "       [0, 1, 0, 0, 0, 0, 0, 0, 0, 0, 0, 0, 0],\n",
       "       [0, 0, 1, 0, 0, 0, 0, 0, 0, 0, 0, 0, 0],\n",
       "       [0, 0, 1, 0, 0, 0, 0, 0, 0, 0, 0, 0, 0],\n",
       "       [0, 0, 1, 0, 0, 0, 0, 0, 0, 0, 0, 0, 0],\n",
       "       [0, 0, 0, 1, 0, 0, 0, 0, 0, 0, 0, 0, 0],\n",
       "       [0, 0, 0, 1, 0, 0, 0, 0, 0, 0, 0, 0, 0],\n",
       "       [0, 0, 0, 1, 0, 0, 0, 0, 0, 0, 0, 0, 0]])"
      ]
     },
     "execution_count": 6,
     "metadata": {},
     "output_type": "execute_result"
    }
   ],
   "source": [
    "graph"
   ]
  },
  {
   "cell_type": "code",
   "execution_count": 7,
   "metadata": {},
   "outputs": [
    {
     "data": {
      "text/plain": [
       "array([0., 0., 0., 0., 0., 0., 0., 0., 0., 0., 0., 0., 0.])"
      ]
     },
     "execution_count": 7,
     "metadata": {},
     "output_type": "execute_result"
    }
   ],
   "source": [
    "visited = np.zeros(13)\n",
    "visited"
   ]
  },
  {
   "cell_type": "code",
   "execution_count": 74,
   "metadata": {},
   "outputs": [],
   "source": [
    "graph = np.array([[0, 1, 1, 1, 0, 0, 0, 0, 0, 0, 0, 0, 0], \n",
    "                  [1, 0, 0, 0, 1, 1, 1, 0, 0, 0, 0, 0, 0],\n",
    "                  [1, 0, 0, 0, 0, 0, 0, 1, 1, 1, 0, 0, 0],\n",
    "                  [1, 0, 0, 0, 0, 0, 0, 0, 0, 0, 1, 1, 1],\n",
    "                  [0, 1, 0, 0, 0, 0, 0, 0, 0, 0, 0, 0, 0],\n",
    "                  [0, 1, 0, 0, 0, 0, 0, 0, 0, 0, 0, 0, 0], \n",
    "                  [0, 1, 0, 0, 0, 0, 0, 0, 0, 0, 0, 0, 0],\n",
    "                  [0, 0, 1, 0, 0, 0, 0, 0, 0, 0, 0, 0, 0],\n",
    "                  [0, 0, 1, 0, 0, 0, 0, 0, 0, 0, 0, 0, 0],\n",
    "                  [0, 0, 1, 0, 0, 0, 0, 0, 0, 0, 0, 0, 0],\n",
    "                  [0, 0, 0, 1, 0, 0, 0, 0, 0, 0, 0, 0, 0], \n",
    "                  [0, 0, 0, 1, 0, 0, 0, 0, 0, 0, 0, 0, 0],\n",
    "                  [0, 0, 0, 1, 0, 0, 0, 0, 0, 0, 0, 0, 0]], np.int32)\n",
    "\n",
    "\n",
    "import math\n",
    "\n",
    "maxEval = -math.inf\n",
    "minEval = math.inf\n",
    "evall = 0\n",
    "maxEval = 0\n",
    "minEval = 0\n",
    "num = 0\n",
    "\n",
    "visited = np.zeros(13)\n",
    "ans = []\n",
    "stack = []\n",
    "\n",
    "\n",
    "def stack_display():\n",
    "    for val in stack:\n",
    "        print(val, end=\"|\")\n",
    "    print()\n",
    "\n",
    "def dfs(n, depth, maximizing_player):\n",
    "    global maxEval\n",
    "    global minEval\n",
    "    global evall\n",
    "    global num\n",
    "\n",
    "    if visited[n] != 0:\n",
    "        pass\n",
    "    else:\n",
    "        if(depth == 0):\n",
    "            print(values[n])\n",
    "            return values[n]\n",
    "        \n",
    "        if(maximizing_player == True):\n",
    "            visited[n] = 1\n",
    "            stack.append(n)\n",
    "            stack_display()\n",
    "            num = 0\n",
    "            for relation in graph[n]:\n",
    "                if relation != 0:\n",
    "                    evall = dfs(num, depth - 1, False)\n",
    "                    maxEval = max(evall, maxEval)\n",
    "                num = num + 1\n",
    "            return maxEval\n",
    "        else:\n",
    "            visited[n] = 1\n",
    "            stack.append(n)\n",
    "            stack_display()\n",
    "            num = 0\n",
    "            for relation in graph[n]:\n",
    "                if relation != 0:\n",
    "                    evall = dfs(num, depth - 1, True)\n",
    "                    minEval = min(evall, minEval)\n",
    "                num = num + 1\n",
    "            return minEval\n",
    "\n",
    "src_node = int(0)\n"
   ]
  },
  {
   "cell_type": "code",
   "execution_count": 75,
   "metadata": {},
   "outputs": [
    {
     "name": "stdout",
     "output_type": "stream",
     "text": [
      "0|\n",
      "0|1|\n"
     ]
    },
    {
     "ename": "TypeError",
     "evalue": "'<' not supported between instances of 'int' and 'NoneType'",
     "output_type": "error",
     "traceback": [
      "\u001b[1;31m---------------------------------------------------------------------------\u001b[0m",
      "\u001b[1;31mTypeError\u001b[0m                                 Traceback (most recent call last)",
      "\u001b[1;32m<ipython-input-75-75d448939698>\u001b[0m in \u001b[0;36m<module>\u001b[1;34m\u001b[0m\n\u001b[1;32m----> 1\u001b[1;33m \u001b[0mdfs\u001b[0m\u001b[1;33m(\u001b[0m\u001b[1;36m0\u001b[0m\u001b[1;33m,\u001b[0m \u001b[1;36m2\u001b[0m\u001b[1;33m,\u001b[0m  \u001b[1;32mTrue\u001b[0m\u001b[1;33m)\u001b[0m\u001b[1;33m\u001b[0m\u001b[1;33m\u001b[0m\u001b[0m\n\u001b[0m",
      "\u001b[1;32m<ipython-input-74-0be708bd722e>\u001b[0m in \u001b[0;36mdfs\u001b[1;34m(n, depth, maximizing_player)\u001b[0m\n\u001b[0;32m     53\u001b[0m             \u001b[1;32mfor\u001b[0m \u001b[0mrelation\u001b[0m \u001b[1;32min\u001b[0m \u001b[0mgraph\u001b[0m\u001b[1;33m[\u001b[0m\u001b[0mn\u001b[0m\u001b[1;33m]\u001b[0m\u001b[1;33m:\u001b[0m\u001b[1;33m\u001b[0m\u001b[1;33m\u001b[0m\u001b[0m\n\u001b[0;32m     54\u001b[0m                 \u001b[1;32mif\u001b[0m \u001b[0mrelation\u001b[0m \u001b[1;33m!=\u001b[0m \u001b[1;36m0\u001b[0m\u001b[1;33m:\u001b[0m\u001b[1;33m\u001b[0m\u001b[1;33m\u001b[0m\u001b[0m\n\u001b[1;32m---> 55\u001b[1;33m                     \u001b[0mevall\u001b[0m \u001b[1;33m=\u001b[0m \u001b[0mdfs\u001b[0m\u001b[1;33m(\u001b[0m\u001b[0mnum\u001b[0m\u001b[1;33m,\u001b[0m \u001b[0mdepth\u001b[0m \u001b[1;33m-\u001b[0m \u001b[1;36m1\u001b[0m\u001b[1;33m,\u001b[0m \u001b[1;32mFalse\u001b[0m\u001b[1;33m)\u001b[0m\u001b[1;33m\u001b[0m\u001b[1;33m\u001b[0m\u001b[0m\n\u001b[0m\u001b[0;32m     56\u001b[0m                     \u001b[0mmaxEval\u001b[0m \u001b[1;33m=\u001b[0m \u001b[0mmax\u001b[0m\u001b[1;33m(\u001b[0m\u001b[0mevall\u001b[0m\u001b[1;33m,\u001b[0m \u001b[0mmaxEval\u001b[0m\u001b[1;33m)\u001b[0m\u001b[1;33m\u001b[0m\u001b[1;33m\u001b[0m\u001b[0m\n\u001b[0;32m     57\u001b[0m                 \u001b[0mnum\u001b[0m \u001b[1;33m=\u001b[0m \u001b[0mnum\u001b[0m \u001b[1;33m+\u001b[0m \u001b[1;36m1\u001b[0m\u001b[1;33m\u001b[0m\u001b[1;33m\u001b[0m\u001b[0m\n",
      "\u001b[1;32m<ipython-input-74-0be708bd722e>\u001b[0m in \u001b[0;36mdfs\u001b[1;34m(n, depth, maximizing_player)\u001b[0m\n\u001b[0;32m     65\u001b[0m                 \u001b[1;32mif\u001b[0m \u001b[0mrelation\u001b[0m \u001b[1;33m!=\u001b[0m \u001b[1;36m0\u001b[0m\u001b[1;33m:\u001b[0m\u001b[1;33m\u001b[0m\u001b[1;33m\u001b[0m\u001b[0m\n\u001b[0;32m     66\u001b[0m                     \u001b[0mevall\u001b[0m \u001b[1;33m=\u001b[0m \u001b[0mdfs\u001b[0m\u001b[1;33m(\u001b[0m\u001b[0mnum\u001b[0m\u001b[1;33m,\u001b[0m \u001b[0mdepth\u001b[0m \u001b[1;33m-\u001b[0m \u001b[1;36m1\u001b[0m\u001b[1;33m,\u001b[0m \u001b[1;32mTrue\u001b[0m\u001b[1;33m)\u001b[0m\u001b[1;33m\u001b[0m\u001b[1;33m\u001b[0m\u001b[0m\n\u001b[1;32m---> 67\u001b[1;33m                     \u001b[0mminEval\u001b[0m \u001b[1;33m=\u001b[0m \u001b[0mmin\u001b[0m\u001b[1;33m(\u001b[0m\u001b[0mevall\u001b[0m\u001b[1;33m,\u001b[0m \u001b[0mminEval\u001b[0m\u001b[1;33m)\u001b[0m\u001b[1;33m\u001b[0m\u001b[1;33m\u001b[0m\u001b[0m\n\u001b[0m\u001b[0;32m     68\u001b[0m                 \u001b[0mnum\u001b[0m \u001b[1;33m=\u001b[0m \u001b[0mnum\u001b[0m \u001b[1;33m+\u001b[0m \u001b[1;36m1\u001b[0m\u001b[1;33m\u001b[0m\u001b[1;33m\u001b[0m\u001b[0m\n\u001b[0;32m     69\u001b[0m             \u001b[1;32mreturn\u001b[0m \u001b[0mminEval\u001b[0m\u001b[1;33m\u001b[0m\u001b[1;33m\u001b[0m\u001b[0m\n",
      "\u001b[1;31mTypeError\u001b[0m: '<' not supported between instances of 'int' and 'NoneType'"
     ]
    }
   ],
   "source": [
    "dfs(0, 2,  True)"
   ]
  },
  {
   "cell_type": "code",
   "execution_count": 10,
   "metadata": {},
   "outputs": [
    {
     "data": {
      "text/plain": [
       "8"
      ]
     },
     "execution_count": 10,
     "metadata": {},
     "output_type": "execute_result"
    }
   ],
   "source": [
    "values = {0: 0, 1: 0, 2: 0, 3: 0, 4: 3,\n",
    "          5: 12, 6: 8, 7: 2, 8: 4, 9: 6,\n",
    "          10: 14, 11: 5, 12: 2}\n",
    "values[6]"
   ]
  },
  {
   "cell_type": "code",
   "execution_count": 18,
   "metadata": {},
   "outputs": [
    {
     "data": {
      "text/plain": [
       "array([1., 1., 1., 1., 1., 1., 1., 1., 1., 1., 1., 1., 1.])"
      ]
     },
     "execution_count": 18,
     "metadata": {},
     "output_type": "execute_result"
    }
   ],
   "source": [
    "visited"
   ]
  },
  {
   "cell_type": "code",
   "execution_count": 15,
   "metadata": {},
   "outputs": [],
   "source": [
    "visited = np.zeros(13)\n",
    "ans = []\n",
    "stack = []\n",
    "\n",
    "def stack_display():\n",
    "    for val in stack:\n",
    "        print(val, end=\"|\")\n",
    "    print()\n",
    "\n",
    "\n",
    "\n",
    "\n",
    "\n",
    "\n",
    "\n",
    "\n",
    "def dfs(n):\n",
    "    if visited[n] != 0:\n",
    "        return\n",
    "    else:\n",
    "        visited[n] = 1\n",
    "        stack.append(n)\n",
    "        stack_display()\n",
    "        num = 0\n",
    "        for relation in graph[n]:\n",
    "            if relation != 0:\n",
    "                dfs(num)\n",
    "            num = num + 1\n",
    "        #print(n)\n",
    "        ans.append(n)\n",
    "        stack.pop()\n",
    "        stack_display()\n",
    "\n",
    "src_node = int(0)"
   ]
  },
  {
   "cell_type": "code",
   "execution_count": 17,
   "metadata": {},
   "outputs": [
    {
     "name": "stdout",
     "output_type": "stream",
     "text": [
      "0|\n",
      "0|1|\n",
      "0|1|4|\n",
      "0|1|\n",
      "0|1|5|\n",
      "0|1|\n",
      "0|1|6|\n",
      "0|1|\n",
      "0|\n",
      "0|2|\n",
      "0|2|7|\n",
      "0|2|\n",
      "0|2|8|\n",
      "0|2|\n",
      "0|2|9|\n",
      "0|2|\n",
      "0|\n",
      "0|3|\n",
      "0|3|10|\n",
      "0|3|\n",
      "0|3|11|\n",
      "0|3|\n",
      "0|3|12|\n",
      "0|3|\n",
      "0|\n",
      "\n"
     ]
    }
   ],
   "source": [
    "dfs(0)"
   ]
  },
  {
   "cell_type": "code",
   "execution_count": 13,
   "metadata": {},
   "outputs": [],
   "source": [
    "graph = np.array([[0, 1, 1, 1, 0, 0, 0, 0, 0, 0, 0, 0, 0], \n",
    "                  [1, 0, 0, 0, 1, 1, 1, 0, 0, 0, 0, 0, 0],\n",
    "                  [1, 0, 0, 0, 0, 0, 0, 1, 1, 1, 0, 0, 0],\n",
    "                  [1, 0, 0, 0, 0, 0, 0, 0, 0, 0, 1, 1, 1],\n",
    "                  [0, 1, 0, 0, 0, 0, 0, 0, 0, 0, 0, 0, 0],\n",
    "                  [0, 1, 0, 0, 0, 0, 0, 0, 0, 0, 0, 0, 0], \n",
    "                  [0, 1, 0, 0, 0, 0, 0, 0, 0, 0, 0, 0, 0],\n",
    "                  [0, 0, 1, 0, 0, 0, 0, 0, 0, 0, 0, 0, 0],\n",
    "                  [0, 0, 1, 0, 0, 0, 0, 0, 0, 0, 0, 0, 0],\n",
    "                  [0, 0, 1, 0, 0, 0, 0, 0, 0, 0, 0, 0, 0],\n",
    "                  [0, 0, 0, 1, 0, 0, 0, 0, 0, 0, 0, 0, 0], \n",
    "                  [0, 0, 0, 1, 0, 0, 0, 0, 0, 0, 0, 0, 0],\n",
    "                  [0, 0, 0, 1, 0, 0, 0, 0, 0, 0, 0, 0, 0]], np.int32)\n",
    "\n",
    "\n",
    "\n",
    "\n",
    "\n",
    "\n",
    "import math\n",
    "\n",
    "maxEval = math.inf\n",
    "minEval = -math.inf\n",
    "\n",
    "\n",
    "visited = np.zeros(13)\n",
    "ans = []\n",
    "stack = []\n",
    "\n",
    "\n",
    "def stack_display():\n",
    "    for val in stack:\n",
    "        print(val, end=\"|\")\n",
    "    print()\n",
    "\n",
    "def dfs(n, maximizing_player):\n",
    "    if visited[n] != 0:\n",
    "        return\n",
    "    else:\n",
    "        if(maximizing_player == True):\n",
    "            visited[n] = 1\n",
    "            stack.append(n)\n",
    "            stack_display()\n",
    "            num = 0\n",
    "            for relation in graph[n]:\n",
    "                if relation != 0:\n",
    "                    dfs(num, False)\n",
    "                num = num + 1\n",
    "        else:\n",
    "            visited[n] = 1\n",
    "            stack.append(n)\n",
    "            stack_display()\n",
    "            num = 0\n",
    "            for relation in graph[n]:\n",
    "                if relation != 0:\n",
    "                    dfs(num, True)\n",
    "                num = num + 1            \n",
    "        #print(n)\n",
    "        ans.append(n)\n",
    "        stack.pop()\n",
    "        stack_display()\n",
    "\n",
    "src_node = int(0)\n"
   ]
  },
  {
   "cell_type": "code",
   "execution_count": 14,
   "metadata": {},
   "outputs": [
    {
     "name": "stdout",
     "output_type": "stream",
     "text": [
      "2|\n",
      "2|0|\n",
      "2|0|1|\n",
      "2|0|1|4|\n",
      "2|0|1|\n",
      "2|0|1|5|\n",
      "2|0|1|\n",
      "2|0|1|6|\n",
      "2|0|1|\n",
      "2|0|\n",
      "2|0|3|\n",
      "2|0|3|10|\n",
      "2|0|3|\n",
      "2|0|3|11|\n",
      "2|0|3|\n",
      "2|0|3|12|\n",
      "2|0|3|\n",
      "2|0|\n",
      "2|\n",
      "2|7|\n",
      "2|\n",
      "2|8|\n",
      "2|\n",
      "2|9|\n",
      "2|\n",
      "\n"
     ]
    }
   ],
   "source": [
    "dfs(2, True)"
   ]
  },
  {
   "cell_type": "code",
   "execution_count": null,
   "metadata": {},
   "outputs": [],
   "source": []
  }
 ],
 "metadata": {
  "kernelspec": {
   "display_name": "Python 3",
   "language": "python",
   "name": "python3"
  },
  "language_info": {
   "codemirror_mode": {
    "name": "ipython",
    "version": 3
   },
   "file_extension": ".py",
   "mimetype": "text/x-python",
   "name": "python",
   "nbconvert_exporter": "python",
   "pygments_lexer": "ipython3",
   "version": "3.8.3"
  }
 },
 "nbformat": 4,
 "nbformat_minor": 4
}
