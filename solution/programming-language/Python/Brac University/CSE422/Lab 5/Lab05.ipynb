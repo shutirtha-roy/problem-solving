{
 "cells": [
  {
   "cell_type": "code",
   "execution_count": 1,
   "metadata": {},
   "outputs": [],
   "source": [
    "import numpy as np\n",
    "import pandas as pd"
   ]
  },
  {
   "cell_type": "code",
   "execution_count": 2,
   "metadata": {},
   "outputs": [
    {
     "name": "stdout",
     "output_type": "stream",
     "text": [
      "   age     sex  cp  trestbps   chol  fbs  restecg  thalach  exang  oldpeak  \\\n",
      "0   63    male   3     145.0  233.0    1        0    150.0      0      2.3   \n",
      "1   37    male   2     130.0  250.0    0        1    187.0      0      3.5   \n",
      "2   41  female   1     130.0  204.0    0        0    172.0      0      1.4   \n",
      "3   56    male   1     120.0  236.0    0        1    178.0      0      0.8   \n",
      "4   57  female   0       NaN  354.0    0        1    163.0      1      0.6   \n",
      "\n",
      "   slope  ca  thal target  \n",
      "0      0   0     1    yes  \n",
      "1      0   0     2    yes  \n",
      "2      2   0     2    yes  \n",
      "3      2   0     2    yes  \n",
      "4      2   0     2    yes  \n"
     ]
    }
   ],
   "source": [
    "#Loading the DataFrame\n",
    "heart_disease_dataset = pd.read_csv('heart disease classification dataset.csv')\n",
    "del heart_disease_dataset[\"Unnamed: 0\"]\n",
    "print(heart_disease_dataset.head(5))"
   ]
  },
  {
   "cell_type": "code",
   "execution_count": 3,
   "metadata": {},
   "outputs": [
    {
     "name": "stdout",
     "output_type": "stream",
     "text": [
      "age         0\n",
      "sex         0\n",
      "cp          0\n",
      "trestbps    4\n",
      "chol        1\n",
      "fbs         0\n",
      "restecg     0\n",
      "thalach     5\n",
      "exang       0\n",
      "oldpeak     0\n",
      "slope       0\n",
      "ca          0\n",
      "thal        0\n",
      "target      0\n",
      "dtype: int64\n"
     ]
    }
   ],
   "source": [
    "#Checking missing values\n",
    "print(heart_disease_dataset.isnull().sum())"
   ]
  },
  {
   "cell_type": "code",
   "execution_count": 18,
   "metadata": {},
   "outputs": [
    {
     "name": "stdout",
     "output_type": "stream",
     "text": [
      "age         0\n",
      "sex         0\n",
      "cp          0\n",
      "trestbps    0\n",
      "chol        0\n",
      "fbs         0\n",
      "restecg     0\n",
      "thalach     0\n",
      "exang       0\n",
      "oldpeak     0\n",
      "slope       0\n",
      "ca          0\n",
      "thal        0\n",
      "target      0\n",
      "dtype: int64\n"
     ]
    }
   ],
   "source": [
    "#Handelling the Missing Values\n",
    "from sklearn.impute import SimpleImputer\n",
    "\n",
    "impute = SimpleImputer(missing_values=np.nan, strategy='mean')\n",
    "\n",
    "impute.fit(heart_disease_dataset[[\"trestbps\"]])\n",
    "\n",
    "heart_disease_dataset[[\"trestbps\"]] = impute.transform(heart_disease_dataset[[\"trestbps\"]])\n",
    "\n",
    "\n",
    "\n",
    "\n",
    "impute.fit(heart_disease_dataset[[\"chol\"]])\n",
    "\n",
    "heart_disease_dataset[[\"chol\"]] = impute.transform(heart_disease_dataset[[\"chol\"]])\n",
    "\n",
    "\n",
    "heart_disease_dataset[\"thalach\"].fillna(int(np.mean(heart_disease_dataset[\"thalach\"])), inplace = True)\n",
    "\n",
    "#No null values are present\n",
    "print(heart_disease_dataset.isnull().sum())"
   ]
  },
  {
   "cell_type": "code",
   "execution_count": 19,
   "metadata": {},
   "outputs": [
    {
     "name": "stdout",
     "output_type": "stream",
     "text": [
      "     sex\n",
      "0      1\n",
      "1      1\n",
      "2      0\n",
      "3      1\n",
      "4      0\n",
      "..   ...\n",
      "298    0\n",
      "299    1\n",
      "300    1\n",
      "301    1\n",
      "302    0\n",
      "\n",
      "[303 rows x 1 columns]\n",
      "     target\n",
      "0         1\n",
      "1         1\n",
      "2         1\n",
      "3         1\n",
      "4         1\n",
      "..      ...\n",
      "298       0\n",
      "299       0\n",
      "300       0\n",
      "301       0\n",
      "302       0\n",
      "\n",
      "[303 rows x 1 columns]\n"
     ]
    }
   ],
   "source": [
    "#Encoding categorical features of sex and target column\n",
    "from sklearn.preprocessing import LabelEncoder\n",
    "\n",
    "enc = LabelEncoder()\n",
    "\n",
    "heart_disease_dataset[\"sex\"] = enc.fit_transform(heart_disease_dataset[\"sex\"])\n",
    "\n",
    "\n",
    "enc = LabelEncoder()\n",
    "heart_disease_dataset[\"target\"] = enc.fit_transform(heart_disease_dataset[\"target\"])\n",
    "\n",
    "#male - 1\n",
    "#female - 0\n",
    "print(heart_disease_dataset[[\"sex\"]])\n",
    "\n",
    "#yes - 1\n",
    "#no - 0\n",
    "print(heart_disease_dataset[[\"target\"]])"
   ]
  },
  {
   "cell_type": "code",
   "execution_count": 20,
   "metadata": {
    "scrolled": true
   },
   "outputs": [
    {
     "name": "stdout",
     "output_type": "stream",
     "text": [
      "     age  sex  cp    trestbps   chol  fbs  restecg  thalach  exang  oldpeak  \\\n",
      "0     63    1   3  145.000000  233.0    1        0    150.0      0      2.3   \n",
      "1     37    1   2  130.000000  250.0    0        1    187.0      0      3.5   \n",
      "2     41    0   1  130.000000  204.0    0        0    172.0      0      1.4   \n",
      "3     56    1   1  120.000000  236.0    0        1    178.0      0      0.8   \n",
      "4     57    0   0  131.712375  354.0    0        1    163.0      1      0.6   \n",
      "..   ...  ...  ..         ...    ...  ...      ...      ...    ...      ...   \n",
      "298   57    0   0  140.000000  241.0    0        1    123.0      1      0.2   \n",
      "299   45    1   3  110.000000  264.0    0        1    132.0      0      1.2   \n",
      "300   68    1   0  144.000000  193.0    1        1    141.0      0      3.4   \n",
      "301   57    1   0  131.712375  131.0    0        1    115.0      1      1.2   \n",
      "302   57    0   1  130.000000  236.0    0        0    174.0      0      0.0   \n",
      "\n",
      "     slope  ca  thal  target  \n",
      "0        0   0     1       1  \n",
      "1        0   0     2       1  \n",
      "2        2   0     2       1  \n",
      "3        2   0     2       1  \n",
      "4        2   0     2       1  \n",
      "..     ...  ..   ...     ...  \n",
      "298      1   0     3       0  \n",
      "299      1   0     3       0  \n",
      "300      1   2     3       0  \n",
      "301      1   1     3       0  \n",
      "302      1   1     2       0  \n",
      "\n",
      "[303 rows x 14 columns]\n"
     ]
    }
   ],
   "source": [
    "#Checking the sex and target columns\n",
    "print(heart_disease_dataset)"
   ]
  },
  {
   "cell_type": "code",
   "execution_count": 21,
   "metadata": {},
   "outputs": [
    {
     "name": "stdout",
     "output_type": "stream",
     "text": [
      "          age  sex        cp  trestbps      chol  fbs  restecg   thalach  \\\n",
      "0    0.708333  1.0  1.000000  0.481132  0.244292  1.0      0.0  0.603053   \n",
      "1    0.166667  1.0  0.666667  0.339623  0.283105  0.0      0.5  0.885496   \n",
      "2    0.250000  0.0  0.333333  0.339623  0.178082  0.0      0.0  0.770992   \n",
      "3    0.562500  1.0  0.333333  0.245283  0.251142  0.0      0.5  0.816794   \n",
      "4    0.583333  0.0  0.000000  0.355777  0.520548  0.0      0.5  0.702290   \n",
      "..        ...  ...       ...       ...       ...  ...      ...       ...   \n",
      "298  0.583333  0.0  0.000000  0.433962  0.262557  0.0      0.5  0.396947   \n",
      "299  0.333333  1.0  1.000000  0.150943  0.315068  0.0      0.5  0.465649   \n",
      "300  0.812500  1.0  0.000000  0.471698  0.152968  1.0      0.5  0.534351   \n",
      "301  0.583333  1.0  0.000000  0.355777  0.011416  0.0      0.5  0.335878   \n",
      "302  0.583333  0.0  0.333333  0.339623  0.251142  0.0      0.0  0.786260   \n",
      "\n",
      "     exang   oldpeak  slope    ca      thal  target  \n",
      "0      0.0  0.370968    0.0  0.00  0.333333     1.0  \n",
      "1      0.0  0.564516    0.0  0.00  0.666667     1.0  \n",
      "2      0.0  0.225806    1.0  0.00  0.666667     1.0  \n",
      "3      0.0  0.129032    1.0  0.00  0.666667     1.0  \n",
      "4      1.0  0.096774    1.0  0.00  0.666667     1.0  \n",
      "..     ...       ...    ...   ...       ...     ...  \n",
      "298    1.0  0.032258    0.5  0.00  1.000000     0.0  \n",
      "299    0.0  0.193548    0.5  0.00  1.000000     0.0  \n",
      "300    0.0  0.548387    0.5  0.50  1.000000     0.0  \n",
      "301    1.0  0.193548    0.5  0.25  1.000000     0.0  \n",
      "302    0.0  0.000000    0.5  0.25  0.666667     0.0  \n",
      "\n",
      "[303 rows x 14 columns]\n"
     ]
    }
   ],
   "source": [
    "#Scaling all the values between 0-1\n",
    "from sklearn.preprocessing import MinMaxScaler\n",
    "\n",
    "scaler = MinMaxScaler()\n",
    "\n",
    "scaler.fit(heart_disease_dataset)\n",
    "\n",
    "heart_disease_dataset_scaled = scaler.transform(heart_disease_dataset)\n",
    "heart_disease_dataset_scaled = pd.DataFrame(heart_disease_dataset_scaled, columns = ['age', 'sex', 'cp', 'trestbps', 'chol', 'fbs', 'restecg', 'thalach',\n",
    "       'exang', 'oldpeak', 'slope', 'ca', 'thal', 'target'])\n",
    "print(heart_disease_dataset_scaled)"
   ]
  },
  {
   "cell_type": "code",
   "execution_count": 22,
   "metadata": {},
   "outputs": [
    {
     "name": "stdout",
     "output_type": "stream",
     "text": [
      "       trestbps   chol  fbs  restecg  thalach  exang  oldpeak  slope  ca  thal\n",
      "0    145.000000  233.0    1        0    150.0      0      2.3      0   0     1\n",
      "1    130.000000  250.0    0        1    187.0      0      3.5      0   0     2\n",
      "2    130.000000  204.0    0        0    172.0      0      1.4      2   0     2\n",
      "3    120.000000  236.0    0        1    178.0      0      0.8      2   0     2\n",
      "4    131.712375  354.0    0        1    163.0      1      0.6      2   0     2\n",
      "..          ...    ...  ...      ...      ...    ...      ...    ...  ..   ...\n",
      "298  140.000000  241.0    0        1    123.0      1      0.2      1   0     3\n",
      "299  110.000000  264.0    0        1    132.0      0      1.2      1   0     3\n",
      "300  144.000000  193.0    1        1    141.0      0      3.4      1   2     3\n",
      "301  131.712375  131.0    0        1    115.0      1      1.2      1   1     3\n",
      "302  130.000000  236.0    0        0    174.0      0      0.0      1   1     2\n",
      "\n",
      "[303 rows x 10 columns]\n",
      "\n",
      "\n",
      "     target\n",
      "0         1\n",
      "1         1\n",
      "2         1\n",
      "3         1\n",
      "4         1\n",
      "..      ...\n",
      "298       0\n",
      "299       0\n",
      "300       0\n",
      "301       0\n",
      "302       0\n",
      "\n",
      "[303 rows x 1 columns]\n",
      "\n",
      "\n"
     ]
    }
   ],
   "source": [
    "#Seperating features\n",
    "features = heart_disease_dataset.loc[:,'trestbps':'thal']\n",
    "print(features, end='\\n\\n\\n')\n",
    "print(labels, end='\\n\\n\\n')"
   ]
  },
  {
   "cell_type": "code",
   "execution_count": null,
   "metadata": {},
   "outputs": [],
   "source": []
  }
 ],
 "metadata": {
  "kernelspec": {
   "display_name": "Python 3",
   "language": "python",
   "name": "python3"
  },
  "language_info": {
   "codemirror_mode": {
    "name": "ipython",
    "version": 3
   },
   "file_extension": ".py",
   "mimetype": "text/x-python",
   "name": "python",
   "nbconvert_exporter": "python",
   "pygments_lexer": "ipython3",
   "version": "3.8.3"
  }
 },
 "nbformat": 4,
 "nbformat_minor": 4
}
