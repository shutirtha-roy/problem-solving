{
 "cells": [
  {
   "cell_type": "code",
   "execution_count": 1,
   "metadata": {},
   "outputs": [],
   "source": []
  },
  {
   "cell_type": "code",
   "execution_count": 2,
   "metadata": {},
   "outputs": [
    {
     "name": "stdout",
     "output_type": "stream",
     "text": [
      "[4, 2, 6, 1, 7, 0, 3, 5]\n",
      "<class 'list'>\n"
     ]
    }
   ],
   "source": [
    "from random import sample \n",
    "\n",
    "list1 = [[0, 1, 2, 3, 4, 5, 6, 7], [0, 1, 4, 3, 1, 5, 6, 7]]  \n",
    "\n",
    "print(sample(list1[0],8)) \n",
    "print(type(list1))"
   ]
  },
  {
   "cell_type": "code",
   "execution_count": 37,
   "metadata": {},
   "outputs": [
    {
     "data": {
      "text/plain": [
       "array([7, 2, 7, 1, 0, 4, 6, 0])"
      ]
     },
     "execution_count": 37,
     "metadata": {},
     "output_type": "execute_result"
    }
   ],
   "source": [
    "np.random.choice(list1[0], size = 8)"
   ]
  },
  {
   "cell_type": "code",
   "execution_count": 5,
   "metadata": {},
   "outputs": [
    {
     "name": "stdout",
     "output_type": "stream",
     "text": [
      "0.39916855897956094\n"
     ]
    }
   ],
   "source": [
    "print(np.random.uniform(0, 1))"
   ]
  },
  {
   "cell_type": "code",
   "execution_count": null,
   "metadata": {},
   "outputs": [],
   "source": [
    "import numpy as np\n",
    "import random\n",
    "from operator import add\n",
    "random.seed(388)\n",
    "\n",
    "\n",
    "\n",
    "def population_set(n = 8, start_population = 12):\n",
    "    population = np.random.randint(0, n, (start_population, n))\n",
    "    return population\n",
    "\n",
    "\n",
    "def crossover(x, y):\n",
    "    #random number between 1 to 6 (inclusive) to improvise crossover\n",
    "    n = np.random.randint(1, 7)\n",
    "    checker = np.concatenate([np.array(x[:n]), np.array(y[n:])], axis = 0).tolist()\n",
    "    return checker\n",
    "\n",
    "\n",
    "\n",
    "def probability_test(child):\n",
    "    mutation_threshold = 0.8\n",
    "    if np.random.uniform(0, 1) < mutation_threshold:\n",
    "        return mutate(child)\n",
    "    else:\n",
    "        return child\n",
    "\n",
    "    \n",
    "def fitness(x):\n",
    "    horizontal, diagonal = 0, 0\n",
    "    #print(x)\n",
    "    for i in range(len(x)):\n",
    "        for j in range(i + 1, len(x)):\n",
    "            if(x[i] == x[j]):\n",
    "                horizontal += 1\n",
    "            elif(abs(i - j) == abs(x[i] - x[j])):\n",
    "                diagonal += 1\n",
    "                \n",
    "    total = horizontal + diagonal\n",
    "    value = int((len(x) * (len(x) - 1)) / 2) - total\n",
    "    return value\n",
    "\n",
    "\n",
    "def fitness_loc(__child, fitness_array, location_array):\n",
    "    fitness_array.append(fitness(__child))\n",
    "    location_array.append(__child)\n",
    "    \n",
    "    fit_max = max(fitness_array)\n",
    "    location_address = fitness_array.index(fit_max)\n",
    "    return fit_max, location_address\n",
    "    \n",
    "    \n",
    "    \n",
    "def mutate(children):\n",
    "    x_i = np.random.randint(0, 8)\n",
    "    y_i = np.random.randint(0, 8)\n",
    "    \n",
    "    if children[x_i] != y_i:\n",
    "        children[x_i] = y_i\n",
    "    else:\n",
    "        children[x_i] = np.random.randint(0, 8)\n",
    "    return children\n",
    "\n",
    "    \n",
    "\n",
    "def genetic_algorithm(population):\n",
    "    \n",
    "    fitness_array = []\n",
    "    location_array = []\n",
    "    fit_max = 0\n",
    "    loc_max = 0\n",
    "    \n",
    "    for i in range(1000):\n",
    "        new_population = []\n",
    "        \n",
    "        for i in range(len(population)):\n",
    "            x = population[np.random.randint(0, len(population))]\n",
    "            x_fitness = 0\n",
    "            y = population[np.random.randint(0, len(population))]\n",
    "            y_fitness = 0\n",
    "            child = crossover(x, y)\n",
    "            #print(child)\n",
    "            child = probability_test(child)\n",
    "            fit_max, loc_max = fitness_loc(child, fitness_array, location_array)\n",
    "            new_population.append(child)\n",
    "        population = new_population\n",
    "        print(fit_max)\n",
    "        print(loc_max)\n",
    "        if(fit_max == 28):\n",
    "            print(\"Found\")\n",
    "            print(loc_max)\n",
    "            break\n",
    "\n",
    "\n",
    "\n",
    "if __name__ == \"__main__\":\n",
    "    genetic_algorithm(population_set())"
   ]
  },
  {
   "cell_type": "code",
   "execution_count": 83,
   "metadata": {},
   "outputs": [
    {
     "name": "stdout",
     "output_type": "stream",
     "text": [
      "12\n"
     ]
    }
   ],
   "source": [
    "print(len(population))"
   ]
  },
  {
   "cell_type": "code",
   "execution_count": 6,
   "metadata": {},
   "outputs": [
    {
     "data": {
      "text/plain": [
       "2"
      ]
     },
     "execution_count": 6,
     "metadata": {},
     "output_type": "execute_result"
    }
   ],
   "source": [
    "[1,11,113,4].index(max([1,11,113,4]))"
   ]
  },
  {
   "cell_type": "code",
   "execution_count": 3,
   "metadata": {},
   "outputs": [
    {
     "data": {
      "text/plain": [
       "1"
      ]
     },
     "execution_count": 3,
     "metadata": {},
     "output_type": "execute_result"
    }
   ],
   "source": [
    "[1,2,3].index(2)"
   ]
  },
  {
   "cell_type": "code",
   "execution_count": 15,
   "metadata": {},
   "outputs": [],
   "source": [
    "a = []\n",
    "a.append(2)\n",
    "a.append(3)"
   ]
  },
  {
   "cell_type": "code",
   "execution_count": 16,
   "metadata": {},
   "outputs": [
    {
     "data": {
      "text/plain": [
       "[2, 3]"
      ]
     },
     "execution_count": 16,
     "metadata": {},
     "output_type": "execute_result"
    }
   ],
   "source": [
    "a"
   ]
  },
  {
   "cell_type": "code",
   "execution_count": 40,
   "metadata": {},
   "outputs": [
    {
     "data": {
      "text/plain": [
       "int"
      ]
     },
     "execution_count": 40,
     "metadata": {},
     "output_type": "execute_result"
    }
   ],
   "source": [
    "type(np.random.randint(1, 7))"
   ]
  },
  {
   "cell_type": "code",
   "execution_count": 48,
   "metadata": {},
   "outputs": [
    {
     "data": {
      "text/plain": [
       "[1, 2, 3, 1, 2, 3]"
      ]
     },
     "execution_count": 48,
     "metadata": {},
     "output_type": "execute_result"
    }
   ],
   "source": []
  },
  {
   "cell_type": "code",
   "execution_count": 3,
   "metadata": {},
   "outputs": [
    {
     "ename": "NameError",
     "evalue": "name 'selection' is not defined",
     "output_type": "error",
     "traceback": [
      "\u001b[1;31m---------------------------------------------------------------------------\u001b[0m",
      "\u001b[1;31mNameError\u001b[0m                                 Traceback (most recent call last)",
      "\u001b[1;32m<ipython-input-3-0148c93a2408>\u001b[0m in \u001b[0;36m<module>\u001b[1;34m\u001b[0m\n\u001b[0;32m      3\u001b[0m \u001b[1;32mfrom\u001b[0m \u001b[0moperator\u001b[0m \u001b[1;32mimport\u001b[0m \u001b[0madd\u001b[0m\u001b[1;33m\u001b[0m\u001b[1;33m\u001b[0m\u001b[0m\n\u001b[0;32m      4\u001b[0m \u001b[1;33m\u001b[0m\u001b[0m\n\u001b[1;32m----> 5\u001b[1;33m \u001b[1;32mclass\u001b[0m \u001b[0mEightQueen\u001b[0m\u001b[1;33m:\u001b[0m\u001b[1;33m\u001b[0m\u001b[1;33m\u001b[0m\u001b[0m\n\u001b[0m\u001b[0;32m      6\u001b[0m \u001b[1;33m\u001b[0m\u001b[0m\n\u001b[0;32m      7\u001b[0m   \u001b[1;32mdef\u001b[0m \u001b[0m__init__\u001b[0m\u001b[1;33m(\u001b[0m\u001b[0mself\u001b[0m\u001b[1;33m)\u001b[0m\u001b[1;33m:\u001b[0m\u001b[1;33m\u001b[0m\u001b[1;33m\u001b[0m\u001b[0m\n",
      "\u001b[1;32m<ipython-input-3-0148c93a2408>\u001b[0m in \u001b[0;36mEightQueen\u001b[1;34m()\u001b[0m\n\u001b[0;32m    102\u001b[0m \u001b[1;33m\u001b[0m\u001b[0m\n\u001b[0;32m    103\u001b[0m   \u001b[1;32mif\u001b[0m \u001b[0m__name__\u001b[0m \u001b[1;33m==\u001b[0m \u001b[1;34m\"__main__\"\u001b[0m\u001b[1;33m:\u001b[0m\u001b[1;33m\u001b[0m\u001b[1;33m\u001b[0m\u001b[0m\n\u001b[1;32m--> 104\u001b[1;33m       \u001b[0mgenetic_algorithm\u001b[0m\u001b[1;33m(\u001b[0m\u001b[0mpopulation_set\u001b[0m\u001b[1;33m(\u001b[0m\u001b[1;36m8\u001b[0m\u001b[1;33m,\u001b[0m \u001b[1;36m8\u001b[0m\u001b[1;33m)\u001b[0m\u001b[1;33m)\u001b[0m\u001b[1;33m\u001b[0m\u001b[1;33m\u001b[0m\u001b[0m\n\u001b[0m",
      "\u001b[1;32m<ipython-input-3-0148c93a2408>\u001b[0m in \u001b[0;36mpopulation_set\u001b[1;34m(n, start_population)\u001b[0m\n\u001b[0;32m      9\u001b[0m \u001b[1;33m\u001b[0m\u001b[0m\n\u001b[0;32m     10\u001b[0m   \u001b[1;32mdef\u001b[0m \u001b[0mpopulation_set\u001b[0m\u001b[1;33m(\u001b[0m\u001b[0mn\u001b[0m \u001b[1;33m=\u001b[0m \u001b[1;36m8\u001b[0m\u001b[1;33m,\u001b[0m \u001b[0mstart_population\u001b[0m \u001b[1;33m=\u001b[0m \u001b[1;36m8\u001b[0m\u001b[1;33m)\u001b[0m\u001b[1;33m:\u001b[0m\u001b[1;33m\u001b[0m\u001b[1;33m\u001b[0m\u001b[0m\n\u001b[1;32m---> 11\u001b[1;33m       \u001b[1;32mreturn\u001b[0m \u001b[0mselection\u001b[0m\u001b[1;33m(\u001b[0m\u001b[0mn\u001b[0m\u001b[1;33m,\u001b[0m \u001b[0mstart_population\u001b[0m\u001b[1;33m)\u001b[0m\u001b[1;33m\u001b[0m\u001b[1;33m\u001b[0m\u001b[0m\n\u001b[0m\u001b[0;32m     12\u001b[0m \u001b[1;33m\u001b[0m\u001b[0m\n\u001b[0;32m     13\u001b[0m \u001b[1;33m\u001b[0m\u001b[0m\n",
      "\u001b[1;31mNameError\u001b[0m: name 'selection' is not defined"
     ]
    }
   ],
   "source": [
    "import numpy as np\n",
    "import random\n",
    "from operator import add\n",
    "\n",
    "class EightQueen:\n",
    "\n",
    "  def __init__(self):\n",
    "    self.fit_max = 0\n",
    "\n",
    "  def population_set(n = 8, start_population = 8):\n",
    "      return selection(n, start_population)\n",
    "\n",
    "\n",
    "  def selection(n, start_population):\n",
    "    individualss = []\n",
    "    while(len(individualss) <= n):\n",
    "      temp_arr = np.random.randint(0, n, (start_population,))\n",
    "      individual_fitness = fitness(temp_arr)\n",
    "      if  individual_fitness / 28 > 0.18:\n",
    "        individualss.append(temp_arr)\n",
    "    return np.array(individualss)\n",
    "\n",
    "\n",
    "  def crossover(x, y):\n",
    "      #random number between 1 to 6 (inclusive) to improvise crossover\n",
    "      n = np.random.randint(1, 7)\n",
    "      checker = np.concatenate([np.array(x[:n]), np.array(y[n:])], axis = 0).tolist()\n",
    "      return checker\n",
    "\n",
    "\n",
    "\n",
    "  def probability_test(child):\n",
    "      mutation_threshold = 0.8\n",
    "      if np.random.uniform(0, 1) < mutation_threshold:\n",
    "          return mutate(child)\n",
    "      else:\n",
    "          return child\n",
    "\n",
    "      \n",
    "  def fitness(x):\n",
    "      horizontal, diagonal = 0, 0\n",
    "      #print(x)\n",
    "      for i in range(len(x)):\n",
    "          for j in range(i + 1, len(x)):\n",
    "              if(x[i] == x[j]):\n",
    "                  horizontal += 1\n",
    "              elif(abs(i - j) == abs(x[i] - x[j])):\n",
    "                  diagonal += 1\n",
    "                  \n",
    "      total = horizontal + diagonal\n",
    "      value = int((len(x) * (len(x) - 1)) / 2) - total\n",
    "      return value\n",
    "\n",
    "\n",
    "  def fitness_loc(__child, fitness_array, location_array):\n",
    "      k_fit = fitness(__child)\n",
    "      return k_fit, __child\n",
    "      \n",
    "      \n",
    "      \n",
    "  def mutate(children):\n",
    "      x_i = np.random.randint(0, 8)\n",
    "      y_i = np.random.randint(0, 8)\n",
    "      \n",
    "      if children[x_i] != y_i:\n",
    "          children[x_i] = y_i\n",
    "      else:\n",
    "          children[x_i] = np.random.randint(0, 8)\n",
    "      return children\n",
    "\n",
    "      \n",
    "\n",
    "  def genetic_algorithm(population):\n",
    "      \n",
    "      fitness_array = []\n",
    "      location_array = []\n",
    "      fit_max = 0\n",
    "      loc_max = 0\n",
    "      \n",
    "      for i in range(100000):\n",
    "          new_population = []\n",
    "          \n",
    "          for i in range(len(population)):\n",
    "              x = population[np.random.randint(0, len(population))]\n",
    "              x_fitness = 0\n",
    "              y = population[np.random.randint(0, len(population))]\n",
    "              y_fitness = 0\n",
    "              child = crossover(x, y)\n",
    "              #print(child)\n",
    "              child = probability_test(child)\n",
    "              fit_max, loc_max = fitness_loc(child, fitness_array, location_array)\n",
    "              new_population.append(child)\n",
    "          population = new_population\n",
    "          print(fit_max)\n",
    "          print(loc_max)\n",
    "          if(fit_max == 28):\n",
    "              print(\"Found\")\n",
    "              print(loc_max)\n",
    "              break\n",
    "\n",
    "\n",
    "\n",
    "  if __name__ == \"__main__\":\n",
    "      genetic_algorithm(population_set(8, 8))"
   ]
  },
  {
   "cell_type": "code",
   "execution_count": 2,
   "metadata": {},
   "outputs": [
    {
     "name": "stdout",
     "output_type": "stream",
     "text": [
      "Found\n",
      "[3, 5, 7, 2, 0, 6, 4, 1]\n"
     ]
    }
   ],
   "source": [
    "import numpy as np\n",
    "import random\n",
    "\n",
    "\n",
    "def population_set(n = 8, start_population = 8):\n",
    "    return selection(n, start_population)\n",
    "\n",
    "\n",
    "def selection(n, start_population):\n",
    "  individualss = []\n",
    "  max_posibilities = (n * (n - 1)) / 2 #28\n",
    "    \n",
    "  while(len(individualss) <= n):\n",
    "    temp_arr = np.random.randint(0, n, (start_population,))\n",
    "    individual_fitness = fitness(temp_arr)\n",
    "    \n",
    "    if  individual_fitness / max_posibilities > 0.18:\n",
    "      individualss.append(temp_arr)\n",
    "    \n",
    "  return np.array(individualss)\n",
    "\n",
    "\n",
    "def crossover(x, y):\n",
    "    #random number between 1 to 6 (inclusive) to improvise crossover\n",
    "    n = np.random.randint(1, 7)\n",
    "    checker = np.concatenate([np.array(x[:n]), np.array(y[n:])], axis = 0).tolist()\n",
    "    return checker\n",
    "\n",
    "\n",
    "\n",
    "def probability_test(child):\n",
    "    mutation_threshold = 0.8\n",
    "    if np.random.uniform(0, 1) < mutation_threshold:\n",
    "        return mutate(child)\n",
    "    else:\n",
    "        return child\n",
    "\n",
    "    \n",
    "def fitness(x):\n",
    "    horizontal, diagonal = 0, 0\n",
    "    for i in range(len(x)):\n",
    "        for j in range(i + 1, len(x)):\n",
    "            if(x[i] == x[j]):\n",
    "                horizontal += 1\n",
    "            elif(abs(i - j) == abs(x[i] - x[j])):\n",
    "                diagonal += 1\n",
    "                \n",
    "    total = horizontal + diagonal\n",
    "    value = int((len(x) * (len(x) - 1)) / 2) - total\n",
    "    return value\n",
    "\n",
    "\n",
    "def fitness_loc(__child, fitness_array, location_array, fit_max):\n",
    "    k_fit = fitness(__child)\n",
    "    fitness_array.append(k_fit)\n",
    "    location_array.append(__child)\n",
    "    if fit_max < k_fit:\n",
    "      fit_max = max(fitness_array)\n",
    "    location_address = fitness_array.index(fit_max)\n",
    "    return fit_max, location_array[location_address]\n",
    "    \n",
    "    \n",
    "    \n",
    "def mutate(children):\n",
    "    x_i = np.random.randint(0, 8)\n",
    "    y_i = np.random.randint(0, 8)\n",
    "    \n",
    "    if children[x_i] != y_i:\n",
    "        children[x_i] = y_i\n",
    "    else:\n",
    "        children[x_i] = np.random.randint(0, 8)\n",
    "    return children\n",
    "\n",
    "    \n",
    "\n",
    "def genetic_algorithm(population):\n",
    "    \n",
    "    fitness_array = []\n",
    "    location_array = []\n",
    "    fit_max = 0\n",
    "    loc_max = 0\n",
    "    \n",
    "    for i in range(100000):\n",
    "        new_population = []\n",
    "        \n",
    "        for i in range(len(population)):\n",
    "            x = population[np.random.randint(0, len(population))]\n",
    "            y = population[np.random.randint(0, len(population))]\n",
    "            child = crossover(x, y)\n",
    "            #print(child)\n",
    "            child = probability_test(child)\n",
    "            fit_max, loc_max = fitness_loc(child, fitness_array, location_array, fit_max)\n",
    "            \n",
    "            new_population.append(child)\n",
    "        population = new_population\n",
    "\n",
    "        if(fit_max == 28):\n",
    "              print(\"Found\")\n",
    "              print(loc_max)\n",
    "              break\n",
    "        \n",
    "\n",
    "        \n",
    "if __name__ == \"__main__\":\n",
    "    genetic_algorithm(population_set(8, 8))"
   ]
  },
  {
   "cell_type": "code",
   "execution_count": 3,
   "metadata": {},
   "outputs": [
    {
     "data": {
      "text/plain": [
       "28"
      ]
     },
     "execution_count": 3,
     "metadata": {},
     "output_type": "execute_result"
    }
   ],
   "source": [
    "fitness([3, 5, 7, 2, 0, 6, 4, 1])"
   ]
  },
  {
   "cell_type": "code",
   "execution_count": null,
   "metadata": {},
   "outputs": [],
   "source": []
  }
 ],
 "metadata": {
  "kernelspec": {
   "display_name": "Python 3",
   "language": "python",
   "name": "python3"
  },
  "language_info": {
   "codemirror_mode": {
    "name": "ipython",
    "version": 3
   },
   "file_extension": ".py",
   "mimetype": "text/x-python",
   "name": "python",
   "nbconvert_exporter": "python",
   "pygments_lexer": "ipython3",
   "version": "3.8.3"
  }
 },
 "nbformat": 4,
 "nbformat_minor": 4
}
