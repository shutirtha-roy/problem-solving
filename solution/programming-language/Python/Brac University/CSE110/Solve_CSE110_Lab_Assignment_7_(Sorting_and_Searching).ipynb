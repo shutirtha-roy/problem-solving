{
  "nbformat": 4,
  "nbformat_minor": 0,
  "metadata": {
    "kernelspec": {
      "display_name": "Python 3",
      "language": "python",
      "name": "python3"
    },
    "language_info": {
      "codemirror_mode": {
        "name": "ipython",
        "version": 3
      },
      "file_extension": ".py",
      "mimetype": "text/x-python",
      "name": "python",
      "nbconvert_exporter": "python",
      "pygments_lexer": "ipython3",
      "version": "3.8.4"
    },
    "colab": {
      "name": "Solve_CSE110_Lab_Assignment_7 (Sorting and Searching).ipynb",
      "provenance": [],
      "collapsed_sections": []
    }
  },
  "cells": [
    {
      "cell_type": "markdown",
      "metadata": {
        "id": "oMYzsTcnHEll"
      },
      "source": [
        "# CSE110 Lab Assignment 7 on Sorting and Searching\n",
        "\n",
        "Write your name, Student ID and CSE110 section below:\n"
      ]
    },
    {
      "cell_type": "code",
      "metadata": {
        "id": "ljd7OxU2gvWb"
      },
      "source": [
        "#STUDENT NAME:\n",
        "#STUDENT ID:\n",
        "#CSE110 SECTION: "
      ],
      "execution_count": null,
      "outputs": []
    },
    {
      "cell_type": "markdown",
      "metadata": {
        "id": "jT-t2zlnHEll"
      },
      "source": [
        "## Write the Python code for the following problems:\n",
        "**<font color='red'>[MUST MAINTAIN VARIABLE NAMING CONVENTIONS FOR ALL THE TASKS]</font>**\n",
        "\n",
        "### Task 1\n",
        "\n",
        "Suppose you have a list named my_list as given below. <br/>\n",
        "my_list = [10,1,20,3,6,2,5,11,15,2,12,14,17,18,29] <br/>\n",
        "Now use bubble sort to sort my_list into ascending order.\n",
        "\n",
        "**Output**<br/>\n",
        "[1, 2, 2, 3, 5, 6, 10, 11, 12, 14, 15, 17, 18, 20, 29]"
      ]
    },
    {
      "cell_type": "code",
      "metadata": {
        "id": "7qXVakLgHElm",
        "colab": {
          "base_uri": "https://localhost:8080/"
        },
        "outputId": "417ef348-b0c7-4223-b634-b66fedb2960e"
      },
      "source": [
        "def bubble_sort(my_list):\n",
        "  \n",
        "  for i in range(len(my_list)):\n",
        "    for j in range(len(my_list) - 1):\n",
        "      if my_list[j] > my_list[j + 1]:\n",
        "        temp = my_list[j]\n",
        "        my_list[j] = my_list[j + 1]\n",
        "        my_list[j + 1] = temp\n",
        "\n",
        "  return my_list\n",
        "\n",
        "my_list = [10,1,20,3,6,2,5,11,15,2,12,14,17,18,29]\n",
        "print(bubble_sort(my_list))"
      ],
      "execution_count": null,
      "outputs": [
        {
          "output_type": "stream",
          "name": "stdout",
          "text": [
            "[1, 2, 2, 3, 5, 6, 10, 11, 12, 14, 15, 17, 18, 20, 29]\n"
          ]
        }
      ]
    },
    {
      "cell_type": "markdown",
      "metadata": {
        "id": "w1QgeWd2HElp"
      },
      "source": [
        "### Task 2\n",
        "\n",
        "Suppose you have a list named my_list as given below. <br/>\n",
        "my_list = [10,1,20,3,6,2,5,11,15,2,12,14,17,18,29] <br/>\n",
        "Now use selection sort to sort my_list into ascending order.\n",
        "\n",
        "**Output**<br/>\n",
        "[1, 2, 2, 3, 5, 6, 10, 11, 12, 14, 15, 17, 18, 20, 29]\n",
        "\n"
      ]
    },
    {
      "cell_type": "code",
      "metadata": {
        "id": "am0B_8ICHElq",
        "colab": {
          "base_uri": "https://localhost:8080/"
        },
        "outputId": "ec612517-1503-4970-e417-cefef4bf341e"
      },
      "source": [
        "def selection_sort(my_list):\n",
        "  \n",
        "  for i in range(len(my_list) - 1):\n",
        "    min = my_list[i]\n",
        "    min_index = i\n",
        "    for j in range(i + 1, len(my_list)):\n",
        "      if min > my_list[j]:\n",
        "        min = my_list[j]\n",
        "        min_index = j\n",
        "    temp = my_list[i]\n",
        "    my_list[i] = min\n",
        "    my_list[min_index] = temp\n",
        "\n",
        "  return my_list\n",
        "\n",
        "my_list = [10,1,20,3,6,2,5,11,15,2,12,14,17,18,29]\n",
        "print(selection_sort(my_list))"
      ],
      "execution_count": null,
      "outputs": [
        {
          "output_type": "stream",
          "name": "stdout",
          "text": [
            "[1, 2, 2, 3, 5, 6, 10, 11, 12, 14, 15, 17, 18, 20, 29]\n"
          ]
        }
      ]
    },
    {
      "cell_type": "markdown",
      "metadata": {
        "id": "j4ffr2CAHElt"
      },
      "source": [
        "### Task  3\n",
        "\n",
        "Suppose you have a list named my_list as given below <br/>\n",
        "my_list=[10,1,20,3,6,2,5,11,15,2,12,14,17,18,29] <br/>\n",
        "Now use any of the two sorting techniques you have used above to sort the list in descending order.\n",
        "\n",
        "**Output**<br/>\n",
        "[29, 20, 18, 17, 15, 14, 12, 11, 10, 6, 5, 3, 2, 2, 1]\n"
      ]
    },
    {
      "cell_type": "code",
      "metadata": {
        "id": "n2X3YR-_HElt",
        "colab": {
          "base_uri": "https://localhost:8080/"
        },
        "outputId": "5abfb7ca-a3ab-4732-92a8-5b3216de4133"
      },
      "source": [
        "def bubble_sort_descending(my_list):\n",
        "  \n",
        "  for i in range(len(my_list)):\n",
        "    for j in range(len(my_list) - 1):\n",
        "      if my_list[j] < my_list[j + 1]:\n",
        "        temp = my_list[j]\n",
        "        my_list[j] = my_list[j + 1]\n",
        "        my_list[j + 1] = temp\n",
        "\n",
        "  return my_list\n",
        "\n",
        "my_list = [10,1,20,3,6,2,5,11,15,2,12,14,17,18,29]\n",
        "print(bubble_sort_descending(my_list))"
      ],
      "execution_count": null,
      "outputs": [
        {
          "output_type": "stream",
          "name": "stdout",
          "text": [
            "[29, 20, 18, 17, 15, 14, 12, 11, 10, 6, 5, 3, 2, 2, 1]\n"
          ]
        }
      ]
    },
    {
      "cell_type": "code",
      "source": [
        "def selection_sort_descending(my_list):\n",
        "  \n",
        "  for i in range(len(my_list) - 1):\n",
        "    max = my_list[i]\n",
        "    max_index = i\n",
        "    for j in range(i + 1, len(my_list)):\n",
        "      if max < my_list[j]:\n",
        "        max = my_list[j]\n",
        "        max_index = j\n",
        "    temp = my_list[i]\n",
        "    my_list[i] = max\n",
        "    my_list[max_index] = temp\n",
        "\n",
        "  return my_list\n",
        "\n",
        "my_list = [10,1,20,3,6,2,5,11,15,2,12,14,17,18,29]\n",
        "print(selection_sort_descending(my_list))"
      ],
      "metadata": {
        "colab": {
          "base_uri": "https://localhost:8080/"
        },
        "id": "55Fr1WA0KsSe",
        "outputId": "39ed304d-b84f-46af-ffd5-580b70f60f91"
      },
      "execution_count": null,
      "outputs": [
        {
          "output_type": "stream",
          "name": "stdout",
          "text": [
            "[29, 20, 18, 17, 15, 14, 12, 11, 10, 6, 5, 3, 2, 2, 1]\n"
          ]
        }
      ]
    },
    {
      "cell_type": "markdown",
      "metadata": {
        "id": "9iYiiTWWHElw"
      },
      "source": [
        "### Task 4\n",
        "\n",
        "Suppose you have a sitting arrangement of the students who will give the final exam in a list. The list contains the last two digits of their student ID as given below.<br/>\n",
        "\n",
        "sitting_list = [10,30,20,70,11,15,22,16,58,100,12,56,70,80] <br/>\n",
        "\n",
        "Now you want to organize the sitting arrangement of the students in your own way. You decide to sort all the students in the even indices of the list in ascending order and all the students in the odd indices of the list in descending order.  <br/>\n",
        "\n",
        "So, write a python program that organizes the list for you in this way.<br/>\n",
        "\n",
        "\n",
        "**Sample Output**<br/>\n",
        "[10, 100, 11, 80, 12, 70, 20, 56, 22, 30, 58, 16, 70, 15]"
      ]
    },
    {
      "cell_type": "code",
      "metadata": {
        "id": "nPdUAKDJHElw",
        "colab": {
          "base_uri": "https://localhost:8080/"
        },
        "outputId": "d094f23d-e99c-427b-c1c5-69d7a6134646"
      },
      "source": [
        "def sitting_list_func(my_list):\n",
        "  \n",
        "  for i in range(len(my_list)):\n",
        "\n",
        "    if i % 2 == 0:\n",
        "      min = my_list[i]\n",
        "      min_index = i\n",
        "      for j in range(i + 2, len(my_list), 2):\n",
        "        if min > my_list[j]:\n",
        "          min = my_list[j]\n",
        "          min_index = j\n",
        "      temp = my_list[i]\n",
        "      my_list[i] = min\n",
        "      my_list[min_index] = temp\n",
        "\n",
        "    elif i % 2 == 1:\n",
        "      max = my_list[i]\n",
        "      max_index = i\n",
        "      for j in range(i + 2, len(my_list), 2):\n",
        "        if max < my_list[j]:\n",
        "          max = my_list[j]\n",
        "          max_index = j\n",
        "      temp = my_list[i]\n",
        "      my_list[i] = max\n",
        "      my_list[max_index] = temp\n",
        "\n",
        "  return my_list\n",
        "\n",
        "sitting_list = [10,30,20,70,11,15,22,16,58,100,12,56,70,80]\n",
        "print(sitting_list_func(sitting_list))"
      ],
      "execution_count": null,
      "outputs": [
        {
          "output_type": "stream",
          "name": "stdout",
          "text": [
            "[10, 100, 11, 80, 12, 70, 20, 56, 22, 30, 58, 16, 70, 15]\n"
          ]
        }
      ]
    },
    {
      "cell_type": "markdown",
      "metadata": {
        "id": "oVR1Tsa0HElz"
      },
      "source": [
        "### Task 5\n",
        "\n",
        "Suppose a list contains marks earned in the courses CSE110, PHY111, and MAT110 of each student consecutively in a nested list form. Your task is to take a course name as input from the user and sort the list based on the marks obtained in that course in order to finally print the names of the students in descending order of marks obtained i.e. from the student who earned the highest marks to the student who earned the lowest. <br/>\n",
        "\n",
        "For example, the list may look like <br/>\n",
        "lst = [ [\"Alan\", 95, 87, 91], [\"Turing\", 92, 90, 83], [\"Elon\", 87, 92, 80], [\"Musk\", 85, 94, 90] ] <br/>\n",
        "where for each nested list, 1st index holds the name of the student, 2nd index is total marks earned in the CSE110 course, 3rd index is PHY111 marks and 4th index is MAT110 marks. \n",
        "\n",
        "=====================================================\n",
        "\n",
        "**Hint:**<br/>\n",
        "You may create a function for sorting, then call it every time when needed instead of rewriting the code.\n",
        "\n",
        "You may get the data in the individual lists from the given nested list.\n",
        "\n",
        "=====================================================\n",
        "\n",
        "**Sample Input 1**<br/>\n",
        "MAT110\n",
        "\n",
        "**Sample Output 1**<br/>\n",
        "Alan <br/>\n",
        "Musk <br/>\n",
        "Turing <br/>\n",
        "Elon\n",
        "\n",
        "**Explanation:**<br/>\n",
        "Here the user gives us \"MAT110\" as the course name. Now, the students Alan, Turing, Elon and Musk earned 91, 83, 80 and 90 marks respectively in this course. If we sort it, Alan got the highest marks of 91 followed by Musk with 90 marks and Turing with 83 marks. Among these 4 students, Elon obtained the lowest marks in the MAT110 course with 80 marks. All of these has been illustrated in our sample output.\n",
        "\n",
        "=====================================================\n",
        "\n",
        "**Sample Input 2**<br/>\n",
        "PHY111\n",
        "\n",
        "**Sample Output 2**<br/>\n",
        "Musk <br/>\n",
        "Elon <br/>\n",
        "Turing <br/>\n",
        "Alan"
      ]
    },
    {
      "cell_type": "code",
      "metadata": {
        "id": "539b2P1NHElz",
        "colab": {
          "base_uri": "https://localhost:8080/"
        },
        "outputId": "24d9abbb-c029-49f2-bdb1-3db8775bbb2e"
      },
      "source": [
        "def marks_arrangement(course, lst):\n",
        "  \n",
        "  required_list = []\n",
        "  for value in lst:\n",
        "    if course == \"CSE110\":\n",
        "      required_list.append([value[0], value[1]])\n",
        "    elif course == \"PHY111\":\n",
        "      required_list.append([value[0], value[2]])\n",
        "    elif course == \"MAT110\":\n",
        "      required_list.append([value[0], value[3]])\n",
        "\n",
        "  print(required_list)\n",
        "\n",
        "  for i in range(len(required_list)):\n",
        "    max_person_name = required_list[i][0]\n",
        "    max_value = required_list[i][1]\n",
        "    max_index = i\n",
        "    for j in range(i + 1, len(required_list)):\n",
        "      if max_value < required_list[j][1]:\n",
        "          max_person_name = required_list[j][0]\n",
        "          max_value = required_list[j][1]\n",
        "          max_index = j\n",
        "\n",
        "    temp_person_name = required_list[i][0]\n",
        "    temp_value = required_list[i][1]\n",
        "    required_list[i][0] = max_person_name\n",
        "    required_list[i][1] = max_value\n",
        "    required_list[max_index][0] = temp_person_name\n",
        "    required_list[max_index][1] = temp_value\n",
        "\n",
        "  for person, value in required_list:\n",
        "    print(person)\n",
        "\n",
        "\n",
        "#course = \"MAT110\"\n",
        "course = \"PHY111\"\n",
        "lst = [ [\"Alan\", 95, 87, 91], [\"Turing\", 92, 90, 83], [\"Elon\", 87, 92, 80], [\"Musk\", 85, 94, 90] ]\n",
        "marks_arrangement(course, lst)"
      ],
      "execution_count": null,
      "outputs": [
        {
          "output_type": "stream",
          "name": "stdout",
          "text": [
            "[['Alan', 87], ['Turing', 90], ['Elon', 92], ['Musk', 94]]\n",
            "Musk\n",
            "Elon\n",
            "Turing\n",
            "Alan\n"
          ]
        }
      ]
    },
    {
      "cell_type": "markdown",
      "metadata": {
        "id": "B0Rqbyi4HEl2"
      },
      "source": [
        "### Task 6\n",
        "\n",
        "Suppose you have a list named my_list as given below. Your task is to sort the list in ascending order and print the count of numbers that have changed their positions in the process of sorting. <br/>\n",
        "\n",
        "my_list = [4, 2, 3, 1, 6, 5] <br/>\n",
        "\n",
        "Sorted list would be [1, 2, 3, 4, 5, 6] where 4 numbers (4, 1, 6 and 5) have changed their positions. Therefore our sample output here would be 4. Please check if your code is working correctly by changing the above list and using the knowledge given here to verify whether your code gives correct output for all different lists.\n",
        "\n",
        "\n",
        "**Sample Output for the above list**<br/>\n",
        "4"
      ]
    },
    {
      "cell_type": "code",
      "metadata": {
        "id": "AMc8jAa7HEl2",
        "colab": {
          "base_uri": "https://localhost:8080/"
        },
        "outputId": "b05306eb-6ec5-4494-a852-44036be2ae87"
      },
      "source": [
        "def selection_sort_count(my_list):\n",
        "  count = 0\n",
        "  for i in range(len(my_list) - 1):\n",
        "    min = my_list[i]\n",
        "    min_index = i\n",
        "    for j in range(i + 1, len(my_list)):\n",
        "      if min > my_list[j]:\n",
        "        min = my_list[j]\n",
        "        min_index = j\n",
        "    \n",
        "    temp = my_list[i]\n",
        "    my_list[i] = min\n",
        "    my_list[min_index] = temp\n",
        "\n",
        "    if my_list[i] != my_list[min_index]:\n",
        "      count += 2\n",
        "\n",
        "  return count\n",
        "\n",
        "\n",
        "\n",
        "my_list = [4, 2, 3, 1, 6, 5]\n",
        "print(selection_sort_count(my_list))"
      ],
      "execution_count": null,
      "outputs": [
        {
          "output_type": "stream",
          "name": "stdout",
          "text": [
            "4\n"
          ]
        }
      ]
    },
    {
      "cell_type": "markdown",
      "metadata": {
        "id": "iIH5n0sJHEl5"
      },
      "source": [
        "### Task 7\n",
        "\n",
        "Write a python program that takes two lists from the user, merges the two lists, sorts the resulting list, and then finds the median of the elements in the two lists.\n",
        "\n",
        "=====================================================\n",
        "\n",
        "\n",
        "**Sample Input 1**<br/>\n",
        "list_one = [1, 2, 1, 4] <br/>\n",
        "list_two = [5, 4, 1]\n",
        "\n",
        "\n",
        "**Sample Output 1**<br/>\n",
        "Sorted list = [1, 1, 1, 2, 4, 4, 5] <br/>\n",
        "Median = 2\n",
        "\n",
        "=====================================================\n",
        "\n",
        "\n",
        "**Sample Input 2**<br/>\n",
        "list_one = [1, 7, 9, 10] <br/>\n",
        "list_two = [2, 7, 6, 5]\n",
        "\n",
        "\n",
        "**Sample Output 2**<br/>\n",
        "Sorted list = [1, 2, 5, 6, 7, 7, 9, 10] <br/>\n",
        "Median = 6.5\n",
        "\n"
      ]
    },
    {
      "cell_type": "code",
      "metadata": {
        "id": "KsFxC7XbHEl6",
        "colab": {
          "base_uri": "https://localhost:8080/"
        },
        "outputId": "13a88f27-9579-4baa-c41b-a2a85f63aa84"
      },
      "source": [
        "def merge_list(list_one, list_two):\n",
        "  return list_one + list_two\n",
        "\n",
        "def selection_sort(my_list):\n",
        "  for i in range(len(my_list) - 1):\n",
        "    min = my_list[i]\n",
        "    min_index = i\n",
        "    for j in range(i + 1, len(my_list)):\n",
        "      if min > my_list[j]:\n",
        "        min = my_list[j]\n",
        "        min_index = j\n",
        "    temp = my_list[i]\n",
        "    my_list[i] = min\n",
        "    my_list[min_index] = temp\n",
        "\n",
        "  return my_list\n",
        "\n",
        "def get_median(my_list):\n",
        "  if len(my_list) % 2 == 1:\n",
        "    return my_list[len(my_list) // 2]\n",
        "  elif len(my_list) % 2 == 0:\n",
        "    return (my_list[len(my_list) // 2 - 1] + my_list[len(my_list) // 2]) / 2\n",
        "\n",
        "#list_one = [1, 2, 1, 4]\n",
        "#list_two = [5, 4, 1]\n",
        "list_one = [1, 7, 9, 10]\n",
        "list_two = [2, 7, 6, 5]\n",
        "list_three = merge_list(list_one, list_two)\n",
        "sorted_list = selection_sort(list_three)\n",
        "print(\"Sorted list =\",sorted_list)\n",
        "print(\"Median =\", get_median(sorted_list))\n"
      ],
      "execution_count": null,
      "outputs": [
        {
          "output_type": "stream",
          "name": "stdout",
          "text": [
            "Sorted list = [1, 2, 5, 6, 7, 7, 9, 10]\n",
            "Median = 6.5\n"
          ]
        }
      ]
    },
    {
      "cell_type": "markdown",
      "metadata": {
        "id": "-XKiwBR1HEl8"
      },
      "source": [
        "### Task 8\n",
        "\n",
        "\n",
        "Write a python program that takes a list from user containing both positive and negative numbers. The program then finds two pairs of values whose summation is closest to zero.\n",
        "\n",
        "=====================================================\n",
        "\n",
        "**Sample Input 1**<br/>\n",
        "list_one = [-10, 15, 2, 4, -4, 7, -8] \n",
        "\n",
        "\n",
        "**Sample Output 1**<br/>\n",
        "Two pairs which have the smallest sum = 4 and -4\n",
        "\n",
        "=====================================================\n",
        "\n",
        "\n",
        "**Sample Input 2**<br/>\n",
        "list_one = [1, -8, 4, -7, -20, 26, 70, -85]\n",
        "\n",
        "\n",
        "**Sample Output 2**<br/>\n",
        "Two pairs which have the smallest sum = 4 and -7"
      ]
    },
    {
      "cell_type": "code",
      "metadata": {
        "id": "5ORSGa5GHEl9",
        "colab": {
          "base_uri": "https://localhost:8080/"
        },
        "outputId": "ef327116-3f3b-49c0-be7f-89713963fb2b"
      },
      "source": [
        "def summation_list(list_one):\n",
        "  summation_list = []\n",
        "  previous_value = list_one[0]\n",
        "  value_one = previous_value\n",
        "  value_two = 0\n",
        "\n",
        "  for i in range(1, len(list_one)):\n",
        "    value_one = previous_value\n",
        "    value_two = list_one[i]\n",
        "    summation = previous_value + list_one[i]\n",
        "    if summation < 0:\n",
        "      summation = summation * -1\n",
        "    summation_list.append([value_one, value_two, summation])\n",
        "    previous_value = list_one[i]\n",
        "\n",
        "  #Minimum Approach\n",
        "  min = summation_list[0][2]\n",
        "  for i in range(1, len(summation_list)):\n",
        "    if min > summation_list[i][2]:\n",
        "        min = summation_list[i][2]\n",
        "        min_list = summation_list[i]\n",
        "\n",
        "  return min_list\n",
        "\n",
        "'''\n",
        "  #Sorting Approach\n",
        "  for i in range(len(summation_list) - 1):\n",
        "    min = summation_list[i][2]\n",
        "    min_index = i\n",
        "    for j in range(i + 1, len(summation_list)):\n",
        "      if min > summation_list[j][2]:\n",
        "        min = summation_list[j][2]\n",
        "        min_list = summation_list[j]\n",
        "        min_index = j\n",
        "    temp = summation_list[i]\n",
        "    summation_list[i] = min_list\n",
        "    summation_list[min_index] = temp\n",
        "\n",
        "  return summation_list\n",
        "'''\n",
        "  \n",
        "\n",
        "\n",
        "#list_one = [-10, 15, 2, 4, -4, 7, -8]\n",
        "list_one = [1, -8, 4, -7, -20, 26, 70, -85]\n",
        "all_list = summation_list(list_one)\n",
        "#Minimum Approach\n",
        "print(\"Two pairs which have the smallest sum =\", all_list[0], \"and\", all_list[1])\n",
        "\n",
        "#Sorting Approach\n",
        "#print(\"Two pairs which have the smallest sum =\", all_list[0][0], \"and\", all_list[0][1])"
      ],
      "execution_count": null,
      "outputs": [
        {
          "output_type": "stream",
          "name": "stdout",
          "text": [
            "Two pairs which have the smallest sum = 4 and -7\n"
          ]
        }
      ]
    }
  ]
}