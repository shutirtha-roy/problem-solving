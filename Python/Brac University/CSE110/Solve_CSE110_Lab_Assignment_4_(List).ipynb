{
  "nbformat": 4,
  "nbformat_minor": 0,
  "metadata": {
    "kernelspec": {
      "display_name": "Python 3",
      "language": "python",
      "name": "python3"
    },
    "language_info": {
      "codemirror_mode": {
        "name": "ipython",
        "version": 3
      },
      "file_extension": ".py",
      "mimetype": "text/x-python",
      "name": "python",
      "nbconvert_exporter": "python",
      "pygments_lexer": "ipython3",
      "version": "3.7.6"
    },
    "colab": {
      "name": "Solve_CSE110_Lab_Assignment_4 (List).ipynb",
      "provenance": [],
      "collapsed_sections": []
    }
  },
  "cells": [
    {
      "cell_type": "markdown",
      "metadata": {
        "id": "xDNsncrtU1yM"
      },
      "source": [
        "# CSE110 Lab Assignment 4\n",
        "\n",
        "This Assignment is to help you develop your concept of Lists in Python."
      ]
    },
    {
      "cell_type": "markdown",
      "metadata": {
        "id": "gh4GUDaIU1yO"
      },
      "source": [
        "\n",
        "\n",
        "\n",
        "\n",
        "\n",
        "\n",
        "##Write your name, student ID and CSE110 theory section number below:\n",
        "\n",
        "\n",
        "\n",
        "\n",
        "\n"
      ]
    },
    {
      "cell_type": "code",
      "metadata": {
        "id": "OAYfzLIqgqyE"
      },
      "source": [
        "#STUDENT NAME:\n",
        "#STUDENT ID:\n",
        "#CSE110 THEORY SECTION: "
      ],
      "execution_count": null,
      "outputs": []
    },
    {
      "cell_type": "markdown",
      "metadata": {
        "id": "KD4EKJf6U1yQ"
      },
      "source": [
        "## Write the code in Python to do the following tasks:\n",
        "\n",
        "**<font color='red'>[MUST MAINTAIN VARIABLE NAMING CONVENTIONS FOR ALL THE TASKS]</font>**"
      ]
    },
    {
      "cell_type": "markdown",
      "metadata": {
        "id": "pbdeIVcyU1yi"
      },
      "source": [
        "### Task 1\n",
        "Write a Python program that reads 10 numbers from the user into a list. After reading each number, print all the numbers that have been entered so far in the list. \n",
        "\n",
        "**Example:**\\\n",
        "After the user enters 3, prints “Numbers in the list: [3]”\\\n",
        "After the user enters 5, prints “Numbers in the list: [3, 5]”\\\n",
        "After the user enters 34, prints “Numbers in the list: [3, 5, 34]”\\\n",
        ".... and so on"
      ]
    },
    {
      "cell_type": "code",
      "metadata": {
        "id": "A5df9pmJU1yj",
        "colab": {
          "base_uri": "https://localhost:8080/"
        },
        "outputId": "1143ff75-7e59-49c1-cbfa-4cb521e6ec4e"
      },
      "source": [
        "new_list = []\n",
        "\n",
        "for i in range(10):\n",
        "  value = int(input())\n",
        "  new_list.append(value)\n",
        "  print(f\"Numbers in the list: {new_list}\")"
      ],
      "execution_count": null,
      "outputs": [
        {
          "output_type": "stream",
          "name": "stdout",
          "text": [
            "3\n",
            "Numbers in the list: [3]\n",
            "5\n",
            "Numbers in the list: [3, 5]\n",
            "34\n",
            "Numbers in the list: [3, 5, 34]\n",
            "43\n",
            "Numbers in the list: [3, 5, 34, 43]\n",
            "432\n",
            "Numbers in the list: [3, 5, 34, 43, 432]\n",
            "123\n",
            "Numbers in the list: [3, 5, 34, 43, 432, 123]\n",
            "3\n",
            "Numbers in the list: [3, 5, 34, 43, 432, 123, 3]\n",
            "4\n",
            "Numbers in the list: [3, 5, 34, 43, 432, 123, 3, 4]\n",
            "5\n",
            "Numbers in the list: [3, 5, 34, 43, 432, 123, 3, 4, 5]\n",
            "1\n",
            "Numbers in the list: [3, 5, 34, 43, 432, 123, 3, 4, 5, 1]\n"
          ]
        }
      ]
    },
    {
      "cell_type": "markdown",
      "metadata": {
        "id": "ZrjtT-I_U1zD"
      },
      "source": [
        "### Task 2\n",
        "\n",
        "Write a Python program that takes a list as an input from the user.Then creates a new list excluding the first and last two elements of the given list and prints the new list. If there are not enough elements in the list to do the task, the print \"Not possible\".\n",
        "\n",
        "**Note:** You may use list slicing.\n",
        "\n",
        "===================================================================\n",
        "\n",
        "**Sample Input 1:**<br/>\n",
        "[10, 20, 24, 25, 26, 35, 70]<br/>\n",
        "**Sample Output 1:**<br/>\n",
        "[24, 25, 26]<br/>\n",
        "\n",
        "===================================================================\n",
        "\n",
        "**Sample Input 2:**<br/>\n",
        "[10, 20, 24, 25, 26]<br/>\n",
        "**Sample Output 2:**<br/>\n",
        "[24]<br/>\n",
        "\n",
        "===================================================================\n",
        "\n",
        "**Sample Input 3:**<br/>\n",
        "[10, 20, 24, 25]<br/>\n",
        "**Sample Output 3:**<br/>\n",
        "[]<br/>\n",
        "\n",
        "===================================================================\n",
        "\n",
        "**Sample Input 4:**<br/>\n",
        "[10, 20, 24]<br/>\n",
        "**Sample Output 4:**<br/>\n",
        "Not possible<br/>\n",
        "\n",
        "==================================================================="
      ]
    },
    {
      "cell_type": "code",
      "metadata": {
        "id": "3r7Ripj7U1zE",
        "colab": {
          "base_uri": "https://localhost:8080/"
        },
        "outputId": "6cca9088-11df-4a97-d9d8-178ef20c9809"
      },
      "source": [
        "input_list = input().split(',')\n",
        "\n",
        "if len(input_list) <= 3:\n",
        "  print('Not possible')\n",
        "else:\n",
        "  new_list = []\n",
        "  \n",
        "  for i in input_list:\n",
        "    new_list.append(int(i))\n",
        "\n",
        "  print(new_list[2: len(new_list) - 2])"
      ],
      "execution_count": null,
      "outputs": [
        {
          "output_type": "stream",
          "name": "stdout",
          "text": [
            "10, 20, 24, 25, 26, 35, 70\n",
            "[24, 25, 26]\n"
          ]
        }
      ]
    },
    {
      "cell_type": "markdown",
      "metadata": {
        "id": "AWgZaBZCzmaM"
      },
      "source": [
        "### Task 3\n",
        "\n",
        "Write a python program that reads 5 numbers from the user into a list, and then prints them in the reverse order.\n",
        "\n",
        "*Hint: You may create a list to store the input numbers and then use loop to print them in reverse order*\n",
        "\n",
        "===================================================================\n",
        "\n",
        "**Sample Input:**\\\n",
        "5\\\n",
        "-5\\\n",
        "100\\\n",
        "1\\\n",
        "0\n",
        "\n",
        "**Sample Output:**\\\n",
        "Input data: [5, -5, 100, 1, 0]\\\n",
        "Printing values from the list in reverse order:\\\n",
        "0\\\n",
        "1\\\n",
        "100\\\n",
        "-5\\\n",
        "5\n",
        "\n",
        "==================================================================="
      ]
    },
    {
      "cell_type": "code",
      "metadata": {
        "id": "ICW-03YOznTp",
        "colab": {
          "base_uri": "https://localhost:8080/"
        },
        "outputId": "dc8cc5a5-eb55-4f1f-e62c-0c1fcb5d262e"
      },
      "source": [
        "new_list = []\n",
        "\n",
        "for i in range(5):\n",
        "  user_input = int(input())\n",
        "  new_list.append(user_input)\n",
        "\n",
        "for i in range(len(new_list) - 1, -1, -1):\n",
        "  print(new_list[i])"
      ],
      "execution_count": null,
      "outputs": [
        {
          "output_type": "stream",
          "name": "stdout",
          "text": [
            "5\n",
            "-5\n",
            "100\n",
            "1\n",
            "0\n",
            "0\n",
            "1\n",
            "100\n",
            "-5\n",
            "5\n"
          ]
        }
      ]
    },
    {
      "cell_type": "markdown",
      "metadata": {
        "id": "4pBLPmvre0jv"
      },
      "source": [
        "### Task 4\n",
        "\n",
        "Write a Python program that turns every item of a list into its square. [Your program should work for any lists; make changes to the lists below and check whether your program works correctly]\n",
        "\n",
        "===================================================================\n",
        "\n",
        "**Given list 1:**\\\n",
        "[1, 2, 3, 4, 5, 6, 7]\n",
        "\n",
        "**Sample Output 1:**\\\n",
        "[1, 4, 9, 16, 25, 36, 49]\n",
        "\n",
        "===================================================================\n",
        "\n",
        "**Given list 2:**\\\n",
        "[3, 5, 1, 6]\n",
        "\n",
        "**Sample Output 2:**\\\n",
        "[9, 25, 1, 36]\n",
        "\n",
        "\n",
        "===================================================================\n",
        "\n",
        "\n",
        "\n",
        "\n",
        "\n"
      ]
    },
    {
      "cell_type": "code",
      "metadata": {
        "id": "5NDg0odDfANt",
        "colab": {
          "base_uri": "https://localhost:8080/"
        },
        "outputId": "cbb327d4-b4d4-4c23-bf57-b8044620754e"
      },
      "source": [
        "input_list = input().split(',')\n",
        "\n",
        "new_list = []\n",
        "for i in input_list:\n",
        "    new_list.append(int(i) ** 2)\n",
        "\n",
        "print(new_list)"
      ],
      "execution_count": null,
      "outputs": [
        {
          "output_type": "stream",
          "name": "stdout",
          "text": [
            "1, 2, 3, 4, 5, 6, 7\n",
            "[1, 4, 9, 16, 25, 36, 49]\n"
          ]
        }
      ]
    },
    {
      "cell_type": "markdown",
      "metadata": {
        "id": "G9jPuLWOetqd"
      },
      "source": [
        "### Task 5\n",
        "\n",
        "\n",
        "Write a Python program that removes all Empty strings from a **given list** and print the modified list. [Your program should work for any given list; make changes to the lists below and check whether your program works correctly]\n",
        "\n",
        "=========================================================================\n",
        "\n",
        "**Given List:**\n",
        "\n",
        "[\"hey\", \"there\", \"\", \"what's\", \"\", \"up\", \"\", \"?\"]\n",
        "\n",
        "**Sample Output:**\n",
        "\n",
        "Original List:\n",
        "['hey', 'there', '', \"what's\", '', 'up', '', '?']\n",
        "\n",
        "Modified List:\n",
        "['hey', 'there', \"what's\", 'up', '?']\n",
        "\n",
        "==========================================================================\n",
        "\n",
        "\n"
      ]
    },
    {
      "cell_type": "code",
      "metadata": {
        "id": "yIlAlqlGe7IA",
        "colab": {
          "base_uri": "https://localhost:8080/"
        },
        "outputId": "f441c8bf-9618-4880-edb9-c083d77609d3"
      },
      "source": [
        "input_list = [\"hey\", \"there\", \"\", \"what's\", \"\", \"up\", \"\", \"?\"]\n",
        "\n",
        "new_list = []\n",
        "\n",
        "for i in input_list:\n",
        "  if i == \"\":\n",
        "    continue\n",
        "  new_list.append(i)\n",
        "\n",
        "print(new_list)"
      ],
      "execution_count": null,
      "outputs": [
        {
          "output_type": "stream",
          "name": "stdout",
          "text": [
            "['hey', 'there', \"what's\", 'up', '?']\n"
          ]
        }
      ]
    },
    {
      "cell_type": "markdown",
      "metadata": {
        "id": "wfcSytFVU1zU"
      },
      "source": [
        "### Task 6\n",
        "\n",
        "Write a Python program that reads 5 numbers into a list and prints the **largest number** and its location or index position on the list. <font color='red'>[You are not allowed to use the max(), sort(), sorted() function here]</font>\n",
        "\n",
        "**Hint:** You may assume the first input to be the largest value initially and the largest value’s location to be 0.\n",
        "\n",
        "**Note:** You may need to be careful while printing the output. Depending on your code, you might need data conversion.\n",
        "\n",
        "===================================================================\n",
        "\n",
        "**Sample Input:**\\\n",
        " 7, 13, 2, 10, 6\n",
        "\n",
        "**Sample Output:**\\\n",
        "My list: [7, 13, 2, 10, 6]\\\n",
        "Largest number in the list is 13 which was found at index 1.\n",
        "\n",
        "==================================================================="
      ]
    },
    {
      "cell_type": "code",
      "metadata": {
        "id": "kXbEh1t3U1zV",
        "colab": {
          "base_uri": "https://localhost:8080/"
        },
        "outputId": "bf283948-40e1-4c67-d3aa-83a03040e3e1"
      },
      "source": [
        "input_list = input().split(',')\n",
        "\n",
        "new_list = []\n",
        "for i in input_list:\n",
        "    new_list.append(int(i))\n",
        "\n",
        "max_value = new_list[0]\n",
        "max_index = 0\n",
        "pos = 0\n",
        "\n",
        "for i in new_list:\n",
        "  if i > max_value:\n",
        "    max_value = i\n",
        "    max_index = pos\n",
        "  pos += 1\n",
        "\n",
        "print(f\"Largest number in the list is {max_value} which was found at index {max_index}.\")"
      ],
      "execution_count": null,
      "outputs": [
        {
          "output_type": "stream",
          "name": "stdout",
          "text": [
            "7, 13, 2, 10, 6\n",
            "Largest number in the list is 13 which was found at index 1.\n"
          ]
        }
      ]
    },
    {
      "cell_type": "markdown",
      "metadata": {
        "id": "UjTy79X6ewce"
      },
      "source": [
        "## Task 7\n",
        "\n",
        "Suppose you have been given two lists. Write a Python program that replaces the last element of the first list with the second list. [Your program should work for any two given lists; make changes to the lists below and check whether your program works correctly]\n",
        "\n",
        "\n",
        "===================================================================\n",
        "\n",
        "**Sample given lists 1:**\\\n",
        "List_one : [1, 4, 7, 5]\\\n",
        "List_two : [6, 1, 3, 9]\n",
        "\n",
        "**Sample Output 1:**\\\n",
        "[1, 4, 7, 6, 1, 3, 9]\n",
        "\n",
        "===================================================================\n",
        "\n",
        "**Sample given lists 2:**\\\n",
        "List_one : [1, 3, 5, 7, 9, 10]\\\n",
        "List_two : [2, 4, 6, 8]\n",
        "\n",
        "**Sample Output 2:**\\\n",
        "[1, 3, 5, 7, 9, 2, 4, 6, 8]\n",
        "\n",
        "===================================================================\n",
        "\n",
        "\n",
        "\n"
      ]
    },
    {
      "cell_type": "code",
      "metadata": {
        "id": "OlrhifBge-TA",
        "colab": {
          "base_uri": "https://localhost:8080/"
        },
        "outputId": "6a08221e-f96e-48d8-d9c1-22592fc34426"
      },
      "source": [
        "list_one = [1, 3, 5, 7, 9, 10]\n",
        "list_two = [2, 4, 6, 8]\n",
        "\n",
        "new_list = []\n",
        "\n",
        "for i in range(len(list_one) + len(list_two)):\n",
        "  if i == len(list_one) - 1:\n",
        "    continue\n",
        "  if i < len(list_one):\n",
        "    new_list.append(list_one[i])\n",
        "  else:\n",
        "    new_list.append(list_two[i - len(list_one)])\n",
        "\n",
        "print(new_list)"
      ],
      "execution_count": null,
      "outputs": [
        {
          "output_type": "stream",
          "name": "stdout",
          "text": [
            "[1, 3, 5, 7, 9, 2, 4, 6, 8]\n"
          ]
        }
      ]
    },
    {
      "cell_type": "markdown",
      "metadata": {
        "id": "7a_1pYjfU1zI"
      },
      "source": [
        "### Task 8\n",
        "Assume, you have been given two lists. [Your program should work for any two given lists; change the following lists and check whether your program works correctly for the code you have written]\n",
        "\n",
        "list_one = [1, 2, 3, 4, 5, 6, 7, 8, 9]\\\n",
        "list_two = [10, 11, 12, -13, -14, -15, -16]\n",
        "\n",
        "Write a Python program that creates a new list with all the **even elements** of both of the given lists and prints the new list.\n",
        "\n",
        "**Hint:** You may create a third list to store the even elements of the given lists.\n",
        "\n",
        "===================================================================\n",
        "\n",
        "**Output for the above lists:** [2, 4, 6, 8, 10, 12, -14, -16]\n",
        "\n",
        "==================================================================="
      ]
    },
    {
      "cell_type": "code",
      "metadata": {
        "id": "vToa7yazU1zI",
        "colab": {
          "base_uri": "https://localhost:8080/"
        },
        "outputId": "2284c0da-d28d-4400-d6e5-1dd196423dbd"
      },
      "source": [
        "list_one = [1, 2, 3, 4, 5, 6, 7, 8, 9]\n",
        "list_two = [10, 11, 12, -13, -14, -15, -16]\n",
        "\n",
        "new_list = []\n",
        "\n",
        "for i in range(len(list_one) + len(list_two)):\n",
        "  if i < len(list_one):\n",
        "    if list_one[i] % 2 == 0:\n",
        "      new_list.append(list_one[i])\n",
        "  else:\n",
        "    if list_two[i - len(list_one)] % 2 == 0:\n",
        "      new_list.append(list_two[i - len(list_one)])\n",
        "\n",
        "print(new_list)\n"
      ],
      "execution_count": null,
      "outputs": [
        {
          "output_type": "stream",
          "name": "stdout",
          "text": [
            "[2, 4, 6, 8, 10, 12, -14, -16]\n"
          ]
        }
      ]
    },
    {
      "cell_type": "markdown",
      "metadata": {
        "id": "vyFt-Ra5erR4"
      },
      "source": [
        "### Task 9\n",
        "\n",
        "Write a Python program that reads a string as an input from the user where multiple numbers are separated by spaces. Then, make a list of numbers from the input string without using the split() function and print the list. Finally, remove all the occurences of **even numbers** from the same input list and print the modified list.\n",
        "\n",
        "\n",
        "=========================================================================\n",
        "\n",
        "**Sample Input:**\n",
        "\n",
        "7 12 4 55 96 2 11 61 33 42\n",
        "\n",
        "**Sample Output:**\n",
        "\n",
        "Original list: [7, 12, 4, 55, 96, 2, 11, 61, 33, 42]\\\n",
        "Modified list: [7, 55, 11, 61, 33]\n",
        "\n",
        "=========================================================================\n",
        "\n",
        "\n",
        "\n"
      ]
    },
    {
      "cell_type": "code",
      "metadata": {
        "id": "fcPie0yUEBj6",
        "colab": {
          "base_uri": "https://localhost:8080/"
        },
        "outputId": "13822039-8846-464f-c18f-09dc8d632855"
      },
      "source": [
        "input_list = input().split()\n",
        "\n",
        "original_list = []\n",
        "for i in input_list:\n",
        "    original_list.append(int(i))\n",
        "\n",
        "print(f\"Original list: {original_list}\")\n",
        "\n",
        "new_list = []\n",
        "for i in range(len(original_list)):\n",
        "  if original_list[i] % 2 == 1:\n",
        "    new_list.append(original_list[i])\n",
        "\n",
        "print(f\"Modified list: {new_list}\")"
      ],
      "execution_count": null,
      "outputs": [
        {
          "output_type": "stream",
          "name": "stdout",
          "text": [
            "7 12 4 55 96 2 11 61 33 42\n",
            "Original list: [7, 12, 4, 55, 96, 2, 11, 61, 33, 42]\n",
            "Modified list: [7, 55, 11, 61, 33]\n"
          ]
        }
      ]
    },
    {
      "cell_type": "markdown",
      "metadata": {
        "id": "QaD4hLn92EKT"
      },
      "source": [
        "### Task 10\n",
        "Write a Python program that reads a string as an input from the user where multiple numbers are separated by commas. Then, make a list of numbers from the input string and print the list. Finally, remove multiple occurences of any numbers from the input list and print the modified list **without duplicate values**.\n",
        "\n",
        "*Hint: You may create a third list to store the results but try doing it in the same input list. You can use membership operators (in, not in) to make sure no duplicates are added.*\n",
        "\n",
        "===================================================================\n",
        "\n",
        "**Sample Input 1:**<br/>\n",
        "0, 0, 1, 2, 3, 4, 4, 5, 6, 6, 6, 7, 8, 9, 4, 4<br/>\n",
        "\n",
        "\n",
        "**Sample Output 1:**<br/>\n",
        "Input list: [0, 0, 1, 2, 3, 4, 4, 5, 6, 6, 6, 7, 8, 9, 4, 4]\\\n",
        "Modified list: [0, 1, 2, 3, 4, 5, 6, 7, 8, 9]\n",
        "\n",
        "===================================================================\n",
        "\n",
        "**Sample Input 2:**<br/>\n",
        "7, 7, 7, 1, 0, 3, 3, 55, 9<br/>\n",
        "\n",
        "\n",
        "**Sample Output 2:**<br/>\n",
        "Input list: [7, 7, 7, 1, 0, 3, 3, 55, 9]\\\n",
        "Modified list: [7, 1, 0, 3, 55, 9]\n",
        "\n",
        "==================================================================="
      ]
    },
    {
      "cell_type": "code",
      "metadata": {
        "id": "EUbQbz5hU1zP",
        "colab": {
          "base_uri": "https://localhost:8080/"
        },
        "outputId": "7163f8f0-b8dc-47bb-9a10-6e0ca8fb1edf"
      },
      "source": [
        "input_list = input().split(',')\n",
        "\n",
        "original_list = []\n",
        "for i in input_list:\n",
        "    original_list.append(int(i))\n",
        "\n",
        "print(f\"Input list: {original_list}\")\n",
        "\n",
        "previous_value = original_list[0]\n",
        "modified_list = [previous_value]\n",
        "check_list = [previous_value]\n",
        "\n",
        "for i in range(1, len(original_list)):\n",
        "  if original_list[i] == previous_value:\n",
        "    continue\n",
        "  modified_list.append(original_list[i])\n",
        "  previous_value = original_list[i]\n",
        "\n",
        "print(f\"Modified list: {modified_list}\")"
      ],
      "execution_count": null,
      "outputs": [
        {
          "output_type": "stream",
          "name": "stdout",
          "text": [
            "0, 0, 1, 2, 3, 4, 4, 5, 6, 6, 6, 7, 8, 9, 4, 4\n",
            "Input list: [0, 0, 1, 2, 3, 4, 4, 5, 6, 6, 6, 7, 8, 9, 4, 4]\n",
            "Modified list: [0, 1, 2, 3, 4, 5, 6, 7, 8, 9, 4]\n"
          ]
        }
      ]
    },
    {
      "cell_type": "markdown",
      "metadata": {
        "id": "bvF30RQlemBW"
      },
      "source": [
        "### Task 11\n",
        "Assume, you have been given two lists: List_one and List_two. [Your program should work for any two given lists; change the following lists and check whether your program works correctly for the code you have written]\n",
        "\n",
        "Write a Python program that prints \"True\", if the given two lists have at least one common member. Otherwise, prints \"False\". \n",
        "\n",
        "Note: Please use concepts of flag and break to solve this task.\n",
        "\n",
        "===================================================================\n",
        "\n",
        "**Given lists 1:**\\\n",
        "List_one : [1, 4, 3, 2, 6]\\\n",
        "List_two : [5, 6, 9, 8, 7]\n",
        "\n",
        "**Sample Output 1:**\\\n",
        "True\n",
        "\n",
        "===================================================================\n",
        "\n",
        "**Given lists 2:**\\\n",
        "List_one : [1, 4, 3, 2, 5]\\\n",
        "List_two : [8, 7, 6, 9]\n",
        "\n",
        "**Sample Output 2:**\\\n",
        "False\n",
        "\n",
        "===================================================================\n"
      ]
    },
    {
      "cell_type": "code",
      "metadata": {
        "id": "LEnaTlyoMJdS",
        "colab": {
          "base_uri": "https://localhost:8080/"
        },
        "outputId": "4504fddf-6d69-45be-a8e7-f6e03ea3bb33"
      },
      "source": [
        "list_one = [1, 4, 3, 2, 6]\n",
        "list_two = [5, 6, 9, 8, 7]\n",
        "\n",
        "flag = False\n",
        "\n",
        "for value_one in list_one:\n",
        "  for value_two in list_two:\n",
        "    if value_one == value_two:\n",
        "      flag = True\n",
        "      break\n",
        "      \n",
        "print(flag)\n"
      ],
      "execution_count": null,
      "outputs": [
        {
          "output_type": "stream",
          "name": "stdout",
          "text": [
            "True\n"
          ]
        }
      ]
    },
    {
      "cell_type": "markdown",
      "metadata": {
        "id": "WZXnxHTdGrMC"
      },
      "source": [
        "## Optional Tasks (12-17) [Ungraded]"
      ]
    },
    {
      "cell_type": "markdown",
      "metadata": {
        "id": "nwRZ3_0tC3fq"
      },
      "source": [
        "### Task 12\n",
        "\n",
        "\n",
        "Write a Python program that reads 5 numbers into a list and prints the **second largest number** and its location or index position on the list. <font color='red'>[You are not allowed to use the max(), sort(), sorted() function here]</font>\n",
        "\n",
        "===================================================================\n",
        "\n",
        "**Sample Input:**\\\n",
        " 7, 13, 2, 10, 6\n",
        "\n",
        "**Sample Output:**\\\n",
        "My list: [7, 13, 2, 10, 6]\\\n",
        "Second largest number in the list is 10 which was found at index 3.\n",
        "\n",
        "===================================================================\n",
        "\n"
      ]
    },
    {
      "cell_type": "code",
      "metadata": {
        "id": "2fhPNFKGEOKi",
        "colab": {
          "base_uri": "https://localhost:8080/"
        },
        "outputId": "07198048-28ef-4fb5-a9e6-7f6b9a0b5295"
      },
      "source": [
        "new_list = []\n",
        "\n",
        "for i in range(5):\n",
        "  user_input = int(input())\n",
        "  new_list.append(user_input)\n",
        "\n",
        "print(f\"My list: {new_list}\")\n",
        "\n",
        "max_value = new_list[0]\n",
        "pos = 0\n",
        "max_pos = 0\n",
        "\n",
        "for value in new_list:\n",
        "  if value > max_value:\n",
        "    max_value = value\n",
        "    max_pos = pos\n",
        "  pos += 1\n",
        "\n",
        "new_list[max_pos] = -1\n",
        "\n",
        "max_value = new_list[0]\n",
        "pos = 0\n",
        "max_pos = 0\n",
        "\n",
        "for value in new_list:\n",
        "  if value > max_value:\n",
        "    max_value = value\n",
        "    max_pos = pos\n",
        "  pos += 1\n",
        "\n",
        "print(f\"Second largest number in the list is {max_value} which was found at index {max_pos}.\")"
      ],
      "execution_count": null,
      "outputs": [
        {
          "output_type": "stream",
          "name": "stdout",
          "text": [
            "7\n",
            "13\n",
            "2\n",
            "10\n",
            "6\n",
            "My list: [7, 13, 2, 10, 6]\n",
            "Second largest number in the list is 10 which was found at index 3.\n"
          ]
        }
      ]
    },
    {
      "cell_type": "markdown",
      "metadata": {
        "id": "lvSiLaobU1zY"
      },
      "source": [
        "### Task 13\n",
        "\n",
        "Write a Python program that reads 5 numbers into a list and prints the smallest and largest number and their locations in the list. <font color='red'>[You are not allowed to use the max(), min(), sort(), sorted() functions here]</font>\n",
        "\n",
        "**Hint:** You may assume the first input to be the largest value initially and the largest value’s location to be 0. Similarly, you can assume the first input to be the smallest value initially and the smallest value’s location to be 0. \n",
        "\n",
        "**Note:** You may need to be careful while printing the output. Depending on your code, you might need data conversion.\n",
        "\n",
        "===================================================================\n",
        "\n",
        "**Sample Input:**\\\n",
        "7, 13, -5, 10, 6\n",
        "\n",
        "**Sample Output:**\\\n",
        "My list: [7, 13, -5, 10, 6]\\\n",
        "Smallest number in the list is -5 which was found at index 2\\\n",
        "Largest number in the list is 13 which was found at index 1\n",
        "\n",
        "==================================================================="
      ]
    },
    {
      "cell_type": "code",
      "metadata": {
        "id": "yiS5TWSDU1zY",
        "colab": {
          "base_uri": "https://localhost:8080/"
        },
        "outputId": "7cae6b79-5d7f-47d1-f4de-c60e942fba45"
      },
      "source": [
        "new_list = []\n",
        "\n",
        "for i in range(5):\n",
        "  user_input = int(input())\n",
        "  new_list.append(user_input)\n",
        "\n",
        "print(f\"My list: {new_list}\")\n",
        "\n",
        "max_value = new_list[0]\n",
        "min_value = new_list[0]\n",
        "pos = 0\n",
        "min_pos = 0\n",
        "max_pos = 0\n",
        "\n",
        "for value in new_list:\n",
        "  if value > max_value:\n",
        "    max_value = value\n",
        "    max_pos = pos\n",
        "  if value < min_value:\n",
        "    min_value = value\n",
        "    min_pos = pos\n",
        "  pos += 1\n",
        "\n",
        "print(f\"Smallest number in the list is {min_value} which was found at index {min_pos}\")\n",
        "print(f\"Largest number in the list is {max_value} which was found at index {max_pos}\")"
      ],
      "execution_count": null,
      "outputs": [
        {
          "output_type": "stream",
          "name": "stdout",
          "text": [
            "7\n",
            "13\n",
            "-5\n",
            "10\n",
            "6\n",
            "My list: [7, 13, -5, 10, 6]\n",
            "Smallest number in the list is -5 which was found at index 2\n",
            "Largest number in the list is 13 which was found at index 1\n"
          ]
        }
      ]
    },
    {
      "cell_type": "markdown",
      "metadata": {
        "id": "rguDZ8SBCHD8"
      },
      "source": [
        "### Task 14\n",
        "Write a Python program that takes two lists as an input from the user. Then print a new list with the **common elements** of both the input lists. \n",
        "\n",
        "*Hint: You may need to create a third list to store the results. You can use membership operators (in, not in) to make sure similar elements are added.*\n",
        "\n",
        "===================================================================\n",
        "\n",
        "**Sample Input 1:**<br/>\n",
        "A, B, C, D\n",
        "\n",
        "\n",
        "C, E, F, B\n",
        "\n",
        "\n",
        "**Sample Output 1:**<br/>\n",
        "['C', 'B']\n",
        "\n",
        "===================================================================\n",
        "\n",
        "**Sample Input 2:**<br/>\n",
        "1, 3, A, H, P\n",
        "\n",
        "\n",
        "A, G, 1, P, O\n",
        "\n",
        "\n",
        "**Sample Output 2:**<br/>\n",
        "['1', 'A', 'P']\n",
        "\n",
        "===================================================================\n"
      ]
    },
    {
      "cell_type": "code",
      "metadata": {
        "id": "3iueGiPPGG66",
        "colab": {
          "base_uri": "https://localhost:8080/"
        },
        "outputId": "3e491e6c-8621-4942-ceb1-7eb7622a833d"
      },
      "source": [
        "list_one = input().split(',')\n",
        "list_two = input().split(',')\n",
        "\n",
        "new_list = []\n",
        "for value_one in list_one:\n",
        "  for value_two in list_two:\n",
        "    if value_one.strip() == value_two.strip():\n",
        "      new_list.append(value_one.strip())\n",
        "\n",
        "print(new_list)"
      ],
      "execution_count": null,
      "outputs": [
        {
          "output_type": "stream",
          "name": "stdout",
          "text": [
            "1, 3, A, H, P\n",
            "A, G, 1, P, O\n",
            "['1', 'A', 'P']\n"
          ]
        }
      ]
    },
    {
      "cell_type": "markdown",
      "metadata": {
        "id": "tjcE5oitCM2s"
      },
      "source": [
        "### Task 15\n",
        "\n",
        "Assume, you have been given two lists. [Your program should work for any two given lists; make changes to the lists below and check whether your program works correctly]\n",
        "\n",
        "list_one = [1, 2 , 2, 4, 5, 5, 7, 99, 200, 303, 70]\\\n",
        "list_two = [1, 1, 2, 3, 3, 3, 4, 5, 200, 500, -5]\n",
        "\n",
        "Write a Python program that creates a new list with all the **unique elements** of both the given lists. \n",
        "<font color='red'> **You need to make sure that there are no duplicates in the resulting list.**</font> Finally, print the updated list.\n",
        "\n",
        "**Hint:** You may create a third list to store the results. You can use membership operators (in, not in) to make sure no duplicates are added.\n",
        "\n",
        "===================================================================\n",
        "\n",
        "**Output for the above two lists**: \n",
        "[1, 2, 4, 5, 7, 99, 200, 303, 70, 3, 500, -5]\n",
        "\n",
        "==================================================================="
      ]
    },
    {
      "cell_type": "code",
      "metadata": {
        "id": "b2TwkUqnGZU-",
        "colab": {
          "base_uri": "https://localhost:8080/"
        },
        "outputId": "17f4033a-4e85-4e0e-cebd-fdf60ebfb8a2"
      },
      "source": [
        "list_one = [1, 2 , 2, 4, 5, 5, 7, 99, 200, 303, 70]\n",
        "list_two = [1, 1, 2, 3, 3, 3, 4, 5, 200, 500, -5]\n",
        "\n",
        "list_three = [list_one[0]]\n",
        "flag = False\n",
        "\n",
        "for value in list_one + list_two:\n",
        "  for items in list_three:\n",
        "    if value == items:\n",
        "      flag = True\n",
        "  if(flag == False):\n",
        "    list_three.append(value)\n",
        "  elif(flag == True):\n",
        "    flag = False\n",
        "\n",
        "print(list_three)"
      ],
      "execution_count": null,
      "outputs": [
        {
          "output_type": "stream",
          "name": "stdout",
          "text": [
            "[1, 2, 4, 5, 7, 99, 200, 303, 70, 3, 500, -5]\n"
          ]
        }
      ]
    },
    {
      "cell_type": "markdown",
      "metadata": {
        "id": "A1GQ4lem2We7"
      },
      "source": [
        "### Task 16\n",
        "\n",
        "Write a python program to take a list as a input from the user and print it back to the user. \n",
        "\n",
        "**<font color='red'>[Must use string split() and strip() functions]</font>**\n",
        "\n",
        "================================================================\n",
        "\n",
        "**Sample Input 1:**\\\n",
        "'1, &nbsp; &nbsp;&nbsp; &nbsp; 2  ,&nbsp; &nbsp;&nbsp; &nbsp;&nbsp; &nbsp;&nbsp; &nbsp;3, 50, 4'\n",
        "\n",
        "**Sample Output 1:**\\\n",
        "Original data: '1, &nbsp; &nbsp;&nbsp; &nbsp; 2  ,&nbsp; &nbsp;&nbsp; &nbsp;&nbsp; &nbsp;&nbsp; &nbsp;3, 50, 4'\\\n",
        "After removing square brackets: 1, &nbsp; &nbsp;&nbsp; &nbsp; 2  ,&nbsp; &nbsp;&nbsp; &nbsp;&nbsp; &nbsp;&nbsp; &nbsp;3, 50, 4\\\n",
        "Numbers in string format with extra white spaces: ['1', '&nbsp; &nbsp;&nbsp; &nbsp; 2'  ,'&nbsp; &nbsp;&nbsp; &nbsp;&nbsp; &nbsp;&nbsp; &nbsp;3', '50', '4']\\\n",
        "Final data (numbers in list format): [1, 2, 3, 50, 4]\n",
        "                \n",
        "                \n",
        "================================================================\n",
        "                \n",
        "  \n",
        "**Sample Input 2:**\n",
        "'[1,&nbsp; &nbsp;&nbsp; &nbsp;2&nbsp; &nbsp;,&nbsp; &nbsp;&nbsp; &nbsp;&nbsp; &nbsp;&nbsp; &nbsp;3, 50, 4]'\n",
        "\n",
        "**Sample Output 2:**\\\n",
        "Original data: [1,&nbsp; &nbsp;&nbsp; &nbsp;2&nbsp; &nbsp;,&nbsp; &nbsp;&nbsp; &nbsp;&nbsp; &nbsp;&nbsp; &nbsp;3, 50, 4]\\\n",
        "After removing square brackets: 1,&nbsp; &nbsp;&nbsp; &nbsp;2&nbsp; &nbsp;,&nbsp; &nbsp;&nbsp; &nbsp;&nbsp; &nbsp;&nbsp; &nbsp;3, 50, 4\\\n",
        "Numbers in string format with extra white spaces: ['1', '&nbsp; &nbsp;&nbsp; &nbsp;2&nbsp; &nbsp;', '&nbsp; &nbsp;&nbsp; &nbsp;&nbsp; &nbsp;&nbsp; &nbsp;3', '50', '4']\\\n",
        "Final data (numbers in list format): [1, 2, 3, 50, 4]\n",
        "                \n",
        "                \n",
        "================================================================\n",
        "\n",
        "                \n",
        "  \n",
        "**Sample Input 3:**\\\n",
        "\"&nbsp; &nbsp;&nbsp; &nbsp;[1,&nbsp; &nbsp;2&nbsp; &nbsp;,&nbsp; &nbsp;&nbsp; &nbsp;&nbsp; &nbsp;3,&nbsp; &nbsp;50,&nbsp; &nbsp;4]&nbsp; &nbsp;&nbsp; &nbsp;&nbsp; &nbsp;\"\n",
        "\n",
        "**Sample Output 3:**\\\n",
        "Original data: &nbsp; &nbsp;&nbsp; &nbsp;1,&nbsp; &nbsp;2&nbsp; &nbsp;,&nbsp; &nbsp;&nbsp; &nbsp;&nbsp; &nbsp;3,&nbsp; &nbsp;50,&nbsp; &nbsp;4&nbsp; &nbsp;&nbsp; &nbsp;&nbsp; &nbsp;\\\n",
        "After removing square brackets: 1,&nbsp; &nbsp;2&nbsp; &nbsp;,&nbsp; &nbsp;&nbsp; &nbsp;&nbsp; &nbsp;3,&nbsp; &nbsp;50,&nbsp; &nbsp;4\\\n",
        "Numbers in string format with extra white spaces: [' 1', '&nbsp; &nbsp;2&nbsp; &nbsp;', '&nbsp; &nbsp;&nbsp; &nbsp;&nbsp; &nbsp;3', '&nbsp; &nbsp;50', '&nbsp; &nbsp;4']\\\n",
        "Final data (numbers in list format): [1, 2, 3, 50, 4]\n",
        "\n",
        "                \n",
        "================================================================"
      ]
    },
    {
      "cell_type": "code",
      "metadata": {
        "id": "sV24bMYu2WPf",
        "colab": {
          "base_uri": "https://localhost:8080/"
        },
        "outputId": "ddd25667-7f77-442d-eefd-58627c0397c9"
      },
      "source": [
        "input_value = '1,        2 ,            3, 50, 4'\n",
        "#input_value = '[1,      2   ,            3, 50, 4]'\n",
        "#input_value = \"      [1,   2   ,         3,   50,   4]         \"\n",
        "\n",
        "new_list = []\n",
        "final_list = []\n",
        "\n",
        "print(f\"Original data: {input_value}\")\n",
        "if input_value[0] == '[' and input_value[-1] == ']':\n",
        "  input_value = input_value[1:-1]\n",
        "else:\n",
        "  open_bracket_index = 0\n",
        "  closing_bracket_index = 0\n",
        "\n",
        "  for index in range(len(input_value)):\n",
        "    if input_value[index] == '[':\n",
        "      open_bracket_index = index\n",
        "    elif input_value[index] == ']':\n",
        "      closing_bracket_index = index\n",
        "\n",
        "  if open_bracket_index == 0 and closing_bracket_index == 0:\n",
        "    print(f\"After removing square brackets: {input_value}\")\n",
        "  else:\n",
        "    input_value = input_value[open_bracket_index + 1: closing_bracket_index]\n",
        "    print(f\"After removing square brackets: {input_value}\")\n",
        "\n",
        "new_list = input_value.split(',')\n",
        "print(f\"Numbers in string format with extra white spaces: {new_list}\")\n",
        "\n",
        "for value in new_list:\n",
        "  final_list.append(int(value.strip()))\n",
        "\n",
        "print(f\"Final data (numbers in list format): {final_list}\")\n"
      ],
      "execution_count": 7,
      "outputs": [
        {
          "output_type": "stream",
          "name": "stdout",
          "text": [
            "Original data: 1,        2 ,            3, 50, 4\n",
            "After removing square brackets: 1,        2 ,            3, 50, 4\n",
            "Numbers in string format with extra white spaces: ['1', '        2 ', '            3', ' 50', ' 4']\n",
            "Final data (numbers in list format): [1, 2, 3, 50, 4]\n"
          ]
        }
      ]
    },
    {
      "cell_type": "markdown",
      "metadata": {
        "id": "Ju21t8um2jiS"
      },
      "source": [
        "\n",
        "### Task 17\n",
        "Write a Python program that takes a single string as an input from the user where few numbers are separated by commas. Now, make a list with the numbers of the given string.Then your task is to remove multiple occurences of any number and then finally print the list **without any duplicate values**.\n",
        "\n",
        "*Hint (1): For obtaining the numbers from the string, use split(). For cleaning the data, use strip().*\n",
        "\n",
        "*Hint (2): You may create a third list to store the results. You can use membership operators (in, not in) to make sure no duplicates are added.*\n",
        "\n",
        "===================================================================\n",
        "\n",
        "**Sample Input 1:**<br/>\n",
        "0, 0, 1, 2, 3, 4,&nbsp;&nbsp; &nbsp;&nbsp; 4, 5, 6, 6, 6,&nbsp;&nbsp;&nbsp;&nbsp;&nbsp;&nbsp;7, 8, 9, 4,&nbsp;&nbsp;&nbsp;&nbsp;&nbsp;&nbsp;&nbsp;&nbsp; 4<br/>\n",
        "\n",
        "\n",
        "**Sample Output 1:**<br/>\n",
        "Given numbers in list: [0, 0, 1, 2, 3, 4, 4, 5, 6, 6, 6, 7, 8, 9, 4, 4]\\\n",
        "List without any dupliacte values: [0, 1, 2, 3, 4, 5, 6, 7, 8, 9]<br/>\n",
        "\n",
        "===================================================================\n",
        "\n",
        "**Sample Input 2:**<br/>\n",
        "7, 7, 7, 1, &nbsp;&nbsp;&nbsp;&nbsp;&nbsp;&nbsp;&nbsp;&nbsp;&nbsp;&nbsp;0, 3, 3, &nbsp;&nbsp;55, 9<br/>\n",
        "\n",
        "\n",
        "**Sample Output 2:**<br/>\n",
        "Given numbers in list: [7, 7, 7, 1, 0, 3, 3, 55, 9]\\\n",
        "List without any dupliacte values: [7, 1, 0, 3, 55, 9]<br/>\n",
        "\n",
        "===================================================================\n"
      ]
    },
    {
      "cell_type": "code",
      "metadata": {
        "id": "fCEuh7r_2kgE",
        "colab": {
          "base_uri": "https://localhost:8080/"
        },
        "outputId": "9c95b883-b1df-49d4-ee2e-0fc2dcab58f1"
      },
      "source": [
        "#new_list = \"0, 0, 1, 2, 3, 4,      4, 5, 6, 6, 6,      7, 8, 9, 4,         4\".split(',')\n",
        "new_list = \"7, 7, 7, 1,           0, 3, 3,   55, 9\".split(',')\n",
        "\n",
        "final_list = []\n",
        "\n",
        "for value in new_list:\n",
        "  final_list.append(int(value.strip()))\n",
        "\n",
        "print(f\"Given numbers in list: {final_list}\")\n",
        "\n",
        "\n",
        "non_duplicate_list = [final_list[0]]\n",
        "\n",
        "flag = False\n",
        "for value in final_list:\n",
        "  for non_duplicate_value in non_duplicate_list:\n",
        "    if value == non_duplicate_value:\n",
        "      flag = False\n",
        "      break\n",
        "    if value != non_duplicate_value:\n",
        "      flag = True\n",
        "  if(flag == True):\n",
        "    non_duplicate_list.append(value)\n",
        "    flag = False\n",
        "\n",
        "print(f\"List without any dupliacte values: {non_duplicate_list}\")"
      ],
      "execution_count": 12,
      "outputs": [
        {
          "output_type": "stream",
          "name": "stdout",
          "text": [
            "Given numbers in list: [7, 7, 7, 1, 0, 3, 3, 55, 9]\n",
            "List without any dupliacte values: [7, 1, 0, 3, 55, 9]\n"
          ]
        }
      ]
    }
  ]
}