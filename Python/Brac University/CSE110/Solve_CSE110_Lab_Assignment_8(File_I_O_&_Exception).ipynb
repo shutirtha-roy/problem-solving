{
  "nbformat": 4,
  "nbformat_minor": 0,
  "metadata": {
    "colab": {
      "name": "Solve_CSE110_Lab_Assignment_8(File I_O & Exception).ipynb",
      "provenance": [],
      "collapsed_sections": []
    },
    "kernelspec": {
      "name": "python3",
      "display_name": "Python 3"
    }
  },
  "cells": [
    {
      "cell_type": "markdown",
      "metadata": {
        "id": "ZXvFDb3VLf5p"
      },
      "source": [
        "# CSE110 Lab Assignment 8 on File I/O & Exception\n",
        "\n",
        "Please write your name, student ID and CSE110 section below:\n",
        "\n",
        "\n"
      ]
    },
    {
      "cell_type": "code",
      "metadata": {
        "id": "ft6hkS9Oguhw"
      },
      "source": [
        "#STUDENT NAME:\n",
        "#STUDENT ID:\n",
        "#CSE110 SECTION: "
      ],
      "execution_count": null,
      "outputs": []
    },
    {
      "cell_type": "markdown",
      "metadata": {
        "id": "4fjLeMMMEEKB"
      },
      "source": [
        "**<font color='red'>[MUST MAINTAIN VARIABLE NAMING CONVENTIONS FOR ALL THE TASKS]</font>**\n",
        "\n",
        "## Part 1: File\n",
        "\n",
        "### Task 1\n",
        "\n",
        "Write a python program that reads the first n lines of a text file.\n",
        "\n",
        "Suppose you have a file with all these strings in a file.\n",
        "\n",
        "=========================================================\n",
        "\n",
        "I love Python Programming.\\\n",
        "It is very easy to understand the code.\\\n",
        "It can code very hard problems easily in python code.\\\n",
        "Python programming is the best programming language.\n",
        "\n",
        "=========================================================\n",
        "\n",
        "\n",
        "**Input :**\\\n",
        "2\\\n",
        "**Output :**\\\n",
        "I love Python Programming.\\\n",
        "It is very easy to understand the code.\n",
        "\n",
        "=========================================================\n",
        "\n",
        "**Hint(1):**\\\n",
        "Use counter to control line number.\n",
        "\n",
        "**Hint(2):**\\\n",
        "Use function readlines() to store in a list and then use loop\n",
        "\n",
        "OR you can use readline() in a loop.\n",
        "\n",
        "**Hint(3):**\\\n",
        "You might need to use strip() function"
      ]
    },
    {
      "cell_type": "code",
      "metadata": {
        "id": "Kb0Fn1AsEHVR",
        "colab": {
          "base_uri": "https://localhost:8080/"
        },
        "outputId": "f99f8379-0c6c-4d08-936f-d7f6f7d1b876"
      },
      "source": [
        "file_name = open(\"task1.txt\", \"r\")\n",
        "lines = file_name.readlines()\n",
        "input_line = int(input())\n",
        "\n",
        "for i in range(0, input_line):\n",
        "  print(lines[i].strip(\" \"), end = \"\")\n",
        "\n",
        "\n",
        "file_name.close()\n"
      ],
      "execution_count": null,
      "outputs": [
        {
          "output_type": "stream",
          "name": "stdout",
          "text": [
            "2\n",
            "I love Python Programming.\n",
            "It is very easy to understand the code.\n"
          ]
        }
      ]
    },
    {
      "cell_type": "markdown",
      "metadata": {
        "id": "6C9IjoWsEJlJ"
      },
      "source": [
        "### Task 2\n",
        "\n",
        "Write a python program to find the longest word in a file. Then print the word.\\\n",
        "**Input: [in a file]**\\\n",
        "I love Python Programming\\\n",
        "It is very easy to understand the code\\\n",
        "It can code very hard problems easily in python code\\\n",
        "Python programming is the best programming language\n",
        "\n",
        "\n",
        "\n",
        "**Output:**\\\n",
        "Programming\n",
        "\n",
        "=========================================================\n",
        "\n",
        "**Hint(1):**\\\n",
        "You can use split function to separate the words into a list.\n",
        "\n",
        "**Hint(2):**\\\n",
        "Use function readlines()"
      ]
    },
    {
      "cell_type": "code",
      "metadata": {
        "id": "WucZ7kEOEKrA",
        "colab": {
          "base_uri": "https://localhost:8080/"
        },
        "outputId": "d6035a5f-9a29-456a-df93-3293ed17f25d"
      },
      "source": [
        "file_name = open(\"task2.txt\", \"r\")\n",
        "lines = file_name.readlines()\n",
        "\n",
        "longest_word = \"\"\n",
        "longest_word_length = 0\n",
        "\n",
        "for line in lines:\n",
        "  for word in line.split(\" \"):\n",
        "    if len(word) > longest_word_length:\n",
        "      longest_word = word\n",
        "      longest_word_length = len(word)\n",
        "\n",
        "print(longest_word)\n",
        "\n",
        "\n",
        "file_name.close()"
      ],
      "execution_count": null,
      "outputs": [
        {
          "output_type": "stream",
          "name": "stdout",
          "text": [
            "Programming\n",
            "\n"
          ]
        }
      ]
    },
    {
      "cell_type": "markdown",
      "metadata": {
        "id": "Y0dBzRxdEK1R"
      },
      "source": [
        "### Task 3\n",
        "Write a python program that allows you to erase multiple spaces in a text file. Then re-write the sentence without extra spaces in a another text file.\n",
        "\n",
        "=========================================================\n",
        "\n",
        "**Input:**\n",
        "\n",
        "I&nbsp;&nbsp;&nbsp;&nbsp;&nbsp;&nbsp;love  &nbsp;&nbsp;&nbsp;&nbsp;&nbsp;&nbsp;&nbsp;             Python   &nbsp;&nbsp;&nbsp;&nbsp;&nbsp;&nbsp;&nbsp;&nbsp;          Programming\n",
        "\n",
        "**Output:**\\\n",
        "I love Python Programming.\n",
        "\n",
        "=========================================================\n",
        "\n",
        "**Hints:**\\\n",
        "You can use split function to separate the words into a list.\n"
      ]
    },
    {
      "cell_type": "code",
      "metadata": {
        "id": "a0yJHr82ENWF",
        "colab": {
          "base_uri": "https://localhost:8080/"
        },
        "outputId": "58b2c53e-792d-4503-f022-4f9515959f18"
      },
      "source": [
        "file_name = open(\"task3.txt\", \"r\")\n",
        "lines = str(file_name.readlines()[0])\n",
        "\n",
        "word = \"\"\n",
        "count = 0\n",
        "new_sentence = \"\"\n",
        "\n",
        "for character in lines:\n",
        "  if character != \" \":\n",
        "    word += character\n",
        "    count = 0\n",
        "  else:\n",
        "    count += 1\n",
        "  \n",
        "  if count == 1:\n",
        "    new_sentence += word + \" \"\n",
        "    word = \"\"\n",
        "\n",
        "new_sentence += word + \".\"\n",
        "\n",
        "print(new_sentence)\n",
        "\n",
        "file_name.close()\n"
      ],
      "execution_count": null,
      "outputs": [
        {
          "output_type": "stream",
          "name": "stdout",
          "text": [
            "I love Python Programming.\n"
          ]
        }
      ]
    },
    {
      "cell_type": "markdown",
      "metadata": {
        "id": "OOFNxcqqENje"
      },
      "source": [
        "### Task 4\n",
        "Write a Python program to count the number of lines in a text file. Then, finally print the total number of lines.\n",
        "\n",
        "=========================================================\n",
        "\n",
        "**Input:**\\\n",
        "Hello\\\n",
        "What are you doing\\\n",
        "I am fine\n",
        "\n",
        "**Output:**\\\n",
        "3\n"
      ]
    },
    {
      "cell_type": "code",
      "metadata": {
        "id": "PRPocuTJEP0v",
        "colab": {
          "base_uri": "https://localhost:8080/"
        },
        "outputId": "cdbac7b6-3c84-4fbe-d650-7027b4635963"
      },
      "source": [
        "file_name = open(\"task4.txt\", \"r\")\n",
        "lines = file_name.readlines()\n",
        "count = 0\n",
        "\n",
        "for line in lines:\n",
        "  count += 1\n",
        "\n",
        "print(count)\n",
        "\n",
        "file_name.close()"
      ],
      "execution_count": null,
      "outputs": [
        {
          "output_type": "stream",
          "name": "stdout",
          "text": [
            "3\n"
          ]
        }
      ]
    },
    {
      "cell_type": "markdown",
      "metadata": {
        "id": "LiSNirheEQHf"
      },
      "source": [
        "### Task 5\n",
        "\n",
        "Write a Python program to combine each line from the first file with the corresponding line in the second file and then save it in a 3rd file.\n",
        "\n",
        "Consider, both the files have same number of lines. Assume, each line has a newline(\\n) at the end.\n",
        "\n",
        "=========================================================\n",
        "\n",
        "**Example:**\\\n",
        "**Input from file 1:**\\\n",
        "Hello\\\n",
        "Hi\\\n",
        "Nice\n",
        "\n",
        "**Input from file 2:**\\\n",
        "Bad\\\n",
        "Worse\\\n",
        "Worst\n",
        "\n",
        "**Output in 3rd FIle:**\\\n",
        "Hello Bad\\\n",
        "Hi Worse\\\n",
        "Nice Worst \n",
        "\n",
        "=========================================================\n",
        "\n",
        "**Hint(1):**\\\n",
        " Use the write() function\n",
        "\n",
        "\n",
        "\n"
      ]
    },
    {
      "cell_type": "code",
      "metadata": {
        "id": "b-b4xnHLETDY"
      },
      "source": [
        "file1 = open(\"task5_file1.txt\", \"r\")\n",
        "file2 = open(\"task5_file2.txt\", \"r\")\n",
        "file3 = open(\"task5_file3.txt\", \"w\")\n",
        "\n",
        "line_file1 = file1.readlines()\n",
        "line_file2 = file2.readlines()\n",
        "\n",
        "for idx in range(len(line_file1)):\n",
        "  word1 = line_file1[idx].strip(\"\\n\")\n",
        "  word2 = line_file2[idx].strip(\"\\n\")\n",
        "  file3.write(word1 + \" \" + word2 + \"\\n\")\n",
        "\n",
        "file1.close()\n",
        "file2.close()\n",
        "file3.close()"
      ],
      "execution_count": null,
      "outputs": []
    },
    {
      "cell_type": "markdown",
      "metadata": {
        "id": "6J7MA_zNCbCg"
      },
      "source": [
        "## Part 2: Exception \n"
      ]
    },
    {
      "cell_type": "markdown",
      "metadata": {
        "id": "tZow-v3MLoLE"
      },
      "source": [
        "### Task 6\n",
        "Given a list named my_list.\n",
        "\n",
        "my_list = [10, 20, 30, 40, 60, 100, 2, 5]\n",
        "\n",
        "Write a python program that takes the position as an input from the user and prints the element of that position from the list. \n",
        "\n",
        "If the user’s input position is not in the range, return an exception stating \"Index out of range\".\n",
        "\n",
        "If the user’s input position is not an Ingeter number, return an exception stating \"For position, please enter an Integer value\".\n",
        "\n",
        "Make sure your program always prints \"Program ended\" at the end, no matter what happens.\n",
        "\n",
        "=============================\n",
        "\n",
        "**Hint:** Use finally block\n",
        "\n",
        "=============================\n",
        "\n",
        "**Example 1:** \\\n",
        "**Input:**\\\n",
        "1\\\n",
        "**Output:**\\\n",
        "20\\\n",
        "Program ended\n",
        "\n",
        "=============================\n",
        "\n",
        "**Example 2:** \\\n",
        "**Input:**\\\n",
        "10\\\n",
        "**Output:**\\\n",
        "Index out of range.\\\n",
        "Program ended\n",
        "\n",
        "\n",
        "\n",
        "=============================\n",
        "\n",
        "**Example 3:** \\\n",
        "**Input:**\\\n",
        "hello\\\n",
        "**Output:**\\\n",
        "For position, please enter an Integer value.\\\n",
        "Program ended\n"
      ]
    },
    {
      "cell_type": "code",
      "metadata": {
        "id": "c9yKuS5kLdDO",
        "colab": {
          "base_uri": "https://localhost:8080/"
        },
        "outputId": "e24eed18-2081-41c2-e6ce-2dce151fca51"
      },
      "source": [
        "my_list = [10, 20, 30, 40, 60, 100, 2, 5]\n",
        "\n",
        "try:\n",
        "  pos = int(input(\"Enter your positon\"))\n",
        "  value = my_list[pos]\n",
        "  print(value)\n",
        "except IndexError:\n",
        "  print(\"Index out of range.\")\n",
        "except ValueError:\n",
        "  print(\"For position, please enter an Integer value.\")\n",
        "finally:\n",
        "  print(\"Program ended\")\n"
      ],
      "execution_count": null,
      "outputs": [
        {
          "output_type": "stream",
          "name": "stdout",
          "text": [
            "Enter your positon1\n",
            "20\n",
            "Program ended\n"
          ]
        }
      ]
    },
    {
      "cell_type": "markdown",
      "metadata": {
        "id": "gD4MMyO_Mtw4"
      },
      "source": [
        "### Task 7\n",
        "\n",
        "Suppose you have a dictionary named my_dictionary containing the name of some groceries and their prices.\\\n",
        "my_dictionary={\"Potato\":12, \"Onion\":16, \"Ginger\":15, \"Garlic\":12, \"Tomato\":15}\n",
        "\n",
        "Now write a python program that takes the grocerie names as input from the user and shows the total price of the groceries.\n",
        "\n",
        "Some exceptions to handle:\n",
        "* Handle the exception when the given key is not present in the dictionary.\n",
        "* Handle the exception when the summation variable is not initialized properly. (the variable to store the total price has been initialized at 0 or not)\n",
        "\n",
        "=============================\n",
        "\n",
        "**Example 1:** \\\n",
        "**Input:**\\\n",
        "Potato,Onion,Ginger\\\n",
        "**Output:**\\\n",
        "43\n",
        "\n",
        "=============================\n",
        "\n",
        "**Example 2:** \\\n",
        "**Input:**\\\n",
        "Potato,Onion,Ginger,Beef\\\n",
        "**Output:**\\\n",
        "Some groceries are not available in the dictionary.\n"
      ]
    },
    {
      "cell_type": "code",
      "metadata": {
        "id": "15umlUXTNe5N",
        "colab": {
          "base_uri": "https://localhost:8080/"
        },
        "outputId": "5625224e-b064-44fc-960f-23d40d257dea"
      },
      "source": [
        "my_dictionary={\"Potato\":12, \"Onion\":16, \"Ginger\":15, \"Garlic\":12, \"Tomato\":15}\n",
        "#input_value = \"Potato,Onion,Ginger\".split(\",\")\n",
        "input_value = \"Potato,Onion,Ginger,Beef\".split(\",\")\n",
        "\n",
        "try:\n",
        "  summation = 0\n",
        "  if summation != 0:\n",
        "    raise ValueError\n",
        "  \n",
        "  for name in input_value:\n",
        "    summation += my_dictionary[name]\n",
        "\n",
        "  print(summation)\n",
        "except ValueError:\n",
        "  print(\"The variable to store the total price has not been initialized at 0\")\n",
        "except KeyError:\n",
        "  print(\"Some groceries are not available in the dictionary.\")\n"
      ],
      "execution_count": null,
      "outputs": [
        {
          "output_type": "stream",
          "name": "stdout",
          "text": [
            "Some groceries are not available in the dictionary.\n"
          ]
        }
      ]
    },
    {
      "cell_type": "markdown",
      "metadata": {
        "id": "l5SgF6kTN7vY"
      },
      "source": [
        "### Task 8\n",
        "Write a python program that takes two lists as input from the user, multiplies the index wise elements of the two lists and adds it to a new variable. While doing the program you should handle the following exceptions:\n",
        "* Return an exception if an element in a list is not a number stating “The list has some non number values”.\n",
        "* Return an exception if there is an index out of bound stating “Index out of bound”.\n",
        "\n",
        "=============================\n",
        "\n",
        "**Example 1:** \\\n",
        "**Input:**\\\n",
        "list_one = [1, a, 2, 4]\\\n",
        "list_two =[5, 6, 7, 8]\\\n",
        "**Output:**\\\n",
        "The list has some non number values\n",
        "\n",
        "=================\n",
        "\n",
        "**Example 2:** \\\n",
        "**Input:**\\\n",
        "list_one=[1, 2, 3, 4, 5]\\\n",
        "list_two=[1, 2, 3, 4]\\\n",
        "**Output:**\\\n",
        "Index out of bound\n",
        "\n",
        "=================\n",
        "\n",
        "**Example 3:** \\\n",
        "**Input:**\\\n",
        "list_one=[1,2,3,4]\\\n",
        "list_two=[5,6,7,8]\\\n",
        "**Output:**\\\n",
        "70\n",
        "\n",
        "\n"
      ]
    },
    {
      "cell_type": "code",
      "metadata": {
        "id": "oFpEZFRhOlvV",
        "colab": {
          "base_uri": "https://localhost:8080/"
        },
        "outputId": "6696a5ba-a5fc-4d55-dcbc-0601817224d7"
      },
      "source": [
        "list_one = [1, \"a\", 2, 4]\n",
        "list_two =[5, 6, 7, 8]\n",
        "\n",
        "#list_one=[1, 2, 3, 4, 5]\n",
        "#list_two=[1, 2, 3, 4]\n",
        "\n",
        "#list_one=[1,2,3,4]\n",
        "#list_two=[5,6,7,8]\n",
        "\n",
        "try:\n",
        "  if len(list_one) != len(list_two):\n",
        "    raise IndexError\n",
        "\n",
        "  product = 0\n",
        "  for idx in range(len(list_one)):\n",
        "    value_1 = list_one[idx]\n",
        "    value_2 = list_two[idx]\n",
        "\n",
        "    if type(value_1) == str or type(value_2) == str:\n",
        "      raise TypeError\n",
        "    \n",
        "    product += value_1 * value_2\n",
        "\n",
        "  print(product)\n",
        "\n",
        "  \n",
        "except IndexError:\n",
        "  print(\"Index out of bound\")\n",
        "except TypeError:\n",
        "  print(\"The list has some non number values\")\n",
        "  "
      ],
      "execution_count": null,
      "outputs": [
        {
          "output_type": "stream",
          "name": "stdout",
          "text": [
            "The list has some non number values\n"
          ]
        }
      ]
    },
    {
      "cell_type": "markdown",
      "metadata": {
        "id": "iBqIUN-WOnvW"
      },
      "source": [
        "### Task 9\n",
        "Write a python program that will take a string input from the user. Your task is to count the number of vowels and consonants in the string.\n",
        "\n",
        "Using try, if the number of vowels is greater than or equal to the number of consonants, then raise a runtime error. Print 'Number of vowels greater/equal to consonants. Please paraphrase.'.\\\n",
        "Otherwise, print 'The sentence will work.'. \n",
        "\n",
        "**Note:** a,e,i,o,u are called vowels and all the other 21 english alphabets are consonants.\n",
        "\n",
        "=============================\n",
        "\n",
        "**Example 1:** \\\n",
        "**Input:**\\\n",
        "'his age is 10'\\\n",
        "**Output:**\\\n",
        "Number of vowels greater/equal to consonants. Please paraphrase.\n",
        "\n",
        "=================\n",
        "\n",
        "**Example 2:** \\\n",
        "**Input:**\\\n",
        "'he is 10 years old'\\\n",
        "**Output:**\\\n",
        "The sentence will work."
      ]
    },
    {
      "cell_type": "code",
      "metadata": {
        "id": "-4kg2W2EPwVo",
        "colab": {
          "base_uri": "https://localhost:8080/"
        },
        "outputId": "b2ae1bb3-17b8-480b-9e5c-47f2c6e0c43c"
      },
      "source": [
        "input_value = 'his age is 10'\n",
        "#input_value = 'he is 10 years old'\n",
        "\n",
        "vowel_count = 0\n",
        "consonant_count = 0\n",
        "\n",
        "for character in input_value:\n",
        "    if character in [\"a\", \"e\", \"i\", \"o\", \"u\"]:\n",
        "      vowel_count += 1\n",
        "    elif character != \" \" and character.isalpha():\n",
        "      consonant_count += 1\n",
        "\n",
        "try:\n",
        "  if vowel_count >= consonant_count:\n",
        "    raise ValueError\n",
        "  else:\n",
        "    print(\"The sentence will work.\")\n",
        "except ValueError:\n",
        "  print(\"Number of vowels greater/equal to consonants. Please paraphrase.\")\n",
        "  \n",
        "\n",
        "  "
      ],
      "execution_count": null,
      "outputs": [
        {
          "output_type": "stream",
          "name": "stdout",
          "text": [
            "Number of vowels greater/equal to consonants. Please paraphrase.\n"
          ]
        }
      ]
    },
    {
      "cell_type": "markdown",
      "metadata": {
        "id": "pl4CDeUkPxeM"
      },
      "source": [
        "### Task 10\n",
        "Write a python program that finds the corresponding energy values from a list of frequency values which are taken as input from the user, using the formula, $E=h*f$, where h is a constant of value: 1050\n",
        "\n",
        "Exceptions to handle:\n",
        "* Make sure all elements in the lists are numbers\n",
        "\n",
        "=============================\n",
        "\n",
        "**Example 1:** \\\n",
        "**Input:**\\\n",
        "[2,3]\\\n",
        "**Output:**\\\n",
        "[2100, 3150]\n",
        "\n",
        "=================\n",
        "\n",
        "**Example 2:** \\\n",
        "**Input:**\\\n",
        "[2,boss]\\\n",
        "**Output:**\\\n",
        "Wrong input type"
      ]
    },
    {
      "cell_type": "code",
      "metadata": {
        "id": "vdYQH9qnQvVo",
        "colab": {
          "base_uri": "https://localhost:8080/"
        },
        "outputId": "e552fada-2763-4195-ff14-af7bd739bb28"
      },
      "source": [
        "input_value = [2,3]\n",
        "#input_value = [2,\"boss\"]\n",
        "h = 1050\n",
        "\n",
        "try:\n",
        "  for idx in range(len(input_value)):\n",
        "    value = input_value[idx]\n",
        "    if type(value) == str:\n",
        "      raise TypeError\n",
        "    input_value[idx] *= h\n",
        "  \n",
        "  print(input_value)\n",
        "\n",
        "except TypeError:\n",
        "  print(\"Wrong input type\")\n"
      ],
      "execution_count": null,
      "outputs": [
        {
          "output_type": "stream",
          "name": "stdout",
          "text": [
            "[2100, 3150]\n"
          ]
        }
      ]
    },
    {
      "cell_type": "markdown",
      "metadata": {
        "id": "GC6Y943uUNHY"
      },
      "source": [
        "### Task 11\n",
        "Imagine Salman Khan is going to the sets of a new movie. He decides to cycle everyday on his way to the sets. For that he uses a distance calculator which finds the distance based on the present day's date, which is asked as an input from the user. You should first take the day and then the month as your inputs.\n",
        "\n",
        "The inputs should be stored in variables named `day` and `month` .The distance calculator uses the following formula to calculate a number which dictates the number of kilometers he must cycle on his way to work.\n",
        "\n",
        "\n",
        "Distance = |if day<10, `5+(day*2)/month`\\\n",
        "&nbsp;&nbsp;&nbsp;&nbsp;&nbsp;&nbsp;&nbsp;&nbsp;&nbsp;&nbsp;&nbsp;&nbsp;&nbsp;&nbsp;&nbsp;&nbsp;&nbsp;&nbsp;&nbsp; |else, `3+(day/month)`\n",
        "\n",
        "\n",
        "Exceptions to handle:\\\n",
        "-Check for 0 division error exception in the formula\\\n",
        "-Type error exception when taking date as input(if the input does not contain number)\\\n",
        "-Value error exception, as day can not be greater than 31 and month can not be greater than 12\n",
        "\n",
        "\n",
        "\n",
        "\n",
        "\n",
        "=============================\n",
        "\n",
        "\n",
        "**Example 1:** \\\n",
        "**Input:**\\\n",
        "3\\\n",
        "5\\\n",
        "**Output:**\\\n",
        "6.2 kilometres\n",
        "\n",
        "=================\n",
        "\n",
        "**Example 2:** \\\n",
        "**Input:**\\\n",
        "2\\\n",
        "0\\\n",
        "**Output:**\\\n",
        "0 is not a valid month\n",
        "\n",
        "=============================\n",
        "\n",
        "**Example 3:** \\\n",
        "**Input:**\\\n",
        "35\\\n",
        "12\\\n",
        "**Output:**\\\n",
        "35 is not a valid day of any month\n",
        "\n",
        "=============================\n",
        "\n",
        "**Example 4:** \\\n",
        "**Input:**\\\n",
        "Hello\\\n",
        "12\\\n",
        "**Output:**\\\n",
        "Please do not enter any string as input\n",
        "\n",
        "=============================\n",
        "\n",
        "\n",
        "**Example 5:** \\\n",
        "**Input:**\\\n",
        "15\\\n",
        "12\\\n",
        "**Output:**\\\n",
        "4.25 kilometres\n",
        "\n",
        "\n",
        "**Example 6:** \\\n",
        "**Input:**\\\n",
        "2\\\n",
        "15\\\n",
        "**Output:**\\\n",
        "15 is not a valid month\n",
        "\n",
        "\n",
        "**Hint(1):**\\\n",
        "Can use the built-in isdigit() function OR the ASCII values to ensure numbers as inputs\n",
        "\n",
        "\n",
        "**Hint(2):**\\\n",
        "Print the outputs in the except block with the help of conditional statements\n",
        "\n",
        "\n"
      ]
    },
    {
      "cell_type": "code",
      "metadata": {
        "id": "NOpi8SPREmVw",
        "colab": {
          "base_uri": "https://localhost:8080/"
        },
        "outputId": "de24163b-d978-4d80-f487-705c9d4aa55e"
      },
      "source": [
        "#day = 3\n",
        "#month = 5\n",
        "\n",
        "day = 4\n",
        "month = 0\n",
        "\n",
        "#day = 35\n",
        "#month = 12\n",
        "\n",
        "#day = \"Hello\"\n",
        "#month = 12\n",
        "\n",
        "try:\n",
        "  if type(day) == str or type(month) == str:\n",
        "    raise TypeError\n",
        "  if day > 31 or month > 12:\n",
        "    raise ValueError\n",
        "\n",
        "\n",
        "  if day<10:\n",
        "    km = 5+(day*2)/month\n",
        "  else:\n",
        "    km = 3+(day/month)\n",
        "  \n",
        "  print(km, \"kilometres\")\n",
        "\n",
        "except ZeroDivisionError:\n",
        "  print(\"0 is not a valid month\")\n",
        "except TypeError:\n",
        "  print(\"Please do not enter any string as input\")\n",
        "except ValueError:\n",
        "  if month > 12:\n",
        "    print(f\"{month} is not a valid month\")\n",
        "  elif day > 31:\n",
        "    print(f\"{day} is not a valid day\")"
      ],
      "execution_count": null,
      "outputs": [
        {
          "output_type": "stream",
          "name": "stdout",
          "text": [
            "0 is not a valid month\n"
          ]
        }
      ]
    },
    {
      "cell_type": "markdown",
      "metadata": {
        "id": "UrxbFOWk5ASO"
      },
      "source": [
        "## Optional Tasks (12-15)"
      ]
    },
    {
      "cell_type": "markdown",
      "metadata": {
        "id": "uIYrt-t8ETUQ"
      },
      "source": [
        "\n",
        "### Task 12\n",
        "Suppose you made a game and you stored information about the game play in a file.\\\n",
        "You stored Name, Score, Lives Used and Characters Killed of each players.\n",
        "\n",
        "**Existing file:**\\\n",
        "Mary,2000,5,25\\\n",
        "John,123455,12,50\\\n",
        "Peter,1500,5,10\\\n",
        "Harry,10000,10,30\\\n",
        "John,122,5,2\\\n",
        "Mary,5,1,1\\\n",
        "Peter,2,1,1\\\n",
        "John,123,5,10\\\n",
        "John,5,6,7\n",
        "\n",
        "**Now you have to make a new file where you have to store the following information:**\\\n",
        "1.In the first line you have to show the name and score of the player who scored the highest score.\n",
        "\n",
        "2.In the second line you have to store the name and lives used of players who used the least lives.\n",
        "\n",
        "3.In the third line you have to show the name and number of games played of the player who played the most games.\n",
        "\n",
        "**Output:**\\\n",
        "Name:John, Score:123455\\\n",
        "Name:Mary, Lives used:1\\\n",
        "Name:John, Games Played:4\n",
        "\n",
        "=========================================================\n",
        "\n",
        "**Hint(1):**\\\n",
        "Use dictionary where necessary.\\\n",
        "You are allowed to use max() min(), list.index(value) and str.split(separator) function.\n",
        "\n",
        "**Hint(2):**\\\n",
        "You need to use split function to get the data. The split function takes the separator as an argument.\n",
        "\n",
        "*Structure:*\n",
        "str.split(separator)\n",
        "\n",
        "*Example:*\n",
        "line = \"John,5,6,7\"\\\n",
        "line.split(',')\n",
        "\n",
        "**Hint(3):**\\\n",
        "You can use both write() and writelines() for writing the answers\n",
        "\n"
      ]
    },
    {
      "cell_type": "code",
      "metadata": {
        "id": "0eB5wE1p-869",
        "colab": {
          "base_uri": "https://localhost:8080/"
        },
        "outputId": "a2694fc5-b22e-4204-c93d-a373618fa3e8"
      },
      "source": [
        "import sys\n",
        "\n",
        "\n",
        "\n",
        "def write_details(lines):\n",
        "  details = []\n",
        "  dict_name_count = dict()\n",
        "\n",
        "  for line in lines:\n",
        "    stripped_line = line.strip(\"\\n\")\n",
        "    info = stripped_line.split(\",\")\n",
        "\n",
        "    name = info[0]\n",
        "    score = int(info[1])\n",
        "    lives_used = int(info[2])\n",
        "    characters_killed = int(info[3])\n",
        "    dict_name_count[name] = 0\n",
        "    details.append([name,score, lives_used, characters_killed])\n",
        "\n",
        "  highscore = highest_score(details)\n",
        "  least_no_of_lives = least_lives(details)\n",
        "  max_games = most_games(details, dict_name_count)\n",
        "\n",
        "  file2 = open(\"task12_answer\", \"w\")\n",
        "  file2.write(highscore + \"\\n\")\n",
        "  file2.write(least_no_of_lives + \"\\n\")\n",
        "  file2.write(max_games + \"\\n\")\n",
        "\n",
        "  print(highscore)\n",
        "  print(least_no_of_lives)\n",
        "  print(max_games)\n",
        "\n",
        "  \n",
        "\n",
        "\n",
        "def highest_score(details, index_count = 1):\n",
        "\n",
        "  highest_score = -1\n",
        "  highest_name = \"\"\n",
        "  \n",
        "  for idx in range(0, len(details)):\n",
        "    score = details[idx][index_count]\n",
        "\n",
        "    if score > highest_score:\n",
        "      highest_name = details[idx][0]\n",
        "      highest_score = score\n",
        "\n",
        "  return f\"Name:{highest_name}, Score:{highest_score}\"\n",
        "  \n",
        "\n",
        "\n",
        "def least_lives(details, index_count = 2):\n",
        "\n",
        "  least_lives = sys.maxsize\n",
        "  least_name = \"\"\n",
        "  \n",
        "  for idx in range(0, len(details)):\n",
        "    score = details[idx][index_count]\n",
        "\n",
        "    if score < least_lives:\n",
        "      least_name = details[idx][0]\n",
        "      least_lives = score\n",
        "\n",
        "  return f\"Name:{least_name}, Lives used:{least_lives}\"\n",
        "\n",
        "\n",
        "def most_games(details, dict_name_count):\n",
        "  \n",
        "  for idx in range(0, len(details)):\n",
        "    name = details[idx][0]\n",
        "\n",
        "    dict_name_count[name] += 1\n",
        "\n",
        "  max_value = 0\n",
        "  max_name = \"\"\n",
        "\n",
        "  for name, value in dict_name_count.items():\n",
        "    if value > max_value:\n",
        "      max_name = name\n",
        "      max_value = value\n",
        "\n",
        "\n",
        "\n",
        "  return f\"Name:{max_name}, Games Played:{max_value}\"\n",
        "\n",
        "\n",
        "\n",
        "file1 = open(\"task12_existing_file.txt\", \"r\")\n",
        "lines = file1.readlines()\n",
        "write_details(lines)\n",
        "file1.close()"
      ],
      "execution_count": null,
      "outputs": [
        {
          "output_type": "stream",
          "name": "stdout",
          "text": [
            "Name:John, Score:123455\n",
            "Name:Mary, Lives used:1\n",
            "Name:John, Games Played:4\n"
          ]
        }
      ]
    },
    {
      "cell_type": "markdown",
      "metadata": {
        "id": "SjU5ufx8Snv3"
      },
      "source": [
        "### Task 13\n",
        "Read a **file** from the user which contains the  name and salary of employees. Convert that to a dictionary where the key is the name of each employee and value is the salary of that employee. Then find the total cost for the company that it needs to pay through employees’ salary. Print the dictionary and sum if no exception occurs.\n",
        "\n",
        "Exception to handle:\n",
        "* check whether file is actually there or not.\n",
        "* check whether the salary in each line is a number or not.\n",
        "* raise error if there are extra numbers or names\n",
        "\n",
        "=============================\n",
        "\n",
        "**Example 1:** \\\n",
        "**Input:**\\\n",
        "Saadat 100\\\n",
        "Farzad 200\\\n",
        "Atef 300\\\n",
        "**Output:**\\\n",
        "dict={Saadat : 100, Farzad : 200, Atef : 300}\\\n",
        "Sum = 600\n",
        "\n",
        "=================\n",
        "\n",
        "**Example 2:** \\\n",
        "**Input:**\\\n",
        "Saadat 100\\\n",
        "Farzad 200\\\n",
        "Atef 300\\\n",
        "John\\\n",
        "**Output:**\\\n",
        "Extra Statement\n",
        "\n",
        "**Example 3:** \\\n",
        "**Input:**\\\n",
        "Saadat 100\\\n",
        "Farzad 200\\\n",
        "Atef john\\\n",
        "**Output:**\\\n",
        "Salary cannot be string\n"
      ]
    },
    {
      "cell_type": "code",
      "metadata": {
        "id": "SUxJ1iCXUAPg",
        "colab": {
          "base_uri": "https://localhost:8080/"
        },
        "outputId": "3868429a-cecd-4f10-f84d-20dea69ab198"
      },
      "source": [
        "try:\n",
        "  file1 = open(\"task13.txt\", \"r\")\n",
        "  lines = file1.readlines()\n",
        "  dict1 = {}\n",
        "  sum = 0\n",
        "\n",
        "  for sentence in lines:\n",
        "    info = sentence.strip(\"\\n\").split(\" \")\n",
        "    \n",
        "    key = info[0]\n",
        "    if len(info) == 1:\n",
        "      raise IndexError\n",
        "    salary = int(info[1])\n",
        "    dict1[key] = salary\n",
        "    sum += salary\n",
        "  \n",
        "  print(dict1)\n",
        "  print(\"Sum =\", sum)\n",
        "\n",
        "except FileNotFoundError:\n",
        "  print(\"File not found\")\n",
        "except ValueError:\n",
        "  print(\"Salary cannot be string\")\n",
        "except IndexError:\n",
        "  print(\"Extra Statement\")"
      ],
      "execution_count": null,
      "outputs": [
        {
          "output_type": "stream",
          "name": "stdout",
          "text": [
            "Salary cannot be string\n"
          ]
        }
      ]
    },
    {
      "cell_type": "markdown",
      "metadata": {
        "id": "2Xzq6xJNWvbf"
      },
      "source": [
        "### Task 14\n",
        "Write a python program to make a calculator. The user must input a string consisting of a number, operator and another number separated by white spaces.\n",
        "* If the user’s input does not contain 3 elements, raise an **exception error** stating \"Input does not contain 3 elements/Wrong operator\".\n",
        "* If the user inputs any other values except numbers in first and third position of the input, raise **value error** exception stating \"Input does not contain numbers.\" \n",
        "* If the user does not input \"+\" or \"-\" or \"/\" or \"*\" or \"%\" in second position of the input, again raise an **exception error** stating \"Input does not contain 3 elements/Wrong operator\".\n",
        "\n",
        "* In case of division, also handle **divide by zero exception**.\n",
        "\n",
        "\n",
        "If all the inputs are correct, calculate the result and print the value.\n",
        "\n",
        "\n",
        "=============================\n",
        "\n",
        "\n",
        "**Example 1:** \\\n",
        "**Input:**\\\n",
        "1 + 1 + 1\\\n",
        "**Output:**\\\n",
        "Input does not contain 3 elements/Wrong operator\n",
        "\n",
        "=================\n",
        "\n",
        "**Example 2:** \\\n",
        "**Input:**\\\n",
        "A * B\\\n",
        "**Output:**\\\n",
        "Input does not contain numbers.\n",
        "\n",
        "=================\n",
        "\n",
        "**Example 3:** \\\n",
        "**Input:**\\\n",
        "1 $ 3\\\n",
        "**Output:**\\\n",
        "Input does not contain 3 elements/Wrong operator\n",
        "\n",
        "=================\n",
        "\n",
        "**Example 4:** \\\n",
        "**Input:**\\\n",
        "1 + 1\\\n",
        "**Output:**\\\n",
        "The answer is : 2\n"
      ]
    },
    {
      "cell_type": "code",
      "metadata": {
        "id": "vX2d7DiVXbhc",
        "colab": {
          "base_uri": "https://localhost:8080/"
        },
        "outputId": "04c40a9c-875c-4f91-8b1d-745f713506b0"
      },
      "source": [
        "def operation(split_value):\n",
        "\n",
        "  try:\n",
        "    if len(split_value) != 3:\n",
        "      raise ValueError\n",
        "\n",
        "    num_1 = split_value[0]\n",
        "    operator = split_value[1]\n",
        "    num_2 = split_value[2]\n",
        "\n",
        "    if operator not in [\"+\", \"-\", \"*\", \"/\"]:\n",
        "      raise ValueError\n",
        "    elif not num_1.isdigit() or not num_2.isdigit() :\n",
        "      raise TypeError\n",
        "    elif operator == \"/\" and int(num_2) == 0:\n",
        "      raise ZeroDivisionError\n",
        "\n",
        "    \n",
        "    answer = get_answer(int(num_1), operator, int(num_2))\n",
        "    print(\"The answer is :\", answer)\n",
        "\n",
        "\n",
        "  except ValueError:\n",
        "    print(\"Input does not contain 3 elements/Wrong operator\")\n",
        "  except TypeError:\n",
        "    print(\"Input does not contain numbers.\")\n",
        "  except ZeroDivisionError:\n",
        "    print(\"The number is not divisible by 0.\")\n",
        "\n",
        "\n",
        "\n",
        "def get_answer(num1, operator, num2):\n",
        "  if operator == \"+\":\n",
        "    return num1 + num2\n",
        "  elif operator == \"-\":\n",
        "    return num1 - num2\n",
        "  elif operator == \"*\":\n",
        "    return num1 * num2\n",
        "  elif operator == \"/\":\n",
        "    return num1 / num2\n",
        "\n",
        "#input_value = \"1 + 1 + 1\"\n",
        "#input_value = \"A * B\"\n",
        "#input_value = \"1 $ 3\"\n",
        "#input_value = \"1 + 3\"\n",
        "input_value = \"1 / 0\"\n",
        "\n",
        "split_value = input_value.split(\" \")\n",
        "\n",
        "operation(split_value)"
      ],
      "execution_count": 15,
      "outputs": [
        {
          "output_type": "stream",
          "name": "stdout",
          "text": [
            "The number is not divisible by 0.\n"
          ]
        }
      ]
    },
    {
      "cell_type": "markdown",
      "metadata": {
        "id": "RdshPzpJRcsD"
      },
      "source": [
        "### Task 15\n",
        "Write a python function that will remove a given character from a sentence based on the starting and ending index of the sentence. In the place of the removed characters, add the count of the number of characters removed so far. For this program, you need to take 4 user inputs.\n",
        "* Sentence\n",
        "* Character to be removed\n",
        "* Starting index (inclusive)\n",
        "* Ending index (inclusive)\n",
        "\n",
        "Few exceptions to catch: \n",
        "* Name Error if a variable is not found. Print ‘Name Error: Variable not defined’\n",
        "* Value Error if the starting index and ending index is not an integer. Print ‘Value Error: Wrong input, please enter an integer value.’\n",
        "* Type Error when adding count in the new sentence. Print ‘Type Error: Cannot add integer value with string.’\n",
        "* Index Error if the starting and ending index is out of range. Print ‘Index Error: Index is outside the range of sentence length.’\n",
        "* For other exceptions, catch Exception. Print ‘Some other error occurred.’\n",
        "\n",
        "If no exception occurred, print the new string using else block. At the end using finally, print ‘The program execution is complete’.\n",
        "\n",
        "=============================\n",
        "\n",
        "**Example 1:** \\\n",
        "**Input:**\\\n",
        "'my python programming book'\\\n",
        "'m'\\\n",
        "2\\\n",
        "20\\\n",
        "**Output:**\\\n",
        "my python progra12ing book\\\n",
        "The program execution is complete\n",
        "\n",
        "=================\n",
        "\n",
        "**Example 2:** \\\n",
        "**Input:**\\\n",
        "'my python programming book'\\\n",
        "'m'\\\n",
        "2.5\\\n",
        "20\\\n",
        "**Output:**\\\n",
        "Value Error: Wrong input, please enter an integer value.\\\n",
        "The program execution is complete\n",
        "\n",
        "=================\n",
        "\n",
        "**Example 3:** \\\n",
        "**Input:**\\\n",
        "'my python programming book'\\\n",
        "'m'\\\n",
        "2\\\n",
        "100\\\n",
        "**Output:**\\\n",
        "Index Error: Index is outside the range of sentence length.\\\n",
        "The program execution is complete\n",
        "\n",
        "=================\n",
        "\n",
        "**Hint(1):**\\\n",
        "For ensuring starting index and ending index value to be integer use the builtin function isinstance(value, data_type)\n"
      ]
    },
    {
      "cell_type": "code",
      "metadata": {
        "id": "bcU6dV5BSl7d",
        "colab": {
          "base_uri": "https://localhost:8080/"
        },
        "outputId": "d4a45be6-bba9-4e52-c911-ed0ebd9718eb"
      },
      "source": [
        "def sentence_remove_character(sentence, removed_character, start, end):\n",
        "  \n",
        "  if not isinstance(start, int) or not isinstance(end, int):\n",
        "    raise ValueError\n",
        "  elif start < 0 or end >= len(sentence):\n",
        "    raise IndexError\n",
        "\n",
        "  count = 1\n",
        "  new_sentence = \"\"\n",
        "  for i in range(0, len(sentence)):\n",
        "    if sentence[i] == removed_character and start <= i <= end:\n",
        "      new_sentence += str(count)\n",
        "      count += 1\n",
        "    else:\n",
        "      new_sentence += sentence[i]\n",
        "\n",
        "  print(new_sentence)\n",
        "\n",
        "\n",
        "#sentence = 'my python programming book'\n",
        "#removed_character = 'm'\n",
        "#start = 2\n",
        "#end = 20\n",
        "\n",
        "#sentence = 'my python programming book'\n",
        "#removed_character = 'm'\n",
        "#start = 2.5\n",
        "#end = 20\n",
        "\n",
        "sentence = 'my python programming book'\n",
        "removed_character = 'm'\n",
        "start = 2\n",
        "end = 100\n",
        "\n",
        "\n",
        "\n",
        "try:\n",
        "  sentence_remove_character(sentence, removed_character, start, end)\n",
        "except NameError:\n",
        "  print(\"Name Error: Variable not defined\")\n",
        "except ValueError:\n",
        "  print(\"Value Error: Wrong input, please enter an integer value.\")\n",
        "except TypeError:\n",
        "  print(\"Type Error: Cannot add integer value with string.\")\n",
        "except IndexError:\n",
        "  print(\"Index Error: Index is outside the range of sentence length.\")\n",
        "except Exception:\n",
        "  print(\"Some other error occurred.\")\n",
        "finally:\n",
        "  print(\"The program execution is complete\")"
      ],
      "execution_count": 35,
      "outputs": [
        {
          "output_type": "stream",
          "name": "stdout",
          "text": [
            "Index Error: Index is outside the range of sentence length.\n",
            "The program execution is complete\n"
          ]
        }
      ]
    }
  ]
}