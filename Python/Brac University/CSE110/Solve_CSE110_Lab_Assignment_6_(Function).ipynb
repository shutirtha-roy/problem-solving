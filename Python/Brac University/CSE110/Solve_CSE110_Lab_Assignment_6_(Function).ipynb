{
  "nbformat": 4,
  "nbformat_minor": 0,
  "metadata": {
    "kernelspec": {
      "display_name": "Python 3",
      "language": "python",
      "name": "python3"
    },
    "language_info": {
      "codemirror_mode": {
        "name": "ipython",
        "version": 3
      },
      "file_extension": ".py",
      "mimetype": "text/x-python",
      "name": "python",
      "nbconvert_exporter": "python",
      "pygments_lexer": "ipython3",
      "version": "3.7.6"
    },
    "colab": {
      "name": "Solve_CSE110_Lab_Assignment_6_(Function).ipynb",
      "provenance": [],
      "collapsed_sections": []
    }
  },
  "cells": [
    {
      "cell_type": "markdown",
      "metadata": {
        "id": "mRHB9cBf5D7V"
      },
      "source": [
        "# CSE110 Lab Assignment 6\n",
        "This assignment is to guide you to solve everything you have learned so far by implementing functions in Python. \n",
        "\n",
        "\n",
        "\n",
        "Write your name, student id and CSE110 section below:"
      ]
    },
    {
      "cell_type": "code",
      "metadata": {
        "id": "YzSo433_gwDg"
      },
      "source": [
        "#STUDENT NAME:\n",
        "#STUDENT ID:\n",
        "#CSE110 SECTION: "
      ],
      "execution_count": null,
      "outputs": []
    },
    {
      "cell_type": "markdown",
      "metadata": {
        "id": "_uzpm0b85D7Z"
      },
      "source": [
        "**<font color='red'>[MUST MAINTAIN VARIABLE NAMING CONVENTIONS FOR ALL THE TASKS]</font>**\n",
        "\n",
        "## Write the Python code of the following problems:\n",
        "\n",
        "### Task 1\n",
        "Write a function called **even_checker** that takes a number as an argument and prints whether the number is even or odd **inside the function**.\n",
        "\n",
        "===================================\n",
        "\n",
        "**Example1:** \\\n",
        "**Function Call:**\\\n",
        "even_checker(5)\\\n",
        "**Output:**\\\n",
        "Odd!!\n",
        "\n",
        "=============================\n",
        "\n",
        "**Example2:** \\\n",
        "**Function Call:**\\\n",
        "even_checker(2)\\\n",
        "**Output:**\\\n",
        "Even!!\n",
        "\n"
      ]
    },
    {
      "cell_type": "code",
      "metadata": {
        "id": "tMMBecSe5D7a",
        "colab": {
          "base_uri": "https://localhost:8080/"
        },
        "outputId": "793c0deb-48dc-4581-9440-ce02dd58816e"
      },
      "source": [
        "def even_checker(num):\n",
        "  if num % 2 == 0:\n",
        "    print(\"Even!!\")\n",
        "  elif num % 2 == 1:\n",
        "    print(\"Odd!!\")\n",
        "\n",
        "#even_checker(5)\n",
        "even_checker(2)"
      ],
      "execution_count": null,
      "outputs": [
        {
          "output_type": "stream",
          "name": "stdout",
          "text": [
            "Even!!\n"
          ]
        }
      ]
    },
    {
      "cell_type": "markdown",
      "metadata": {
        "id": "YFKgn6Yw5D7f"
      },
      "source": [
        "### Task 2\n",
        "Write a python function that takes the limit as an argument of the Fibonacci series and prints till that limit. \n",
        "\n",
        "===================================\n",
        "\n",
        "**Function Call:**\\\n",
        "fibonacci(10)\\\n",
        "**Output:**\\\n",
        "0 1 1 2 3 5 8\\\n",
        "======================\\\n",
        "**Function Call:**\\\n",
        "fibonacci(5)\\\n",
        "**Output:**\\\n",
        "0 1 1 2 3 5 "
      ]
    },
    {
      "cell_type": "code",
      "metadata": {
        "id": "J4ab_IeA5D7g",
        "colab": {
          "base_uri": "https://localhost:8080/"
        },
        "outputId": "7d5ba0bf-15e2-499b-803d-7a3bf7fe595c"
      },
      "source": [
        "def fibonacci(num):\n",
        "  num_1 = 0\n",
        "  num_2 = 1\n",
        "  num_3 = num_1 + num_2\n",
        "  print(num_1, end = \" \")\n",
        "\n",
        "\n",
        "  while num_3 <= num:\n",
        "    print(num_3, end = \" \")\n",
        "    num_3 = num_1 + num_2\n",
        "    num_1 = num_2\n",
        "    num_2 = num_3\n",
        "\n",
        "#fibonacci(5)\n",
        "fibonacci(10)"
      ],
      "execution_count": null,
      "outputs": [
        {
          "output_type": "stream",
          "name": "stdout",
          "text": [
            "0 1 1 2 3 5 8 "
          ]
        }
      ]
    },
    {
      "cell_type": "markdown",
      "metadata": {
        "id": "rDY_xNcO5D7k"
      },
      "source": [
        "### Task 3\n",
        "Write a function called **foo_moo** that takes a number as an argument and **returns** the following statements according the below mentioned conditions. Then, finally prints the statement in the function call. \n",
        "\n",
        "* \tIf the number is divisible by 2, it should return \"Foo\".\n",
        "*   If the number is divisible by 3, it should return \"Moo\". \n",
        "*   If the number is divisible by both 2 and 3, it should return \"FooMoo\".\n",
        "*   Otherwise, it returns \"Boo\".\n",
        "\n",
        "===================================\n",
        "\n",
        "**Example1:** \\\n",
        "**Function Call:**\\\n",
        "foo_moo(5)\\\n",
        "**Output:**\\\n",
        "Boo\n",
        "\n",
        "=================\n",
        "\n",
        "\n",
        "**Example2:** \\\n",
        "**Function Call:**\\\n",
        "foo_moo(4)\\\n",
        "**Output:**\\\n",
        "Foo\n",
        "\n",
        "=================\n",
        "\n",
        "\n",
        "**Example3:** \\\n",
        "**Function Call:**\\\n",
        "foo_moo(6)\\\n",
        "**Output:**\\\n",
        "FooMoo\n",
        "\n"
      ]
    },
    {
      "cell_type": "code",
      "metadata": {
        "id": "2roUcNrC5D7l",
        "colab": {
          "base_uri": "https://localhost:8080/"
        },
        "outputId": "1a717cb2-8e76-4cf9-95e5-e0230b1df338"
      },
      "source": [
        "def foo_moo(num):\n",
        "  if num % 2 == 0 and num % 3 == 0:\n",
        "    return \"FooMoo\"\n",
        "  elif num % 2 == 0:\n",
        "    return \"Foo\"\n",
        "  elif num % 3 == 0:\n",
        "    return \"Moo\"\n",
        "  else:\n",
        "    return \"Boo\"\n",
        "\n",
        "#print(foo_moo(5))\n",
        "#print(foo_moo(4))\n",
        "print(foo_moo(6))\n"
      ],
      "execution_count": null,
      "outputs": [
        {
          "output_type": "stream",
          "name": "stdout",
          "text": [
            "FooMoo\n"
          ]
        }
      ]
    },
    {
      "cell_type": "markdown",
      "metadata": {
        "id": "nemw1U-i5D7s"
      },
      "source": [
        "### Task 4\n",
        "Write a python function that takes a string as an argument. Your task is to calculate the number of uppercase letters and lowercase letters and print them in the function. \n",
        "\n",
        "===================================\n",
        "\n",
        "**Function Call:**\\\n",
        "function_name('The quick Sand Man')\\\n",
        "**Output:**\\\n",
        "No. of Uppercase characters : 3\\\n",
        "No. of Lowercase Characters: 12\\\n",
        "============================\\\n",
        "**Function Call:**\\\n",
        "function_name('HaRRy PotteR')\\\n",
        "**Output:**\\\n",
        "No. of Uppercase characters : 5\\\n",
        "No. of Lowercase Characters: 6\n"
      ]
    },
    {
      "cell_type": "code",
      "metadata": {
        "id": "4ZBb4Mcr5D7t",
        "colab": {
          "base_uri": "https://localhost:8080/"
        },
        "outputId": "3b48350b-98a1-42fd-b0a9-f0b3b3e0b57c"
      },
      "source": [
        "def function_name(name):\n",
        "  name_list = name.split(\" \")\n",
        "  lowercase_count = 0\n",
        "  uppercase_count = 0\n",
        "\n",
        "  for individual_name in name_list:\n",
        "    for character in individual_name:\n",
        "      if character.islower():\n",
        "        lowercase_count += 1\n",
        "      elif character.isupper():\n",
        "        uppercase_count += 1\n",
        "\n",
        "  print(\"No. of Uppercase characters : \" + str(uppercase_count) + \"\\nNo. of Lowercase Characters: \" + str(lowercase_count))\n",
        "\n",
        "function_name('The quick Sand Man')\n",
        "#function_name('HaRRy PotteR')"
      ],
      "execution_count": null,
      "outputs": [
        {
          "output_type": "stream",
          "name": "stdout",
          "text": [
            "No. of Uppercase characters : 3\n",
            "No. of Lowercase Characters: 12\n"
          ]
        }
      ]
    },
    {
      "cell_type": "markdown",
      "metadata": {
        "id": "e9bojIHe5D7w"
      },
      "source": [
        "### Task 5\n",
        "Write a function called **calculate_tax** that takes 3 arguments: your age, salary, and current job designation.\n",
        "\n",
        "\n",
        "Your first task is to take these arguments as user input and pass these values to the function.\n",
        "\n",
        "Your second task is to implement the function and calculate the tax as the following conditions:\n",
        "*  **NO TAX IF YOU ARE LESS THAN 18 YEARS OLD.**\n",
        "*  **NO TAX IF YOU ARE THE PRESIDENT OF THE COMPANY** \n",
        "*  No tax if you get paid less than 10,000\n",
        "*  5% tax if you get paid between 10K and 20K\n",
        "*  10% tax if you get paid more than 20K\n",
        "\n",
        "\n",
        "Finally return this tax value. Then print the returned value in the function call.\n",
        "\n",
        "===================================\n",
        "\n",
        "**Hints:**\\\n",
        "Here the job designation is a string, so it can be written in both uppercase and lower cases. So, you need to check the value ignoring the case.\n",
        "\n",
        "===================================\n",
        "\n",
        "**Example1:** \\\n",
        "**Input:**\\\n",
        "16\\\n",
        "20000\\\n",
        "Student\\\n",
        "**Function Call:**\\\n",
        "calculate_tax(16, 20000, 'Student')\\\n",
        "**Output:**\\\n",
        "0\n",
        "\n",
        "===================================\n",
        "\n",
        "**Example2:** \\\n",
        "**Input:**\\\n",
        "20\\\n",
        "18000\\\n",
        "assistant manager\\\n",
        "**Function Call:**\\\n",
        "calculate_tax(20, 18000, 'assistant manager')\\\n",
        "**Output:**\\\n",
        "900.0\n",
        "\n",
        "\n",
        "===================================\n",
        "\n",
        "**Example3:** \\\n",
        "**Input:**\\\n",
        "20\\\n",
        "22000\\\n",
        "assistant manager\\\n",
        "**Function Call:**\\\n",
        "calculate_tax(20, 22000, 'Assistant manager')\\\n",
        "**Output:**\\\n",
        "2200.0\n",
        "\n",
        "===================================\n",
        "\n",
        "\n",
        "**Example4:** \\\n",
        "**Input:**\\\n",
        "20\\\n",
        "122000\\\n",
        "president\\\n",
        "**Function Call:**\\\n",
        "calculate_tax(20, 122000, 'president')\\\n",
        "**Output:**\\\n",
        "0\n",
        " \n",
        "\n",
        "\n"
      ]
    },
    {
      "cell_type": "code",
      "metadata": {
        "id": "M4oo-FKQ5D7x",
        "colab": {
          "base_uri": "https://localhost:8080/"
        },
        "outputId": "76bcb1a0-0ad6-4048-a44a-f70442167a9e"
      },
      "source": [
        "def calculate_tax(age, salary, designation):\n",
        "\n",
        "  if age < 18 or designation.lower() == \"president\" or salary < 10000:\n",
        "    return 0\n",
        "  elif 10000 <= salary <= 20000:\n",
        "    return salary * 0.05\n",
        "  elif salary > 10000:\n",
        "    return salary * 0.10\n",
        "\n",
        "\n",
        "#print(calculate_tax(16, 20000, 'Student'))\n",
        "#print(calculate_tax(20, 18000, 'assistant manager'))\n",
        "#print(calculate_tax(20, 22000, 'Assistant manager'))\n",
        "print(calculate_tax(20, 122000, 'president'))"
      ],
      "execution_count": null,
      "outputs": [
        {
          "output_type": "stream",
          "name": "stdout",
          "text": [
            "0\n"
          ]
        }
      ]
    },
    {
      "cell_type": "markdown",
      "metadata": {
        "id": "VXLQHyLp5D71"
      },
      "source": [
        "### Task 6\n",
        "Write a function which will take 1 argument, number of days.\n",
        "\n",
        "Your first task is to take the number of days as user input and pass the value to the function.\n",
        " \n",
        "Your second task is to implement the function and calculate the total number of years, number of months, and the remaining number of days as output. No need to return any value, print inside the function. \n",
        "\n",
        "**Note:** Assume, each year to be 365 days and month to be 30 days.\n",
        "\n",
        "=====================================================\n",
        "\n",
        "**Hint(1):**  Divide and mod the main input to get the desired output.\n",
        "\n",
        "**Hint(2):**\n",
        "This task’s calculation is similar to Assignment-1’s seconds to hours, minutes conversion.\n",
        "\n",
        "=====================================================\n",
        "\n",
        "**Example01**\n",
        "\n",
        "**Input:**\\\n",
        "4330\\\n",
        "**Function Call:**\\\n",
        "function_name(4330)\\\n",
        "**Output:**\\\n",
        "11 years, 10 months and 15 days\n",
        "\n",
        "================================\n",
        "\n",
        "**Example02**\n",
        "\n",
        "**Input:**\\\n",
        "2250\\\n",
        "**Function Call:**\\\n",
        "function_name(2250)\\\n",
        "**Output:**\\\n",
        "6 years, 2 months and 0 days\n",
        "\n",
        "\n"
      ]
    },
    {
      "cell_type": "code",
      "metadata": {
        "id": "gkE9d9gs5D72",
        "colab": {
          "base_uri": "https://localhost:8080/"
        },
        "outputId": "25301025-351f-4135-f0c4-3ead192fe781"
      },
      "source": [
        "def function_name(day):\n",
        "  days = day\n",
        "  year = int(day / 365)\n",
        "  days = days - year * 365\n",
        "  months = int(days / 30)\n",
        "  days = days - months * 30\n",
        "  print(year, \"years\", \",\", months, \"months, and\", days, \"days\")\n",
        "\n",
        "\n",
        "function_name(4330)\n",
        "#function_name(2250)"
      ],
      "execution_count": null,
      "outputs": [
        {
          "output_type": "stream",
          "name": "stdout",
          "text": [
            "11 years , 10 months, and 15 days\n"
          ]
        }
      ]
    },
    {
      "cell_type": "markdown",
      "metadata": {
        "id": "8-vvES0i5D8B"
      },
      "source": [
        "### Task 7\n",
        "Write a function called **show_palindrome** that takes a number as an argument and then returns a palindrome string. Finally, prints the returned value in the function call.\n",
        "\n",
        "=====================================================\n",
        "\n",
        "**Example1:** \\\n",
        "**Function Call:**\\\n",
        "show_palindrome(5)\\\n",
        "**Output:**\\\n",
        "123454321\n",
        "\n",
        "===================\n",
        "\n",
        "**Example2:** \\\n",
        "**Function Call:**\\\n",
        "show_palindrome(3)\\\n",
        "**Output:**\\\n",
        "12321\n"
      ]
    },
    {
      "cell_type": "code",
      "metadata": {
        "id": "QN-Iu8sz5D8C",
        "colab": {
          "base_uri": "https://localhost:8080/"
        },
        "outputId": "49abc315-1bdb-4cff-e45d-87d1cdeea4ef"
      },
      "source": [
        "def show_palindrome(num):\n",
        "  forward_value = \"\"\n",
        "  reverse_value = \"\"\n",
        "\n",
        "  for value in range(1, num):\n",
        "    forward_value += str(value)\n",
        "    reverse_value += str(num - value)\n",
        "\n",
        "  new_value = forward_value + str(num) + reverse_value\n",
        "\n",
        "  return new_value \n",
        "\n",
        "#print(show_palindrome(5))\n",
        "print(show_palindrome(3))"
      ],
      "execution_count": null,
      "outputs": [
        {
          "output_type": "stream",
          "name": "stdout",
          "text": [
            "12321\n"
          ]
        }
      ]
    },
    {
      "cell_type": "markdown",
      "metadata": {
        "id": "V_PVNpx45D8F"
      },
      "source": [
        "### Task 8\n",
        "Write a function called **show_palindromic_triangle** that takes a number as an argument and prints a Palindromic Triangle in the function.\n",
        "\n",
        "**<font color='blue'>[Must reuse the show_palindrome() function of the previous task]</font>**\n",
        "\n",
        "\n",
        "\n",
        "=====================================================\n",
        "\n",
        "**Hints(1):** \\\n",
        "Need to use both print() and print( , end = \" \") functions\n",
        "\n",
        "\n",
        "=====================================================\n",
        "\n",
        "**Example1:** \\\n",
        "**Function Call:**\\\n",
        "show_palindromic_triangle(5)\\\n",
        "**Output:**\n",
        "\n",
        "&emsp; &emsp; &emsp; &emsp; 1\\\n",
        "&emsp; &emsp; &emsp; 1 &nbsp; 2 &nbsp; 1 \\\n",
        "&emsp; &emsp; 1 &nbsp; 2 &nbsp; 3 &nbsp; 2 &nbsp; 1 \\\n",
        "&emsp; 1 &nbsp; 2 &nbsp; 3 &nbsp; 4 &nbsp; 3 &nbsp; 2 &nbsp; 1 \\\n",
        "1 &nbsp; 2 &nbsp; 3 &nbsp; 4 &nbsp; 5 &nbsp; 4 &nbsp; 3 &nbsp; 2 &nbsp; 1\n",
        "\n",
        "=============================================================\n",
        "\n",
        "\n",
        "**Example2:** \\\n",
        "**Function Call:**\\\n",
        "show_palindromic_triangle(3)\\\n",
        "**Output:**\n",
        "\n",
        "&emsp; &emsp; 1 \\\n",
        "&emsp; 1 &nbsp; 2 &nbsp; 1 \\\n",
        "1 &nbsp; 2 &nbsp; 3 &nbsp; 2 &nbsp; 1\n",
        "\n",
        "\n"
      ]
    },
    {
      "cell_type": "code",
      "metadata": {
        "colab": {
          "base_uri": "https://localhost:8080/"
        },
        "id": "7lhbsddge8Jp",
        "outputId": "1d27393d-966b-4c09-fd73-fadd6d0ef9ab"
      },
      "source": [
        "def show_palindromic_triangle(num):\n",
        "  for i in range(1, num + 1):\n",
        "    space = int(((num * 2 - 1) / 2) + 1) - i\n",
        "    space_create = \" \" * int(space) * 2\n",
        "    digits = show_palindrome(i)\n",
        "\n",
        "    new_space_digit = digits[0] + \" \"\n",
        "\n",
        "    for idx in range(1, len(digits)):\n",
        "      new_space_digit = new_space_digit + digits[idx] + \" \"\n",
        "\n",
        "    print(space_create + new_space_digit[:-1])\n",
        "\n",
        "#show_palindromic_triangle(3)\n",
        "show_palindromic_triangle(5)"
      ],
      "execution_count": null,
      "outputs": [
        {
          "output_type": "stream",
          "name": "stdout",
          "text": [
            "        1\n",
            "      1 2 1\n",
            "    1 2 3 2 1\n",
            "  1 2 3 4 3 2 1\n",
            "1 2 3 4 5 4 3 2 1\n"
          ]
        }
      ]
    },
    {
      "cell_type": "code",
      "source": [
        "def show_palindromic_triangle(num):\n",
        "  for i in range(1, num + 1):\n",
        "    digits = show_palindrome(i)\n",
        "\n",
        "\n",
        "    space_create = \" \" * (num - i) * 2\n",
        "\n",
        "    new_space_digit = digits[0] + \" \"\n",
        "\n",
        "    for idx in range(1, len(digits)):\n",
        "      new_space_digit = new_space_digit + digits[idx] + \" \"\n",
        "\n",
        "    print(space_create + new_space_digit[:-1])\n",
        "\n",
        "show_palindromic_triangle(3)\n",
        "#show_palindromic_triangle(5)"
      ],
      "metadata": {
        "id": "rQh6LIZgjIeC",
        "colab": {
          "base_uri": "https://localhost:8080/"
        },
        "outputId": "9e61e3bf-cb40-4a14-e563-64bfda57b2ed"
      },
      "execution_count": null,
      "outputs": [
        {
          "output_type": "stream",
          "name": "stdout",
          "text": [
            "    1\n",
            "  1 2 1\n",
            "1 2 3 2 1\n"
          ]
        }
      ]
    },
    {
      "cell_type": "code",
      "source": [
        "def show_palindromic_triangle(num):\n",
        "  for i in range(1, num + 1):\n",
        "    digits = show_palindrome(i)\n",
        "\n",
        "    \n",
        "    space_create = \" \" * (num - i)\n",
        "\n",
        "    new_space_digit = digits[0]\n",
        "\n",
        "    for idx in range(1, len(digits)):\n",
        "      new_space_digit = new_space_digit + digits[idx]\n",
        "\n",
        "    print(space_create + new_space_digit)\n",
        "\n",
        "show_palindromic_triangle(3)\n",
        "#show_palindromic_triangle(5)"
      ],
      "metadata": {
        "colab": {
          "base_uri": "https://localhost:8080/"
        },
        "id": "k7OiFIoE-KsE",
        "outputId": "84156271-5f74-4f54-c560-0c41b24d2e96"
      },
      "execution_count": null,
      "outputs": [
        {
          "output_type": "stream",
          "name": "stdout",
          "text": [
            "  1\n",
            " 1\n",
            "1\n"
          ]
        }
      ]
    },
    {
      "cell_type": "code",
      "source": [
        "def show_palindromic_triangle(num):\n",
        "  for i in range(1, num + 1):\n",
        "    digits = show_palindrome(i)\n",
        "    print(digits)\n",
        "\n",
        "show_palindromic_triangle(5)"
      ],
      "metadata": {
        "colab": {
          "base_uri": "https://localhost:8080/"
        },
        "id": "tMHJ4t0UkMRi",
        "outputId": "ce1a803a-0789-48d7-c79e-ccd7b60e16c4"
      },
      "execution_count": null,
      "outputs": [
        {
          "output_type": "stream",
          "name": "stdout",
          "text": [
            "1\n",
            "121\n",
            "12321\n",
            "1234321\n",
            "123454321\n"
          ]
        }
      ]
    },
    {
      "cell_type": "markdown",
      "metadata": {
        "id": "iLTMEWXg5D8M"
      },
      "source": [
        "### Task 09\n",
        "Write a function called **area_circumference_generator** that takes a radius of a circle as a  function parameter and calculates its circumference and area. Then returns these two results as a **tuple** and prints the results using tuple unpacking in the function call accorrding to the given format. \n",
        "\n",
        "<font color='blue'>**[Must use tuple packing & unpacking]** </font>\n",
        "\n",
        "=====================================================\n",
        "\n",
        "**Example1:** \\\n",
        "**Function Call:**\\\n",
        "area_circumference_generator(1)\\\n",
        "**Output:**\\\n",
        "(3.141592653589793, 6.283185307179586)\\\n",
        "Area of the circle is 3.141592653589793 and circumference is 6.283185307179586\n",
        "\n",
        "====================================\n",
        "\n",
        "**Example2:** \\\n",
        "**Function Call:**\\\n",
        "area_circumference_generator(1.5)\\\n",
        "**Output:**\\\n",
        "(7.0685834705770345, 9.42477796076938)\\\n",
        "Area of the circle is 7.0685834705770345 and circumference is 9.42477796076938\n",
        "\n",
        "====================================\n",
        "\n",
        "\n",
        "**Example3:** \\\n",
        "**Function Call:**\\\n",
        "area_circumference_generator(2.5)\\\n",
        "**Output:**\\\n",
        "(19.634954084936208, 15.707963267948966)\\\n",
        "Area of the circle is 19.634954084936208 and circumference is 15.707963267948966\n"
      ]
    },
    {
      "cell_type": "code",
      "metadata": {
        "id": "k8SLTHf35D8N",
        "colab": {
          "base_uri": "https://localhost:8080/"
        },
        "outputId": "3b9ccaeb-1b80-4692-d67b-db0520725a26"
      },
      "source": [
        "import math\n",
        "\n",
        "def area_circumference_generator(radius):\n",
        "  area = math.pi * radius * radius\n",
        "  circumference = 2 * math.pi * radius\n",
        "  return (area, circumference)\n",
        "\n",
        "area, circumference = area_circumference_generator(1)\n",
        "\n",
        "print(area_circumference_generator(1))\n",
        "print(\"Area of the circle is\", area, \"and circumference is\", circumference)\n",
        "#print(area_circumference_generator(1.5))\n",
        "#print(area_circumference_generator(2.5))"
      ],
      "execution_count": null,
      "outputs": [
        {
          "output_type": "stream",
          "name": "stdout",
          "text": [
            "(3.141592653589793, 6.283185307179586)\n",
            "Area of the circle is 3.141592653589793 and circumference is 6.283185307179586\n"
          ]
        }
      ]
    },
    {
      "cell_type": "markdown",
      "metadata": {
        "id": "NpgEU6ZI5D8S"
      },
      "source": [
        "### Task 10\n",
        "Write a function called **make_square** that takes a tuple in the parameter as a range of numbers (starting point and ending point (included)). The function should **return a dictionary** with the numbers as keys and its squares as values.\n",
        "\n",
        "=====================================================\n",
        "\n",
        "**Hints:** \\\n",
        "You need to declare a dictionary to store the result. You should use the range function to run the “for loop”.\n",
        "\n",
        "\n",
        "=====================================================\n",
        "\n",
        "**Example1:** \\\n",
        "**Function Call:**\\\n",
        "make_square((1,3))\\\n",
        "**Output:**\\\n",
        "{1: 1, 2: 4, 3: 9}\n",
        "\n",
        "====================================\n",
        "\n",
        "**Example2:** \\\n",
        "**Function Call:**\\\n",
        "make_square((5,9))\\\n",
        "**Output:**\\\n",
        "{5: 25, 6: 36, 7: 49, 8: 64, 9: 81}\n",
        "\n",
        "\n",
        "\n"
      ]
    },
    {
      "cell_type": "code",
      "metadata": {
        "id": "-KGD8b0F5D8T",
        "colab": {
          "base_uri": "https://localhost:8080/"
        },
        "outputId": "2179a0b3-f479-4046-dc63-49a3e9d12658"
      },
      "source": [
        "def make_square(key_range):\n",
        "  dict1 = dict()\n",
        "  start, end = key_range\n",
        "\n",
        "  for idx in range(start, end + 1):\n",
        "    dict1[idx] = idx * idx\n",
        "\n",
        "  return dict1\n",
        "\n",
        "#print(make_square((1,3)))\n",
        "print(make_square((5,9)))"
      ],
      "execution_count": null,
      "outputs": [
        {
          "output_type": "stream",
          "name": "stdout",
          "text": [
            "{5: 25, 6: 36, 7: 49, 8: 64, 9: 81}\n"
          ]
        }
      ]
    },
    {
      "cell_type": "markdown",
      "metadata": {
        "id": "J7xaBB5i5D8c"
      },
      "source": [
        "### Task 11\n",
        "Write a function called **rem_duplicate** that takes a tuple in the parameter and **return a tuple** removing all the duplicate values. Then print the returned tuple in the function call.\n",
        "\n",
        "<font color='red'>**[Cannot use remove() or removed() for this task]** </font>\n",
        "\n",
        "=====================================================\n",
        "\n",
        "**Hints:** \\\n",
        "Unlike lists, tuples are immutable so, the tuple taken as an argument cannot be modified. But list can be modified and lastly for returning the result use type conversion. You need to use membership operators (in, not in) for preventing adding any duplicates values.\n",
        "\n",
        "=====================================================\n",
        "\n",
        "\n",
        "**Example1:** \\\n",
        "**Function Call:**\\\n",
        "rem_duplicate((1,1,1,2,3,4,5,6,6,6,6,4,0,0,0))\\\n",
        "**Output:**\\\n",
        "(1, 2, 3, 4, 5, 6, 0)\n",
        "\n",
        "====================================\n",
        "\n",
        "**Example2:** \\\n",
        "**Function Call:**\\\n",
        "rem_duplicate((\"Hi\", 1, 2, 3, 3, \"Hi\",'a', 'a', [1,2]))\\\n",
        "**Output:**\\\n",
        "('Hi', 1, 2, 3, 'a', [1, 2])\n",
        "\n",
        "\n",
        "\n"
      ]
    },
    {
      "cell_type": "code",
      "metadata": {
        "id": "mniLLbJY5D8d",
        "colab": {
          "base_uri": "https://localhost:8080/"
        },
        "outputId": "84e120da-d1bd-48d3-910c-c65e3db62152"
      },
      "source": [
        "def rem_duplicate(tuples):\n",
        "  new_list = []\n",
        "\n",
        "  for value in tuples:\n",
        "    if value not in new_list:\n",
        "      new_list.append(value)\n",
        "\n",
        "  return tuple(new_list)\n",
        "\n",
        "#print(rem_duplicate((1,1,1,2,3,4,5,6,6,6,6,4,0,0,0)))\n",
        "print(rem_duplicate((\"Hi\", 1, 2, 3, 3, \"Hi\",'a', 'a', [1,2])))"
      ],
      "execution_count": null,
      "outputs": [
        {
          "output_type": "stream",
          "name": "stdout",
          "text": [
            "('Hi', 1, 2, 3, 'a', [1, 2])\n"
          ]
        }
      ]
    },
    {
      "cell_type": "markdown",
      "metadata": {
        "id": "yJxb2yrb5D8h"
      },
      "source": [
        "### Task 12\n",
        "Write a python function that takes a list as an argument. Your task is to create a new list where **each element can be present at max 2 times**. Inside the function, print the number of elements removed from the given list. Finally, return the new list and print the result.\n",
        "\n",
        "=====================================================\n",
        "\n",
        "**Hint:** You may use list_name.count(element) to count the total number of times an element is in a list. list_name is your new list for this problem.\n",
        "\n",
        "=====================================================\n",
        "\n",
        "**Function Call:**\\\n",
        "function_name([1, 2, 3, 3, 3, 3, 4, 5, 8, 8])\\\n",
        "**Output:**\\\n",
        "Removed: 2\\\n",
        "[1, 2, 3, 3, 4, 5, 8, 8]\\\n",
        "================================\\\n",
        "**Function Call:**\\\n",
        "function_name([10, 10, 15, 15, 20])\\\n",
        "**Output:**\\\n",
        "Removed: 0\\\n",
        "[10, 10, 15, 15, 20]"
      ]
    },
    {
      "cell_type": "code",
      "metadata": {
        "id": "URBhYdgt5D8h",
        "colab": {
          "base_uri": "https://localhost:8080/"
        },
        "outputId": "705cf47e-6847-4e3f-b3af-03a6ea339c67"
      },
      "source": [
        "def function_name(old_list):\n",
        "  dict_1 = dict()\n",
        "  for value in old_list:\n",
        "    dict_1[value] = old_list.count(value)\n",
        "\n",
        "  new_list = []\n",
        "  removed = 0\n",
        "  for key, value in dict_1.items():\n",
        "    if value > 1:\n",
        "      new_list.append(key)\n",
        "      new_list.append(key)\n",
        "      removed = removed + (value - 2) \n",
        "    else:\n",
        "      new_list.append(key)\n",
        "  \n",
        "  print(\"Removed:\", removed)\n",
        "\n",
        "  return new_list\n",
        "\n",
        "\n",
        "#print(function_name([1, 2, 3, 3, 3, 3, 4, 5, 8, 8]))\n",
        "print(function_name([10, 10, 15, 15, 20]))"
      ],
      "execution_count": null,
      "outputs": [
        {
          "output_type": "stream",
          "name": "stdout",
          "text": [
            "Removed: 0\n",
            "[10, 10, 15, 15, 20]\n"
          ]
        }
      ]
    },
    {
      "cell_type": "markdown",
      "metadata": {
        "id": "vqET24dk5D8u"
      },
      "source": [
        "### Task 13\n",
        "Write a python function that will perform the basic calculation (addition, subtraction, multiplication and division) based on 3 arguments. They are:\n",
        "- Operator ('+', '-', '/', '*')\n",
        "- First Operand (any number)\n",
        "- Second Operand (any number)\n",
        "\n",
        "Your first task is to take these arguments as user input and pass the values to the function parameters.\n",
        "\n",
        "Your second task is to write a function and performs the calculation based on the given operator. Then, finally return the result in the function call and print the result.\n",
        "\n",
        "=====================================================\n",
        "\n",
        "**Input:**\\\n",
        "\"+\"\\\n",
        "10\\\n",
        "20\\\n",
        "**Function Call:**\\\n",
        "function_name(\"+\", 10, 20)\\\n",
        "**Output:**\\\n",
        "30.0\n",
        "\n",
        "================================\n",
        "\n",
        "**Input:**\\\n",
        "\"*\"\\\n",
        "5.5\\\n",
        "2.5\\\n",
        "**Function Call:**\\\n",
        "function_name(\"*\", 5.5, 2.5)\\\n",
        "**Output:**\\\n",
        "13.75\n"
      ]
    },
    {
      "cell_type": "code",
      "metadata": {
        "id": "sh7YQRv_5D8v",
        "colab": {
          "base_uri": "https://localhost:8080/"
        },
        "outputId": "145175b9-c996-458f-f75a-fd75d57bf62b"
      },
      "source": [
        "def function_name(operator, number_one, number_two):\n",
        "  if operator == \"+\":\n",
        "    return number_one + number_two\n",
        "  elif operator == \"-\":\n",
        "    return number_one - number_two\n",
        "  elif operator == \"*\":\n",
        "    return number_one * number_two\n",
        "  elif operator == \"/\":\n",
        "    return number_one / number_two\n",
        "\n",
        "operator = \"+\"\n",
        "number_one = 10\n",
        "number_two = 20\n",
        "print(function_name(\"+\", 10, 20))"
      ],
      "execution_count": null,
      "outputs": [
        {
          "output_type": "stream",
          "name": "stdout",
          "text": [
            "30\n"
          ]
        }
      ]
    },
    {
      "cell_type": "markdown",
      "metadata": {
        "id": "KGitjtfO5D83"
      },
      "source": [
        "### Task 14\n",
        "Write a function which will take 2 arguments. They are:\n",
        "- Sentence \n",
        "- position \n",
        "\n",
        "Your first task is to take these arguments as user input and pass these values to the function parameters.\n",
        "\n",
        "Your second task is to implement the function and remove the characters at the index number which is divisible by the position (Avoid the index number 0 as it will always be divisible by the position, so no need to remove the index 0 character). \n",
        "Finally, add the removed characters at the end of the new string.\n",
        "\n",
        "Return the value and then finally, print the new string at the function call.\n",
        "\n",
        "<font color='red'>**[Cannot use remove() or removed() for this task]** </font>\n",
        "\n",
        "=====================================================\n",
        "\n",
        "**Input:**\\\n",
        "\"I love programming.\"\\\n",
        "3\\\n",
        "**Function call:**\\\n",
        "function_name(\"I love programming.\", 3)\\\n",
        "**Output:**\\\n",
        "I lveprgrmmngo oai.\n",
        "\n",
        "==============================================\n",
        "\n",
        "**Input:**\\\n",
        "\"Python is easy to learn. I love python.\"\\\n",
        "6\\\n",
        "**Function call:**\\\n",
        "function_name(\"Python is easy to learn. I love python.\", 6)\\\n",
        "**Output:**\\\n",
        "Pythonis eay to earn.I lov pythn. sl eo\n"
      ]
    },
    {
      "cell_type": "code",
      "metadata": {
        "id": "1Op6YcHY5D84",
        "colab": {
          "base_uri": "https://localhost:8080/"
        },
        "outputId": "bab0be05-a4a8-43df-d35b-d2b3ba90aae0"
      },
      "source": [
        "def function_name(sentence, remove_index):\n",
        "  new_str = \"\"\n",
        "  removed_str = \"\"\n",
        "  for idx in range(len(sentence)):\n",
        "    if idx != 0 and idx % remove_index == 0:\n",
        "      removed_str += sentence[idx]\n",
        "    else:  \n",
        "      new_str += sentence[idx]\n",
        "\n",
        "  new_str += removed_str\n",
        "\n",
        "  return new_str\n",
        "\n",
        "#print(function_name(\"I love programming.\", 3))\n",
        "print(function_name(\"Python is easy to learn. I love python.\", 6))"
      ],
      "execution_count": null,
      "outputs": [
        {
          "output_type": "stream",
          "name": "stdout",
          "text": [
            "Pythonis eay to earn.I lov pythn. sl eo\n"
          ]
        }
      ]
    },
    {
      "cell_type": "markdown",
      "metadata": {
        "id": "5Gq0ZAzQ5D8-"
      },
      "source": [
        "### Task 15\n",
        "You have been hired as an app developer for the company. The company plans to make an app for a grocery store where the user can order groceries and see the total amount to be paid in the cart section. \n",
        "\n",
        "To build this feature, you have to write a function that takes 2 arguments. They are:\n",
        "- order_items (must be a list)\n",
        "- location (default value should be set to \"Dhanmondi\")\n",
        "\n",
        "Your first task is to take a list of items from the user. Pass the list into the function parameter along with the optional location (Use default argument technique). (Also, no need to take location as input, pass this any value you want.) \n",
        "\n",
        "Your second task is to implement the function. In the function, create a dictionary for the items shown in the table. Calculate the total price of the items passed as a list to the function. Additionally, add a delivery fee of 30 taka if the location is Dhanmondi. Otherwise, add a delivery fee of 70 taka. Finally, return the value and print it.\n",
        "\n",
        "| Item | Price(Tk) |\n",
        "| --- | --- |\n",
        "| Rice | 105 |\n",
        "| Potato | 20 |\n",
        "| Chicken | 250 |\n",
        "| Beef | 510 |\n",
        "| Oil | 85 |\n",
        "\n",
        "=====================================================\n",
        "\n",
        "**Hint:** The keys are the items and values are the corresponding price. Iterate the items in the list and check if the items in the list are available in the dictionary keys or not. If it is available, add the price.\n",
        "\n",
        "=====================================================\n",
        "\n",
        "**Example1:**\\\n",
        "function_name([\"Rice\", \"Beef\", \"Rice\"], \"Mohakhali\")\n",
        "\n",
        "total = 105 + 510 + 105 = 720 (Take the price of each item and add them.)\\\n",
        "total = 720 + 70 = 790 (Finally, add the delivery fee based on the location.)\n",
        "\n",
        "**Input:**\\\n",
        "[\"Rice\", \"Beef\", \"Rice\"]\\\n",
        "**Function Call:**\\\n",
        "function_name([\"Rice\", \"Beef\", \"Rice\"], \"Mohakhali\")\\\n",
        "**Output:**\\\n",
        "790\n",
        "\n",
        "==============================================\n",
        "\n",
        "**Example2:**\n",
        "\n",
        "function_name([\"Rice\", \"Beef\", \"Rice\"])\n",
        "\n",
        "total = 105 + 510 + 105 = 720 (Take the price of each item and add them.)\\\n",
        "total = 720 + 30 = 750 (Since no location is passed in the parameter, it will use the default location-\"Dhanmondi\". For dhanmondi, delivery fee of 30 taka)\n",
        "\n",
        "**Input:**\\\n",
        "[\"Rice\", \"Beef\", \"Rice\"]\\\n",
        "**Function Call:**\\\n",
        "function_name([\"Rice\", \"Beef\", \"Rice\"])\\\n",
        "**Output:**\\\n",
        "750"
      ]
    },
    {
      "cell_type": "code",
      "metadata": {
        "id": "KqbU53QPblRv",
        "colab": {
          "base_uri": "https://localhost:8080/"
        },
        "outputId": "790b3c46-a5e2-4c3f-aea2-531ca1b75e89"
      },
      "source": [
        "def function_name(order_items, location = \"Dhanmondi\"):\n",
        "  items_table = {\"Rice\": 105, \"Potato\" : 20, \"Chicken\" : 250, \"Beef\" : 510, \"Oil\" : 85}\n",
        "  total = 0\n",
        "\n",
        "  for item in order_items:\n",
        "    total += items_table[item]\n",
        "\n",
        "  if location == \"Dhanmondi\":\n",
        "    total += 30\n",
        "  else:\n",
        "    total += 70\n",
        "\n",
        "  return total\n",
        "    \n",
        "\n",
        "#print(function_name([\"Rice\", \"Beef\", \"Rice\"], \"Mohakhali\"))\n",
        "print(function_name([\"Rice\", \"Beef\", \"Rice\"]))"
      ],
      "execution_count": null,
      "outputs": [
        {
          "output_type": "stream",
          "name": "stdout",
          "text": [
            "750\n"
          ]
        }
      ]
    },
    {
      "cell_type": "markdown",
      "metadata": {
        "id": "sWkvpVVmbT5n"
      },
      "source": [
        "## Optional Tasks (16 -21) [Ungraded]"
      ]
    },
    {
      "cell_type": "markdown",
      "metadata": {
        "id": "LIi7SUJLZ4gA"
      },
      "source": [
        "### Task 16\n",
        "Write a function called **splitting_money** that takes an “amount” of money as a argument.\n",
        "\n",
        "Your first task is to take the “amount” of money as user input and pass the value to the function paramater.\n",
        " \n",
        "Your second task is to implement the function and calculate how that money can be split into 500, 100, 50, 20, 10, 5, 2, and 1 taka notes.\n",
        "\n",
        "Then print the returned value in the function call.\n",
        "\n",
        "=====================================================\n",
        "\n",
        "\n",
        "**Hints:** \\\n",
        "This task’s calculation is similar to Assignment-1’s seconds to hours, minutes conversion. To return the result containing multiple strings, you need to store it in a variable and return it at the end of the function.\n",
        "\n",
        "=====================================================\n",
        "\n",
        "\n",
        "**Example1:** \\\n",
        "If the money is 1234, then the function should return \n",
        "\n",
        "\"500 Taka: 2 note(s) \\\n",
        "100 Taka: 2 note(s) \\\n",
        "20 Taka: 1 note(s) \\\n",
        "10 Taka: 1 note(s) \\\n",
        "2 Taka: 2 note(s)\"\n",
        "\n",
        "=====================================================\n",
        "\n",
        "**Example2:** \\\n",
        "If the money is 151, then the function should return\n",
        "\n",
        "\"100 Taka: 1 note(s)\\\n",
        "50 Taka: 1 note(s)\\\n",
        "1 Taka: 1 note(s)\"\n",
        "\n",
        "\n"
      ]
    },
    {
      "cell_type": "code",
      "metadata": {
        "id": "XI1uLQ5rb2oH",
        "colab": {
          "base_uri": "https://localhost:8080/"
        },
        "outputId": "4caf47bc-ab3d-4595-cdbc-d675d7d5861d"
      },
      "source": [
        "def splitting_money(money):\n",
        "  count_500 = 0\n",
        "  count_100 = 0\n",
        "  count_50 = 0\n",
        "  count_20 = 0\n",
        "  count_10 = 0\n",
        "  count_5 = 0\n",
        "  count_2 = 0\n",
        "  count_1 = 0\n",
        "\n",
        "  dict_1 = dict()\n",
        "\n",
        "  count_500 = int(money / 500)\n",
        "\n",
        "  if count_500 != 0:\n",
        "    dict_1[\"500\"] = count_500\n",
        "\n",
        "  money = money % 500\n",
        "\n",
        "  count_100 = int(money / 100)\n",
        "\n",
        "  if count_100 != 0:\n",
        "    dict_1[\"100\"] = count_100\n",
        "\n",
        "  money = money % 100\n",
        "\n",
        "  count_50 = int(money / 50)\n",
        "\n",
        "  if count_50 != 0:\n",
        "    dict_1[\"50\"] = count_50\n",
        "\n",
        "  money = money % 50\n",
        "\n",
        "  count_20 = int(money / 20)\n",
        "\n",
        "  if count_20 != 0:\n",
        "    dict_1[\"20\"] = count_20\n",
        "\n",
        "  money = money % 20\n",
        "\n",
        "  count_10 = int(money / 10)\n",
        "\n",
        "  if count_10 != 0:\n",
        "    dict_1[\"10\"] = count_10\n",
        "\n",
        "  money = money % 10\n",
        "\n",
        "  count_5 = int(money / 5)\n",
        "\n",
        "  if count_5 != 0:\n",
        "    dict_1[\"5\"] = count_5\n",
        "\n",
        "  money = money % 5\n",
        "\n",
        "  count_2 = int(money / 2)\n",
        "\n",
        "  if count_2 != 0:\n",
        "    dict_1[\"2\"] = count_2\n",
        "\n",
        "  money = money % 2\n",
        "  count_1 = money\n",
        "\n",
        "  if count_1 != 0:\n",
        "    dict_1[\"1\"] = count_1\n",
        "\n",
        "\n",
        "  new_str = \"\"\n",
        "  for key, value in dict_1.items():\n",
        "    new_str += key + \" Taka: \" + str(value) + \" note(s)\\n\"\n",
        "\n",
        "  return new_str\n",
        "\n",
        "print(splitting_money(1234))                    \n",
        "#print(splitting_money(151))"
      ],
      "execution_count": null,
      "outputs": [
        {
          "output_type": "stream",
          "name": "stdout",
          "text": [
            "500 Taka: 2 note(s)\n",
            "100 Taka: 2 note(s)\n",
            "20 Taka: 1 note(s)\n",
            "10 Taka: 1 note(s)\n",
            "2 Taka: 2 note(s)\n",
            "\n"
          ]
        }
      ]
    },
    {
      "cell_type": "markdown",
      "metadata": {
        "id": "VpnhnPPcab5J"
      },
      "source": [
        "### Task 17\n",
        "Write a function called **remove_odd** that takes a list of numbers that have both even and odd numbers mixed. \\\n",
        "Your function should remove all the odd numbers and **return a compact list** which only contains the even numbers. \n",
        "\n",
        "<font color='red'>**[Cannot use remove() or removed() for this task]** </font>\n",
        "\n",
        "=====================================================\n",
        "\n",
        "**Example1:** \\\n",
        "**Function Call:**\\\n",
        "remove_odd ([21, 33, 44, 66, 11, 1, 88, 45, 10, 9])\\\n",
        "**Output:**\\\n",
        "[44, 66, 88, 10]\n",
        "\n",
        "====================================\n",
        "\n",
        "**Example2:** \\\n",
        "**Function Call:**\\\n",
        "remove_odd ([11,2,3,4,5,2,0,5,3])\\\n",
        "**Output:**\\\n",
        "[2, 4, 2, 0]\n",
        "\n"
      ]
    },
    {
      "cell_type": "code",
      "metadata": {
        "id": "y4dR2jV6bAYw",
        "colab": {
          "base_uri": "https://localhost:8080/"
        },
        "outputId": "a20847b2-4d06-49a1-b09d-30715bc59f63"
      },
      "source": [
        "def remove_odd(list_1):\n",
        "  compact_list = []\n",
        "  for value in list_1:\n",
        "    if value % 2 == 0:\n",
        "      compact_list.append(value)\n",
        "\n",
        "  return compact_list\n",
        "\n",
        "print(remove_odd([11,2,3,4,5,2,0,5,3]))"
      ],
      "execution_count": null,
      "outputs": [
        {
          "output_type": "stream",
          "name": "stdout",
          "text": [
            "[2, 4, 2, 0]\n"
          ]
        }
      ]
    },
    {
      "cell_type": "markdown",
      "metadata": {
        "id": "8qAKekKWbBnP"
      },
      "source": [
        "### Task 18\n",
        "Write a function which will take 4 arguments. They are:\n",
        "- starting value(inclusive)\n",
        "- ending value(exclusive)\n",
        "- first divisor\n",
        "- second divisor\n",
        "\n",
        "Your first task is to take these arguments as user input and pass these values to the function.\n",
        "\n",
        "Your second task is to implement the function and find all the numbers that are divisible by the <u> **first divisor or second divisor but not both**</u> from the starting value(inclusive) and ending value(exclusive). Add all the numbers that are divisible and finally return this value. Print the returned value in the function call.\n",
        "\n",
        "=====================================================\n",
        "\n",
        "**Input:**\\\n",
        "10\\\n",
        "40\\\n",
        "4\\\n",
        "7\\\n",
        "**Function Call:**\\\n",
        "function_name(10, 40, 4, 7)\\\n",
        "**Output:**\\\n",
        "210\\\n",
        "================================\\\n",
        "**Input:**\\\n",
        "5\\\n",
        "100\\\n",
        "3\\\n",
        "4\\\n",
        "**Function Call:**\\\n",
        "function_name(5, 100, 3, 4)\\\n",
        "**Output:**\\\n",
        "2012\n",
        "\n",
        "\n"
      ]
    },
    {
      "cell_type": "code",
      "metadata": {
        "id": "-vQ3gIWm5D8-",
        "colab": {
          "base_uri": "https://localhost:8080/"
        },
        "outputId": "52aacdee-6e82-43a6-8a8b-9ff16ecf7587"
      },
      "source": [
        "def function_name(start, end, first_divisor, second_divisor):\n",
        "  total = 0\n",
        "  for num in range(start, end):\n",
        "    if num % first_divisor == 0 and num % second_divisor == 0:\n",
        "      continue\n",
        "    elif num % first_divisor == 0 or num % second_divisor == 0:\n",
        "      total += num\n",
        "\n",
        "  return total\n",
        "\n",
        "\n",
        "#print(function_name(10, 40, 4, 7))\n",
        "print(function_name(5, 100, 3, 4))"
      ],
      "execution_count": null,
      "outputs": [
        {
          "output_type": "stream",
          "name": "stdout",
          "text": [
            "2012\n"
          ]
        }
      ]
    },
    {
      "cell_type": "markdown",
      "metadata": {
        "id": "0poe59Q-aAtP"
      },
      "source": [
        "### Task 19\n",
        "Write a python function which will take a string as an argument. \n",
        "\n",
        "Your first task is to take a string as user input and pass the value to the function.\n",
        "\n",
        "Your second task is to implement a function which will check whether all the alphabets from a to j (convert all the alphabets to lowercase) has appeared at least once in the given string or not. \n",
        "- If all of these alphabets (a to j) appear at least once, then the result will be 5. \n",
        "- If any one of the alphabets (a to j) is not in the given string, then the result will be 6.\n",
        "\n",
        "Return this result and print the statement, \"PSG will win the Champions League this season\" that many times.\n",
        "\n",
        "=====================================================\n",
        "\n",
        "**Example01:**\n",
        "\"A black jackal is hunting a full grown deer\" \n",
        "\n",
        "Here all the alphabets from A to J are present at least once. So, the function will return 5 and will print the statement 5 times.\n",
        "\n",
        "**Input:**\\\n",
        "\"A black jackal is hunting a full grown deer\"\\\n",
        "**Function Call:**\\\n",
        "function_name(\"A black jackal is hunting a full grown deer\")\\\n",
        "**Output:**\\\n",
        "PSG will win the Champions League this season\\\n",
        "PSG will win the Champions League this season\\\n",
        "PSG will win the Champions League this season\\\n",
        "PSG will win the Champions League this season\\\n",
        "PSG will win the Champions League this season\n",
        "\n",
        "==============================================\n",
        "\n",
        "**Example02:**\n",
        "\n",
        "**Input:**\\\n",
        "\"ABBCDEFEFGHI\"\\\n",
        "**Function Call:**\\\n",
        "function_name(\"ABBCDEFEFGHI\")\\\n",
        "**Output:**\\\n",
        "PSG will win the Champions League this season\\\n",
        "PSG will win the Champions League this season\\\n",
        "PSG will win the Champions League this season\\\n",
        "PSG will win the Champions League this season\\\n",
        "PSG will win the Champions League this season\\\n",
        "PSG will win the Champions League this season\n"
      ]
    },
    {
      "cell_type": "code",
      "metadata": {
        "id": "uQRx3Kclb57h",
        "colab": {
          "base_uri": "https://localhost:8080/"
        },
        "outputId": "caeef024-9a37-495d-ec4c-cdeffafaa79b"
      },
      "source": [
        "def function_name(sentence):\n",
        "  alphabet_list = []\n",
        "  for i in range(ord(\"a\"), ord(\"j\") + 1):\n",
        "    alphabet_list.append(chr(i))\n",
        "  \n",
        "  dict_1 = dict()\n",
        "  dict_1 = dict_1.fromkeys(alphabet_list, 0)\n",
        "  \n",
        "  for alphabet in sentence.lower():\n",
        "    if alphabet in dict_1.keys():\n",
        "      dict_1[alphabet] = dict_1[alphabet] + 1\n",
        "\n",
        "  count = 0\n",
        "  for value in dict_1.values():\n",
        "    if value == 0:\n",
        "      count += 1\n",
        "\n",
        "  if count >= 1:\n",
        "    return 6\n",
        "  else:\n",
        "    return 5\n",
        "\n",
        "value_count = function_name(\"A black jackal is hunting a full grown deer\")\n",
        "#value_count = function_name(\"ABBCDEFEFGHI\")\n",
        "for idx in range(0, value_count):\n",
        "  print(\"PSG will win the Champions League this season\")"
      ],
      "execution_count": null,
      "outputs": [
        {
          "output_type": "stream",
          "name": "stdout",
          "text": [
            "PSG will win the Champions League this season\n",
            "PSG will win the Champions League this season\n",
            "PSG will win the Champions League this season\n",
            "PSG will win the Champions League this season\n",
            "PSG will win the Champions League this season\n"
          ]
        }
      ]
    },
    {
      "cell_type": "markdown",
      "metadata": {
        "id": "NTujbqM7cz8e"
      },
      "source": [
        "### Task 20\n",
        "Write a function called **individul_bonus_calculation** which will take 4 arguments. They are:\n",
        "\n",
        "- The player name\n",
        "- Yearly earning of that player\n",
        "- The total goal scored this season by that player\n",
        "- Bonus percent per goal.\n",
        "\n",
        "\n",
        "Your task is to implement the above-mentioned function that will calculate the total bonus on the yearly earnings of a player for the total goals he had scored.\n",
        "\n",
        "Additionally, \n",
        " * If the goal scored is above 30, add a (additional) bonus of 10000 taka.\n",
        " * If it is between 20 and 30 inclusive, add an extra 5000 taka.\n",
        "\n",
        "<font color='blue'>[ For this task, no need to take any input from the user. Call the functions and print the values inside the function. ] </font>\n",
        "\n",
        "\n",
        "\n",
        "=====================================================\n",
        "\n",
        "**Example1:**\\\n",
        "individul_bonus_calculation(\"Neymar\", 1200000, 35, 5)\n",
        "\n",
        "bonus = 35 * (5 / 100 * 1200000) + 10000 = 2110000\n",
        "\n",
        "**Function call:**\\\n",
        "individul_bonus_calculation(\"Neymar\", 1200000, 35, 5)\\\n",
        "**Output:**\\\n",
        "Neymar earned a bonus of  2110000 Taka for 35 goals.\n",
        "\n",
        "=====================================================\n",
        "\n",
        "**Example2:**\\\n",
        "individul_bonus_calculation('Jamal', 700000, 19, 8)\n",
        "\n",
        "bonus = 19 * (8 / 100 * 700000) + 0 = 1064000\n",
        "\n",
        "**Function call:**\\\n",
        "individul_bonus_calculation('Jamal', 700000, 19, 8)\\\n",
        "**Output:**\\\n",
        "Jamal earned a bonus of 1064000 Taka for 19 goals.\n",
        "\n",
        "=====================================================\n",
        "\n",
        "**Example3:**\\\n",
        "individul_bonus_calculation('Luis', 80000, 25, 10)\n",
        "\n",
        "bonus = 25 * (10 / 100 * 80000) + 5000 = 205000\n",
        "\n",
        "**Function call:**\\\n",
        "individul_bonus_calculation('Luis', 80000, 25, 10)\\\n",
        "**Output:**\\\n",
        "Luis earned a bonus of 205000 Taka for 25 goals.\n",
        "\n",
        "====================================================="
      ]
    },
    {
      "cell_type": "code",
      "metadata": {
        "id": "m3-uG7vK3lqn",
        "colab": {
          "base_uri": "https://localhost:8080/"
        },
        "outputId": "9660b333-db57-4c92-825b-1226b76d449c"
      },
      "source": [
        "def individul_bonus_calculation(name, earning, total_goal, percent):\n",
        "  if total_goal > 30:\n",
        "    extra = 10000\n",
        "  elif 20 <= total_goal <= 30:\n",
        "    extra = 5000\n",
        "  else:\n",
        "    extra = 0\n",
        "\n",
        "  bonus = int(total_goal * (percent / 100 * earning) + extra)\n",
        "  print(name + \" earned a bonus of \" + str(bonus) + \" Taka for \" + str(total_goal) + \" goals.\")\n",
        "\n",
        "#individul_bonus_calculation(\"Neymar\", 1200000, 35, 5)\n",
        "#individul_bonus_calculation('Jamal', 700000, 19, 8)\n",
        "individul_bonus_calculation('Luis', 80000, 25, 10)"
      ],
      "execution_count": null,
      "outputs": [
        {
          "output_type": "stream",
          "name": "stdout",
          "text": [
            "Luis earned a bonus of 205000 Taka for 25 goals.\n"
          ]
        }
      ]
    },
    {
      "cell_type": "markdown",
      "metadata": {
        "id": "pRU4EhuSh_r-"
      },
      "source": [
        "### Task 21\n",
        "You have been hired by the Abahani football club to write a function that will calculate the total bonus on the yearly earnings of each player for the total goals they have scored.\n",
        "\n",
        "Since the number of players will vary, you decide to use the \"*args\" technique that you learned in your CSE110 class. \n",
        "\n",
        "For each player: pass the name, yearly earning, the total goal scored this season, bonus percent per goal. \n",
        "\n",
        "Additionally, \n",
        " * If the goal scored is above 30, add an extra bonus of 10000 taka. \n",
        " * If it is between 20 and 30 inclusive, add an extra 5000 taka.\n",
        "\n",
        "<font color='blue'>[ For this task, no need to take any input from the user. Call the functions and print the values inside the function. ] </font>\n",
        "\n",
        "**<font color='blue'>[Must reuse the individul_bonus_calculation() function of the previous task]</font>**\n",
        "\n",
        "\n",
        "=====================================================\n",
        "\n",
        "**Example1:**\\\n",
        "cal_bonus(\"Neymar\", 1200000, 35, 5)\n",
        "\n",
        "bonus = 35 * (5 / 100 * 1200000) + 10000 = 2110000\n",
        "\n",
        "**Function call:**\\\n",
        "cal_bonus(\"Neymar\", 1200000, 35, 5)\\\n",
        "**Output:**\\\n",
        "Neymar earned a bonus of  2110000 Taka for 35 goals.\n",
        "\n",
        "=====================================================\n",
        "\n",
        "**Example2:**\\\n",
        "**Function call:**\\\n",
        "function_name(\"Neymar\", 1200000, 30, 10, \"Jamal\", 700000, 19, 5)\\\n",
        "**Output:**\\\n",
        "Neymar earned a bonus of 3605000 Taka for 30 goals.\\\n",
        "Jamal earned a bonus of 665000 Taka for 19 goals.\n",
        "\n",
        "\n",
        "=====================================================\n",
        "\n",
        "**Example3:**\\\n",
        "**Function call:**\\\n",
        "function_name(\"Neymar\", 1200000, 35, 5, 'Jamal', 700000, 19, 8, 'Luis', 80000, 25, 10))\\\n",
        "**Output:**\\\n",
        "Neymar earned a bonus of 2110000 Taka for 35 goals.\\\n",
        "Jamal earned a bonus of 1064000 Taka for 19 goals.\\\n",
        "Luis earned a bonus of 205000 Taka for 25 goals.\n",
        "\n"
      ]
    },
    {
      "cell_type": "code",
      "metadata": {
        "id": "IIz3msUa5D9B",
        "colab": {
          "base_uri": "https://localhost:8080/"
        },
        "outputId": "1df02a6e-19b7-4c67-8c8f-0474af41e95e"
      },
      "source": [
        "def function_name(*info):\n",
        "  count = int(len(info) / 4)\n",
        "\n",
        "  count1 = 0\n",
        "  count2 = 1\n",
        "  count3 = 2\n",
        "  count4 = 3\n",
        "\n",
        "  for idx in range(count):\n",
        "    individul_bonus_calculation(info[count1], info[count2], info[count3], info[count4])\n",
        "    count1 += 4\n",
        "    count2 += 4\n",
        "    count3 += 4\n",
        "    count4 += 4\n",
        "\n",
        "function_name(\"Neymar\", 1200000, 35, 5, 'Jamal', 700000, 19, 8, 'Luis', 80000, 25, 10)\n",
        "#function_name(\"Neymar\", 1200000, 30, 10, \"Jamal\", 700000, 19, 5)"
      ],
      "execution_count": null,
      "outputs": [
        {
          "output_type": "stream",
          "name": "stdout",
          "text": [
            "Neymar earned a bonus of 2110000 Taka for 35 goals.\n",
            "Jamal earned a bonus of 1064000 Taka for 19 goals.\n",
            "Luis earned a bonus of 205000 Taka for 25 goals.\n"
          ]
        }
      ]
    }
  ]
}