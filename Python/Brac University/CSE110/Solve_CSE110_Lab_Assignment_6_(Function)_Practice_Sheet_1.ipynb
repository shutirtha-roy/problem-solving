{
  "nbformat": 4,
  "nbformat_minor": 0,
  "metadata": {
    "colab": {
      "name": "Solve_CSE110_Lab_Assignment_6_(Function) Practice Sheet 1.ipynb",
      "provenance": [],
      "collapsed_sections": []
    },
    "kernelspec": {
      "name": "python3",
      "display_name": "Python 3"
    },
    "language_info": {
      "name": "python"
    }
  },
  "cells": [
    {
      "cell_type": "markdown",
      "metadata": {
        "id": "mlgtBRW1u_TA"
      },
      "source": [
        "#Easy\n",
        "1. Write a function in Python that will take a string text as input from the user and returns the list of\n",
        "unique characters concatenated with their ASCII value at the front and back side.\n",
        "\n",
        "<br>\n",
        "Sample Input:<br>\n",
        "\"pythonbook\"<br>\n",
        "\n",
        "Function Calling:<br>\n",
        "function_name(\"pythonbook\")<br>\n",
        "\n",
        "Sample Output:<br>\n",
        "['112p112', '121y121', '116t116', '104h104', '111o111', '110n110', '98b98', '107k107']<br>"
      ]
    },
    {
      "cell_type": "code",
      "metadata": {
        "colab": {
          "base_uri": "https://localhost:8080/"
        },
        "id": "uTKaJOk6vXJG",
        "outputId": "b721b629-fb1f-4ba1-edad-e157fa8bc544"
      },
      "source": [
        "def function_name(text):\n",
        "  new_list = []\n",
        "\n",
        "  for character in text:\n",
        "    new_str = str(ord(character)) + character + str(ord(character))\n",
        "    if new_str not in new_list:\n",
        "      new_list.append(new_str)\n",
        "\n",
        "  return new_list\n",
        "\n",
        "print(function_name(\"pythonbook\"))"
      ],
      "execution_count": null,
      "outputs": [
        {
          "output_type": "stream",
          "name": "stdout",
          "text": [
            "['112p112', '121y121', '116t116', '104h104', '111o111', '110n110', '98b98', '107k107']\n"
          ]
        }
      ]
    },
    {
      "cell_type": "markdown",
      "metadata": {
        "id": "55XIPIF_wGGA"
      },
      "source": [
        "2. Write a function in Python that will take a string text as input from the user and returns a dictionary\n",
        "having the unique characters as the keys and the list of their both-way indexes (positive and negative\n",
        "index) as the values.<br>\n",
        "\n",
        "Sample Input:<br>\n",
        "\"pythonbook\"<br>\n",
        "Function Calling:<br>\n",
        "function_name(\"pythonbook\")<br>\n",
        "Sample Output:<br>\n",
        "{'p': [0, -10], 'y': [1, -9], 't': [2, -8], 'h': [3, -7], 'o': [4, -6, 7, -3, 8, -2], 'n': [5, -5], 'b': [6, -4], 'k':\n",
        "[9, -1]}<br>"
      ]
    },
    {
      "cell_type": "code",
      "metadata": {
        "colab": {
          "base_uri": "https://localhost:8080/"
        },
        "id": "h1k8PUT-wN7n",
        "outputId": "a2027dff-d0cc-4dc0-e75e-5f0e77de6ef5"
      },
      "source": [
        "def function_name(value):\n",
        "  dict_1 = dict()\n",
        "\n",
        "  for idx in range(0, len(value)):\n",
        "    if value[idx] not in dict_1.keys():\n",
        "      dict_1[value[idx]] = []\n",
        "    dict_1[value[idx]] = dict_1[value[idx]] + [idx] +  [idx - len(value)]\n",
        "    \n",
        "  return dict_1\n",
        "\n",
        "print(function_name(\"pythonbook\"))"
      ],
      "execution_count": null,
      "outputs": [
        {
          "output_type": "stream",
          "name": "stdout",
          "text": [
            "{'p': [0, -10], 'y': [1, -9], 't': [2, -8], 'h': [3, -7], 'o': [4, -6, 7, -3, 8, -2], 'n': [5, -5], 'b': [6, -4], 'k': [9, -1]}\n"
          ]
        }
      ]
    },
    {
      "cell_type": "markdown",
      "metadata": {
        "id": "wiE2hET-wgBI"
      },
      "source": [
        "#Medium\n",
        "\n",
        "3. Write a function in Python that will take a space separated string text as input from the user and\n",
        "returns a dictionary having the unique words as the keys and their frequency in the given text as the\n",
        "values in a sorted order(ascending) according to the frequencies. \n",
        "<br><br>\n",
        "Hints (1):<br>\n",
        "Frequencies of the words can be easily counted with built-in function count().<br><br>\n",
        "Hints (2):<br>\n",
        "Sorting according to frequencies can be done in two approaches.<br><br>\n",
        "Approach (1): Use the built-in sorted() function. Here, for the key, you need to call a custom-made\n",
        "function that will return frequencies for each word. So, the sorted() function will return values sorted\n",
        "according to the frequencies.<br><br>\n",
        "Approach (2): Make two lists. One with the keys and other one with the frequencies. For a particular\n",
        "keys, values should be found in the same index of the frequencies list. Then similar to the\n",
        "Assignment07 Task-5. Sort the values of frequencies and in time of swapping, swap BOTH keys &\n",
        "frequencies. You can use any one of the sorting algorithms taught (Bubble sort or Selection sort)\n",
        "<br>\n",
        "\n",
        "Sample Input1:<br>\n",
        "\"go there come and go here and there go care\"<br>\n",
        "\n",
        "Function Call1:<br>\n",
        "function_name(\"go there come and go here and there go care\")<br>\n",
        "\n",
        "Sample Output1:<br>\n",
        "{'come': 1, 'here': 1, 'care': 1, 'there': 2, 'and': 2, 'go': 3}<br>\n"
      ]
    },
    {
      "cell_type": "code",
      "metadata": {
        "colab": {
          "base_uri": "https://localhost:8080/"
        },
        "id": "JgpAH4qnxJYe",
        "outputId": "f57eb6e9-addd-481e-b876-c0bc3be7f8d9"
      },
      "source": [
        "def function_name(sentence):\n",
        "  dict_1 = dict()\n",
        "\n",
        "  for word in sentence.split():\n",
        "    if word not in dict_1.keys():\n",
        "      dict_1[word] = 0\n",
        "\n",
        "    dict_1[word] += 1\n",
        "\n",
        "  print(dict_1)\n",
        "\n",
        "  dict_2 = dict()\n",
        "  value_list = sorted(dict_1.values())\n",
        "  \n",
        "  for item in value_list:\n",
        "    for key, value in dict_1.items():\n",
        "      if item == value:\n",
        "        dict_2[key] = value\n",
        "\n",
        "\n",
        "  return dict_2\n",
        "\n",
        "\n",
        "print(function_name(\"go there come and go here and there go care\"))"
      ],
      "execution_count": null,
      "outputs": [
        {
          "output_type": "stream",
          "name": "stdout",
          "text": [
            "{'go': 3, 'there': 2, 'come': 1, 'and': 2, 'here': 1, 'care': 1}\n",
            "{'come': 1, 'here': 1, 'care': 1, 'there': 2, 'and': 2, 'go': 3}\n"
          ]
        }
      ]
    },
    {
      "cell_type": "code",
      "source": [
        "def function_name(sentence):\n",
        "  dict_1 = dict()\n",
        "\n",
        "  for word in sentence.split():\n",
        "    if word not in dict_1.keys():\n",
        "      dict_1[word] = 0\n",
        "\n",
        "    dict_1[word] += 1\n",
        "\n",
        "  new_list = []\n",
        "\n",
        "  for key, value in dict_1.items():\n",
        "    new_list.append([key, value])\n",
        "\n",
        "  #print(dict_1)\n",
        "  #print(new_list)\n",
        "  \n",
        "  for i in range(len(new_list)):\n",
        "    min_key = new_list[i][0]\n",
        "    min_value = new_list[i][1]\n",
        "    min_index = i\n",
        "    \n",
        "    for j in range(i + 1, len(new_list)):\n",
        "      if min_value >= new_list[j][1]:\n",
        "        min_key = new_list[j][0]\n",
        "        min_value = new_list[j][1]\n",
        "        min_index = j\n",
        "        \n",
        "\n",
        "    temp_key = new_list[i][0]\n",
        "    temp_value = new_list[i][1]\n",
        "    new_list[min_index][0] = temp_key\n",
        "    new_list[min_index][1] = temp_value\n",
        "    new_list[i][0] = min_key\n",
        "    new_list[i][1] = min_value\n",
        "\n",
        "  dict_2 = dict()\n",
        "\n",
        "  for item in new_list:\n",
        "    key = item[0]\n",
        "    value = item[1]\n",
        "    dict_2[key] = value\n",
        "\n",
        "  return dict_2\n",
        "\n",
        "\n",
        "print(function_name(\"go there come and go here and there go care\"))"
      ],
      "metadata": {
        "colab": {
          "base_uri": "https://localhost:8080/"
        },
        "id": "-AfU5wTo1aw9",
        "outputId": "b8540737-fb4b-40f7-93b9-506c5ba4bcd7"
      },
      "execution_count": null,
      "outputs": [
        {
          "output_type": "stream",
          "name": "stdout",
          "text": [
            "{'care': 1, 'here': 1, 'come': 1, 'there': 2, 'and': 2, 'go': 3}\n"
          ]
        }
      ]
    },
    {
      "cell_type": "markdown",
      "source": [
        "    4.Write a function in Python that will take a number string text as input from the user and returns a\n",
        "    dictionary having the unique numbers as the keys and the tuple of being the number to be even, odd,\n",
        "    prime and perfect as thevalues.\n",
        "    ==================================================\n",
        "    Hints (1): Write a function to check whether a number is Perfect or not and RETURN “Perfect” and “Not\n",
        "    Perfect” accordingly.\n",
        "    Hints (2): Write a function to check whether a number is Prime or not and RETURN “Prime” and “Not\n",
        "    Prime” accordingly.\n",
        "    Hints (3): Write a function to check whether a number is Even or not and RETURN “Even” and “Odd”\n",
        "    accordingly.\n",
        "    Hints (4): Call 3 above mentioned functions and store their returned values in a list/tuple.\n",
        "    even= even_check()\n",
        "    prime= prime_check()\n",
        "    perfect= perfect_check()\n",
        "    tup_for_digit = (even, prime, perfect)\n",
        "    ==================================================\n",
        "    Sample Input1:\n",
        "    \"2441396\"\n",
        "    Function Call1:\n",
        "    function_name(\"2441396\")\n",
        "    Sample Output1:\n",
        "    {2: ('even', 'prime', 'not perfect'), 4: ('even', 'not prime', 'not perfect'), 1: ('odd', 'not\n",
        "    prime', 'not perfect'), 3: ('odd', 'prime', 'not perfect'), 9: ('odd', 'not prime', 'not perfect'), 6: ('even', 'not\n",
        "    prime', 'perfect')}\n",
        "    =================================================="
      ],
      "metadata": {
        "id": "P-EBgB8oYsXa"
      }
    },
    {
      "cell_type": "code",
      "source": [
        "def check_prime(num):\n",
        "  count = 0\n",
        "  for i in range(1, num + 1):\n",
        "    if num % i == 0:\n",
        "      count += 1\n",
        "  \n",
        "  if count == 2:\n",
        "    return \"prime\"\n",
        "  else:\n",
        "    return \"not prime\"\n",
        "\n",
        "def check_even_odd(num):\n",
        "  if num % 2 == 0:\n",
        "    return \"even\"\n",
        "  else:\n",
        "    return \"odd\"\n",
        "\n",
        "def check_perfect(num):\n",
        "  total = 0\n",
        "  for i in range(1, num):\n",
        "    if num % i == 0:\n",
        "      total += i\n",
        "\n",
        "  if total == num:\n",
        "    return \"perfect\"\n",
        "  else:\n",
        "    return \"not perfect\"\n",
        "\n",
        "def function_name(numbers):\n",
        "\n",
        "  dict_1 = dict()\n",
        "  \n",
        "  for num in numbers:\n",
        "    even= check_even_odd(int(num))\n",
        "    prime= check_prime(int(num))\n",
        "    perfect= check_perfect(int(num))\n",
        "    dict_1[int(num)] = (even, prime, perfect)\n",
        "\n",
        "  return dict_1\n",
        "\n",
        "print(function_name(\"2441396\"))\n",
        "\n",
        "\n"
      ],
      "metadata": {
        "colab": {
          "base_uri": "https://localhost:8080/"
        },
        "id": "Vnq9ylEmZGFJ",
        "outputId": "818569c1-8564-43f4-c98d-a28cdabec550"
      },
      "execution_count": null,
      "outputs": [
        {
          "output_type": "stream",
          "name": "stdout",
          "text": [
            "{2: ('even', 'prime', 'not perfect'), 4: ('even', 'not prime', 'not perfect'), 1: ('odd', 'not prime', 'not perfect'), 3: ('odd', 'prime', 'not perfect'), 9: ('odd', 'not prime', 'not perfect'), 6: ('even', 'not prime', 'perfect')}\n"
          ]
        }
      ]
    },
    {
      "cell_type": "markdown",
      "source": [
        "    5. Assume, you have been given two matrixes in list format. Write a function in Python that will\n",
        "    calculate the summation of these two matrices. Then RETURN the summation matrix and print it in the\n",
        "    function call. [A matrix can only be added to another matrix if the two matrices have the same\n",
        "    dimension] [Avoid using built-in Functions]\n",
        "    ===================================================================\n",
        "    Given Matrix1:\n",
        "    matrix_A = [ [1,5], [-4,3]]\n",
        "    matrix_B = [ [2,-1] , [4,-1] ]\n",
        "    Function Call1:\n",
        "    function_name(matrix_A , matrix_B)\n",
        "    Sample Output1:\n",
        "    matrix_sum = [ [3,4] , [0,2] ]\n",
        "    Explanation1:\n",
        "    Inside matrix_A and matrix_B, each list is a row matrix.\n",
        "    For example, In matrix_A, Row 1 ----> [1, 5]\n",
        "    Row 2----> [4, 3]\n",
        "\n",
        "    In matrix_B, Row 1 ----> [2, -1]\n",
        "    Row 2----> [4, -1]\n",
        "    So, in output, matrix_sum = [ [1+2 , 5 -1]\n",
        "    [-4+ 4, 4 -1] ]\n",
        "    ===================================================================\n",
        "    Given Matrix2:\n",
        "    matrix_A = [ [1,5, 4] , [-4,3, 3] ]\n",
        "    matrix_B = [ [2,-1, -3] , [4,-1, -4] ]\n",
        "    Function Call2:\n",
        "    function_name(matrix_A , matrix_B)\n",
        "    Sample Output2:\n",
        "    matrix_sum = [[3, 4, 1], [0, 2, -1]]\n",
        "    ===================================================================\n",
        "    Given Matrix3:\n",
        "    matrix_A = [ [1,5, 4] , [-4,3, 3] ,[-4,0, 6]]\n",
        "    matrix_B = [ [2,-1, -3] , [4,-1, -4], [2,6, 3] ]\n",
        "    Function Call3:\n",
        "    function_name(matrix_A , matrix_B)\n",
        "    Sample Output3:\n",
        "    matrix_sum = [[3, 4, 1], [0, 2, -1], [-2, 6, 9]]\n",
        "\n",
        "    Page 5 of 9\n",
        "\n",
        "    ===================================================================\n",
        "    Given Matrix4:\n",
        "    matrix_A = [ [1,5] , [-4,3], [9,2]]\n",
        "    matrix_B = [ [ [2,-1] , [4,-1] ]] ]\n",
        "    Function Call4:\n",
        "    function_name(matrix_A , matrix_B)\n",
        "    Sample Output4:\n",
        "    No of rows not same\n",
        "    ===================================================================\n",
        "    Given Matrix5:\n",
        "    matrix_A = [ [1,5, 4] , [-4,3] ,[-4,0, 6]]\n",
        "    matrix_B = [ [2,-1, -3] , [4,-1, -4], [2,6] ]\n",
        "    Function Call5:\n",
        "    function_name(matrix_A , matrix_B)\n",
        "    Sample Output5:\n",
        "    No of columns not same\n",
        "\n",
        "    ==================================================================="
      ],
      "metadata": {
        "id": "tS2yYmN7bfCB"
      }
    },
    {
      "cell_type": "code",
      "source": [
        "#not solved\n",
        "\n",
        "def function_name(matrix_A , matrix_B):\n",
        "\n",
        "\n",
        "\n",
        "  row_list_A = []\n",
        "  for lists in matrix_A:\n",
        "    row_list_A.append(len(lists))\n",
        "\n",
        "  row_list_B = []\n",
        "  for lists in matrix_B:\n",
        "    row_list_B.append(len(lists))\n",
        "\n",
        "  if row_list_A == row_list_B:\n",
        "    matrix_C = matrix_A\n",
        "\n",
        "    for i, row in enumerate(matrix_B):\n",
        "      for j, col in enumerate(row):\n",
        "        matrix_C[i][j] += col\n",
        "\n",
        "    return matrix_C\n",
        "\n",
        "  elif len(row_list_A) != len(row_list_B):\n",
        "    return \"No of rows not same\"\n",
        "  else:\n",
        "    return \"No of columns not same\"\n",
        "\n",
        "  \n",
        "\n",
        "#matrix_A = [[1,5], [-4,3]]\n",
        "\n",
        "#matrix_B = [[2,-1], [4,-1]]\n",
        "\n",
        "#matrix_A = [ [1,5, 4] , [-4,3, 3] ]\n",
        "#matrix_B = [ [2,-1, -3] , [4,-1, -4] ]\n",
        "\n",
        "#matrix_A = [ [1,5] , [-4,3], [9,2]]\n",
        "#matrix_B = [ [ [2,-1] , [4,-1] ] ]\n",
        "\n",
        "matrix_A = [ [1,5, 4] , [-4,3] ,[-4,0, 6]]\n",
        "matrix_B = [ [2,-1, -3] , [4,-1, -4], [2,6] ]\n",
        "\n",
        "print(function_name(matrix_A , matrix_B))"
      ],
      "metadata": {
        "colab": {
          "base_uri": "https://localhost:8080/"
        },
        "id": "ChSyBFdibhK3",
        "outputId": "b8b3676f-7f50-44cf-b930-aadced6e48ed"
      },
      "execution_count": null,
      "outputs": [
        {
          "output_type": "stream",
          "name": "stdout",
          "text": [
            "No of columns not same\n"
          ]
        }
      ]
    },
    {
      "cell_type": "markdown",
      "source": [
        "#Hard\n",
        "\n",
        "    6. Assume, you have been given a Matrix in a list format. Write a Python function called\n",
        "    print_matrix_list() that will take a list as an argument and print the Matrix in its proper square form.\n",
        "\n",
        "    ===================================================================\n",
        "    Given Matrix1:\n",
        "    matrix= [[1, 2, 3, 4], [4, 5, 6, 7], [7, 8, 9, 3], [9, 1, 2, 3]]\n",
        "    Function Call1:\n",
        "    print_matrix_list(matrix)\n",
        "    Sample Output1:\n",
        "    1 2 3 4\n",
        "    4 5 6 7\n",
        "    7 8 9 3\n",
        "    9 1 2 3\n",
        "    ===================================================================\n",
        "    Given Matrix2:\n",
        "    matrix= [[1, 2, 3], [4, 5, 6], [7, 8, 9]]\n",
        "    Function Call2:\n",
        "    print_matrix_list(matrix)\n",
        "    Sample Output2:\n",
        "    1 2 3\n",
        "    4 5 6\n",
        "    7 8 9\n",
        "    ===================================================================\n",
        "    Given Matrix3:\n",
        "    matrix= [[1, 0, 0, 0], [0, 5, 0, 0], [0, 0, 9, 0], [0, 0, 0, 3]]\n",
        "    Function Call3:\n",
        "    print_matrix_list(matrix)\n",
        "    Sample Output3:\n",
        "    1 0 0 0\n",
        "    0 5 0 0\n",
        "    0 0 9 0\n",
        "    0 0 0 3\n",
        "    ==================================================================="
      ],
      "metadata": {
        "id": "8abB95lTWTN6"
      }
    },
    {
      "cell_type": "code",
      "source": [
        "def print_matrix_list(matrix):\n",
        "\n",
        "  for single_list in matrix:\n",
        "    for value in single_list:\n",
        "      print(value, end=\" \")\n",
        "    print()\n",
        "\n",
        "\n",
        "#matrix= [[1, 2, 3, 4], [4, 5, 6, 7], [7, 8, 9, 3], [9, 1, 2, 3]]\n",
        "#matrix= [[1, 2, 3], [4, 5, 6], [7, 8, 9]]\n",
        "matrix= [[1, 0, 0, 0], [0, 5, 0, 0], [0, 0, 9, 0], [0, 0, 0, 3]]\n",
        "print_matrix_list(matrix)"
      ],
      "metadata": {
        "colab": {
          "base_uri": "https://localhost:8080/"
        },
        "id": "jN-5vSl_Wmyy",
        "outputId": "99ba5ad7-b6e4-48d1-9b9b-a8670a88758d"
      },
      "execution_count": null,
      "outputs": [
        {
          "output_type": "stream",
          "name": "stdout",
          "text": [
            "1 0 0 0 \n",
            "0 5 0 0 \n",
            "0 0 9 0 \n",
            "0 0 0 3 \n"
          ]
        }
      ]
    },
    {
      "cell_type": "markdown",
      "source": [
        "    7. Assume, you have been given a Square Matrix in a dictionary format.\n",
        "    Square Matrix: A square matrix is a matrix with the same number of rows and columns.\n",
        "    Now, write function called convert_to_list(), which converts the dictionary into a list of lists and returns\n",
        "    the list where each list represents a row matrix. Then, print the returned list in the function call. Finally,\n",
        "    print the returned matrix in Square format using the print_matrix_list() function.\n",
        "\n",
        "    ===================================================================\n",
        "    Given1:\n",
        "    square_matrix_dict = {1 : [1,2,3,4] , 2 : [4,5,6,7] , 3 : [7,8,9,3] , 4:[9,1,2,3] }\n",
        "    Function Call1:\n",
        "    convert_to_list(square_matrix_dict)\n",
        "    Sample Output1:\n",
        "    [[1, 2, 3, 4], [4, 5, 6, 7], [7, 8, 9, 3], [9, 1, 2, 3]]\n",
        "    ===================================================================\n",
        "    Given2:\n",
        "    square_matrix_dict = {1 : [1,2,3] , 2 : [4,5,6] , 3 : [7,8,9] }\n",
        "    Function Call2:\n",
        "    convert_to_list(square_matrix_dict)\n",
        "    Sample Output2:\n",
        "    [[1, 2, 3], [4, 5, 6], [7, 8, 9]]\n",
        "    ==================================================================="
      ],
      "metadata": {
        "id": "JWibjMfzXiiU"
      }
    },
    {
      "cell_type": "code",
      "source": [
        "def convert_to_list(square_matrix_dict):\n",
        "  new_list = []\n",
        "  row_len = len(square_matrix_dict.keys())\n",
        "  for i in range(row_len):\n",
        "    new_list.append([0] * row_len)\n",
        "\n",
        "  for key, value in square_matrix_dict.items():\n",
        "    new_list[key - 1] = value\n",
        "  \n",
        "  return new_list\n",
        "  \n",
        "  \n",
        "\n",
        "#square_matrix_dict = {1 : [1,2,3,4] , 2 : [4,5,6,7] , 3 : [7,8,9,3] , 4:[9,1,2,3] }\n",
        "square_matrix_dict = {1 : [1,2,3] , 2 : [4,5,6] , 3 : [7,8,9] }\n",
        "print(convert_to_list(square_matrix_dict))"
      ],
      "metadata": {
        "colab": {
          "base_uri": "https://localhost:8080/"
        },
        "id": "E4tiYgHiyWPB",
        "outputId": "acd2b25f-4262-4c2d-d85e-a7827907f005"
      },
      "execution_count": null,
      "outputs": [
        {
          "output_type": "stream",
          "name": "stdout",
          "text": [
            "[[1, 2, 3], [4, 5, 6], [7, 8, 9]]\n"
          ]
        }
      ]
    },
    {
      "cell_type": "markdown",
      "source": [
        "    8. Assume, you have been given a Square Matrix in a dictionary format. Now, write function called\n",
        "    convert_to_diagonal() which converts the Square Matrix into a Diagonal Matrix. Then prints both the\n",
        "    Square Matrix and Diagonal Matrix in list of list format and their original square format.\n",
        "    [ For printing in square format MUST use the print_matrix_list() function.]\n",
        "    Square Matrix: A square matrix is a matrix with the same number of rows and columns.\n",
        "    Diagonal Matrix: Any given square matrix where all the elements are zero except for the elements that\n",
        "    are present diagonally is called a diagonal matrix.\n",
        "\n",
        "    ===================================================================\n",
        "    Hints:\n",
        "    Step1: Inside the convert_to_diagonal(), call convert_to_list() for converting the dictionary into a list\n",
        "    of lists.\n",
        "    Step2: Store and print the returned Square- Non-diagonal matrix in a variable.\n",
        "    Step3: Call the print_matrix_list() with the returned Square- Non-diagonal matrix for printing it in the\n",
        "    original square format.\n",
        "    Step4: Except for the cases, when row_number & column_no is equal, make all other elements 0. By\n",
        "    doing this, you will get your Diagonal matrix.\n",
        "    Step5: Call the print_matrix_list() with the Diagonal matrix made in step4 matrix for printing it in the\n",
        "    original square format.\n",
        "    ===================================================================\n",
        "    Given1:\n",
        "    square_matrix_dict = {1 : [1,2,3,4] , 2 : [4,5,6,7] , 3 : [7,8,9,3] , 4:[9,1,2,3] }\n",
        "    Function Call1:\n",
        "    convert_to_diagonal(square_matrix_dict)\n",
        "    Sample Output1:\n",
        "    Non-diagonal matrix:\n",
        "    In list of list format: [[1, 2, 3, 4], [4, 5, 6, 7], [7, 8, 9, 3], [9, 1, 2, 3]]\n",
        "    in original square format:\n",
        "    1 2 3 4\n",
        "    4 5 6 7\n",
        "    7 8 9 3\n",
        "    9 1 2 3\n",
        "    ================\n",
        "    Diagonal matrix:\n",
        "    In list of list format: [[1, 0, 0, 0], [0, 5, 0, 0], [0, 0, 9, 0], [0, 0, 0, 3]]\n",
        "    in original square format:\n",
        "    1 0 0 0\n",
        "    0 5 0 0\n",
        "    0 0 9 0\n",
        "    0 0 0 3\n",
        "\n",
        "    Page 9 of 9\n",
        "\n",
        "    ===================================================================\n",
        "    Given2:\n",
        "    square_matrix_dict = {1 : [1,2,3] , 2 : [4,5,6] , 3 : [7,8,9] }\n",
        "    Function Call2:\n",
        "    convert_to_diagonal(square_matrix_dict)\n",
        "    Sample Output2:\n",
        "    Non-Diagonal matrix:\n",
        "    In list of list format: [[1, 2, 3], [4, 5, 6], [7, 8, 9]]\n",
        "    in original square format:\n",
        "    1 2 3\n",
        "    4 5 6\n",
        "    7 8 9\n",
        "    ================\n",
        "    Diagonal matrix:\n",
        "    In list of list format: [[1, 0, 0], [0, 5, 0], [0, 0, 9]]\n",
        "    in original square format:\n",
        "    1 0 0\n",
        "    0 5 0\n",
        "    0 0 9"
      ],
      "metadata": {
        "id": "IdGglszo0BnD"
      }
    },
    {
      "cell_type": "code",
      "source": [
        "def convert_to_diagonal(square_matrix_dict):\n",
        "  print(\"Non-Diagonal matrix:\")\n",
        "  list_format = convert_to_list(square_matrix_dict)\n",
        "  print(\"In list of list format: \", list_format)\n",
        "  print(\"in original square format:\")\n",
        "  print_matrix_list(list_format)\n",
        "  print(\"================\")\n",
        "  print(\"Diagonal matrix:\")\n",
        "  diagonal_list = list_format.copy()\n",
        "  for row in range(len(diagonal_list)):\n",
        "    for col in range(len(diagonal_list[row])):\n",
        "      if row != col:\n",
        "        diagonal_list[row][col] = 0\n",
        "\n",
        "  print(\"In list of list format:\", diagonal_list)\n",
        "  print(\"in original square format:\")\n",
        "  print_matrix_list(diagonal_list)\n",
        "\n",
        "square_matrix_dict = {1 : [1,2,3,4] , 2 : [4,5,6,7] , 3 : [7,8,9,3] , 4:[9,1,2,3] }\n",
        "convert_to_diagonal(square_matrix_dict)"
      ],
      "metadata": {
        "colab": {
          "base_uri": "https://localhost:8080/"
        },
        "id": "UZMVT2vf0K8h",
        "outputId": "20a00076-b54f-42e6-f900-ec7915aaa936"
      },
      "execution_count": null,
      "outputs": [
        {
          "output_type": "stream",
          "name": "stdout",
          "text": [
            "Non-Diagonal matrix:\n",
            "In list of list format:  [[1, 2, 3, 4], [4, 5, 6, 7], [7, 8, 9, 3], [9, 1, 2, 3]]\n",
            "in original square format:\n",
            "1 2 3 4 \n",
            "4 5 6 7 \n",
            "7 8 9 3 \n",
            "9 1 2 3 \n",
            "================\n",
            "Diagonal matrix:\n",
            "In list of list format: [[1, 0, 0, 0], [0, 5, 0, 0], [0, 0, 9, 0], [0, 0, 0, 3]]\n",
            "in original square format:\n",
            "1 0 0 0 \n",
            "0 5 0 0 \n",
            "0 0 9 0 \n",
            "0 0 0 3 \n"
          ]
        }
      ]
    }
  ]
}