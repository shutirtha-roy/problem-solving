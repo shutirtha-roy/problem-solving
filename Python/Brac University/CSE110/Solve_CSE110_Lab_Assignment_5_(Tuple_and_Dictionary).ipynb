{
  "nbformat": 4,
  "nbformat_minor": 0,
  "metadata": {
    "kernelspec": {
      "display_name": "Python 3",
      "language": "python",
      "name": "python3"
    },
    "language_info": {
      "codemirror_mode": {
        "name": "ipython",
        "version": 3
      },
      "file_extension": ".py",
      "mimetype": "text/x-python",
      "name": "python",
      "nbconvert_exporter": "python",
      "pygments_lexer": "ipython3",
      "version": "3.7.6"
    },
    "colab": {
      "name": "Solve_CSE110_Lab_Assignment_5_(Tuple and Dictionary).ipynb",
      "provenance": [],
      "collapsed_sections": []
    }
  },
  "cells": [
    {
      "cell_type": "markdown",
      "metadata": {
        "id": "U4PRkuyUtDRw"
      },
      "source": [
        "# CSE110 Lab Assignment 5\n",
        "\n",
        "This Assignment is to help you develop your concept of Tuples and Dictionaries in Python.\n",
        "\n",
        "Write your name, student ID and CSE110 theory section number below:\n"
      ]
    },
    {
      "cell_type": "code",
      "metadata": {
        "id": "wl7fu2qrggWI"
      },
      "source": [
        "#STUDENT NAME:\n",
        "#STUDENT ID:\n",
        "#CSE110 THEORY SECTION: "
      ],
      "execution_count": null,
      "outputs": []
    },
    {
      "cell_type": "markdown",
      "metadata": {
        "id": "PD425BrvtDRy"
      },
      "source": [
        "## Write the code in Python to do the following tasks:\n",
        "\n",
        "**<font color='red'>[MUST MAINTAIN VARIABLE NAMING CONVENTIONS FOR ALL THE TASKS]</font>**\n",
        "\n",
        "## Part 1: Tuple"
      ]
    },
    {
      "cell_type": "markdown",
      "metadata": {
        "id": "FNOorLYXtDRz"
      },
      "source": [
        "### Task 1\n",
        "\n",
        "Assume, you have been given a tuple.\n",
        "\n",
        "a_tuple = (\"The Institute\",\\\n",
        "        (\"Best Mystery & Thriller\", \"The Silent Patient\", 68821),\\\n",
        "        75717,\\\n",
        "        [1, 2, 3, 400, 5, 6, 7],\\\n",
        "        (\"Best Fiction\", \"The Testaments\", 98291)\\\n",
        ")\n",
        "\n",
        "Write **one line** of Python code to access and print the value 400.\n",
        "\n",
        "===================================================================\n",
        "\n",
        "Output: 400\n",
        "\n",
        "===================================================================\n"
      ]
    },
    {
      "cell_type": "code",
      "metadata": {
        "id": "NDKB1cIMtDR0",
        "colab": {
          "base_uri": "https://localhost:8080/"
        },
        "outputId": "c3d596ec-5115-4301-ffce-e904a914202d"
      },
      "source": [
        "a_tuple = (\"The Institute\", (\"Best Mystery & Thriller\", \"The Silent Patient\", 68821), 75717, [1, 2, 3, 400, 5, 6, 7], (\"Best Fiction\", \"The Testaments\", 98291))\n",
        "print(a_tuple[3][3])\n"
      ],
      "execution_count": null,
      "outputs": [
        {
          "output_type": "stream",
          "name": "stdout",
          "text": [
            "400\n"
          ]
        }
      ]
    },
    {
      "cell_type": "markdown",
      "metadata": {
        "id": "BXlIw1svtDR-"
      },
      "source": [
        "### Task 2\n",
        "\n",
        "Assume, you have been given a tuple. Write a Python program that creates a **new tuple** excluding the first and last two elements of the given tuple and prints the new tuple. \n",
        "\n",
        "**Hint:** You may use tuple slicing.\n",
        "\n",
        "===================================================================\n",
        "\n",
        "**Sample Input 1:**\\\n",
        "(10, 20, 24, 25, 26, 35, 70)\n",
        "\n",
        "\n",
        "**Sample Output 1:**\\\n",
        "(24, 25, 26)\n",
        "\n",
        "===================================================================\n",
        "\n",
        "**Sample Input 2:**\\\n",
        "(-10, 20, 30, 40)\n",
        "\n",
        "\n",
        "**Sample Output 2:**\\\n",
        "()\n",
        "\n",
        "===================================================================\n",
        "\n",
        "**Sample Input 3:**\\\n",
        "(-10, 20, 25, 30, 40)\n",
        "\n",
        "\n",
        "**Sample Output 3:**\\\n",
        "(25,)\n",
        "\n",
        "===================================================================\n"
      ]
    },
    {
      "cell_type": "code",
      "metadata": {
        "id": "FTJ-5AmNtDR_",
        "colab": {
          "base_uri": "https://localhost:8080/"
        },
        "outputId": "efd7df82-19cb-46cf-ffdd-86704cb131e1"
      },
      "source": [
        "new_tuple = (10, 20, 24, 25, 26, 35, 70)\n",
        "print(new_tuple[2:-2])\n"
      ],
      "execution_count": null,
      "outputs": [
        {
          "output_type": "stream",
          "name": "stdout",
          "text": [
            "(24, 25, 26)\n"
          ]
        }
      ]
    },
    {
      "cell_type": "markdown",
      "metadata": {
        "id": "Z3GS2TE6tDSG"
      },
      "source": [
        "### Task 3\n",
        "\n",
        "Assume, you have been given a tuple. \n",
        "\n",
        "\n",
        "book_info = (\\\n",
        "    (\"Best Mystery & Thriller\",\"The Silent Patient\",68,821),\\\n",
        "    (\"Best Horror\",\"The Institute\",75,717),\\\n",
        "    (\"Best History & Biography\",\"The five\",31,783 ),\\\n",
        "    (\"Best Fiction\",\"The Testaments\",98,291)\\\n",
        ")\n",
        "\n",
        "Write a Python program that prints the size of the tuple and all its elements as shown below.\n",
        "\n",
        "===================================================================\n",
        "\n",
        "**Output:**\\\n",
        "Size of the tuple is: 4\\\n",
        "('Best Mystery & Thriller', 'The Silent Patient', 68, 821)\\\n",
        "('Best Horror', 'The Institute', 75, 717)\\\n",
        "('Best History & Biography', 'The five', 31, 783)\\\n",
        "('Best Fiction', 'The Testaments', 98, 291)\n",
        "\n",
        "==================================================================="
      ]
    },
    {
      "cell_type": "code",
      "metadata": {
        "id": "RPFYcAjntDSG",
        "colab": {
          "base_uri": "https://localhost:8080/"
        },
        "outputId": "7a9a9a14-f9e6-48e0-8d6e-b85dafc84395"
      },
      "source": [
        "book_info = ((\"Best Mystery & Thriller\",\"The Silent Patient\",68,821),\n",
        "              (\"Best Horror\",\"The Institute\",75,717),\n",
        "              (\"Best History & Biography\",\"The five\",31,783 ),\n",
        "              (\"Best Fiction\",\"The Testaments\",98,291)\n",
        "            )\n",
        "\n",
        "print(f\"Size of the tuple is: {len(book_info)}\")\n",
        "\n",
        "for tuple_values in book_info:\n",
        "  print(tuple_values)"
      ],
      "execution_count": null,
      "outputs": [
        {
          "output_type": "stream",
          "name": "stdout",
          "text": [
            "Size of the tuple is: 4\n",
            "('Best Mystery & Thriller', 'The Silent Patient', 68, 821)\n",
            "('Best Horror', 'The Institute', 75, 717)\n",
            "('Best History & Biography', 'The five', 31, 783)\n",
            "('Best Fiction', 'The Testaments', 98, 291)\n"
          ]
        }
      ]
    },
    {
      "cell_type": "markdown",
      "metadata": {
        "id": "glKgAPlGtDSK"
      },
      "source": [
        "### Task 4\n",
        "\n",
        "Assume, you have been given a tuple with details about books that won the Good Reads Choice Awards. \n",
        "\n",
        "book_info = (\\\n",
        "    (\"Best Mystery & Thriller\",\"The Silent Patient\",68821),\\\n",
        "    (\"Best Horror\",\"The Institute\",75717),\\\n",
        "    (\"Best History & Biography\",\"The five\",31783 ),\\\n",
        "    (\"Best Fiction\",\"The Testaments\",98291)\\\n",
        ")\n",
        "\n",
        "Write a Python program that prints the award category, the book name, and its total votes earned as shown below. \n",
        "\n",
        "**<font color='red'>[Must use Tuple unpacking for printing and need to handle the quotation marks as a part of the output]</font>**\n",
        "\n",
        "===================================================================\n",
        "\n",
        "**Output:**\\\n",
        "The Silent Patient won the 'Best Mystery & Thriller' category with 68821 votes\\\n",
        "The Institute won the 'Best Horror' category with 75717 votes\\\n",
        "The five won the 'Best History & Biography' category with 31783 votes\\\n",
        "The Testaments won the 'Best Fiction' category with 98291 votes\n",
        "\n",
        "==================================================================="
      ]
    },
    {
      "cell_type": "code",
      "metadata": {
        "id": "LgTKpSGatDSM",
        "colab": {
          "base_uri": "https://localhost:8080/"
        },
        "outputId": "68efb459-fa42-4d4a-9885-8a5f6f7cac2c"
      },
      "source": [
        "book_info = (\n",
        "(\"Best Mystery & Thriller\",\"The Silent Patient\",68821),\n",
        "(\"Best Horror\",\"The Institute\",75717),\n",
        "(\"Best History & Biography\",\"The five\",31783 ),\n",
        "(\"Best Fiction\",\"The Testaments\",98291)\n",
        ")\n",
        "\n",
        "for tuple_values in book_info:\n",
        "  print(f\"{tuple_values[1]} won the '{tuple_values[0]}' category with {tuple_values[2]} votes\")\n"
      ],
      "execution_count": null,
      "outputs": [
        {
          "output_type": "stream",
          "name": "stdout",
          "text": [
            "The Silent Patient won the 'Best Mystery & Thriller' category with 68821 votes\n",
            "The Institute won the 'Best Horror' category with 75717 votes\n",
            "The five won the 'Best History & Biography' category with 31783 votes\n",
            "The Testaments won the 'Best Fiction' category with 98291 votes\n"
          ]
        }
      ]
    },
    {
      "cell_type": "markdown",
      "metadata": {
        "id": "bRe9K_j55zpb"
      },
      "source": [
        "### Task 5\n",
        "Write a python program that takes an input from the user and finds the number of times that the input is present in a given tuple.\n",
        "\n",
        "===================================================================\n",
        "\n",
        "<b>Example 1: </b><br/>\n",
        "\n",
        "Given tuple: (10, 8, 5, 2, 10, 15, 10, 8, 5, 8, 8, 2) <br/>\n",
        "\n",
        "<b>Sample Input 1:</b> \n",
        "\n",
        "8<br/>\n",
        "\n",
        "<b>Sample Output 1: </b> <br/>\n",
        "\n",
        "8 appears 4 times in the tuple<br/>\n",
        "\n",
        "===================================================================\n",
        "\n",
        "<b> Example 2 </b><br/>\n",
        "\n",
        "Given tuple: (10, 8, 5, 2, 10, 15, 10, 8, 5, 8, 8, 2)<br/>\n",
        "\n",
        "<b>Sample Input 2:</b>\n",
        "\n",
        "1<br/>\n",
        "\n",
        "<b>Sample Output 2:</b><br/>\n",
        "\n",
        "1 appears 0 times in the tuple\n",
        "\n",
        "==================================================================="
      ]
    },
    {
      "cell_type": "code",
      "metadata": {
        "id": "mC-B1fpStDST",
        "colab": {
          "base_uri": "https://localhost:8080/"
        },
        "outputId": "1ea3e965-69fb-4ca8-c226-0b4501a7b447"
      },
      "source": [
        "tuple_1 = (10, 8, 5, 2, 10, 15, 10, 8, 5, 8, 8, 2)\n",
        "\n",
        "tuple_value = int(input())\n",
        "#tuple_count = tuple_value.count(8)\n",
        "\n",
        "tuple_count = 0\n",
        "for i in tuple_1:\n",
        "  if i == tuple_value:\n",
        "    tuple_count += 1\n",
        "\n",
        "\n",
        "print(f'{tuple_value} appears {tuple_count} times in the tuple')\n",
        "\n"
      ],
      "execution_count": null,
      "outputs": [
        {
          "output_type": "stream",
          "name": "stdout",
          "text": [
            "8\n",
            "8 appears 4 times in the tuple\n"
          ]
        }
      ]
    },
    {
      "cell_type": "markdown",
      "metadata": {
        "id": "QWNi_JWr6AfC"
      },
      "source": [
        "### Task 6\n",
        "Write a Python program to reverse a given tuple. \n",
        "\n",
        " \n",
        "  <font color='red'>[You are not allowed to use tuple slicing]</font>\n",
        "  \n",
        "===================================================================\n",
        "\n",
        "<b>Note: </b>  Unlike lists, tuples are immutable. So, in order to reverse a tuple, we may need to convert it into a list first, then modify the list, and finally convert it back to a tuple. \n",
        "\n",
        "===================================================================\n",
        "\n",
        "<b>Example 1: </b><br/>\n",
        "\n",
        "Given tuple: ('a', 'b', 'c', 'd', 'e', 'f', 'g', 'h') <br/>\n",
        "\n",
        "<b> Output: </b> <br/>\n",
        "\n",
        "('h', 'g', 'f', 'e', 'd', 'c', 'b', 'a')<br/>\n",
        "\n",
        "\n",
        "===================================================================\n",
        "\n",
        "<b> Example 2: </b><br/>\n",
        "\n",
        "Given tuple: (10, 20, 30, 40, 50, 60)<br/>\n",
        "\n",
        "<b> Output: </b><br/>\n",
        "\n",
        "(60, 50, 40, 30, 20, 10)\n",
        "\n",
        "===================================================================\n"
      ]
    },
    {
      "cell_type": "code",
      "metadata": {
        "id": "CJrUcYAN6Bkx",
        "colab": {
          "base_uri": "https://localhost:8080/"
        },
        "outputId": "9daa102d-5422-45d0-f145-2bc9ae14c96d"
      },
      "source": [
        "tuple_1 = ('a', 'b', 'c', 'd', 'e', 'f', 'g', 'h')\n",
        "\n",
        "new_list = []\n",
        "\n",
        "for index in range(len(tuple_1) - 1, -1, -1):\n",
        "  new_list.append(tuple_1[index])\n",
        "\n",
        "tuple_2 = tuple(new_list)\n",
        "\n",
        "print(tuple_2)"
      ],
      "execution_count": null,
      "outputs": [
        {
          "output_type": "stream",
          "name": "stdout",
          "text": [
            "('h', 'g', 'f', 'e', 'd', 'c', 'b', 'a')\n"
          ]
        }
      ]
    },
    {
      "cell_type": "markdown",
      "metadata": {
        "id": "km0QurTJtDSX"
      },
      "source": [
        "## Part 2: Dictionary"
      ]
    },
    {
      "cell_type": "markdown",
      "metadata": {
        "id": "kvV-HnCntDSc"
      },
      "source": [
        "### Task 7\n",
        "Suppose you are given two dictionaries.\\\n",
        "Now create a new dictionary \"marks\", merging the two dictionaries, **so that the original two dictionaries remain unchanged.**\n",
        "\n",
        "\n",
        "**Note:** You can use dictionary functions.\n",
        "\n",
        "===================================================================\n",
        "\n",
        "**Given:**\n",
        "\n",
        "{'Harry':15, 'Draco':8, 'Nevil':19}\n",
        "\n",
        "{'Ginie':18, 'Luna': 14}\n",
        "\n",
        "**Output:**\n",
        "\n",
        "{'Harry': 15, 'Draco': 8, 'Nevil': 19, 'Ginie': 18, 'Luna': 14}\n",
        "\n",
        "===================================================================\n",
        "\n",
        "**Given:**\n",
        "\n",
        "{'A':90, 'B': 0}\n",
        "\n",
        "{'C':50}\n",
        "\n",
        "**Output:**\n",
        "\n",
        "{'A': 90, 'B': 0, 'C': 50}\n",
        "\n",
        "===================================================================\n"
      ]
    },
    {
      "cell_type": "code",
      "metadata": {
        "id": "BGSyClBPtDSd",
        "colab": {
          "base_uri": "https://localhost:8080/"
        },
        "outputId": "cf804e39-fac4-4ff2-976a-a1853c1d2fcd"
      },
      "source": [
        "dict_1 = {'Harry':15, 'Draco':8, 'Nevil':19}\n",
        "dict_2 = {'Ginie':18, 'Luna': 14}\n",
        "\n",
        "#dict_1 = {'A':90, 'B': 0}\n",
        "#dict_2 = {'C':50}\n",
        "\n",
        "marks = dict()\n",
        "\n",
        "#marks.update(dict_1)\n",
        "#marks.update(dict_2)\n",
        "\n",
        "for key, values in dict_1.items():\n",
        "  marks[key] = values\n",
        "\n",
        "for key, values in dict_2.items():\n",
        "  marks[key] = values\n",
        "\n",
        "print(marks)"
      ],
      "execution_count": null,
      "outputs": [
        {
          "output_type": "stream",
          "name": "stdout",
          "text": [
            "{'Harry': 15, 'Draco': 8, 'Nevil': 19, 'Ginie': 18, 'Luna': 14}\n"
          ]
        }
      ]
    },
    {
      "cell_type": "markdown",
      "metadata": {
        "id": "QRzP4HYStDSi"
      },
      "source": [
        "### Task 8\n",
        "Write a Python program that takes a dictionary as an input from the user and then prints the average of all the values in the dictionary.\n",
        "\n",
        " <font color='red'>[You are not allowed to use len() and sum()]</font>\n",
        "\n",
        "===================================================================\n",
        "\n",
        "**Hint (1): For taking dictionary input** \n",
        "\n",
        "Approach(1): For taking dictionary as an input from the user, you may take the whole dictionary as a string using the input() function. Then you can use the split(), strip() functions and conditions to get the keys and values from the string. Finally, you can make the dictionary using the obtained data.\n",
        "\n",
        "Approach(2): If the first approach seems too difficult you can create an empty dictionary and then just run a simple loop. For each iteration ask the user for a key and a value using the input() function and keep updating the dictionary with the key and value.\n",
        "\n",
        "\n",
        "**Hint (2):** After you have a dictionary, you can use dictionary functions to get all the values from it, run loop to calculate the sum and the total number of values in the dictionary in order to find out the average.\n",
        "\n",
        "===================================================================\n",
        "\n",
        "**Sample Input 1:**\n",
        "\n",
        "{'Jon': 100, 'Dan':200, 'Rob':300}\n",
        "\n",
        "**Sample Output 1:**\n",
        "\n",
        "Average is 200.\n",
        "\n",
        "===================================================================\n",
        "\n",
        "\n",
        "**Sample Input 2:**\n",
        "\n",
        "{'Jon': 100, 'Dan':200, 'Rob':30, 'Ned':110}\n",
        "\n",
        "**Sample Output 2:**\n",
        "\n",
        "Average is 110.\n",
        "\n",
        "===================================================================\n"
      ]
    },
    {
      "cell_type": "code",
      "metadata": {
        "id": "VMRLnA53tDSk",
        "colab": {
          "base_uri": "https://localhost:8080/"
        },
        "outputId": "01d5b2a8-bf48-485f-b4d2-d46041474c52"
      },
      "source": [
        "input_1 = input()[1:-1].split(',')\n",
        "\n",
        "dict_1 = dict()\n",
        "\n",
        "for pair in input_1:\n",
        "  key = pair.split(':')[0].strip()[1:-1]\n",
        "  value = int(pair.split(':')[1].strip())\n",
        "  dict_1[key] = value\n",
        "\n",
        "count = 0\n",
        "total = 0\n",
        "\n",
        "for key, values in dict_1.items():\n",
        "  total += values\n",
        "  count += 1\n",
        "\n",
        "average = int(total / count)\n",
        "\n",
        "print(f\"Average is {average}\")\n"
      ],
      "execution_count": null,
      "outputs": [
        {
          "output_type": "stream",
          "name": "stdout",
          "text": [
            "{'Jon': 100, 'Dan':200, 'Rob':300}\n",
            "Average is 200\n"
          ]
        }
      ]
    },
    {
      "cell_type": "markdown",
      "metadata": {
        "id": "le7fZ8XC9j_x"
      },
      "source": [
        "### Task 9\n",
        "Suppose there is a dictionary named exam_marks as given below.\n",
        "\n",
        "exam_marks = {'Cierra Vega': 175, 'Alden Cantrell': 200, 'Kierra Gentry': 165, 'Pierre Cox': 190}\n",
        "\n",
        "Write a Python program that takes an input from the user and creates a new dictionary with only those elements from 'exam_marks' whose keys have values higher than the user input (inclusive).\n",
        "\n",
        "===================================================================\n",
        "\n",
        "**Sample Input 1:**\n",
        "\n",
        "170\n",
        "\n",
        "**Sample Output 1:**\n",
        "\n",
        "{'Cierra Vega': 175, 'Alden Cantrell': 200, 'Pierre Cox': 190}\n",
        "\n",
        "===================================================================\n",
        "\n",
        "**Sample Input 2:**\n",
        "\n",
        "190\n",
        "\n",
        "**Sample Output 2:**\n",
        "\n",
        "{'Alden Cantrell': 200, 'Pierre Cox': 190}\n",
        "\n",
        "==================================================================="
      ]
    },
    {
      "cell_type": "code",
      "metadata": {
        "id": "qJWoUsLN9lBY",
        "colab": {
          "base_uri": "https://localhost:8080/"
        },
        "outputId": "049a2039-d5f3-47fa-f82b-07df6f75b2d4"
      },
      "source": [
        "exam_marks = {'Cierra Vega': 175, 'Alden Cantrell': 200, 'Kierra Gentry': 165, 'Pierre Cox': 190}\n",
        "\n",
        "new_dict = dict()\n",
        "\n",
        "input_value = 170\n",
        "\n",
        "for key, value in exam_marks.items():\n",
        "  if value >= input_value:\n",
        "    new_dict[key] = value\n",
        "\n",
        "print(new_dict)\n"
      ],
      "execution_count": null,
      "outputs": [
        {
          "output_type": "stream",
          "name": "stdout",
          "text": [
            "{'Cierra Vega': 175, 'Alden Cantrell': 200, 'Pierre Cox': 190}\n"
          ]
        }
      ]
    },
    {
      "cell_type": "markdown",
      "metadata": {
        "id": "IsqFQpqKtDSs"
      },
      "source": [
        "### Task 10\n",
        "Write a Python program that finds the largest value with its key from a given dictionary.  \n",
        "\n",
        "<font color='red'>\n",
        "[You are not allowed to use the max() function for this task]</font> \n",
        "\n",
        "**Note:** You do not need to take the dictionaries as an input from the user but your code should work for any given dictionary. Also, you need to handle the quotation marks as a part of the output.\n",
        "\n",
        "**Hint:** Think of membership operators (in and not in). You can use dictionary functions to get the values.\n",
        "\n",
        "===================================================================\n",
        "\n",
        "Sample 1:\n",
        "\n",
        "**Given:**\n",
        "\n",
        "{'sci fi': 12, 'mystery': 15, 'horror': 8, 'mythology': 10, 'young_adult': 4, 'adventure':14}\n",
        "\n",
        "**Output:**\n",
        "\n",
        "The highest selling book genre is 'mystery' and the number of books sold are 15.\n",
        "\n",
        "===================================================================\n",
        "\n",
        "Sample 2:\n",
        "\n",
        "**Given:**\n",
        "\n",
        "{'sci fi': 5, 'mystery': 3, 'horror': 14,\n",
        "             'young_adult': 2, 'adventure':9}\n",
        "\n",
        "**Output:**\n",
        "\n",
        "The highest selling book genre is  'horror'  and the number of books sold are 14.\n",
        "\n",
        "===================================================================\n"
      ]
    },
    {
      "cell_type": "code",
      "metadata": {
        "id": "v9Kosgs4tDSt",
        "colab": {
          "base_uri": "https://localhost:8080/"
        },
        "outputId": "ec7c539b-2a55-475e-91b6-bf22b0fc62a5"
      },
      "source": [
        "input_1 = {'sci fi': 12, 'mystery': 15, 'horror': 8, 'mythology': 10, 'young_adult': 4, 'adventure':14}\n",
        "\n",
        "max_value = input_1[list(input_1.keys())[0]]\n",
        "max_key = f\"'{list(input_1.keys())[0]}'\"\n",
        "\n",
        "for key, value in input_1.items():\n",
        "  if value > max_value:\n",
        "    max_key = f\"'{key}'\"\n",
        "    max_value = value\n",
        "\n",
        "print(f\"The highest selling book genre is {max_key} and the number of books sold are {max_value}.\")"
      ],
      "execution_count": null,
      "outputs": [
        {
          "output_type": "stream",
          "name": "stdout",
          "text": [
            "The highest selling book genre is 'mystery' and the number of books sold are 15.\n"
          ]
        }
      ]
    },
    {
      "cell_type": "markdown",
      "metadata": {
        "id": "qozufw7itDSy"
      },
      "source": [
        "### Task 11\n",
        "Write a Python program that combines two dictionaries by **adding values for common keys**. \n",
        "\n",
        "**Note:** You do not need to take any dictionary as an input from the user but your task should work for any two given dictionaries.\n",
        "\n",
        "**Hint:** Think of membership operators (in and not in). You can use dictionary functions to get the values. You may need to create a new dictionary to store the combined items.\n",
        "\n",
        "===================================================================\n",
        "\n",
        "**Example 1:**\n",
        "\n",
        "Given:\n",
        "\n",
        "dict1 = {'a': 10, 'b':20, 'c':30}\\\n",
        "dict2 = {'a': 10, 'c':20, 'd':30, 'e':40}\n",
        "\n",
        "**Output:**\n",
        "\n",
        "{'a': 20, 'b': 20, 'c': 50, 'd': 30, 'e': 40}\n",
        "\n",
        "===================================================================\n",
        "\n",
        "**Example 2:**\n",
        "\n",
        "Given:\n",
        "\n",
        "dict1 = {'chocolate': -100, 'ice_cream': 50}\\\n",
        "dict2 = {'fanta':-500, 'chocolate': -100, '7_up':400}\n",
        "\n",
        "**Output:**\n",
        "\n",
        "{'chocolate': -200, 'ice_cream': 50, 'fanta': -500, '7_up': 400}\n",
        "\n",
        "==================================================================="
      ]
    },
    {
      "cell_type": "code",
      "metadata": {
        "id": "S0EIYODZtDSz",
        "colab": {
          "base_uri": "https://localhost:8080/"
        },
        "outputId": "7cf8823f-0e91-4e1e-ca55-e7a8e1e93d50"
      },
      "source": [
        "#dict1 = {'a': 10, 'b':20, 'c':30}\n",
        "#dict2 = {'a': 10, 'c':20, 'd':30, 'e':40}\n",
        "dict1 = {'chocolate': -100, 'ice_cream': 50}\n",
        "dict2 = {'fanta':-500, 'chocolate': -100, '7_up':400}\n",
        "\n",
        "key_list = list(dict1.keys()) + list(dict2.keys())\n",
        "\n",
        "dict_3 = dict.fromkeys(key_list, 0)\n",
        "\n",
        "for key, value in dict1.items():\n",
        "  dict_3[key] += dict1[key]\n",
        "\n",
        "for key, value in dict2.items():\n",
        "  dict_3[key] += dict2[key]\n",
        "\n",
        "print(dict_3)\n"
      ],
      "execution_count": null,
      "outputs": [
        {
          "output_type": "stream",
          "name": "stdout",
          "text": [
            "{'chocolate': -200, 'ice_cream': 50, 'fanta': -500, '7_up': 400}\n"
          ]
        }
      ]
    },
    {
      "cell_type": "markdown",
      "metadata": {
        "id": "d0a82nIt9ufj"
      },
      "source": [
        "### Task 12\n",
        "Write a Python program which prints the frequency of numbers given as input by the user. You should stop taking input when you find the string \"STOP\".\n",
        "\n",
        "\n",
        "**Note:** Use a dictionary to solve the problem\n",
        "\n",
        "===================================================================\n",
        "\n",
        "**Sample Input:**\n",
        "\n",
        "10, 20, 20, 30, 10, 50, 90, 50, 20, STOP\n",
        "\n",
        "**Sample Output:**\n",
        "\n",
        "Frequency of numbers:\\\n",
        "10 - 2 times\\\n",
        "20 - 3 times\\\n",
        "30 - 1 times\\\n",
        "50 - 2 times\\\n",
        "90 - 1 times\n",
        "\n",
        "===================================================================\n"
      ]
    },
    {
      "cell_type": "code",
      "metadata": {
        "id": "snOKGA1d9vFC",
        "colab": {
          "base_uri": "https://localhost:8080/"
        },
        "outputId": "0d8bfd46-9396-4ca8-9fac-153946cf9229"
      },
      "source": [
        "input_value = \"10, 20, 20, 30, 10, 50, 90, 50, 20, STOP\".split(\",\")\n",
        "\n",
        "dict_1 = dict()\n",
        "\n",
        "for value in input_value:\n",
        "  if value.strip() == \"STOP\":\n",
        "    break\n",
        "  else:\n",
        "    if dict_1.get(int(value)) == None:\n",
        "      dict_1[int(value)] = 0\n",
        "    dict_1[int(value)] += 1\n",
        "\n",
        "print(f\"Frequency of numbers:\")\n",
        "for key, items in dict_1.items():\n",
        "  print(f\"{key} - {items} times\")"
      ],
      "execution_count": null,
      "outputs": [
        {
          "output_type": "stream",
          "name": "stdout",
          "text": [
            "Frequency of numbers:\n",
            "10 - 2 times\n",
            "20 - 3 times\n",
            "30 - 1 times\n",
            "50 - 2 times\n",
            "90 - 1 times\n"
          ]
        }
      ]
    },
    {
      "cell_type": "markdown",
      "metadata": {
        "id": "hAqjgwGNtDS2"
      },
      "source": [
        "### Task 13\n",
        "Write a Python program that takes a String as an input from the user and counts the frequency of each character using a dictionary. For solving this problem, you may use each character as a key and its frequency as values. <font color='red'>[You are not allowed to use the count() function]</font> \n",
        "\n",
        "**Hint:** You can create a new dictionary to store the frequencies. You may ignore case for simplicity (i.e. may consider P and p to be the same).\n",
        "\n",
        "\n",
        "===================================================================\n",
        "\n",
        "**Sample Input:**\\\n",
        "\"Python programming is fun\"\n",
        "\n",
        "**Sample Output:**\\\n",
        "{'p': 2, 'y': 1, 't': 1, 'h': 1, 'o': 2, 'n': 3, 'r': 2, 'g': 2, 'a': 1, 'm': 2, 'i': 2, 's': 1, 'f': 1, 'u': 1}\n",
        "\n",
        "===================================================================\n",
        "\n"
      ]
    },
    {
      "cell_type": "code",
      "metadata": {
        "id": "-m2yPIT7tDS3",
        "colab": {
          "base_uri": "https://localhost:8080/"
        },
        "outputId": "ee9a09bf-d31a-4638-d651-d63c7fe8c379"
      },
      "source": [
        "input_1 = \"Python programming is fun\"\n",
        "\n",
        "dict_1 = dict()\n",
        "\n",
        "for key in input_1:\n",
        "  if key.isalpha():\n",
        "    dict_1[key.lower()] = 0\n",
        "    \n",
        "for key, value in dict_1.items():\n",
        "  for letter in input_1:\n",
        "    if key == letter.lower():\n",
        "      dict_1[key] += 1\n",
        "\n",
        "print(dict_1)\n",
        "\n"
      ],
      "execution_count": null,
      "outputs": [
        {
          "output_type": "stream",
          "name": "stdout",
          "text": [
            "{'p': 2, 'y': 1, 't': 1, 'h': 1, 'o': 2, 'n': 3, 'r': 2, 'g': 2, 'a': 1, 'm': 2, 'i': 2, 's': 1, 'f': 1, 'u': 1}\n"
          ]
        }
      ]
    },
    {
      "cell_type": "markdown",
      "metadata": {
        "id": "QWf1zsBctDS6"
      },
      "source": [
        "### Task 14\n",
        "Suppose you are given the following dictionary where the values are lists. \n",
        "\n",
        "dict = {'A': [1, 2, 3], 'b': ['1', '2'], \"c\": [4, 5, 6, 7]}\n",
        "\n",
        "Write a Python program that counts the total number of items in a dictionary’s values and prints it. <font color='red'>\n",
        "\n",
        "[without using sum(), len(), count() functions]</font> \n",
        "\n",
        "**Note:**  Make changes to the above dictionary and see if your code works properly for other dictionaries as well.\n",
        "\n",
        "===================================================================\n",
        "\n",
        "**Output:**\n",
        "\n",
        "9\n",
        "\n",
        "===================================================================\n",
        "\n"
      ]
    },
    {
      "cell_type": "code",
      "metadata": {
        "id": "atnD3A1utDS6",
        "colab": {
          "base_uri": "https://localhost:8080/"
        },
        "outputId": "1ca4ba30-684a-4198-a004-e818c5a936d1"
      },
      "source": [
        "dict_1 = {'A': [1, 2, 3], 'b': ['1', '2'], \"c\": [4, 5, 6, 7]}\n",
        "\n",
        "count = 0\n",
        "\n",
        "for key, values in dict_1.items():\n",
        "  for value in values:\n",
        "    count += 1\n",
        "\n",
        "print(count)\n"
      ],
      "execution_count": null,
      "outputs": [
        {
          "output_type": "stream",
          "name": "stdout",
          "text": [
            "9\n"
          ]
        }
      ]
    },
    {
      "cell_type": "markdown",
      "metadata": {
        "id": "-imuPb3EtDTD"
      },
      "source": [
        "### Task 15\n",
        "\n",
        "Suppose you have been given the following list of tuples. \n",
        "\n",
        "list = [(\"a\", 1), (\"b\", 2), (\"a\", 3), (\"b\", 1), (\"a\", 2), (\"c\", 1)]\n",
        "\n",
        "Write a Python program that converts this list of tuples into a dictionary and then prints the dictionary. \n",
        "\n",
        "<font color='red'>[You are not allowed to use set]</font> \n",
        "\n",
        "\n",
        "**Hint:** Think of membership operators (in and not in).\n",
        "\n",
        "===================================================================\n",
        "\n",
        "**Output:**\n",
        "\n",
        "{'a': [1, 3, 2], 'b': [2, 1], 'c': [1]}\n",
        "\n",
        " ===================================================================\n"
      ]
    },
    {
      "cell_type": "code",
      "metadata": {
        "id": "bBBcHpgYtDTE",
        "colab": {
          "base_uri": "https://localhost:8080/"
        },
        "outputId": "4c1f4549-8cd9-4f0f-820e-8d70be50ada4"
      },
      "source": [
        "list_1 = [(\"a\", 1), (\"b\", 2), (\"a\", 3), (\"b\", 1), (\"a\", 2), (\"c\", 1)]\n",
        "\n",
        "dict_1 = dict()\n",
        "\n",
        "for values in list_1:\n",
        "  key = values[0]\n",
        "  value = values[1]\n",
        "\n",
        "  if dict_1.get(key) == None:\n",
        "    dict_1[key] = []\n",
        "  dict_1[key] = dict_1[key] + [value]\n",
        "\n",
        "print(dict_1)"
      ],
      "execution_count": 14,
      "outputs": [
        {
          "output_type": "stream",
          "name": "stdout",
          "text": [
            "{'a': [1, 3, 2], 'b': [2, 1], 'c': [1]}\n"
          ]
        }
      ]
    },
    {
      "cell_type": "markdown",
      "metadata": {
        "id": "UrxbFOWk5ASO"
      },
      "source": [
        "## Optional Tasks (16-21) [Ungraded]"
      ]
    },
    {
      "cell_type": "markdown",
      "metadata": {
        "id": "vtQRbX994-Se"
      },
      "source": [
        "### Task 16\n",
        "\n",
        "Given a list of tuples, your task is to multiply the elements of the tuple and return a list of multiplied elements as shown below.\n",
        "\n",
        "===================================================================\n",
        "\n",
        "**Example 1:**\n",
        "\n",
        "Given: \n",
        "\n",
        "[(2, 3), (4, 5), (6, 7), (2, 8)]\n",
        "\n",
        "**Output:**\n",
        "\n",
        "[6, 20, 42, 16]\n",
        "\n",
        "===================================================================\n",
        "\n",
        "**Example 2:**\n",
        "\n",
        "Given:\n",
        "\n",
        " [(11, 22), (33, 55), (55, 77), (11, 44)]\n",
        "\n",
        "**Output:**\n",
        "\n",
        "[242, 1815, 4235, 484]\n",
        "\n",
        "==================================================================="
      ]
    },
    {
      "cell_type": "code",
      "metadata": {
        "id": "xy-E_k6y5maj",
        "colab": {
          "base_uri": "https://localhost:8080/"
        },
        "outputId": "1826e11a-9db2-4c0d-dc25-bcec9d45021f"
      },
      "source": [
        "#input_1 = [(2, 3), (4, 5), (6, 7), (2, 8)]\n",
        "input_1 = [(11, 22), (33, 55), (55, 77), (11, 44)]\n",
        "new_list = []\n",
        "\n",
        "for value_1, value_2 in input_1:\n",
        "  new_list.append(value_1 * value_2)\n",
        "\n",
        "print(new_list)"
      ],
      "execution_count": 16,
      "outputs": [
        {
          "output_type": "stream",
          "name": "stdout",
          "text": [
            "[242, 1815, 4235, 484]\n"
          ]
        }
      ]
    },
    {
      "cell_type": "markdown",
      "metadata": {
        "id": "jZQHbegc-QBA"
      },
      "source": [
        "### Task 17\n",
        "\n",
        "Assume, you have been given a tuple as below.\n",
        "\n",
        "a_tuple = ( [1, 2, 3], [4, 5, 6], [7, 8, 9], [10, 11, 12])\n",
        "\n",
        "Write a Python program that asks the user for an input (can be any data type) and **replaces the last element of each of the inner lists with the user given value.**\n",
        "\n",
        "===================================================================\n",
        "\n",
        "**Sample Input 1:**\n",
        "\n",
        "abc\n",
        "\n",
        "**Sample Output 1:** \n",
        "\n",
        "([1, 2, 'abc'], [4, 5, 'abc'], [7, 8, 'abc'], [10, 11, 'abc'])\n",
        "\n",
        "===================================================================\n",
        "\n",
        "**Sample Input 1:**\n",
        "\n",
        "1000\n",
        "\n",
        "**Sample Output 1:** \n",
        "\n",
        "([1, 2, '1000'], [4, 5, '1000'], [7, 8, '1000'], [10, 11, '1000'])\n",
        "\n",
        "==================================================================="
      ]
    },
    {
      "cell_type": "code",
      "metadata": {
        "id": "SjdnEjCz5op1",
        "colab": {
          "base_uri": "https://localhost:8080/"
        },
        "outputId": "1303cbf1-a1b9-4ba3-a2ff-df9f6cc3d679"
      },
      "source": [
        "a_tuple = ( [1, 2, 3], [4, 5, 6], [7, 8, 9], [10, 11, 12])\n",
        "\n",
        "input_1 = input(\"Enter an input:\")\n",
        "\n",
        "pos = 0\n",
        "for lists in a_tuple:\n",
        "  a_tuple[pos][-1] = input_1\n",
        "  pos += 1\n",
        "\n",
        "print(a_tuple)\n"
      ],
      "execution_count": 17,
      "outputs": [
        {
          "output_type": "stream",
          "name": "stdout",
          "text": [
            "Enter an input:abc\n",
            "([1, 2, 'abc'], [4, 5, 'abc'], [7, 8, 'abc'], [10, 11, 'abc'])\n"
          ]
        }
      ]
    },
    {
      "cell_type": "markdown",
      "metadata": {
        "id": "dVZrZ8Od6WwM"
      },
      "source": [
        "### Task 18\n",
        "\n",
        "Suppose there is a dictionary named my_dictionary.\n",
        "\n",
        "my_dictionary = {'c1':'Red', 'c2':'Green', 'c3':None, 'd4':'Blue', 'a5':None}.\n",
        "\n",
        "Now write a Python program to remove empty items from the dictionary. [Empty items means keys without any values (None)].\n",
        "\n",
        "===================================================================\n",
        "\n",
        "**Output:**\n",
        "\n",
        "{'c1':'Red', 'c2':'Green', 'd4':'Blue'}\n",
        "\n",
        "==================================================================="
      ]
    },
    {
      "cell_type": "code",
      "metadata": {
        "id": "cK9Nh7-F6YUE",
        "colab": {
          "base_uri": "https://localhost:8080/"
        },
        "outputId": "3b125a3f-f0c7-46d3-c8ff-4a410a266927"
      },
      "source": [
        "my_dictionary = {'c1':'Red', 'c2':'Green', 'c3':None, 'd4':'Blue', 'a5':None}\n",
        "\n",
        "new_dict = dict()\n",
        "\n",
        "for key, value in my_dictionary.items():\n",
        "  if value != None:\n",
        "    new_dict[key] = value\n",
        "\n",
        "print(new_dict)"
      ],
      "execution_count": 20,
      "outputs": [
        {
          "output_type": "stream",
          "name": "stdout",
          "text": [
            "{'c1': 'Red', 'c2': 'Green', 'd4': 'Blue'}\n"
          ]
        }
      ]
    },
    {
      "cell_type": "markdown",
      "metadata": {
        "id": "_W2bOMJn62xF"
      },
      "source": [
        "### Task 19\n",
        "\n",
        "Suppose you are given a dictionary as shown below. Write a Python program that takes two inputs from the user representing the lower (inclusive) and upper (exclusive) of a range of values. Your task is to extract all the items from the dictionary whose values lie in the range given as input by the user.\n",
        "\n",
        "dictionary = {'a' : 6, 'b' : 7, 'c' : 9, 'd' : 8, 'e' : 11, 'f' : 12, 'g' : 13}\n",
        "\n",
        "===================================================================\n",
        "\n",
        "**Sample Input 1:**\n",
        "\n",
        "9, 12\n",
        "\n",
        "**Sample Output 1:**\n",
        "\n",
        "{'c': 9, 'e': 11}\n",
        "\n",
        "**Explanation:**  Keys with values within the range of 9 and 11 are extracted.\n",
        "\n",
        "===================================================================\n",
        "\n",
        "**Sample Input 2:** \n",
        "\n",
        "14, 18\n",
        "\n",
        "**Sample Output 2 :**\n",
        "\n",
        "{}\n",
        "\n",
        "**Explanation:**  No values in range.\n",
        "\n",
        "==================================================================="
      ]
    },
    {
      "cell_type": "code",
      "metadata": {
        "id": "MLh9VlLD633D",
        "colab": {
          "base_uri": "https://localhost:8080/"
        },
        "outputId": "164632c4-cf72-4a42-f515-604858913127"
      },
      "source": [
        "value = input().split(',')\n",
        "\n",
        "start = int(value[0])\n",
        "end = int(value[1]) - 1\n",
        "\n",
        "dictionary = {'a' : 6, 'b' : 7, 'c' : 9, 'd' : 8, 'e' : 11, 'f' : 12, 'g' : 13}\n",
        "\n",
        "dict_1 = dict()\n",
        "\n",
        "for key, value in dictionary.items():\n",
        "  if start <= value <= end:\n",
        "    dict_1[key] = value\n",
        "\n",
        "print(dict_1)"
      ],
      "execution_count": 23,
      "outputs": [
        {
          "output_type": "stream",
          "name": "stdout",
          "text": [
            "9, 12\n",
            "{'c': 9, 'e': 11}\n"
          ]
        }
      ]
    },
    {
      "cell_type": "markdown",
      "metadata": {
        "id": "zC94TVcD7LqM"
      },
      "source": [
        "### Task 20\n",
        "\n",
        "Given a list of tuples, your task is to group the tuples based on the **second** element in the tuples as shown in the examples below. We can achieve this using **dictionary** by checking the second element in each tuple.\n",
        "\n",
        "[You do not need to take tuple as input and can assume that it is given as below]\n",
        "\n",
        "===================================================================\n",
        "\n",
        "**Example 1:**\n",
        "\n",
        "Given:\n",
        "\n",
        "[(20, 80), (31, 80), (1, 22), (88, 11), (27, 11)]\n",
        "\n",
        "**Output:**\n",
        "\n",
        "{80: [(20, 80), (31, 80)],\\\n",
        "         11: [(88, 11), (27, 11)],\\\n",
        "         22: [(1, 22)]}\n",
        "       \n",
        "===================================================================\n",
        "\n",
        "**Example 2:**\n",
        "\n",
        "Given:\n",
        "\n",
        "[(20, 'Sad'), (31, 'Sad'), (88, 'NotSad'), (27, 'NotSad')]\n",
        "\n",
        "**Output:**\n",
        "\n",
        "{'NotSad': [(88, 'NotSad'), (27, 'NotSad')],\\\n",
        "         'Sad: [(20, 'Sad'), (31, 'Sad')]}\n",
        "\n",
        "==================================================================="
      ]
    },
    {
      "cell_type": "code",
      "metadata": {
        "id": "zAunp7oZ7H-l",
        "colab": {
          "base_uri": "https://localhost:8080/"
        },
        "outputId": "deed793f-3260-4cff-f926-eaa639080b73"
      },
      "source": [
        "#value_1 = [(20, 80), (31, 80), (1, 22), (88, 11), (27, 11)]\n",
        "value_1 = [(20, 'Sad'), (31, 'Sad'), (88, 'NotSad'), (27, 'NotSad')]\n",
        "\n",
        "dict_1 = dict()\n",
        "\n",
        "for num_1, num_2 in value_1:\n",
        "  if dict_1.get(num_2) == None:\n",
        "    dict_1[num_2] = []\n",
        "  dict_1[num_2] += [(num_1, num_2)]\n",
        "\n",
        "print(dict_1)"
      ],
      "execution_count": 25,
      "outputs": [
        {
          "output_type": "stream",
          "name": "stdout",
          "text": [
            "{'Sad': [(20, 'Sad'), (31, 'Sad')], 'NotSad': [(88, 'NotSad'), (27, 'NotSad')]}\n"
          ]
        }
      ]
    },
    {
      "cell_type": "markdown",
      "metadata": {
        "id": "Al7LDo_m8TAX"
      },
      "source": [
        "### Task 21\n",
        "\n",
        "\n",
        "Write a python program that takes 2 inputs from the user. \n",
        "\n",
        "* Input1: A string containing a single sentence or multiple sentences. Multiple sentences are separated by full stops.\n",
        "* Input2: A list containing special characters.\n",
        "\n",
        "After taking the inputs, your task is to create a dictionary where the **keys** will be the corresponding special characters from the given list and the **values** will be the words in the given sentence. \n",
        "\n",
        "You need to find out which key belongs to which value. To do that, you should calculate the **index number** using the formula given below. **The calculated index is the corresponding key of the word.** Make sure no duplicate values are inserted.\n",
        "\n",
        "&nbsp;&nbsp;&nbsp;&nbsp;\n",
        "\n",
        "**The formula:**\\\n",
        "**<font color='blue'>*Index value of special character list = (ASCII sum of the word) % (length of special character list)*</font>**\n",
        "\n",
        "\n",
        "=============================================================================\n",
        "\n",
        "\n",
        "**Sample Input 1**:\\\n",
        "'I love Programming. Python is love.'\\\n",
        "['@', '$', '&', '#']\n",
        " \n",
        "**Sample Output 1**:\\\n",
        "Words in the given String: ['I', 'love', 'Programming', 'Python', 'is', 'love']\\\n",
        "Answer: {'$': ['I'], '&': ['love', 'Python'], '#': ['Programming'], '@': ['is']}\n",
        " \n",
        "**Explanation 1:**\\\n",
        "From the string 'I love Programming. Python is love.' the {key: value} pair is calculated accordingly:\n",
        "\n",
        "\n",
        "| Word | ASCII sum|List length|Calculated index|Key|\n",
        "| --- | --- | --- | --- | --- | \n",
        "|I| 73|4| 73%4 = 1|'$'|\n",
        "|  |  |  |  |  |\n",
        "|love| 438|4| 438%4 = 2|'&'|\n",
        "|  |  |  |  |  |\n",
        "|Programming| 1155|4| 1155%4 = 3|'#'|\n",
        "|  |  |  |  |  |\n",
        "|Python| 642|4| 642%4 = 2|'&'|\n",
        "|  |  |  |  |  |\n",
        "|is| 220|4| 220%4 = 0|'@'|\n",
        "|  |  |  |  |  |\n",
        "|love| 438|4| 438%4 = 2|'&'|\n",
        "|  |  |  |  |  |\n",
        "\n",
        "\n",
        "The calculation is shown in the given table. Full stops after ‘Programming.’ and ‘love.’ are avoided. Also, the last word ‘love’ is a duplicate, and therefore, it was not inserted again as a value. \n",
        "\n",
        "\n",
        "\n",
        "=============================================================================\n",
        "\n",
        "\n",
        "**Sample Input 2**:\\\n",
        "'The secret of getting ahead is getting started.'\\\n",
        "['-', '=', '+', '*', '%']\n",
        " \n",
        "**Sample Output 2:**\\\n",
        "Words in the given String: ['The', 'secret', 'of', 'getting', 'ahead', 'is', 'getting', 'started']\\\n",
        "Answer: {'%': ['The', 'getting', 'ahead', 'started'], '=': ['secret'], '*': ['of'], '-': ['is']}\n",
        " \n",
        "**Explanation 2:**\\\n",
        "From the string 'The secret of getting ahead is getting started.' the {key: value} pair is calculated accordingly:\n",
        "\n",
        "\n",
        "| Word | ASCII sum|List length|Calculated index|Key|\n",
        "| --- | --- | --- | --- | --- | \n",
        "|The| 289|5| 289%5 = 4|'%'|\n",
        "|  |  |  |  |  |\n",
        "|secret| 646|5| 646%5 = 1|'='|\n",
        "|  |  |  |  |  |\n",
        "|of| 213|5| 213%5 = 3|'*'|\n",
        "|  |  |  |  |  |\n",
        "|getting| 754|5| 754%5 = 4|'%'|\n",
        "|  |  |  |  |  |\n",
        "|ahead| 499|5| 499%5 = 4|'%'|\n",
        "|  |  |  |  |  |\n",
        "|is| 220|5| 220%5 = 0|'-'|\n",
        "|  |  |  |  |  |\n",
        "|getting| 754|5| 754%5 = 4|'%'|\n",
        "|  |  |  |  |  |\n",
        "|started| 759|5| 759%5 = 4|'%'|\n",
        "|  |  |  |  |  |\n",
        "\n",
        "\n",
        "The calculation is shown in the given table. Full stop after ‘started.’ is avoided. Also, the word ‘getting’ is a duplicate and therefore it was not inserted again as a value. \n",
        "\n",
        "=============================================================================\n"
      ]
    },
    {
      "cell_type": "code",
      "metadata": {
        "id": "2w_nmFoN8ZBL",
        "colab": {
          "base_uri": "https://localhost:8080/"
        },
        "outputId": "aa73e50a-4ea5-4bc2-e98d-aafcc8d00ed0"
      },
      "source": [
        "#input_1 = 'I love Programming. Python is love.'\n",
        "#input_2 = ['@', '$', '&', '#']\n",
        "\n",
        "input_1 = 'The secret of getting ahead is getting started.'\n",
        "input_2 = ['-', '=', '+', '*', '%']\n",
        "\n",
        "input_1 = input_1.split(\" \")\n",
        "\n",
        "new_list = []\n",
        "\n",
        "for value in input_1:\n",
        "  if value[-1] == '.':\n",
        "    new_list.append(value[:-1])\n",
        "  else:\n",
        "    new_list.append(value)\n",
        "\n",
        "input_1 = new_list\n",
        "print(f\"Words in the given String: {input_1}\")\n",
        "dict_1 = dict()\n",
        "\n",
        "for word in input_1:\n",
        "  ascii_value = 0\n",
        "  for alphabets in word:\n",
        "    ascii_value += ord(alphabets)\n",
        "  calculated_index = ascii_value % len(input_2)\n",
        "  key = input_2[calculated_index]\n",
        "\n",
        "  if dict_1.get(key) == None:\n",
        "    dict_1[key] = []\n",
        "  if(dict_1[key].count(word) == 0):\n",
        "    dict_1[key] += [word]\n",
        "\n",
        "print(f\"Answer: {dict_1}\")\n"
      ],
      "execution_count": 45,
      "outputs": [
        {
          "output_type": "stream",
          "name": "stdout",
          "text": [
            "Words in the given String: ['The', 'secret', 'of', 'getting', 'ahead', 'is', 'getting', 'started']\n",
            "Answer: {'%': ['The', 'getting', 'ahead', 'started'], '=': ['secret'], '*': ['of'], '-': ['is']}\n"
          ]
        }
      ]
    }
  ]
}