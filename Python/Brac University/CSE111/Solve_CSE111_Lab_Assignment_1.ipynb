{
  "nbformat": 4,
  "nbformat_minor": 0,
  "metadata": {
    "colab": {
      "name": "Solve CSE111 Lab Assignment 1.ipynb",
      "provenance": [],
      "collapsed_sections": []
    },
    "kernelspec": {
      "name": "python3",
      "display_name": "Python 3"
    },
    "language_info": {
      "name": "python"
    }
  },
  "cells": [
    {
      "cell_type": "markdown",
      "metadata": {
        "id": "PQ1hS5Jvvuyl"
      },
      "source": [
        "#String\n",
        "\n",
        "##1. From a given string, print the string in all uppercase if the number of uppercase letters is more than lowercase letters. Otherwise, if lowercase is greater or equal to uppercase letters, print all lowercase. The inputs will contain letters (A-Z, a-z) only.\n",
        "\n",
        "#Sample Input\n",
        "###HOusE\n",
        "###ApplE\n",
        "###BaNaNa\n",
        "#Sample Output\n",
        "###HOUSE\n",
        "###apple\n",
        "###banana\n",
        "\n",
        "\n"
      ]
    },
    {
      "cell_type": "code",
      "metadata": {
        "colab": {
          "base_uri": "https://localhost:8080/"
        },
        "id": "tyCrBwCNwIyX",
        "outputId": "c3992dda-29f2-40d7-a0a7-675cb944dd8a"
      },
      "source": [
        "input_string = 'ApplE'\n",
        "\n",
        "upper_count = 0\n",
        "lower_count = 0\n",
        "\n",
        "for letter in input_string:\n",
        "  if(letter == letter.upper()):\n",
        "    upper_count += 1\n",
        "  elif(letter == letter.lower()):\n",
        "    lower_count += 1\n",
        "\n",
        "if(lower_count >= upper_count):\n",
        "  print(input_string.lower())\n",
        "elif(upper_count > lower_count):\n",
        "  print(input_string.upper())\n"
      ],
      "execution_count": null,
      "outputs": [
        {
          "output_type": "stream",
          "name": "stdout",
          "text": [
            "apple\n"
          ]
        }
      ]
    },
    {
      "cell_type": "markdown",
      "metadata": {
        "id": "KZ703BXVySdm"
      },
      "source": [
        "##2. Given a string, print whether it is a number, word or mixed with digit and letters. If all the characters are numeric values, print NUMBER. If they are all letters, print WORD. If it is mixed, print MIXED.\n",
        "\n",
        "#Sample Input\n",
        "###213213\n",
        "###jhg231j213\n",
        "###Hello\n",
        "#Sample Output\n",
        "###NUMBER\n",
        "###MIXED\n",
        "###WORD"
      ]
    },
    {
      "cell_type": "code",
      "metadata": {
        "colab": {
          "base_uri": "https://localhost:8080/"
        },
        "id": "TD3GY20Pyi7s",
        "outputId": "9a01ed59-7e57-4e9a-81da-549e9d8eb7d7"
      },
      "source": [
        "input_string = 'hel43lo'\n",
        "\n",
        "digit_count = 0\n",
        "letter_count = 0\n",
        "\n",
        "for i in input_string:\n",
        "  if i.isdigit():\n",
        "    digit_count += 1\n",
        "  elif ord('a') <= ord(i.lower()) <= ord('z'):\n",
        "    letter_count += 1\n",
        "\n",
        "if(digit_count == len(input_string)):\n",
        "  print('NUMBER')\n",
        "elif(letter_count == len(input_string)):\n",
        "  print('WORD')\n",
        "else:\n",
        "  print('MIXED')\n"
      ],
      "execution_count": null,
      "outputs": [
        {
          "output_type": "stream",
          "name": "stdout",
          "text": [
            "MIXED\n"
          ]
        }
      ]
    },
    {
      "cell_type": "markdown",
      "metadata": {
        "id": "Zf6GaXBw0gRk"
      },
      "source": [
        "## 3.In a given string, there will be two uppercase letters in between some lowercase letters. Print the substring from the first uppercase letter to the last uppercase letter excluding them. If there are no letters in between them, print the word BLANK. It is guaranteed that there will be only two uppercase letters in the string.\n",
        "\n",
        "#Sample Input\n",
        "###baNgladEsh\n",
        "###coDIng\n",
        "#Sample Output\n",
        "###glad\n",
        "###BLANK"
      ]
    },
    {
      "cell_type": "code",
      "metadata": {
        "colab": {
          "base_uri": "https://localhost:8080/"
        },
        "id": "xz8iE4Ph02Pl",
        "outputId": "5aaaf2ed-71f1-4b21-fc9c-0f7a86b1407a"
      },
      "source": [
        "input_string = 'baNgladEsh'\n",
        "upper_count = 0\n",
        "inside_count = 0\n",
        "\n",
        "\n",
        "for letter in input_string:\n",
        "  if(letter == letter.upper()):\n",
        "    upper_count += 1\n",
        "  if(letter == letter.lower() and upper_count == 1):\n",
        "    print(letter, end='')\n",
        "    inside_count += 1\n",
        "\n",
        "if(inside_count == 0):\n",
        "  print('BLANK')"
      ],
      "execution_count": null,
      "outputs": [
        {
          "output_type": "stream",
          "name": "stdout",
          "text": [
            "glad"
          ]
        }
      ]
    },
    {
      "cell_type": "markdown",
      "metadata": {
        "id": "WNENksZ61Gsr"
      },
      "source": [
        "## 4.Write a Python program to find the first appearance of the substring 'too' and 'good' from a given string. If 'good' follows the 'too', replace the whole 'too'' good' substring with 'excellent' and print the resulting string. If the above does not appear, print the string as it is.\n",
        "\n",
        "#Sample Input\n",
        "###The book is not too good!\n",
        "###This book is good too!\n",
        "#Sample Output\n",
        "###The book is not excellent!\n",
        "###This book is good too!"
      ]
    },
    {
      "cell_type": "code",
      "metadata": {
        "colab": {
          "base_uri": "https://localhost:8080/"
        },
        "id": "5mPmGIBM3ZVi",
        "outputId": "e285e2bd-94cb-468c-fc47-3f3d87ae50d1"
      },
      "source": [
        "input_string = 'The book is not too good!'\n",
        "#input_string = 'This book is good too!'\n",
        "words = input_string.split()\n",
        "pos = 0\n",
        "\n",
        "for word in words:\n",
        "  if(word == 'too'):\n",
        "    if(pos < len(words) - 1):\n",
        "      if(words[pos + 1].startswith('good')):\n",
        "        input_string = input_string.replace('too good', 'excellent')\n",
        "  pos += 1\n",
        "\n",
        "print(input_string)"
      ],
      "execution_count": null,
      "outputs": [
        {
          "output_type": "stream",
          "name": "stdout",
          "text": [
            "The book is not excellent!\n"
          ]
        }
      ]
    },
    {
      "cell_type": "markdown",
      "metadata": {
        "id": "FFhY-d0k9j9f"
      },
      "source": [
        "## 5.Create a string from two given strings by concatenating common characters of the given strings.\n",
        "\n",
        "#Sample Input\n",
        "###harry, hermione\n",
        "###dean, tom\n",
        "#Sample Output\n",
        "###hrrhr\n",
        "###Nothing in common."
      ]
    },
    {
      "cell_type": "code",
      "metadata": {
        "colab": {
          "base_uri": "https://localhost:8080/"
        },
        "id": "0ZqhoxUI_8Z5",
        "outputId": "bb381178-3279-4506-ba70-298d51e4ba9f"
      },
      "source": [
        "input_string = 'harry, hermione'\n",
        "\n",
        "words = input_string.split(',')\n",
        "string_value = ''\n",
        "\n",
        "words[0] = words[0].strip()\n",
        "words[1] = words[1].strip()\n",
        "\n",
        "for word in words:\n",
        "  pos = 0\n",
        "  for letter in word:\n",
        "    if(words[0].count(letter) + words[1].count(letter) > word.count(letter)):\n",
        "      string_value += letter\n",
        "    \n",
        "print(string_value)"
      ],
      "execution_count": null,
      "outputs": [
        {
          "output_type": "stream",
          "name": "stdout",
          "text": [
            "hrrhr\n"
          ]
        }
      ]
    },
    {
      "cell_type": "markdown",
      "metadata": {
        "id": "yJIwNwnLDrKn"
      },
      "source": [
        "### 6.Again, you have lost your USIS password!! You went to the registrar office and requested for a new password. This time, you need to follow some rules to set your password. Otherwise, they won't change it. The rules are\n",
        "###At least one lowercase letter \n",
        "###At least one uppercase letter \n",
        "###At least one digit (0-9)\n",
        "###At least one special character (_ , $ , #, @)\n",
        "###Your task is to find whether a given password follows all those rules. If it breaks any rule, you have to print Lowercase Missing, Uppercase Missing, Digit Missing or Special Missing respective to the missing case. For more than one rule break, print all the rules that were broken (order doesn't matter). If the password is ok, print OK.\n",
        "\n",
        "###Sample Input\n",
        "###ohMyBR@CU\n",
        "###ohmybracu\n",
        "###OhMyBR@CU20\n",
        "###Sample Output\n",
        "###Digit missing\n",
        "###Uppercase character missing, Digit missing, Special character missing\n",
        "###OK\n"
      ]
    },
    {
      "cell_type": "code",
      "metadata": {
        "colab": {
          "base_uri": "https://localhost:8080/"
        },
        "id": "lmuDIcyvNm7i",
        "outputId": "d566a60e-6982-4354-ab58-b39fd302b177"
      },
      "source": [
        "#string_value = 'ohMyBR@CU'\n",
        "string_value = 'ohmybracu'\n",
        "#string_value = 'ohMyBR@CU20'\n",
        "\n",
        "lower_count = 0\n",
        "upper_count = 0\n",
        "digit_count = 0\n",
        "char_count = 0\n",
        "error_list = []\n",
        "\n",
        "for value in string_value:\n",
        "  if(value in ['_', '$', '#', '@']):\n",
        "    char_count += 1\n",
        "  elif(value.isdigit()):\n",
        "    digit_count += 1\n",
        "  elif(value.lower() in value):\n",
        "    lower_count += 1\n",
        "  elif(value.upper() in value):\n",
        "    upper_count += 1\n",
        "  \n",
        "if(lower_count == 0):\n",
        "    error_list.append('Lowercase character missing')\n",
        "if(upper_count == 0):\n",
        "    error_list.append('Uppercase character missing')\n",
        "if(digit_count == 0):\n",
        "    error_list.append('Digit missing')\n",
        "if(char_count == 0):\n",
        "    error_list.append('Special character missing')\n",
        "\n",
        "if(len(error_list) == 0):\n",
        "  print('OK')\n",
        "else:\n",
        "  pos = 0\n",
        "  for value in error_list:\n",
        "    if(pos == len(error_list) - 1):\n",
        "      print(value)\n",
        "    else:\n",
        "      print(value, end=', ')\n",
        "    pos += 1"
      ],
      "execution_count": null,
      "outputs": [
        {
          "output_type": "stream",
          "name": "stdout",
          "text": [
            "Uppercase character missing, Digit missing, Special character missing\n"
          ]
        }
      ]
    },
    {
      "cell_type": "markdown",
      "metadata": {
        "id": "EnMH6JLXX4RG"
      },
      "source": [
        "#List\n",
        "\n",
        "##1. Write a python program which prints the frequency of the numbers that were given as input by the user. Stop taking input when you find the string “STOP”. Do not print the frequency of numbers that were not given as input.\n",
        "\n",
        "#Sample Input\n",
        "###10\n",
        "###20\n",
        "###20\n",
        "###30\n",
        "###10\n",
        "###50\n",
        "###90\n",
        "###STOP\n",
        "#Sample Output\n",
        "###10 - 2 times\n",
        "###20 - 2 times\n",
        "###30 - 1 times\n",
        "###50 - 1 times\n",
        "###90 - 1 times"
      ]
    },
    {
      "cell_type": "code",
      "metadata": {
        "colab": {
          "base_uri": "https://localhost:8080/"
        },
        "id": "P4GhwOCCDsEt",
        "outputId": "63164e21-f50a-4bd7-bf4e-2243bc281d37"
      },
      "source": [
        "flag = ''\n",
        "unique_number = []\n",
        "number = []\n",
        "pos = 0\n",
        "\n",
        "while(True):\n",
        "  input_value = input()\n",
        "  if(input_value == 'STOP'):\n",
        "    break\n",
        "  else:\n",
        "    number.append(input_value)\n",
        "    if((input_value) not in unique_number):\n",
        "      unique_number.append(input_value)\n",
        "    pos += 1\n",
        "\n",
        "for i in unique_number:\n",
        "  print(i, '-', number.count(i), 'times')"
      ],
      "execution_count": null,
      "outputs": [
        {
          "name": "stdout",
          "output_type": "stream",
          "text": [
            "STOP\n"
          ]
        }
      ]
    },
    {
      "cell_type": "markdown",
      "metadata": {
        "id": "lVFB0GYxU5xk"
      },
      "source": [
        "##2. Write a python program that calculates the sum of N given lists and prints the highest sum and its respective list. Input starts with N and followed by N lists.\n",
        "\n",
        "#Sample Input\n",
        "###4\n",
        "###1 2 3\n",
        "###4 5 6\n",
        "###10 11 12\n",
        "###7 8 9\n",
        "#Sample Output\n",
        "###33\n",
        "###[10, 11, 12]"
      ]
    },
    {
      "cell_type": "code",
      "metadata": {
        "id": "FSIXDqercH5h",
        "colab": {
          "base_uri": "https://localhost:8080/"
        },
        "outputId": "6a82582a-d77b-41f9-b403-eff4400773fa"
      },
      "source": [
        "iteration = int(input())\n",
        "all_list = []\n",
        "\n",
        "for i in range(0, iteration):\n",
        "  individual_list = input().split()\n",
        "  all_list.append(individual_list)\n",
        "\n",
        "sum = []\n",
        "for single_list in all_list:\n",
        "  sum_value = 0\n",
        "  for value in single_list:\n",
        "    sum_value += int(value)\n",
        "  sum.append(sum_value)\n",
        "\n",
        "\n",
        "max_value = -99999\n",
        "max_list = []\n",
        "pos = 0\n",
        "\n",
        "for value in sum:\n",
        "  if(max_value < value):\n",
        "    max_value = value\n",
        "    max_list = all_list[pos]\n",
        "  pos += 1\n",
        "\n",
        "list_max = []\n",
        "for i in max_list:\n",
        "  list_max.append(int(i))\n",
        "\n",
        "print(max_value)\n",
        "print(list_max)"
      ],
      "execution_count": null,
      "outputs": [
        {
          "output_type": "stream",
          "name": "stdout",
          "text": [
            "4\n",
            "1 2 3\n",
            "4 5 6\n",
            "10 11 12\n",
            "7 8 9\n",
            "33\n",
            "[10, 11, 12]\n"
          ]
        }
      ]
    },
    {
      "cell_type": "markdown",
      "metadata": {
        "id": "hwrQXLKNvpAq"
      },
      "source": [
        "##3. Write a python program that prints a list which contains cross multiplication between two given lists.\n",
        "\n",
        "#Sample Input\n",
        "###2 3 6\n",
        "###3 4 5\n",
        "#Sample Output\n",
        "###[6, 8, 10, 9, 12, 15, 18, 24, 30]"
      ]
    },
    {
      "cell_type": "code",
      "metadata": {
        "id": "LLhMZ_OQyS_q",
        "colab": {
          "base_uri": "https://localhost:8080/"
        },
        "outputId": "9d8d88c7-cffb-49e6-976b-3f7ef21c7210"
      },
      "source": [
        "list_1 = input().split()\n",
        "list_2 = input().split()\n",
        "new_list = []\n",
        "\n",
        "for list1_value in list_1:\n",
        "  for list2_value in list_2:\n",
        "    new_list.append(int(list1_value) * int(list2_value))\n",
        "\n",
        "print(new_list)"
      ],
      "execution_count": null,
      "outputs": [
        {
          "output_type": "stream",
          "name": "stdout",
          "text": [
            "2 3 6\n",
            "3 4 5\n",
            "[6, 8, 10, 9, 12, 15, 18, 24, 30]\n"
          ]
        }
      ]
    },
    {
      "cell_type": "markdown",
      "metadata": {
        "id": "jygWRaag5qUI"
      },
      "source": [
        "##4. Let there are N numbers in a list and that list is said to be a UB Jumper if the absolute values of the difference between the successive elements take on all the values 1 through N − 1. For example, 2 1 4 6 10 is a UB Jumper because the absolute differences between them are 1 3 2 4 which is all numbers from 1 to (5 - 1) or 4. Write a python program that takes a number sequence as input and prints whether it is a UB Jumper or Not UB Jumper. Input will stop after getting “STOP” as input. (Number order or absolute difference order doesn’t follow any sequence.)\n",
        "\n",
        "#Sample Input\n",
        "###1 4 2 3\n",
        "###2 1 4 6 10\n",
        "###1 4 2 -1 6\n",
        "###STOP\n",
        "#Sample Output\n",
        "###UB Jumper\n",
        "###UB Jumper\n",
        "###Not UB Jumper"
      ]
    },
    {
      "cell_type": "code",
      "metadata": {
        "id": "w0eWoVfQ5qWf",
        "colab": {
          "base_uri": "https://localhost:8080/"
        },
        "outputId": "8eaf0d4d-6f36-4568-e1b4-0e9923207bc6"
      },
      "source": [
        "while(True):\n",
        "    value = input()\n",
        "    if(value == 'STOP'):\n",
        "      break\n",
        "\n",
        "    value = value.split()\n",
        "    \n",
        "    new_list = []\n",
        "    \n",
        "\n",
        "    min_value = int(value[0])\n",
        "    max_value = int(value[1])\n",
        "\n",
        "    for values in value:\n",
        "        if(min_value > int(values)):\n",
        "          min_value = int(values)\n",
        "        if(max_value < int(values)):\n",
        "          max_value = int(values)\n",
        "\n",
        "    count = 1\n",
        "    previous_value = int(value[0])\n",
        "\n",
        "    for i in range(1, len(value)):\n",
        "      if(previous_value - int(value[i]) < 0):\n",
        "        new_list.append(-(previous_value - int(value[i])))\n",
        "      else:\n",
        "        new_list.append(previous_value - int(value[i]))\n",
        "\n",
        "      previous_value = int(value[i])\n",
        "    \n",
        "\n",
        "    min_value_new_list = int(new_list[0])\n",
        "    max_value_new_list = int(new_list[1])\n",
        "\n",
        "    for values in new_list:\n",
        "        if(min_value_new_list > int(values)):\n",
        "          min_value_new_list = int(values)\n",
        "        if(min_value_new_list < int(values)):\n",
        "          max_value_new_list = int(values)\n",
        "\n",
        "    if(min_value_new_list >= min_value and  max_value_new_list <= max_value):\n",
        "      print('UB Jumper')\n",
        "    else:\n",
        "      print('Not UB Jumper')\n",
        "      \n",
        "    new_list.clear()\n",
        "\n",
        "    "
      ],
      "execution_count": null,
      "outputs": [
        {
          "name": "stdout",
          "output_type": "stream",
          "text": [
            "1 4 2 3\n",
            "UB Jumper\n",
            "2 1 4 6 10\n",
            "UB Jumper\n",
            "1 4 2 -1 6\n",
            "Not UB Jumper\n",
            "STOP\n"
          ]
        }
      ]
    },
    {
      "cell_type": "markdown",
      "metadata": {
        "id": "hKqJehNP_3v-"
      },
      "source": [
        "##5.You are given a string that contains alphanumeric characters only. Your task is to sort the string in the following manner:\n",
        "##a. All sorted lowercase letters are ahead of uppercase letters.\n",
        "##b. All sorted uppercase letters are ahead of digits.\n",
        "##c. All sorted odd digits are ahead of sorted even digits.\n",
        "\n",
        "#Sample Input\n",
        "###Bracu1234\n",
        "#Sample Output\n",
        "###acruB1324"
      ]
    },
    {
      "cell_type": "code",
      "metadata": {
        "colab": {
          "base_uri": "https://localhost:8080/"
        },
        "id": "y2cPwEZk3zUq",
        "outputId": "3c6ebb94-57b3-41d5-b260-435617bef6af"
      },
      "source": [
        "string_1 = list(input())\n",
        "\n",
        "for i in range(len(string_1)):\n",
        "  for j in range(len(string_1) - 1):\n",
        "    if(ord(string_1[j]) > ord(string_1[j + 1])):\n",
        "      temp = string_1[j + 1]\n",
        "      string_1[j + 1] = string_1[j]\n",
        "      string_1[j] = temp\n",
        "\n",
        "new_list = []\n",
        "\n",
        "lower_letter = []\n",
        "upper_letter = []\n",
        "odd_digit = []\n",
        "even_digit = []\n",
        "\n",
        "for value in string_1:\n",
        "  if ord('a') <= ord(value) <= ord('z'):\n",
        "    lower_letter.append(value)\n",
        "  elif ord('A') <= ord(value) <= ord('Z'):\n",
        "    upper_letter.append(value)\n",
        "  elif int(value) % 2 == 1:\n",
        "    odd_digit.append(value)\n",
        "  elif int(value) % 2 == 0:\n",
        "    even_digit.append(value)\n",
        "\n",
        "new_list = lower_letter + upper_letter + odd_digit + even_digit\n",
        "new_string = \"\"\n",
        "\n",
        "for value in new_list:\n",
        "  new_string += value\n",
        "\n",
        "print(new_string)"
      ],
      "execution_count": null,
      "outputs": [
        {
          "output_type": "stream",
          "name": "stdout",
          "text": [
            "Bracu1324\n",
            "acruB1324\n"
          ]
        }
      ]
    },
    {
      "cell_type": "markdown",
      "metadata": {
        "id": "6ZCvOQXa5qZB"
      },
      "source": [
        "##6.BRACU has n students who are regular competitive programmers. According to the ACM ICPC rules, each person can participate in the regional championship at most 5 times.\n",
        "###The head of the BRACU ACM Chapter is recently gathering teams to participate in this championship. Each team must consist of exactly three people, at that, any person cannot be a member of two or more teams. What maximum number of teams can the head make if he wants each team to participate in the world championship with the same members at least k times?\n",
        "##The first line of input contains two integers, n and k. The next line contains n integers: y1, y2, ..., yn (0 ≤ yi ≤ 5), where yi shows the number of times the i-th person participated in the ACM ICPC Regional .\n",
        "##Write a python program that prints how many teams can be formed according to the above problem statement.\n",
        "\n",
        "#Sample Input\n",
        "###5 2\n",
        "###0 4 5 1 0\n",
        "###------------\n",
        "###6 4\n",
        "###0 1 2 3 4 5\n",
        "###------------ \n",
        "###6 5\n",
        "###0 0 0 0 0 0\n",
        "#Sample Output\n",
        "###1\n",
        "###------------ \n",
        "###0\n",
        "###------------ \n",
        "###2"
      ]
    },
    {
      "cell_type": "code",
      "metadata": {
        "colab": {
          "base_uri": "https://localhost:8080/"
        },
        "id": "rzA7UXdJJNNJ",
        "outputId": "513f6eb2-b3ef-42f9-d8a0-4659556a8309"
      },
      "source": [
        "n, k = input().split()\n",
        "y = input().split()\n",
        "member = 0\n",
        "\n",
        "for i in range(int(n)):\n",
        "  if(int(y[i]) + int(k) <= 5):\n",
        "    member += 1\n",
        "member = member / 3\n",
        "print(int(member))"
      ],
      "execution_count": null,
      "outputs": [
        {
          "output_type": "stream",
          "name": "stdout",
          "text": [
            "6 5\n",
            "0 0 0 0 0 0\n",
            "2\n"
          ]
        }
      ]
    },
    {
      "cell_type": "markdown",
      "metadata": {
        "id": "CH2voJ2Y_4Pd"
      },
      "source": [
        "#Dictionary & Tuple\n",
        "\n",
        "##1. Write a Python program to combine two dictionaries into one by adding values for common keys. Input contains two comma separated dictionaries. Print the new dictionary and create a tuple which contains unique values in sorted order.\n",
        "\n",
        "#Sample Input\n",
        "###a: 100, b: 100, c: 200, d: 300\n",
        "###a: 300, b: 200, d: 400, e: 200\n",
        "#Sample Output\n",
        "###{'a': 400, 'b': 300, 'c': 200,'d': 700, 'e': 200}\n",
        "###Values: (200, 300, 400, 700)"
      ]
    },
    {
      "cell_type": "code",
      "metadata": {
        "colab": {
          "base_uri": "https://localhost:8080/"
        },
        "id": "kQ1jqpe6_4SG",
        "outputId": "d04fcfcd-2494-46c4-abff-8aff3043a980"
      },
      "source": [
        "string_1 = 'a: 100, b: 100, c: 200, d: 300'\n",
        "string_2 = 'a: 300, b: 200, d: 400, e: 200'\n",
        "\n",
        "elements_1 = string_1.split(',')\n",
        "dict_1 = dict()\n",
        "\n",
        "elements_2 = string_2.split(',')\n",
        "dict_2 = dict()\n",
        "\n",
        "\n",
        "for value in elements_1:\n",
        "  keyValue = value.split(':')\n",
        "  dict_1[keyValue[0].strip()] = int(keyValue[1])\n",
        "\n",
        "for value in elements_2:\n",
        "  keyValue = value.split(':')\n",
        "  dict_2[keyValue[0].strip()] = int(keyValue[1])\n",
        "\n",
        "#dict_1 = {'a' : 100, 'b' : 100, 'c' : 200, 'd': 300}\n",
        "#dict_2 = {'a': 300, 'b': 200, 'd': 400, 'e': 200}\n",
        "dict_3 = {}\n",
        "\n",
        "keys = list(dict_1.keys()) + list(dict_2.keys())\n",
        "\n",
        "dict_3 = dict_3.fromkeys(keys, 0)\n",
        "\n",
        "for value in dict_1:\n",
        "    dict_3[value] += dict_1[value]\n",
        "\n",
        "for value in dict_2:\n",
        "    dict_3[value] += dict_2[value]    \n",
        "\n",
        "print(dict_3)\n",
        "\n",
        "value_list = list(dict_3.values())\n",
        "value_list.sort()\n",
        "\n",
        "\n",
        "new_value = []\n",
        "previous_value = 0\n",
        "\n",
        "for i in value_list:\n",
        "  if previous_value != i:\n",
        "    new_value.append(i)\n",
        "    previous_value = i\n",
        "\n",
        "print(tuple(new_value))\n"
      ],
      "execution_count": null,
      "outputs": [
        {
          "output_type": "stream",
          "name": "stdout",
          "text": [
            "{'a': 400, 'b': 300, 'c': 200, 'd': 700, 'e': 200}\n",
            "(200, 300, 400, 700)\n"
          ]
        }
      ]
    },
    {
      "cell_type": "markdown",
      "metadata": {
        "id": "L6ZUCVQh8Hxi"
      },
      "source": [
        "##2. Write a python program which prints the frequency of the numbers that were given as input by the user. Stop taking input when you find the string “STOP”. Do not print the frequency of numbers that were not given as input. Use a dictionary to solve the problem\n",
        "\n",
        "#Sample Input\n",
        "###10\n",
        "###20\n",
        "###20\n",
        "###30\n",
        "###10\n",
        "###50\n",
        "###90\n",
        "###STOP\n",
        "#Sample Output\n",
        "###10 - 2 times\n",
        "###20 - 2 times\n",
        "###30 - 1 times\n",
        "###50 - 1 times\n",
        "###90 - 1 times"
      ]
    },
    {
      "cell_type": "code",
      "metadata": {
        "colab": {
          "base_uri": "https://localhost:8080/"
        },
        "id": "ySxto9XQAnwM",
        "outputId": "25359175-9d6d-4552-adf9-4b3d65193940"
      },
      "source": [
        "dict_values = []\n",
        "count = 0\n",
        "\n",
        "while True:\n",
        "  number = input('Please enter a number: ')\n",
        "  if number == 'STOP':\n",
        "    break\n",
        "  else:\n",
        "    dict_values.append(int(number))\n",
        "\n",
        "dict_num = {}\n",
        "for i in dict_values:\n",
        "  if i not in dict_num.keys():\n",
        "    dict_num[i] = 0\n",
        "\n",
        "\n",
        "for i in dict_num.keys():\n",
        "  dict_num[i] = dict_values.count(i)\n",
        "\n",
        "print(dict_num)"
      ],
      "execution_count": null,
      "outputs": [
        {
          "output_type": "stream",
          "name": "stdout",
          "text": [
            "Please enter a number: 10\n",
            "Please enter a number: 20\n",
            "Please enter a number: 20\n",
            "Please enter a number: 30\n",
            "Please enter a number: 10\n",
            "Please enter a number: 50\n",
            "Please enter a number: 90\n",
            "Please enter a number: STOP\n",
            "{10: 2, 20: 2, 30: 1, 50: 1, 90: 1}\n"
          ]
        }
      ]
    },
    {
      "cell_type": "markdown",
      "metadata": {
        "id": "X6DNUsHOK1NP"
      },
      "source": [
        "##3. Write python code to invert a dictionary. It should print a dictionary where the keys are values from the input dictionary and the values are lists of keys from the input dictionary having the same value. Make sure the program handles multiple same values.\n",
        "\n",
        "#Sample Input\n",
        "###key1 : value1, key2 : value2, key3 : value1\n",
        "#Sample Output\n",
        "###{ \"value1\" : [\"key1\", \"key3\"], \"value2\" : [\"key2\"] }"
      ]
    },
    {
      "cell_type": "code",
      "metadata": {
        "colab": {
          "base_uri": "https://localhost:8080/"
        },
        "id": "5gBGaLFbLGi1",
        "outputId": "06051561-bd0e-43cd-8224-33bc08b01d2e"
      },
      "source": [
        "string_1 = 'key1 : value1, key2 : value2, key3 : value1'\n",
        "\n",
        "elements_1 = string_1.split(',')\n",
        "dict_1 = dict()\n",
        "\n",
        "for value in elements_1:\n",
        "  keyValue = value.split(':')\n",
        "  dict_1[keyValue[1].strip()] = []\n",
        "\n",
        "\n",
        "for value in elements_1:\n",
        "  keyValue = value.split(':')\n",
        "  dict_1[keyValue[1].strip()] = dict_1.get(keyValue[1].strip()) + [keyValue[0].strip()] \n",
        "\n",
        "print(dict_1)"
      ],
      "execution_count": null,
      "outputs": [
        {
          "output_type": "stream",
          "name": "stdout",
          "text": [
            "{'value1': ['key1', 'key3'], 'value2': ['key2']}\n"
          ]
        }
      ]
    },
    {
      "cell_type": "markdown",
      "metadata": {
        "id": "M9JmxlLjLOUn"
      },
      "source": [
        "##4. Two words are anagrams if they contain all of the same letters, but in a different order. For example, “evil” and “live” are anagrams because each contains one “e”, one “i”, one “l”, and one “v”.\n",
        "##Write a program that reads two strings from the user and determines whether or not they are anagrams. Use a dictionary to solve the problem.\n",
        "\n",
        "#Sample Input\n",
        "###evil\n",
        "###live\n",
        "#Sample Output\n",
        "###Those strings are anagrams."
      ]
    },
    {
      "cell_type": "code",
      "metadata": {
        "colab": {
          "base_uri": "https://localhost:8080/"
        },
        "id": "wa29qloaLZ-N",
        "outputId": "000a5067-190d-4175-d464-dda442bb694c"
      },
      "source": [
        "string_1 = input()\n",
        "string_2 = input()\n",
        "\n",
        "dict_1 = dict()\n",
        "\n",
        "dict_1[string_1] = 0\n",
        "dict_2[string_2] = 0\n",
        "\n",
        "for i in string_1:\n",
        "  dict_1[string_1] += ord(i)\n",
        "\n",
        "for i in string_2:\n",
        "  dict_2[string_2] += ord(i)\n",
        "\n",
        "if dict_1[string_1] == dict_2[string_2]:\n",
        "  print('Those strings are anagrams.')\n",
        "else:\n",
        "  print('Those strings are not anagrams.')"
      ],
      "execution_count": null,
      "outputs": [
        {
          "output_type": "stream",
          "name": "stdout",
          "text": [
            "evil\n",
            "live\n",
            "Those strings are anagrams.\n"
          ]
        }
      ]
    },
    {
      "cell_type": "markdown",
      "metadata": {
        "id": "YZVE7ny-ZE0Z"
      },
      "source": [
        "##5. On some basic cell phones, text messages can be sent using the numeric keypad. Because each key has multiple letters associated with it, multiple key presses are needed for most letters. Pressing the number once generates the first character listed for that key. Pressing the number 2, 3, 4 or 5 times generates the second, third, fourth or fifth character.\n",
        "##Key Symbols\n",
        "##1 &nbsp;&nbsp;&nbsp;&nbsp;&nbsp;&nbsp; .,?!: \n",
        "##2 &nbsp;&nbsp;&nbsp;&nbsp;&nbsp;&nbsp; ABC \n",
        "##3 &nbsp;&nbsp;&nbsp;&nbsp;&nbsp;&nbsp; DEF \n",
        "##4 &nbsp;&nbsp;&nbsp;&nbsp;&nbsp;&nbsp; GHI \n",
        "##5 &nbsp;&nbsp;&nbsp;&nbsp;&nbsp;&nbsp; JKL \n",
        "##6 &nbsp;&nbsp;&nbsp;&nbsp;&nbsp;&nbsp; MNO \n",
        "##7 &nbsp;&nbsp;&nbsp;&nbsp;&nbsp;&nbsp; PQRS \n",
        "##8 &nbsp;&nbsp;&nbsp;&nbsp;&nbsp;&nbsp; TUV \n",
        "##9 &nbsp;&nbsp;&nbsp;&nbsp;&nbsp;&nbsp; WXYZ \n",
        "##0 &nbsp;&nbsp;&nbsp;&nbsp;&nbsp;&nbsp; Space \n",
        "\n",
        "\n",
        "##Write a program that displays the key presses needed for a message entered by the user. Construct a dictionary that maps from each letter or symbol to the key presses needed to generate it. Then use the dictionary to create and display the presses needed for the user’s message.\n",
        "\n",
        "#Sample Input\n",
        "###Hello, World!\n",
        "#Sample Output\n",
        "###4433555555666110966677755531111"
      ]
    },
    {
      "cell_type": "code",
      "metadata": {
        "id": "9Oh9rl0hayLq",
        "colab": {
          "base_uri": "https://localhost:8080/"
        },
        "outputId": "c626e76d-4b19-4960-a1a1-90bcc3e30d30"
      },
      "source": [
        "dict_1 = dict()\n",
        "\n",
        "dict_1[0] = ' '\n",
        "dict_1[1] = '.,?!:'\n",
        "dict_1[2] = 'ABC'\n",
        "dict_1[3] = 'DEF'\n",
        "dict_1[4] = 'GHI'\n",
        "dict_1[5] = 'JKL'\n",
        "dict_1[6] = 'MNO'\n",
        "dict_1[7] = 'PQRS'\n",
        "dict_1[8] = 'TUV'\n",
        "dict_1[9] = 'WXYZ'\n",
        "\n",
        "new_dict = dict()\n",
        "\n",
        "for i, j in dict_1.items():\n",
        "  value = str(i)\n",
        "  pos = 1\n",
        "  for alphabet in j:\n",
        "    new_dict[alphabet] = value * pos\n",
        "    #print(alphabet)\n",
        "    pos += 1\n",
        "\n",
        "#print(new_dict)\n",
        "\n",
        "\n",
        "new_string = 'Hello, World!'\n",
        "final_string = ''\n",
        "for alphabet in new_string:\n",
        "  final_string += new_dict[alphabet.upper()]\n",
        "\n",
        "print(final_string)"
      ],
      "execution_count": 17,
      "outputs": [
        {
          "output_type": "stream",
          "name": "stdout",
          "text": [
            "4433555555666110966677755531111\n"
          ]
        }
      ]
    }
  ]
}